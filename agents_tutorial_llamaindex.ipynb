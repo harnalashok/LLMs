{
  "nbformat": 4,
  "nbformat_minor": 0,
  "metadata": {
    "colab": {
      "provenance": [],
      "include_colab_link": true
    },
    "kernelspec": {
      "name": "python3",
      "display_name": "Python 3"
    },
    "language_info": {
      "name": "python"
    }
  },
  "cells": [
    {
      "cell_type": "markdown",
      "metadata": {
        "id": "view-in-github",
        "colab_type": "text"
      },
      "source": [
        "<a href=\"https://colab.research.google.com/github/harnalashok/LLMs/blob/main/agents_tutorial_llamaindex.ipynb\" target=\"_parent\"><img src=\"https://colab.research.google.com/assets/colab-badge.svg\" alt=\"Open In Colab\"/></a>"
      ]
    },
    {
      "cell_type": "markdown",
      "source": [
        "## Roadmap\n",
        "\n",
        "Part-4 This video focus:\n",
        "\n",
        "- Function Calling Agents + Agent Runner\n",
        "- Agentic RAG\n",
        "- Project - ReACT Agent: Building a Search Assistant Agent\n"
      ],
      "metadata": {
        "id": "TTfHYu4vTTy7"
      }
    },
    {
      "cell_type": "code",
      "source": [
        "!pip install llama-index -q"
      ],
      "metadata": {
        "id": "I3j-PwdbVX15",
        "outputId": "204afbc0-12e6-41fd-91d6-7ff532c23d25",
        "colab": {
          "base_uri": "https://localhost:8080/"
        }
      },
      "execution_count": 1,
      "outputs": [
        {
          "output_type": "stream",
          "name": "stdout",
          "text": [
            "\u001b[2K   \u001b[90m━━━━━━━━━━━━━━━━━━━━━━━━━━━━━━━━━━━━━━━━\u001b[0m \u001b[32m1.6/1.6 MB\u001b[0m \u001b[31m20.7 MB/s\u001b[0m eta \u001b[36m0:00:00\u001b[0m\n",
            "\u001b[2K   \u001b[90m━━━━━━━━━━━━━━━━━━━━━━━━━━━━━━━━━━━━━━━━\u001b[0m \u001b[32m40.8/40.8 kB\u001b[0m \u001b[31m2.2 MB/s\u001b[0m eta \u001b[36m0:00:00\u001b[0m\n",
            "\u001b[2K   \u001b[90m━━━━━━━━━━━━━━━━━━━━━━━━━━━━━━━━━━━━━━━━\u001b[0m \u001b[32m253.9/253.9 kB\u001b[0m \u001b[31m16.4 MB/s\u001b[0m eta \u001b[36m0:00:00\u001b[0m\n",
            "\u001b[2K   \u001b[90m━━━━━━━━━━━━━━━━━━━━━━━━━━━━━━━━━━━━━━━━\u001b[0m \u001b[32m302.3/302.3 kB\u001b[0m \u001b[31m18.3 MB/s\u001b[0m eta \u001b[36m0:00:00\u001b[0m\n",
            "\u001b[2K   \u001b[90m━━━━━━━━━━━━━━━━━━━━━━━━━━━━━━━━━━━━━━━━\u001b[0m \u001b[32m1.2/1.2 MB\u001b[0m \u001b[31m43.9 MB/s\u001b[0m eta \u001b[36m0:00:00\u001b[0m\n",
            "\u001b[2K   \u001b[90m━━━━━━━━━━━━━━━━━━━━━━━━━━━━━━━━━━━━━━━━\u001b[0m \u001b[32m50.9/50.9 kB\u001b[0m \u001b[31m3.9 MB/s\u001b[0m eta \u001b[36m0:00:00\u001b[0m\n",
            "\u001b[2K   \u001b[90m━━━━━━━━━━━━━━━━━━━━━━━━━━━━━━━━━━━━━━━━\u001b[0m \u001b[32m129.1/129.1 kB\u001b[0m \u001b[31m9.7 MB/s\u001b[0m eta \u001b[36m0:00:00\u001b[0m\n",
            "\u001b[?25h"
          ]
        }
      ]
    },
    {
      "cell_type": "markdown",
      "source": [
        "### `duckduckgo-search` Internet search\n",
        "Np API needed"
      ],
      "metadata": {
        "id": "DmMCGhVMYvRP"
      }
    },
    {
      "cell_type": "code",
      "source": [
        "!pip install duckduckgo-search -q  # For Internet search. No API is needed"
      ],
      "metadata": {
        "id": "H7G1DHP8dm__"
      },
      "execution_count": 5,
      "outputs": []
    },
    {
      "cell_type": "code",
      "source": [
        "!pip install llama-index-llms-mistralai llama-index-embeddings-mistralai"
      ],
      "metadata": {
        "id": "s023x-uhTG6d",
        "outputId": "78a9b634-1845-4857-bed0-381ecb398efa",
        "colab": {
          "base_uri": "https://localhost:8080/"
        }
      },
      "execution_count": 4,
      "outputs": [
        {
          "output_type": "stream",
          "name": "stdout",
          "text": [
            "Collecting llama-index-llms-mistralai\n",
            "  Downloading llama_index_llms_mistralai-0.4.0-py3-none-any.whl.metadata (3.5 kB)\n",
            "Collecting llama-index-embeddings-mistralai\n",
            "  Downloading llama_index_embeddings_mistralai-0.3.0-py3-none-any.whl.metadata (696 bytes)\n",
            "Requirement already satisfied: llama-index-core<0.13.0,>=0.12.0 in /usr/local/lib/python3.11/dist-packages (from llama-index-llms-mistralai) (0.12.27)\n",
            "Collecting mistralai>=1.0.0 (from llama-index-llms-mistralai)\n",
            "  Downloading mistralai-1.6.0-py3-none-any.whl.metadata (30 kB)\n",
            "Requirement already satisfied: PyYAML>=6.0.1 in /usr/local/lib/python3.11/dist-packages (from llama-index-core<0.13.0,>=0.12.0->llama-index-llms-mistralai) (6.0.2)\n",
            "Requirement already satisfied: SQLAlchemy>=1.4.49 in /usr/local/lib/python3.11/dist-packages (from SQLAlchemy[asyncio]>=1.4.49->llama-index-core<0.13.0,>=0.12.0->llama-index-llms-mistralai) (2.0.39)\n",
            "Requirement already satisfied: aiohttp<4.0.0,>=3.8.6 in /usr/local/lib/python3.11/dist-packages (from llama-index-core<0.13.0,>=0.12.0->llama-index-llms-mistralai) (3.11.14)\n",
            "Requirement already satisfied: banks<3.0.0,>=2.0.0 in /usr/local/lib/python3.11/dist-packages (from llama-index-core<0.13.0,>=0.12.0->llama-index-llms-mistralai) (2.1.0)\n",
            "Requirement already satisfied: dataclasses-json in /usr/local/lib/python3.11/dist-packages (from llama-index-core<0.13.0,>=0.12.0->llama-index-llms-mistralai) (0.6.7)\n",
            "Requirement already satisfied: deprecated>=1.2.9.3 in /usr/local/lib/python3.11/dist-packages (from llama-index-core<0.13.0,>=0.12.0->llama-index-llms-mistralai) (1.2.18)\n",
            "Requirement already satisfied: dirtyjson<2.0.0,>=1.0.8 in /usr/local/lib/python3.11/dist-packages (from llama-index-core<0.13.0,>=0.12.0->llama-index-llms-mistralai) (1.0.8)\n",
            "Requirement already satisfied: filetype<2.0.0,>=1.2.0 in /usr/local/lib/python3.11/dist-packages (from llama-index-core<0.13.0,>=0.12.0->llama-index-llms-mistralai) (1.2.0)\n",
            "Requirement already satisfied: fsspec>=2023.5.0 in /usr/local/lib/python3.11/dist-packages (from llama-index-core<0.13.0,>=0.12.0->llama-index-llms-mistralai) (2025.3.0)\n",
            "Requirement already satisfied: httpx in /usr/local/lib/python3.11/dist-packages (from llama-index-core<0.13.0,>=0.12.0->llama-index-llms-mistralai) (0.28.1)\n",
            "Requirement already satisfied: nest-asyncio<2.0.0,>=1.5.8 in /usr/local/lib/python3.11/dist-packages (from llama-index-core<0.13.0,>=0.12.0->llama-index-llms-mistralai) (1.6.0)\n",
            "Requirement already satisfied: networkx>=3.0 in /usr/local/lib/python3.11/dist-packages (from llama-index-core<0.13.0,>=0.12.0->llama-index-llms-mistralai) (3.4.2)\n",
            "Requirement already satisfied: nltk>3.8.1 in /usr/local/lib/python3.11/dist-packages (from llama-index-core<0.13.0,>=0.12.0->llama-index-llms-mistralai) (3.9.1)\n",
            "Requirement already satisfied: numpy in /usr/local/lib/python3.11/dist-packages (from llama-index-core<0.13.0,>=0.12.0->llama-index-llms-mistralai) (2.0.2)\n",
            "Requirement already satisfied: pillow>=9.0.0 in /usr/local/lib/python3.11/dist-packages (from llama-index-core<0.13.0,>=0.12.0->llama-index-llms-mistralai) (11.1.0)\n",
            "Requirement already satisfied: pydantic>=2.8.0 in /usr/local/lib/python3.11/dist-packages (from llama-index-core<0.13.0,>=0.12.0->llama-index-llms-mistralai) (2.10.6)\n",
            "Requirement already satisfied: requests>=2.31.0 in /usr/local/lib/python3.11/dist-packages (from llama-index-core<0.13.0,>=0.12.0->llama-index-llms-mistralai) (2.32.3)\n",
            "Requirement already satisfied: tenacity!=8.4.0,<10.0.0,>=8.2.0 in /usr/local/lib/python3.11/dist-packages (from llama-index-core<0.13.0,>=0.12.0->llama-index-llms-mistralai) (9.0.0)\n",
            "Requirement already satisfied: tiktoken>=0.3.3 in /usr/local/lib/python3.11/dist-packages (from llama-index-core<0.13.0,>=0.12.0->llama-index-llms-mistralai) (0.9.0)\n",
            "Requirement already satisfied: tqdm<5.0.0,>=4.66.1 in /usr/local/lib/python3.11/dist-packages (from llama-index-core<0.13.0,>=0.12.0->llama-index-llms-mistralai) (4.67.1)\n",
            "Requirement already satisfied: typing-extensions>=4.5.0 in /usr/local/lib/python3.11/dist-packages (from llama-index-core<0.13.0,>=0.12.0->llama-index-llms-mistralai) (4.12.2)\n",
            "Requirement already satisfied: typing-inspect>=0.8.0 in /usr/local/lib/python3.11/dist-packages (from llama-index-core<0.13.0,>=0.12.0->llama-index-llms-mistralai) (0.9.0)\n",
            "Requirement already satisfied: wrapt in /usr/local/lib/python3.11/dist-packages (from llama-index-core<0.13.0,>=0.12.0->llama-index-llms-mistralai) (1.17.2)\n",
            "Collecting eval-type-backport>=0.2.0 (from mistralai>=1.0.0->llama-index-llms-mistralai)\n",
            "  Downloading eval_type_backport-0.2.2-py3-none-any.whl.metadata (2.2 kB)\n",
            "Requirement already satisfied: python-dateutil>=2.8.2 in /usr/local/lib/python3.11/dist-packages (from mistralai>=1.0.0->llama-index-llms-mistralai) (2.8.2)\n",
            "Collecting typing-inspection>=0.4.0 (from mistralai>=1.0.0->llama-index-llms-mistralai)\n",
            "  Downloading typing_inspection-0.4.0-py3-none-any.whl.metadata (2.6 kB)\n",
            "Requirement already satisfied: aiohappyeyeballs>=2.3.0 in /usr/local/lib/python3.11/dist-packages (from aiohttp<4.0.0,>=3.8.6->llama-index-core<0.13.0,>=0.12.0->llama-index-llms-mistralai) (2.6.1)\n",
            "Requirement already satisfied: aiosignal>=1.1.2 in /usr/local/lib/python3.11/dist-packages (from aiohttp<4.0.0,>=3.8.6->llama-index-core<0.13.0,>=0.12.0->llama-index-llms-mistralai) (1.3.2)\n",
            "Requirement already satisfied: attrs>=17.3.0 in /usr/local/lib/python3.11/dist-packages (from aiohttp<4.0.0,>=3.8.6->llama-index-core<0.13.0,>=0.12.0->llama-index-llms-mistralai) (25.3.0)\n",
            "Requirement already satisfied: frozenlist>=1.1.1 in /usr/local/lib/python3.11/dist-packages (from aiohttp<4.0.0,>=3.8.6->llama-index-core<0.13.0,>=0.12.0->llama-index-llms-mistralai) (1.5.0)\n",
            "Requirement already satisfied: multidict<7.0,>=4.5 in /usr/local/lib/python3.11/dist-packages (from aiohttp<4.0.0,>=3.8.6->llama-index-core<0.13.0,>=0.12.0->llama-index-llms-mistralai) (6.2.0)\n",
            "Requirement already satisfied: propcache>=0.2.0 in /usr/local/lib/python3.11/dist-packages (from aiohttp<4.0.0,>=3.8.6->llama-index-core<0.13.0,>=0.12.0->llama-index-llms-mistralai) (0.3.0)\n",
            "Requirement already satisfied: yarl<2.0,>=1.17.0 in /usr/local/lib/python3.11/dist-packages (from aiohttp<4.0.0,>=3.8.6->llama-index-core<0.13.0,>=0.12.0->llama-index-llms-mistralai) (1.18.3)\n",
            "Requirement already satisfied: griffe in /usr/local/lib/python3.11/dist-packages (from banks<3.0.0,>=2.0.0->llama-index-core<0.13.0,>=0.12.0->llama-index-llms-mistralai) (1.7.1)\n",
            "Requirement already satisfied: jinja2 in /usr/local/lib/python3.11/dist-packages (from banks<3.0.0,>=2.0.0->llama-index-core<0.13.0,>=0.12.0->llama-index-llms-mistralai) (3.1.6)\n",
            "Requirement already satisfied: anyio in /usr/local/lib/python3.11/dist-packages (from httpx->llama-index-core<0.13.0,>=0.12.0->llama-index-llms-mistralai) (4.9.0)\n",
            "Requirement already satisfied: certifi in /usr/local/lib/python3.11/dist-packages (from httpx->llama-index-core<0.13.0,>=0.12.0->llama-index-llms-mistralai) (2025.1.31)\n",
            "Requirement already satisfied: httpcore==1.* in /usr/local/lib/python3.11/dist-packages (from httpx->llama-index-core<0.13.0,>=0.12.0->llama-index-llms-mistralai) (1.0.7)\n",
            "Requirement already satisfied: idna in /usr/local/lib/python3.11/dist-packages (from httpx->llama-index-core<0.13.0,>=0.12.0->llama-index-llms-mistralai) (3.10)\n",
            "Requirement already satisfied: h11<0.15,>=0.13 in /usr/local/lib/python3.11/dist-packages (from httpcore==1.*->httpx->llama-index-core<0.13.0,>=0.12.0->llama-index-llms-mistralai) (0.14.0)\n",
            "Requirement already satisfied: click in /usr/local/lib/python3.11/dist-packages (from nltk>3.8.1->llama-index-core<0.13.0,>=0.12.0->llama-index-llms-mistralai) (8.1.8)\n",
            "Requirement already satisfied: joblib in /usr/local/lib/python3.11/dist-packages (from nltk>3.8.1->llama-index-core<0.13.0,>=0.12.0->llama-index-llms-mistralai) (1.4.2)\n",
            "Requirement already satisfied: regex>=2021.8.3 in /usr/local/lib/python3.11/dist-packages (from nltk>3.8.1->llama-index-core<0.13.0,>=0.12.0->llama-index-llms-mistralai) (2024.11.6)\n",
            "Requirement already satisfied: annotated-types>=0.6.0 in /usr/local/lib/python3.11/dist-packages (from pydantic>=2.8.0->llama-index-core<0.13.0,>=0.12.0->llama-index-llms-mistralai) (0.7.0)\n",
            "Requirement already satisfied: pydantic-core==2.27.2 in /usr/local/lib/python3.11/dist-packages (from pydantic>=2.8.0->llama-index-core<0.13.0,>=0.12.0->llama-index-llms-mistralai) (2.27.2)\n",
            "Requirement already satisfied: six>=1.5 in /usr/local/lib/python3.11/dist-packages (from python-dateutil>=2.8.2->mistralai>=1.0.0->llama-index-llms-mistralai) (1.17.0)\n",
            "Requirement already satisfied: charset-normalizer<4,>=2 in /usr/local/lib/python3.11/dist-packages (from requests>=2.31.0->llama-index-core<0.13.0,>=0.12.0->llama-index-llms-mistralai) (3.4.1)\n",
            "Requirement already satisfied: urllib3<3,>=1.21.1 in /usr/local/lib/python3.11/dist-packages (from requests>=2.31.0->llama-index-core<0.13.0,>=0.12.0->llama-index-llms-mistralai) (2.3.0)\n",
            "Requirement already satisfied: greenlet!=0.4.17 in /usr/local/lib/python3.11/dist-packages (from SQLAlchemy>=1.4.49->SQLAlchemy[asyncio]>=1.4.49->llama-index-core<0.13.0,>=0.12.0->llama-index-llms-mistralai) (3.1.1)\n",
            "Requirement already satisfied: mypy-extensions>=0.3.0 in /usr/local/lib/python3.11/dist-packages (from typing-inspect>=0.8.0->llama-index-core<0.13.0,>=0.12.0->llama-index-llms-mistralai) (1.0.0)\n",
            "Requirement already satisfied: marshmallow<4.0.0,>=3.18.0 in /usr/local/lib/python3.11/dist-packages (from dataclasses-json->llama-index-core<0.13.0,>=0.12.0->llama-index-llms-mistralai) (3.26.1)\n",
            "Requirement already satisfied: packaging>=17.0 in /usr/local/lib/python3.11/dist-packages (from marshmallow<4.0.0,>=3.18.0->dataclasses-json->llama-index-core<0.13.0,>=0.12.0->llama-index-llms-mistralai) (24.2)\n",
            "Requirement already satisfied: sniffio>=1.1 in /usr/local/lib/python3.11/dist-packages (from anyio->httpx->llama-index-core<0.13.0,>=0.12.0->llama-index-llms-mistralai) (1.3.1)\n",
            "Requirement already satisfied: colorama>=0.4 in /usr/local/lib/python3.11/dist-packages (from griffe->banks<3.0.0,>=2.0.0->llama-index-core<0.13.0,>=0.12.0->llama-index-llms-mistralai) (0.4.6)\n",
            "Requirement already satisfied: MarkupSafe>=2.0 in /usr/local/lib/python3.11/dist-packages (from jinja2->banks<3.0.0,>=2.0.0->llama-index-core<0.13.0,>=0.12.0->llama-index-llms-mistralai) (3.0.2)\n",
            "Downloading llama_index_llms_mistralai-0.4.0-py3-none-any.whl (8.0 kB)\n",
            "Downloading llama_index_embeddings_mistralai-0.3.0-py3-none-any.whl (2.6 kB)\n",
            "Downloading mistralai-1.6.0-py3-none-any.whl (288 kB)\n",
            "\u001b[2K   \u001b[90m━━━━━━━━━━━━━━━━━━━━━━━━━━━━━━━━━━━━━━━━\u001b[0m \u001b[32m288.7/288.7 kB\u001b[0m \u001b[31m10.9 MB/s\u001b[0m eta \u001b[36m0:00:00\u001b[0m\n",
            "\u001b[?25hDownloading eval_type_backport-0.2.2-py3-none-any.whl (5.8 kB)\n",
            "Downloading typing_inspection-0.4.0-py3-none-any.whl (14 kB)\n",
            "Installing collected packages: typing-inspection, eval-type-backport, mistralai, llama-index-llms-mistralai, llama-index-embeddings-mistralai\n",
            "Successfully installed eval-type-backport-0.2.2 llama-index-embeddings-mistralai-0.3.0 llama-index-llms-mistralai-0.4.0 mistralai-1.6.0 typing-inspection-0.4.0\n"
          ]
        }
      ]
    },
    {
      "cell_type": "code",
      "source": [
        "# List of groq models is avaialble here:\n",
        "\n",
        "# https://console.groq.com/docs/models"
      ],
      "metadata": {
        "id": "MGVgWwR4ej0-"
      },
      "execution_count": null,
      "outputs": []
    },
    {
      "cell_type": "markdown",
      "source": [
        "## Function Calling"
      ],
      "metadata": {
        "id": "uti017YObghL"
      }
    },
    {
      "cell_type": "code",
      "source": [
        "from llama_index.core.tools import FunctionTool\n",
        "from duckduckgo_search import DDGS\n",
        "from llama_index.llms.mistralai import MistralAI\n",
        "from llama_index.embeddings.mistralai import MistralAIEmbedding # Agentic RAG (Function calling - not required)\n",
        "\n",
        "import nest_asyncio\n",
        "nest_asyncio.apply()"
      ],
      "metadata": {
        "id": "gPAoYXDEcXin"
      },
      "execution_count": null,
      "outputs": []
    },
    {
      "cell_type": "code",
      "source": [
        "def search(query:str) -> str:\n",
        "  \"\"\"\n",
        "  Args:\n",
        "      query: user prompt\n",
        "  return:\n",
        "  context (str): search results to the user query\n",
        "  \"\"\"\n",
        "  # def search(query:str)\n",
        "  req = DDGS()\n",
        "  response = req.text(query,max_results=4)\n",
        "  context = \"\"\n",
        "  for result in response:\n",
        "    context += result['body']\n",
        "  return context"
      ],
      "metadata": {
        "id": "0NsySK9gcnwJ"
      },
      "execution_count": null,
      "outputs": []
    },
    {
      "cell_type": "code",
      "source": [
        "search_tool = FunctionTool.from_defaults(fn=search)"
      ],
      "metadata": {
        "id": "6fSTJNfTckW-"
      },
      "execution_count": null,
      "outputs": []
    },
    {
      "cell_type": "code",
      "source": [
        "query = \"Who was the Man of the series in India vs Bangalesh 2024 Test Match?\""
      ],
      "metadata": {
        "id": "pRR0Npf2kFlU"
      },
      "execution_count": null,
      "outputs": []
    },
    {
      "cell_type": "code",
      "source": [
        "mistral_api = \"\""
      ],
      "metadata": {
        "id": "TWFcnaz9eGMs"
      },
      "execution_count": null,
      "outputs": []
    },
    {
      "cell_type": "code",
      "source": [
        "llm = MistralAI(model=\"mistral-large-latest\",api_key=mistral_api)"
      ],
      "metadata": {
        "id": "Qm2YCF9IsvuU"
      },
      "execution_count": null,
      "outputs": []
    },
    {
      "cell_type": "code",
      "source": [
        "embed_model = MistralAIEmbedding(model_name=\"mistral-embed\", api_key=mistral_api)"
      ],
      "metadata": {
        "id": "WMAFLQEqeBwP"
      },
      "execution_count": null,
      "outputs": []
    },
    {
      "cell_type": "code",
      "source": [
        "from llama_index.core import Settings\n",
        "\n",
        "Settings.llm = llm\n",
        "Settings.embed_model = embed_model"
      ],
      "metadata": {
        "id": "_2CcgMuldwWs"
      },
      "execution_count": null,
      "outputs": []
    },
    {
      "cell_type": "code",
      "source": [
        "llm.complete(\"tell me about AI?\").text"
      ],
      "metadata": {
        "id": "ps2hzrgedX1M"
      },
      "execution_count": null,
      "outputs": []
    },
    {
      "cell_type": "code",
      "source": [
        "function_call = llm.predict_and_call(\n",
        "    [search_tool],\n",
        "    user_msg = query,\n",
        "    allow_parallel_tool_calls=True,\n",
        ")"
      ],
      "metadata": {
        "id": "vx9Co0tvj3gE"
      },
      "execution_count": null,
      "outputs": []
    },
    {
      "cell_type": "code",
      "source": [
        "type(function_call)"
      ],
      "metadata": {
        "colab": {
          "base_uri": "https://localhost:8080/"
        },
        "id": "qebPaE__gZHT",
        "outputId": "0598290f-5c83-4099-ea81-39dd2a44c920"
      },
      "execution_count": null,
      "outputs": [
        {
          "output_type": "execute_result",
          "data": {
            "text/plain": [
              "llama_index.core.chat_engine.types.AgentChatResponse"
            ]
          },
          "metadata": {},
          "execution_count": 15
        }
      ]
    },
    {
      "cell_type": "code",
      "source": [
        "function_call.response"
      ],
      "metadata": {
        "id": "R-U_rMxagU8W",
        "colab": {
          "base_uri": "https://localhost:8080/",
          "height": 212
        },
        "outputId": "8ab3c5e5-7c12-4090-a787-03fe85f661e5"
      },
      "execution_count": null,
      "outputs": [
        {
          "output_type": "execute_result",
          "data": {
            "text/plain": [
              "\"IND vs BDESH 2024/25, India vs Bangladesh Match Report: Jaiswal scored twin fifties as India registered a remarkable win despite two days of no play due to rain in Kanpur Matches ( 6 ) Women's T20 ...India won the two-match IND vs BAN test series by 2-0, with R Ashwin bagging the Man of the Series award. The Indian cricket team extended their home dominance by whitewashing Bangladesh in the two-match IND vs BAN test series. India won by the first test in Chennai by 280 runs and the second test in Kanpur by seven wickets.India defeated Bangladesh by seven wickets in the second Test at Kanpur, sealing the series 2-0. Yashasvi Jaiswal's 51 guided India to a successful chase of 95 runs. Follow Us Trending Photos IND vs BAN: Indian opener Yashavi Jaiswal's exceptional fifty in the second innings guided the hosts to a ...IND vs BDESH 2024/25, India vs Bangladesh Match Report: Bangladesh captain Najmul Hossain Shanto's 82 kept the bowling at bay, but Ashwin and Ravindra Jadeja shared nine wickets\""
            ],
            "application/vnd.google.colaboratory.intrinsic+json": {
              "type": "string"
            }
          },
          "metadata": {},
          "execution_count": 17
        }
      ]
    },
    {
      "cell_type": "markdown",
      "source": [
        "## Second Approach for Function Calling Agent\n",
        "\n",
        "- Function Calling Agent Worker"
      ],
      "metadata": {
        "id": "ALu3OewLeMhm"
      }
    },
    {
      "cell_type": "code",
      "source": [
        "from llama_index.core.agent import FunctionCallingAgent, FunctionCallingAgentWorker"
      ],
      "metadata": {
        "id": "H09n13C0hTtV"
      },
      "execution_count": null,
      "outputs": []
    },
    {
      "cell_type": "code",
      "source": [
        "agent = FunctionCallingAgent.from_tools(\n",
        "    [search_tool],\n",
        "    llm=llm,\n",
        "    verbose=True,\n",
        "    allow_parallel_tool_calls=True,\n",
        ")"
      ],
      "metadata": {
        "id": "kkfF1yhtlQjC"
      },
      "execution_count": null,
      "outputs": []
    },
    {
      "cell_type": "code",
      "source": [
        "response = agent.chat(query)"
      ],
      "metadata": {
        "colab": {
          "base_uri": "https://localhost:8080/"
        },
        "id": "RxvzaWdKlmHx",
        "outputId": "dea04cfb-5eec-4006-9159-ac8526cf42f0"
      },
      "execution_count": null,
      "outputs": [
        {
          "output_type": "stream",
          "name": "stdout",
          "text": [
            "> Running step 0aae73a7-08d2-477a-9703-bb0d517d075a. Step input: Who was the Man of the series in India vs Bangalesh 2024 Test Match?\n",
            "Added user message to memory: Who was the Man of the series in India vs Bangalesh 2024 Test Match?\n",
            "=== Calling Function ===\n",
            "Calling function: search with args: {\"query\": \"Who was the Man of the series in India vs Bangalesh 2024 Test Match?\"}\n",
            "=== Function Output ===\n",
            "IND vs BDESH 2024/25, India vs Bangladesh Match Report: Jaiswal scored twin fifties as India registered a remarkable win despite two days of no play due to rain in Kanpur Matches ( 6 ) Women's T20 ...IND vs BAN 2024, 2ND Test: Match Presentation Share video on : 1st Oct, 2024 14:17 mins 115.2 k IND vs BAN 2024, 2ND Test: India 2nd Innings Fall of Wickets ... Dressing Room BTS | Impact Fielder of the Series | India vs Bangladesh Test Series 2024 Share video on : 1st Oct, 2024 02:35 mins 98.4 k Rohit Sharma said we are going to go hammer and ...India vs Bangladesh, 2nd Test Day 5 ... Bangladesh in India, 2 Test Series, 2024, Sep 27, 2024 ... to smash five world records on Day 4 of the second Test match against Bangladesh. India team ...IND vs BDESH 2024/25, India vs Bangladesh Match Report: Bangladesh captain Najmul Hossain Shanto's 82 kept the bowling at bay, but Ashwin and Ravindra Jadeja shared nine wickets\n",
            "> Running step cf67fcc3-b21d-48c3-807f-f9bb7a0f9b8d. Step input: None\n",
            "=== LLM Response ===\n",
            "The Man of the Series in the India vs Bangladesh 2024 Test Match was not explicitly mentioned in the search results. However, notable performances included Jaiswal scoring twin fifties and Ashwin and Ravindra Jadeja sharing nine wickets. For the most accurate and up-to-date information, please refer to official cricket sources.\n"
          ]
        }
      ]
    },
    {
      "cell_type": "code",
      "source": [
        "print(response)"
      ],
      "metadata": {
        "colab": {
          "base_uri": "https://localhost:8080/"
        },
        "id": "lEKm4pH-lou6",
        "outputId": "dcaf3a7d-ca93-4d15-fd7d-09f397d356b4"
      },
      "execution_count": null,
      "outputs": [
        {
          "output_type": "stream",
          "name": "stdout",
          "text": [
            "The Man of the Series in the India vs Bangladesh 2024 Test Match was not explicitly mentioned in the search results. However, notable performances included Jaiswal scoring twin fifties and Ashwin and Ravindra Jadeja sharing nine wickets. For the most accurate and up-to-date information, please refer to official cricket sources.\n"
          ]
        }
      ]
    },
    {
      "cell_type": "markdown",
      "source": [
        "## Approach -3 and the recommended one: Agent Runner"
      ],
      "metadata": {
        "id": "DuMbO4iXfY2f"
      }
    },
    {
      "cell_type": "code",
      "source": [
        "from llama_index.core.agent import AgentRunner"
      ],
      "metadata": {
        "id": "S1K4SBTMSO0L"
      },
      "execution_count": null,
      "outputs": []
    },
    {
      "cell_type": "code",
      "source": [
        "agent_worker = FunctionCallingAgentWorker.from_tools(\n",
        "    [search_tool],\n",
        "    llm=llm,\n",
        "    verbose=True,\n",
        "    allow_parallel_tool_calls=True,\n",
        ")\n",
        "agent_runner = AgentRunner(agent_worker)"
      ],
      "metadata": {
        "id": "LBtrtTXdSP9v"
      },
      "execution_count": null,
      "outputs": []
    },
    {
      "cell_type": "code",
      "source": [
        "runner_response = agent_runner.query(query)"
      ],
      "metadata": {
        "colab": {
          "base_uri": "https://localhost:8080/"
        },
        "id": "SQMKojtSSXlg",
        "outputId": "7121c6ae-d554-43f3-90e5-d23fbbbd39db"
      },
      "execution_count": null,
      "outputs": [
        {
          "output_type": "stream",
          "name": "stdout",
          "text": [
            "Added user message to memory: Who was the Man of the series in India vs Bangalesh 2024 Test Match?\n",
            "=== Calling Function ===\n",
            "Calling function: search with args: {\"query\": \"Who was the Man of the series in India vs Bangalesh 2024 Test Match?\"}\n",
            "=== Function Output ===\n",
            "India vs Bangladesh 2024 T20I Squads. India T20I Squad vs Bangladesh: Suryakumar Yadav (captain), Abhishek Sharma, Sanju Samson (wicketkeeper), Rinku Singh, Hardik Pandya, Riyan Parag, Nitish Kumar Reddy, Shivam Dube, Washington Sundar, Ravi Bishnoi, Varun Chakaravarthy, Jitesh Sharma (wicketkeeper), Arshdeep Singh, Harshit Rana, Mayank Yadav. ...India won the two-match IND vs BAN test series by 2-0, with R Ashwin bagging the Man of the Series award. The Indian cricket team extended their home dominance by whitewashing Bangladesh in the two-match IND vs BAN test series.. India won by the first test in Chennai by 280 runs and the second test in Kanpur by seven wickets.IND vs BDESH 2024/25, India vs Bangladesh Match Report: Jaiswal scored twin fifties as India registered a remarkable win despite two days of no play due to rain in Kanpur Matches ( 6 ) Women's T20 ...Indian players celebrate with the trophy after winning the two match test series against Bangladesh in Kanpur, India, Tuesday, October 1, 2024. ... Sharma celebrates the wicket of Bangladesh's Mehidy Hasan Miraz on the fifth and final day of the second cricket test match between Bangladesh and India in Kanpur, India, Tuesday, October 1, 2024 ...\n",
            "=== LLM Response ===\n",
            "R Ashwin was the Man of the Series in the India vs Bangladesh 2024 Test Match. India won the two-match series by 2-0, with R Ashwin bagging the Man of the Series award. The Indian cricket team extended their home dominance by whitewashing Bangladesh in the two-match series. India won the first test in Chennai by 280 runs and the second test in Kanpur by seven wickets.\n"
          ]
        }
      ]
    },
    {
      "cell_type": "code",
      "source": [
        "runner_response.response"
      ],
      "metadata": {
        "colab": {
          "base_uri": "https://localhost:8080/",
          "height": 88
        },
        "id": "Qzs9VUAwlHo8",
        "outputId": "3ba88069-8b91-41f9-94e1-ac0b8f2e627b"
      },
      "execution_count": null,
      "outputs": [
        {
          "output_type": "execute_result",
          "data": {
            "text/plain": [
              "'R Ashwin was the Man of the Series in the India vs Bangladesh 2024 Test Match. India won the two-match series by 2-0, with R Ashwin bagging the Man of the Series award. The Indian cricket team extended their home dominance by whitewashing Bangladesh in the two-match series. India won the first test in Chennai by 280 runs and the second test in Kanpur by seven wickets.'"
            ],
            "application/vnd.google.colaboratory.intrinsic+json": {
              "type": "string"
            }
          },
          "metadata": {},
          "execution_count": 41
        }
      ]
    },
    {
      "cell_type": "code",
      "source": [
        "runner_chat = agent_runner.chat(query)"
      ],
      "metadata": {
        "colab": {
          "base_uri": "https://localhost:8080/"
        },
        "id": "XQbbv2AalGHH",
        "outputId": "2bd06aef-077c-49ea-944a-cccd99372c77"
      },
      "execution_count": null,
      "outputs": [
        {
          "output_type": "stream",
          "name": "stdout",
          "text": [
            "Added user message to memory: Who was the Man of the series in India vs Bangalesh 2024 Test Match?\n",
            "=== Calling Function ===\n",
            "Calling function: search with args: {\"query\": \"Who was the Man of the series in India vs Bangalesh 2024 Test Match?\"}\n",
            "=== Function Output ===\n",
            "IND vs BDESH 2024/25, India vs Bangladesh Match Report: Jaiswal scored twin fifties as India registered a remarkable win despite two days of no play due to rain in Kanpur Matches ( 6 ) Women's T20 ...Indian players celebrate with the trophy after winning the two match test series against Bangladesh in Kanpur, India, Tuesday, October 1, 2024. ... Sharma celebrates the wicket of Bangladesh's Mehidy Hasan Miraz on the fifth and final day of the second cricket test match between Bangladesh and India in Kanpur, India, Tuesday, October 1, 2024 ...IND vs BAN 2024, 2ND Test: Match Presentation Share video on : 1st Oct, 2024 14:17 mins 115.2 k IND vs BAN 2024, 2ND Test: India 2nd Innings Fall of Wickets ... Dressing Room BTS | Impact Fielder of the Series | India vs Bangladesh Test Series 2024 Share video on : 1st Oct, 2024 02:35 mins 98.4 k Rohit Sharma said we are going to go hammer and ...Dressing Room BTS | Impact Fielder of the Series | India vs Bangladesh Test Series 2024. Share video on : 01 Oct, 2024 02:35 mins 15 k. Related Videos. Reflection on Series Win with Captain Rohit Sharma, Mohd. ... IND vs BAN 2024, 2ND Test: Match Presentation Share video on : 1st Oct, 2024 14 ...\n",
            "=== LLM Response ===\n",
            "The Man of the series in India vs Bangladesh 2024 Test Match was Rohit Sharma.\n"
          ]
        }
      ]
    },
    {
      "cell_type": "code",
      "source": [
        "runner_chat.response"
      ],
      "metadata": {
        "id": "ckzZxBNhSvFI",
        "colab": {
          "base_uri": "https://localhost:8080/",
          "height": 35
        },
        "outputId": "68704263-a0f2-48ff-c173-ed9057a83b05"
      },
      "execution_count": null,
      "outputs": [
        {
          "output_type": "execute_result",
          "data": {
            "text/plain": [
              "'The Man of the series in India vs Bangladesh 2024 Test Match was Rohit Sharma.'"
            ],
            "application/vnd.google.colaboratory.intrinsic+json": {
              "type": "string"
            }
          },
          "metadata": {},
          "execution_count": 43
        }
      ]
    },
    {
      "cell_type": "markdown",
      "source": [
        "## Agentic RAG"
      ],
      "metadata": {
        "id": "4NJpK22rlwHf"
      }
    },
    {
      "cell_type": "code",
      "source": [
        "from llama_index.core import SimpleDirectoryReader # load your documents"
      ],
      "metadata": {
        "id": "o-MM67xplxb_"
      },
      "execution_count": null,
      "outputs": []
    },
    {
      "cell_type": "code",
      "source": [
        "documents = SimpleDirectoryReader(input_files=[\"/content/2409.16160v1.pdf\"]).load_data()"
      ],
      "metadata": {
        "id": "Gef_J1n7mS5o"
      },
      "execution_count": null,
      "outputs": []
    },
    {
      "cell_type": "code",
      "source": [
        "from llama_index.core.node_parser import SentenceSplitter\n",
        "\n",
        "splitter = SentenceSplitter(chunk_size=1024)\n",
        "nodes = splitter.get_nodes_from_documents(documents)"
      ],
      "metadata": {
        "id": "8FFJW-kCWMKw"
      },
      "execution_count": null,
      "outputs": []
    },
    {
      "cell_type": "code",
      "source": [
        "from llama_index.core import SummaryIndex, VectorStoreIndex\n",
        "\n",
        "summary_index = SummaryIndex(nodes)\n",
        "vector_index = VectorStoreIndex(nodes)"
      ],
      "metadata": {
        "id": "MnGQwNAzdpA1"
      },
      "execution_count": null,
      "outputs": []
    },
    {
      "cell_type": "code",
      "source": [
        "summary_query_engine = summary_index.as_query_engine(\n",
        "    response_mode=\"tree_summarize\",\n",
        "    use_async=True,\n",
        ")\n",
        "vector_query_engine = vector_index.as_query_engine()"
      ],
      "metadata": {
        "id": "Yoon5GB-emo1"
      },
      "execution_count": null,
      "outputs": []
    },
    {
      "cell_type": "code",
      "source": [
        "from llama_index.core.tools import QueryEngineTool\n",
        "from llama_index.core.query_engine.router_query_engine import RouterQueryEngine\n",
        "from llama_index.core.selectors import LLMSingleSelector"
      ],
      "metadata": {
        "id": "iEqSeA44gqI6"
      },
      "execution_count": null,
      "outputs": []
    },
    {
      "cell_type": "code",
      "source": [
        "summary_tool = QueryEngineTool.from_defaults(\n",
        "    query_engine=summary_query_engine,\n",
        "    description=(\n",
        "        \"This Agent is useful to summarize the Research paper in a simplied way by giving intuitions\"\n",
        "    ),\n",
        ")\n",
        "\n",
        "vector_tool = QueryEngineTool.from_defaults(\n",
        "    query_engine=vector_query_engine,\n",
        "    description=(\n",
        "        \"This Agent is useful to answer to the user queries within the paper and retrieve the relevant piece of information\"\n",
        "    ),\n",
        ")"
      ],
      "metadata": {
        "id": "-eperylZeq6G"
      },
      "execution_count": null,
      "outputs": []
    },
    {
      "cell_type": "code",
      "source": [
        "query_engine = RouterQueryEngine(\n",
        "    selector=LLMSingleSelector.from_defaults(),\n",
        "    query_engine_tools=[\n",
        "        summary_tool,\n",
        "        vector_tool,\n",
        "    ],\n",
        "    verbose=True\n",
        ")"
      ],
      "metadata": {
        "id": "uYVvCR5vghSk"
      },
      "execution_count": null,
      "outputs": []
    },
    {
      "cell_type": "code",
      "source": [
        "response = query_engine.query(\"give me technical architecture details in the paper\")"
      ],
      "metadata": {
        "colab": {
          "base_uri": "https://localhost:8080/"
        },
        "id": "GRL9ne-pgsux",
        "outputId": "49bb599e-fd70-4ee2-a680-4e3988e900cc"
      },
      "execution_count": null,
      "outputs": [
        {
          "output_type": "stream",
          "name": "stdout",
          "text": [
            "\u001b[1;3;38;5;200mSelecting query engine 1: This Agent is useful to answer to the user queries within the paper and retrieve the relevant piece of information.\n",
            "\u001b[0m"
          ]
        }
      ]
    },
    {
      "cell_type": "code",
      "source": [
        "print(response)"
      ],
      "metadata": {
        "colab": {
          "base_uri": "https://localhost:8080/"
        },
        "id": "CNm96Nx8g0Yk",
        "outputId": "3563bda7-9b68-4081-e508-0ef06b49d218"
      },
      "execution_count": null,
      "outputs": [
        {
          "output_type": "stream",
          "name": "stdout",
          "text": [
            "The provided context does not include explicit details about the technical architecture of the paper. It primarily discusses the capabilities and testing scenarios of a method related to character animation and control. For technical architecture details, you would need to refer to other sections of the paper that specifically describe the model, algorithms, or system design.\n"
          ]
        }
      ]
    },
    {
      "cell_type": "code",
      "source": [
        "#response.source_nodes"
      ],
      "metadata": {
        "id": "CWXXJUiFhMXO"
      },
      "execution_count": null,
      "outputs": []
    },
    {
      "cell_type": "code",
      "source": [
        "response2 = query_engine.query(\"summarize the methodology from the paper\")"
      ],
      "metadata": {
        "colab": {
          "base_uri": "https://localhost:8080/"
        },
        "id": "NBMe22JZg7P9",
        "outputId": "101e547a-97c4-494c-f126-320d39cf61b5"
      },
      "execution_count": null,
      "outputs": [
        {
          "output_type": "stream",
          "name": "stdout",
          "text": [
            "\u001b[1;3;38;5;200mSelecting query engine 0: This choice is most relevant because it mentions summarizing the research paper in a simplified way by giving intuitions, which aligns with the need to summarize the methodology from the paper..\n",
            "\u001b[0m"
          ]
        }
      ]
    },
    {
      "cell_type": "code",
      "source": [
        "print(response2)"
      ],
      "metadata": {
        "colab": {
          "base_uri": "https://localhost:8080/"
        },
        "id": "TIbNspBIhAdr",
        "outputId": "5d72d684-b801-44ad-9ef9-fba942baf2d2"
      },
      "execution_count": null,
      "outputs": [
        {
          "output_type": "stream",
          "name": "stdout",
          "text": [
            "The methodology presented in the paper involves a novel framework called MIMO for controllable character video synthesis. The framework decomposes a 2D video into three spatial components: the main human, the underlying scene, and floating occlusions, using hierarchical layers based on 3D depth. These components are then encoded into canonical identity code, structured motion code, and full scene code, which serve as control signals for the synthesis process. The structured motion code is derived from a deformable human body model (SMPL) and camera parameters, enabling more dense pose representation with 3D occlusions. The canonical identity code is obtained by transforming the posed human image to a canonical result in standard A-pose using a pretrained human repose model. The scene and occlusion components are embedded with a shared VAE encoder and re-organized as a full scene code. These latent codes are inserted into a diffusion-based decoder as conditions for video reconstruction. The network is trained using a diffusion noise-prediction loss, with the denoising U-Net and reference-net initialized with pretrained weights from Stable Diffusion (SD) 1.5, and the motion module initialized with weights from AnimateDiff. The training is conducted on 8 NVIDIA A100 GPUs for around 50k iterations with 24 video frames and a batch size of 4.\n"
          ]
        }
      ]
    },
    {
      "cell_type": "markdown",
      "source": [
        "## ReACT Agent\n",
        "\n",
        "Build a simple project: Search Assistant Agent"
      ],
      "metadata": {
        "id": "Mle7H1N9hbrX"
      }
    },
    {
      "cell_type": "code",
      "source": [
        "from llama_index.core.agent import ReActAgent"
      ],
      "metadata": {
        "id": "1c9dx7cghFV-"
      },
      "execution_count": null,
      "outputs": []
    },
    {
      "cell_type": "code",
      "source": [
        "agent = ReActAgent.from_tools([search_tool], llm=llm, verbose=True,allow_parallel_tool_calls=True)"
      ],
      "metadata": {
        "id": "kf8XVTwAhgNn"
      },
      "execution_count": null,
      "outputs": []
    },
    {
      "cell_type": "code",
      "source": [
        "response = agent.chat(\"tell me about AI with Tarun. Also do analysis and say should people follow him?\")"
      ],
      "metadata": {
        "colab": {
          "base_uri": "https://localhost:8080/"
        },
        "id": "WDFuZJWehp8z",
        "outputId": "d9cca53e-16f9-4fb4-cb75-091a70d4f5f2"
      },
      "execution_count": null,
      "outputs": [
        {
          "output_type": "stream",
          "name": "stdout",
          "text": [
            "> Running step 4e7cee18-bfa1-4d4e-ab07-d3e7406eb35b. Step input: tell me about AI with Tarun. Also do analysis and say should people follow him?\n",
            "\u001b[1;3;38;5;200mThought: The current language of the user is English. I need to use a tool to help me answer the question.\n",
            "Action: search\n",
            "Action Input: {'query': 'AI with Tarun'}\n",
            "\u001b[0m\u001b[1;3;34mObservation: 🚀 \"Learn AI for FREE with Tarun!\" 🚀Hold on tight, techies! You're about to launch into the world of AI with Tarun Jain - no money, just fun! 💸🧠By day, he...Tarun is instrumental in creating and developing IBM's next-generation AI platform, watsonx, a revolutionary leap forward in the world of AI for businesses. He presented at Think this week and shared an insightful session about the transformative potential of generative AI and foundation models and the role of watsonx in enabling such advancements.AI With Tarun | AI Engineer. I help you build and learn AI for free 👨‍💻 🗣️ AI/ML Interview Series 📰 Cr... YouTube. Instagram. X. Here is the Prompt Guide. AI With Tarun. Instagram. Twitter. Join our Discord Community.I help you Build and learn AI for free 👨‍💻💸 My name is Tarun Jain. I'm a passionate coder with expertise in GenAI, Machine Learning, Image Processing, and Deep Learning. I currently work as a DevRel & Data Scientist at AI Planet, and a Google Developer Expert in AI/ML. I was also part of Google Summer of Code 23(GSoC23) at caMicroscope and an Ex-Research Intern at CCCIR.\n",
            "\u001b[0m> Running step 6f4257af-8627-4b09-9e4d-df42a648caba. Step input: None\n",
            "\u001b[1;3;38;5;200mThought: I can answer without using any more tools. I'll use the user's language to answer.\n",
            "Answer: Tarun Jain is an AI engineer who offers free resources to help people learn and build AI. He has expertise in generative AI, machine learning, image processing, and deep learning. Tarun works as a Developer Relations & Data Scientist at AI Planet and is a Google Developer Expert in AI/ML. He has also participated in Google Summer of Code 2023 (GSoC23) at caMicroscope and was an Ex-Research Intern at CCCIR. Additionally, he is involved in creating and developing IBM's next-generation AI platform, watsonx.\n",
            "\n",
            "Analysis:\n",
            "- **Expertise**: Tarun has a strong background in AI and machine learning, with experience in both industry and research.\n",
            "- **Free Resources**: He provides free educational content, which can be very beneficial for those looking to learn AI without financial barriers.\n",
            "- **Industry Involvement**: His work with IBM and other organizations indicates that he is well-connected and up-to-date with the latest advancements in the field.\n",
            "- **Community Engagement**: Tarun is active on various platforms like YouTube, Instagram, and Twitter, and has a Discord community, suggesting a commitment to engaging with and helping others.\n",
            "\n",
            "Should people follow him?\n",
            "Yes, people interested in AI and machine learning should consider following Tarun Jain. His expertise, free educational resources, industry involvement, and community engagement make him a valuable resource for learning and staying updated in the field of AI.\n",
            "\u001b[0m"
          ]
        }
      ]
    },
    {
      "cell_type": "code",
      "source": [
        "print(response)"
      ],
      "metadata": {
        "colab": {
          "base_uri": "https://localhost:8080/"
        },
        "id": "u46VVcnph2BV",
        "outputId": "c8908ff2-f2fc-4474-dc98-bd895c33d725"
      },
      "execution_count": null,
      "outputs": [
        {
          "output_type": "stream",
          "name": "stdout",
          "text": [
            "Tarun Jain is an AI engineer who offers free resources to help people learn and build AI. He has expertise in generative AI, machine learning, image processing, and deep learning. Tarun works as a Developer Relations & Data Scientist at AI Planet and is a Google Developer Expert in AI/ML. He has also participated in Google Summer of Code 2023 (GSoC23) at caMicroscope and was an Ex-Research Intern at CCCIR. Additionally, he is involved in creating and developing IBM's next-generation AI platform, watsonx.\n",
            "\n",
            "Analysis:\n",
            "- **Expertise**: Tarun has a strong background in AI and machine learning, with experience in both industry and research.\n",
            "- **Free Resources**: He provides free educational content, which can be very beneficial for those looking to learn AI without financial barriers.\n",
            "- **Industry Involvement**: His work with IBM and other organizations indicates that he is well-connected and up-to-date with the latest advancements in the field.\n",
            "- **Community Engagement**: Tarun is active on various platforms like YouTube, Instagram, and Twitter, and has a Discord community, suggesting a commitment to engaging with and helping others.\n",
            "\n",
            "Should people follow him?\n",
            "Yes, people interested in AI and machine learning should consider following Tarun Jain. His expertise, free educational resources, industry involvement, and community engagement make him a valuable resource for learning and staying updated in the field of AI.\n"
          ]
        }
      ]
    }
  ]
}