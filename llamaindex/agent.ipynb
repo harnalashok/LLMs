{
 "cells": [
  {
   "cell_type": "code",
   "execution_count": 5,
   "id": "f572b76f-51e6-4c24-b2ff-e12a25f75889",
   "metadata": {},
   "outputs": [],
   "source": [
    "# 1.0 SimpleDirectoryReader can also load metadata from a dictionary\n",
    "#     https://docs.llamaindex.ai/en/stable/module_guides/loading/simpledirectoryreader/\n",
    "from llama_index.core.readers import SimpleDirectoryReader\n",
    "from llama_index.readers.file import PagedCSVReader\n",
    "\n",
    "# 1.1 The Settings is a bundle of commonly used resources used \n",
    "#     during the indexing and querying stage in a LlamaIndex workflow/application.\n",
    "from llama_index.core import Settings\n",
    "\n",
    "# 1.2 If using LocalAI\n",
    "# https://docs.llamaindex.ai/en/stable/examples/llm/localai/\n",
    "from llama_index.llms.openai_like import OpenAILike\n",
    "\n",
    "# 1.3 Ollama related\n",
    "# https://docs.llamaindex.ai/en/stable/examples/embeddings/ollama_embedding/\n",
    "from llama_index.embeddings.ollama import OllamaEmbedding\n",
    "from llama_index.llms.ollama import Ollama\n",
    "\n",
    "\n",
    "# 1.4 Vector store related\n",
    "import chromadb\n",
    "from llama_index.core import StorageContext\n",
    "from llama_index.core import VectorStoreIndex\n",
    "from llama_index.vector_stores.chroma import ChromaVectorStore\n",
    "\n",
    "# 1.5 Misc\n",
    "import os\n",
    "import pandas as pd\n",
    "\n",
    "from dotenv import load_dotenv\n",
    "load_dotenv()\n",
    "\n",
    "from llama_index.llms.openai import OpenAI\n",
    "from llama_index.core.agent.workflow import AgentWorkflow"
   ]
  },
  {
   "cell_type": "code",
   "execution_count": 40,
   "id": "644c8bbd-3b22-46c5-a3b7-d6c8d17bc5d5",
   "metadata": {},
   "outputs": [],
   "source": [
    "llm = Ollama(\n",
    "                        model=\"llama3.2:latest\",\n",
    "                        request_timeout=120.0,\n",
    "                        temperature = 0.0,\n",
    "                        mirostat = 0)"
   ]
  },
  {
   "cell_type": "code",
   "execution_count": 10,
   "id": "83e4100e-5741-4423-9ef1-bab00b2eb04d",
   "metadata": {},
   "outputs": [],
   "source": []
  },
  {
   "cell_type": "code",
   "execution_count": 11,
   "id": "ae0d5c80-efb9-4b2b-a4d7-f84d35d1ae9f",
   "metadata": {},
   "outputs": [],
   "source": [
    "def add(a: float, b: float) -> float:\n",
    "    \"\"\"Add two numbers and returns the sum\"\"\"\n",
    "    return a + b"
   ]
  },
  {
   "cell_type": "code",
   "execution_count": 30,
   "id": "7575c5ab-f592-45b6-8957-be5f26e71118",
   "metadata": {},
   "outputs": [],
   "source": [
    "def exponent(a: float, b: float) -> float:\n",
    "    \"\"\"Take exponent\"\"\"\n",
    "    return a**b"
   ]
  },
  {
   "cell_type": "code",
   "execution_count": 32,
   "id": "b72f0cd0-216a-40d2-9906-3185bc8e5a19",
   "metadata": {},
   "outputs": [],
   "source": [
    "workflow = AgentWorkflow.from_tools_or_functions(\n",
    "    [multiply, add, exponent],\n",
    "    llm=llm,\n",
    "    system_prompt=\"You are an agent that can perform basic mathematical operations using tools. You are only to use given tools and no internal knowkedge. While replying also mention the tool used.\"\n",
    ")"
   ]
  },
  {
   "cell_type": "code",
   "execution_count": 23,
   "id": "abfd100a-4417-4293-9944-d567f5baf3fa",
   "metadata": {},
   "outputs": [],
   "source": [
    "response = workflow.run(user_msg=\"What is 20+(2*4)?\")\n"
   ]
  },
  {
   "cell_type": "code",
   "execution_count": 25,
   "id": "9d945db4-9bda-481a-84ca-e3b75720beb1",
   "metadata": {},
   "outputs": [
    {
     "name": "stdout",
     "output_type": "stream",
     "text": [
      "The result of the expression 20 + (2 * 4) is 22. I used the addition tool to calculate this result.\n"
     ]
    }
   ],
   "source": [
    "print(response)"
   ]
  },
  {
   "cell_type": "code",
   "execution_count": 37,
   "id": "927aa319-2cdb-4653-aaff-5ea590124175",
   "metadata": {},
   "outputs": [],
   "source": [
    "response = workflow.run(user_msg=\"What is 4.0^6.0 ?\")"
   ]
  },
  {
   "cell_type": "code",
   "execution_count": 38,
   "id": "c2d503b9-6d1f-4a27-b1f5-2e2d4d37d0e2",
   "metadata": {},
   "outputs": [
    {
     "name": "stdout",
     "output_type": "stream",
     "text": [
      "I used the exponent tool to calculate the result.\n",
      "\n",
      "The answer is: 4096.0\n"
     ]
    }
   ],
   "source": [
    "print(response)"
   ]
  },
  {
   "cell_type": "code",
   "execution_count": null,
   "id": "38e336f4-ae2b-40e3-b82d-3136c4dd8723",
   "metadata": {},
   "outputs": [],
   "source": [
    "\n",
    "\n",
    "async def main():\n",
    "    response = await workflow.run(user_msg=\"What is 20+(2*4)?\")\n",
    "    print(response)\n",
    "\n",
    "if __name__ == \"__main__\":\n",
    "    import asyncio\n",
    "    asyncio.run(main())"
   ]
  }
 ],
 "metadata": {
  "kernelspec": {
   "display_name": "Python 3 (ipykernel)",
   "language": "python",
   "name": "python3"
  },
  "language_info": {
   "codemirror_mode": {
    "name": "ipython",
    "version": 3
   },
   "file_extension": ".py",
   "mimetype": "text/x-python",
   "name": "python",
   "nbconvert_exporter": "python",
   "pygments_lexer": "ipython3",
   "version": "3.10.12"
  }
 },
 "nbformat": 4,
 "nbformat_minor": 5
}
