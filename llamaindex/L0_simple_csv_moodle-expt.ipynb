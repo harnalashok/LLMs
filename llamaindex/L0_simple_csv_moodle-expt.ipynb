{
 "cells": [
  {
   "cell_type": "code",
   "execution_count": null,
   "metadata": {},
   "outputs": [],
   "source": [
    "# LAst amended: 17th March, 2025\n",
    "# RAG with csv files\n",
    "# USes ollama models, ollama embeddings and chroma vector store"
   ]
  },
  {
   "cell_type": "code",
   "execution_count": null,
   "metadata": {},
   "outputs": [],
   "source": [
    "# References:\n",
    "#            \n",
    "#            https://docs.llamaindex.ai/en/stable/examples/embeddings/ollama_embedding/\n",
    "#            https://docs.llamaindex.ai/en/stable/examples/llm/ollama/\n",
    "#            https://docs.llamaindex.ai/en/stable/module_guides/supporting_modules/settings/\n",
    "#            https://howaibuildthis.substack.com/p/llamaindex-how-to-use-index-correctly"
   ]
  },
  {
   "cell_type": "markdown",
   "metadata": {},
   "source": [
    "### Imports & Environment Variables "
   ]
  },
  {
   "cell_type": "code",
   "execution_count": 70,
   "metadata": {},
   "outputs": [
    {
     "name": "stdin",
     "output_type": "stream",
     "text": [
      "Once deleted, variables cannot be recovered. Proceed (y/[n])?  y\n"
     ]
    }
   ],
   "source": [
    "%reset"
   ]
  },
  {
   "cell_type": "code",
   "execution_count": 1,
   "metadata": {},
   "outputs": [],
   "source": [
    "# 1.0\n",
    "import nest_asyncio\n",
    "nest_asyncio.apply()"
   ]
  },
  {
   "cell_type": "code",
   "execution_count": 2,
   "metadata": {},
   "outputs": [
    {
     "name": "stderr",
     "output_type": "stream",
     "text": [
      "/home/ashok/langchain/lib/python3.10/site-packages/tqdm/auto.py:21: TqdmWarning: IProgress not found. Please update jupyter and ipywidgets. See https://ipywidgets.readthedocs.io/en/stable/user_install.html\n",
      "  from .autonotebook import tqdm as notebook_tqdm\n"
     ]
    }
   ],
   "source": [
    "# 1.0 SimpleDirectoryReader can also load metadata from a dictionary\n",
    "#     https://docs.llamaindex.ai/en/stable/module_guides/loading/simpledirectoryreader/\n",
    "from llama_index.core.readers import SimpleDirectoryReader\n",
    "from llama_index.readers.file import PagedCSVReader\n",
    "\n",
    "# 1.1 The Settings is a bundle of commonly used resources used \n",
    "#     during the indexing and querying stage in a LlamaIndex workflow/application.\n",
    "from llama_index.core import Settings\n",
    "\n",
    "# 1.2 If using LocalAI\n",
    "# https://docs.llamaindex.ai/en/stable/examples/llm/localai/\n",
    "from llama_index.llms.openai_like import OpenAILike\n",
    "\n",
    "# 1.3 Ollama related\n",
    "# https://docs.llamaindex.ai/en/stable/examples/embeddings/ollama_embedding/\n",
    "from llama_index.embeddings.ollama import OllamaEmbedding\n",
    "from llama_index.llms.ollama import Ollama\n",
    "\n",
    "\n",
    "# 1.4 Vector store related\n",
    "import chromadb\n",
    "from llama_index.core import StorageContext\n",
    "from llama_index.core import VectorStoreIndex\n",
    "from llama_index.vector_stores.chroma import ChromaVectorStore\n",
    "\n",
    "# 1.5 Misc\n",
    "import os\n",
    "import pandas as pd"
   ]
  },
  {
   "cell_type": "code",
   "execution_count": 4,
   "metadata": {},
   "outputs": [],
   "source": [
    "# 2.0 Define embedding function\n",
    "\n",
    "# embed_model = HuggingFaceEmbedding(\n",
    "#                                     model_name=\"BAAI/bge-base-en-v1.5\"\n",
    "#                                    )\n",
    "\n",
    "embed_model= OllamaEmbedding(\n",
    "                                    model_name=\"nomic-embed-text\",      # Using foundational model may be overkill\n",
    "                                    base_url=\"http://localhost:11434\",\n",
    "                                    #dimensions=512,\n",
    "                                    #ollama_additional_kwargs={\"mirostat\": 0},\n",
    "                                  )\n",
    "\n",
    "Settings.embed_model = embed_model"
   ]
  },
  {
   "cell_type": "code",
   "execution_count": 16,
   "metadata": {},
   "outputs": [],
   "source": [
    "# 2.1 Settings can set the global configuration. Local configurations (transformations, LLMs, embedding models).\n",
    "#     These can be passed directly into the interfaces that make use of them.\n",
    "\n",
    "\n",
    "\n",
    "\"\"\"\n",
    "llm1 = Ollama(\n",
    "                        model=\"llama3.2:latest\",\n",
    "                        request_timeout=120.0,\n",
    "                        temperature = 0.0,\n",
    "                        mirostat = 0)\n",
    "\n",
    "\"\"\"\n",
    "\"\"\"\n",
    "# Takes a lot of time but the output is better\n",
    "Settings.llm = OpenAILike(\n",
    "                          temperature=0.7,\n",
    "                          model= \"LocalAI-functioncall-phi-4-v0.3\",  #\"llama-3.2-3b-instruct:q8_0\" , # \"gemma-3-12b-it\", # \"LocalAI-functioncall-phi-4-v0.3\", # \"gpt-3.5-turbo\",  # \"gemma-3-27b-it\",  #          # Can be any name, not necessarily openai's gpt\n",
    "                          api_base=\"http://127.0.0.1:8080/v1\",\n",
    "                          api_key=\"fake\",\n",
    "                          timeout= 1000.0,\n",
    "                          is_chat_model = True,\n",
    "                          is_function_calling_model=True,\n",
    "                          )\n",
    "\"\"\"\n",
    "\n",
    "\"\"\"\n",
    "============\n",
    "from llama_index.llms.groq import Groq\n",
    "# Following LLM gives good results\n",
    "llm = Groq(\n",
    "            model= \"qwen-qwq-32b\", #         \"llama-3.3-70b-versatile\",\n",
    "            api_key=\"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\",\n",
    "            temperature = 0.5,\n",
    "        )\n",
    "==========\n",
    "\"\"\"\n",
    "\n",
    "## Very very fast and Excellent\n",
    "# pip install llama-index-llms-mistralai\n",
    "from llama_index.llms.mistralai import MistralAI\n",
    "llm = MistralAI(api_key=\"VIScv20xwi7bmBbxZ6SiNJzkh35ZOWvM\")\n",
    "Settings.llm = llm"
   ]
  },
  {
   "cell_type": "markdown",
   "metadata": {},
   "source": [
    "### Load and Process CSV Data as Document"
   ]
  },
  {
   "cell_type": "code",
   "execution_count": 6,
   "metadata": {},
   "outputs": [
    {
     "data": {
      "text/html": [
       "<div>\n",
       "<style scoped>\n",
       "    .dataframe tbody tr th:only-of-type {\n",
       "        vertical-align: middle;\n",
       "    }\n",
       "\n",
       "    .dataframe tbody tr th {\n",
       "        vertical-align: top;\n",
       "    }\n",
       "\n",
       "    .dataframe thead th {\n",
       "        text-align: right;\n",
       "    }\n",
       "</style>\n",
       "<table border=\"1\" class=\"dataframe\">\n",
       "  <thead>\n",
       "    <tr style=\"text-align: right;\">\n",
       "      <th></th>\n",
       "      <th>Roll_Number</th>\n",
       "      <th>fullName</th>\n",
       "      <th>Gender</th>\n",
       "      <th>BirthDate</th>\n",
       "      <th>age</th>\n",
       "      <th>MBA CGPA</th>\n",
       "      <th>garduation college</th>\n",
       "      <th>University</th>\n",
       "      <th>Degree</th>\n",
       "      <th>Specialization</th>\n",
       "      <th>percentage marks obtained during graduation</th>\n",
       "      <th>year when graduation was completed</th>\n",
       "      <th>name of the school attended for class 12</th>\n",
       "      <th>education board for class 12</th>\n",
       "      <th>academic stream chosen in class 12</th>\n",
       "      <th>percentage marks scored in class 12</th>\n",
       "    </tr>\n",
       "  </thead>\n",
       "  <tbody>\n",
       "    <tr>\n",
       "      <th>0</th>\n",
       "      <td>1</td>\n",
       "      <td>Amit Sharma</td>\n",
       "      <td>Male</td>\n",
       "      <td>5/14/2002</td>\n",
       "      <td>23</td>\n",
       "      <td>6.69</td>\n",
       "      <td>Vivekananda Institute Of Professional Studies</td>\n",
       "      <td>Guru Gobind Singh Indraprastha University</td>\n",
       "      <td>B.C.A.</td>\n",
       "      <td>Computer Applications</td>\n",
       "      <td>53.83</td>\n",
       "      <td>2021</td>\n",
       "      <td>Holy Convent School</td>\n",
       "      <td>CBSE</td>\n",
       "      <td>Commerce</td>\n",
       "      <td>79.33</td>\n",
       "    </tr>\n",
       "    <tr>\n",
       "      <th>1</th>\n",
       "      <td>2</td>\n",
       "      <td>Pooja Verma</td>\n",
       "      <td>Female</td>\n",
       "      <td>8/25/1998</td>\n",
       "      <td>27</td>\n",
       "      <td>7.53</td>\n",
       "      <td>Asutosh College</td>\n",
       "      <td>Rajiv Gandhi Proudyogiki Vishwavidyalaya</td>\n",
       "      <td>B.E.</td>\n",
       "      <td>Biology</td>\n",
       "      <td>68.35</td>\n",
       "      <td>2020</td>\n",
       "      <td>Kishinchand Chellaram College</td>\n",
       "      <td>CBSE</td>\n",
       "      <td>Science</td>\n",
       "      <td>92.60</td>\n",
       "    </tr>\n",
       "    <tr>\n",
       "      <th>2</th>\n",
       "      <td>3</td>\n",
       "      <td>Rahul Kumar</td>\n",
       "      <td>Female</td>\n",
       "      <td>3/26/2002</td>\n",
       "      <td>23</td>\n",
       "      <td>7.70</td>\n",
       "      <td>St. Xavier'S College</td>\n",
       "      <td>Amity University</td>\n",
       "      <td>B.Com. (Hons.)</td>\n",
       "      <td>Finance</td>\n",
       "      <td>74.16</td>\n",
       "      <td>2022</td>\n",
       "      <td>Delhi Public School</td>\n",
       "      <td>CBSE</td>\n",
       "      <td>Commerce</td>\n",
       "      <td>85.33</td>\n",
       "    </tr>\n",
       "    <tr>\n",
       "      <th>3</th>\n",
       "      <td>4</td>\n",
       "      <td>Neha Agarwal</td>\n",
       "      <td>Male</td>\n",
       "      <td>8/15/1997</td>\n",
       "      <td>26</td>\n",
       "      <td>5.82</td>\n",
       "      <td>School Of Commerce</td>\n",
       "      <td>Jaypee Institute Of Information Technology</td>\n",
       "      <td>B.Tech</td>\n",
       "      <td>Electronics And Communication Engineering</td>\n",
       "      <td>68.00</td>\n",
       "      <td>2019</td>\n",
       "      <td>G.A.V. Public School</td>\n",
       "      <td>CBSE</td>\n",
       "      <td>Science (Non-Medical)</td>\n",
       "      <td>80.33</td>\n",
       "    </tr>\n",
       "    <tr>\n",
       "      <th>4</th>\n",
       "      <td>5</td>\n",
       "      <td>Rohan Das</td>\n",
       "      <td>Male</td>\n",
       "      <td>8/16/1999</td>\n",
       "      <td>25</td>\n",
       "      <td>6.80</td>\n",
       "      <td>Government Engineering College</td>\n",
       "      <td>Vellore Institute Of Technology</td>\n",
       "      <td>B.A. (Hons.)</td>\n",
       "      <td>Economics</td>\n",
       "      <td>64.24</td>\n",
       "      <td>2021</td>\n",
       "      <td>Summer Fields School</td>\n",
       "      <td>CBSE</td>\n",
       "      <td>Science (Medical)</td>\n",
       "      <td>67.60</td>\n",
       "    </tr>\n",
       "  </tbody>\n",
       "</table>\n",
       "</div>"
      ],
      "text/plain": [
       "   Roll_Number      fullName  Gender  BirthDate  age  MBA CGPA  \\\n",
       "0            1   Amit Sharma    Male  5/14/2002   23      6.69   \n",
       "1            2   Pooja Verma  Female  8/25/1998   27      7.53   \n",
       "2            3   Rahul Kumar  Female  3/26/2002   23      7.70   \n",
       "3            4  Neha Agarwal    Male  8/15/1997   26      5.82   \n",
       "4            5     Rohan Das    Male  8/16/1999   25      6.80   \n",
       "\n",
       "                              garduation college  \\\n",
       "0  Vivekananda Institute Of Professional Studies   \n",
       "1                                Asutosh College   \n",
       "2                           St. Xavier'S College   \n",
       "3                             School Of Commerce   \n",
       "4                 Government Engineering College   \n",
       "\n",
       "                                   University          Degree  \\\n",
       "0   Guru Gobind Singh Indraprastha University          B.C.A.   \n",
       "1    Rajiv Gandhi Proudyogiki Vishwavidyalaya            B.E.   \n",
       "2                            Amity University  B.Com. (Hons.)   \n",
       "3  Jaypee Institute Of Information Technology          B.Tech   \n",
       "4             Vellore Institute Of Technology    B.A. (Hons.)   \n",
       "\n",
       "                              Specialization  \\\n",
       "0                      Computer Applications   \n",
       "1                                    Biology   \n",
       "2                                    Finance   \n",
       "3  Electronics And Communication Engineering   \n",
       "4                                  Economics   \n",
       "\n",
       "   percentage marks obtained during graduation  \\\n",
       "0                                        53.83   \n",
       "1                                        68.35   \n",
       "2                                        74.16   \n",
       "3                                        68.00   \n",
       "4                                        64.24   \n",
       "\n",
       "   year when graduation was completed  \\\n",
       "0                                2021   \n",
       "1                                2020   \n",
       "2                                2022   \n",
       "3                                2019   \n",
       "4                                2021   \n",
       "\n",
       "  name of the school attended for class 12 education board for class 12  \\\n",
       "0                      Holy Convent School                         CBSE   \n",
       "1            Kishinchand Chellaram College                         CBSE   \n",
       "2                      Delhi Public School                         CBSE   \n",
       "3                     G.A.V. Public School                         CBSE   \n",
       "4                     Summer Fields School                         CBSE   \n",
       "\n",
       "  academic stream chosen in class 12  percentage marks scored in class 12  \n",
       "0                           Commerce                                79.33  \n",
       "1                            Science                                92.60  \n",
       "2                           Commerce                                85.33  \n",
       "3              Science (Non-Medical)                                80.33  \n",
       "4                  Science (Medical)                                67.60  "
      ]
     },
     "execution_count": 6,
     "metadata": {},
     "output_type": "execute_result"
    }
   ],
   "source": [
    "# 3.0 Reading data in pandas\n",
    "#     It has nothing to do with subsequent analysis/usage\n",
    "\n",
    "file_path = ('/home/ashok/Documents/csvrag/data/data.csv') # insert the path of the csv file\n",
    "#file_path = ('/home/ashok/Downloads/csvrag/data/data.csv') # insert the path of the csv file\n",
    "df = pd.read_csv(file_path)\n",
    "\n",
    "# 3.1 Preview the csv file\n",
    "df.head()"
   ]
  },
  {
   "cell_type": "markdown",
   "metadata": {},
   "source": [
    "### One way\n",
    "Directly read csv file"
   ]
  },
  {
   "cell_type": "code",
   "execution_count": 7,
   "metadata": {},
   "outputs": [],
   "source": [
    "# 4.0 PagedCSVReader displays each row in an LLM-friendly format. Each row as a separate document.\n",
    "csv_reader = PagedCSVReader()\n",
    "\n",
    "# 4.1\n",
    "reader = SimpleDirectoryReader( \n",
    "                                input_files=[file_path],\n",
    "                                file_extractor= {\".csv\": csv_reader}\n",
    "                               )\n",
    "\n",
    "# 4.2\n",
    "docs = reader.load_data()"
   ]
  },
  {
   "cell_type": "code",
   "execution_count": 8,
   "metadata": {},
   "outputs": [
    {
     "data": {
      "text/plain": [
       "500"
      ]
     },
     "metadata": {},
     "output_type": "display_data"
    },
    {
     "name": "stdout",
     "output_type": "stream",
     "text": [
      "\n",
      "============\n",
      "\n"
     ]
    },
    {
     "data": {
      "text/plain": [
       "[Document(id_='006fb625-5ad8-43ff-99a4-db50f152e3f2', embedding=None, metadata={'file_path': '/home/ashok/Documents/csvrag/data/data.csv', 'file_name': 'data.csv', 'file_type': 'text/csv', 'file_size': 96934, 'creation_date': '2025-03-23', 'last_modified_date': '2025-03-23'}, excluded_embed_metadata_keys=['file_name', 'file_type', 'file_size', 'creation_date', 'last_modified_date', 'last_accessed_date'], excluded_llm_metadata_keys=['file_name', 'file_type', 'file_size', 'creation_date', 'last_modified_date', 'last_accessed_date'], relationships={}, metadata_template='{key}: {value}', metadata_separator='\\n', text_resource=MediaResource(embeddings=None, data=None, text='Roll_Number: 1\\nfullName: Amit Sharma\\nGender: Male\\nBirthDate: 5/14/2002\\nage: 23\\nMBA CGPA: 6.69\\ngarduation college: Vivekananda Institute Of Professional Studies\\nUniversity: Guru Gobind Singh Indraprastha University\\nDegree: B.C.A.\\nSpecialization: Computer Applications\\npercentage marks obtained during graduation: 53.83\\nyear when graduation was completed: 2021\\nname of the school attended for class 12: Holy Convent School\\neducation board for class 12: CBSE\\nacademic stream chosen in class 12: Commerce\\npercentage marks scored in class 12: 79.33', path=None, url=None, mimetype=None), image_resource=None, audio_resource=None, video_resource=None, text_template='{metadata_str}\\n\\n{content}'),\n",
       " Document(id_='77343c46-ee74-496a-bd88-6efaaac4519a', embedding=None, metadata={'file_path': '/home/ashok/Documents/csvrag/data/data.csv', 'file_name': 'data.csv', 'file_type': 'text/csv', 'file_size': 96934, 'creation_date': '2025-03-23', 'last_modified_date': '2025-03-23'}, excluded_embed_metadata_keys=['file_name', 'file_type', 'file_size', 'creation_date', 'last_modified_date', 'last_accessed_date'], excluded_llm_metadata_keys=['file_name', 'file_type', 'file_size', 'creation_date', 'last_modified_date', 'last_accessed_date'], relationships={}, metadata_template='{key}: {value}', metadata_separator='\\n', text_resource=MediaResource(embeddings=None, data=None, text='Roll_Number: 2\\nfullName: Pooja Verma\\nGender: Female\\nBirthDate: 8/25/1998\\nage: 27\\nMBA CGPA: 7.53\\ngarduation college: Asutosh College\\nUniversity: Rajiv Gandhi Proudyogiki Vishwavidyalaya\\nDegree: B.E.\\nSpecialization: Biology\\npercentage marks obtained during graduation: 68.35\\nyear when graduation was completed: 2020\\nname of the school attended for class 12: Kishinchand Chellaram College\\neducation board for class 12: CBSE\\nacademic stream chosen in class 12: Science\\npercentage marks scored in class 12: 92.6', path=None, url=None, mimetype=None), image_resource=None, audio_resource=None, video_resource=None, text_template='{metadata_str}\\n\\n{content}')]"
      ]
     },
     "metadata": {},
     "output_type": "display_data"
    }
   ],
   "source": [
    "# 4.3 Look at Documents\n",
    "display(len(docs))\n",
    "\n",
    "print(\"\\n============\\n\")\n",
    "\n",
    "display(docs[:2])   # List of Document"
   ]
  },
  {
   "cell_type": "code",
   "execution_count": 9,
   "metadata": {},
   "outputs": [
    {
     "name": "stdout",
     "output_type": "stream",
     "text": [
      "Roll_Number: 1\n",
      "fullName: Amit Sharma\n",
      "Gender: Male\n",
      "BirthDate: 5/14/2002\n",
      "age: 23\n",
      "MBA CGPA: 6.69\n",
      "garduation college: Vivekananda Institute Of Professional Studies\n",
      "University: Guru Gobind Singh Indraprastha University\n",
      "Degree: B.C.A.\n",
      "Specialization: Computer Applications\n",
      "percentage marks obtained during graduation: 53.83\n",
      "year when graduation was completed: 2021\n",
      "name of the school attended for class 12: Holy Convent School\n",
      "education board for class 12: CBSE\n",
      "academic stream chosen in class 12: Commerce\n",
      "percentage marks scored in class 12: 79.33\n"
     ]
    }
   ],
   "source": [
    "# 4.4 To read only the text part and not the metadata:\n",
    "\n",
    "for doc in docs[:1]:\n",
    "    print(doc.text)"
   ]
  },
  {
   "cell_type": "markdown",
   "metadata": {},
   "source": [
    "### Vector Store"
   ]
  },
  {
   "cell_type": "code",
   "execution_count": 10,
   "metadata": {},
   "outputs": [],
   "source": [
    "# 5.0 Create client and a new collection\n",
    "#     The following is  in-memory database and NOT a persistent collection.\n",
    "#     chroma_client = chromadb.EphemeralClient()\n",
    "\n",
    "# 5.1 This creates persistent collection. A folder by name of chromadb\n",
    "#     is created and below that a chroma.sqlite3 database exists:\n",
    "\n",
    "chroma_client = chromadb.PersistentClient(path=\"/home/ashok/Documents/chroma_db\")"
   ]
  },
  {
   "cell_type": "code",
   "execution_count": 11,
   "metadata": {},
   "outputs": [
    {
     "data": {
      "text/plain": [
       "Collection(name=datastore)"
      ]
     },
     "execution_count": 11,
     "metadata": {},
     "output_type": "execute_result"
    }
   ],
   "source": [
    "# 5.2 Check if collection exists. If so delete it.\n",
    "#     Collections are the grouping mechanism for embeddings, documents, and metadata.\n",
    "#     Chromadb can have multiple collections\n",
    "\n",
    "if 'datastore' in chroma_client.list_collections():\n",
    "    chroma_client.delete_collection(\"datastore\")\n",
    "    chroma_collection = chroma_client.create_collection(\"datastore\")  \n",
    "else:\n",
    "    # Create collection afresh\n",
    "    chroma_collection = chroma_client.create_collection(\"datastore\")   \n",
    "\n",
    "# 5.3 Get collection information:\n",
    "chroma_collection    "
   ]
  },
  {
   "cell_type": "code",
   "execution_count": 12,
   "metadata": {},
   "outputs": [
    {
     "name": "stdout",
     "output_type": "stream",
     "text": [
      "\n",
      "Number of collections in chromadb\n"
     ]
    },
    {
     "data": {
      "text/plain": [
       "2"
      ]
     },
     "metadata": {},
     "output_type": "display_data"
    },
    {
     "name": "stdout",
     "output_type": "stream",
     "text": [
      "\n",
      "List of collections in chromadb\n"
     ]
    },
    {
     "data": {
      "text/plain": [
       "['datastore', 'quickstart']"
      ]
     },
     "metadata": {},
     "output_type": "display_data"
    },
    {
     "name": "stdout",
     "output_type": "stream",
     "text": [
      "\n",
      "Number of records in a collection\n"
     ]
    },
    {
     "data": {
      "text/plain": [
       "0"
      ]
     },
     "metadata": {},
     "output_type": "display_data"
    }
   ],
   "source": [
    "# 5.4 Some chroma_client related methods:\n",
    "print(\"\\nNumber of collections in chromadb\")\n",
    "display(chroma_client.count_collections())\n",
    "print(\"\\nList of collections in chromadb\")\n",
    "display(chroma_client.list_collections())\n",
    "print(\"\\nNumber of records in a collection\")\n",
    "display(chroma_collection.count())"
   ]
  },
  {
   "cell_type": "code",
   "execution_count": 13,
   "metadata": {},
   "outputs": [],
   "source": [
    "# 6.0 Set up a blank ChromaVectorStore and load in data\n",
    "vector_store = ChromaVectorStore(chroma_collection=chroma_collection)\n",
    "\n",
    "# 6.1\n",
    "storage_context = StorageContext.from_defaults(vector_store=vector_store)"
   ]
  },
  {
   "cell_type": "code",
   "execution_count": 14,
   "metadata": {},
   "outputs": [
    {
     "name": "stderr",
     "output_type": "stream",
     "text": [
      "Parsing nodes: 100%|████████████████████████████████████████████████████████████████| 500/500 [00:00<00:00, 8342.19it/s]\n",
      "Generating embeddings: 100%|██████████████████████████████████████████████████████████| 500/500 [00:08<00:00, 60.04it/s]\n"
     ]
    },
    {
     "name": "stdout",
     "output_type": "stream",
     "text": [
      "CPU times: user 1.12 s, sys: 266 ms, total: 1.38 s\n",
      "Wall time: 9.91 s\n"
     ]
    }
   ],
   "source": [
    "%%time\n",
    "\n",
    "# 6.2 Takes docs and storage context:\n",
    "#     Repeating this operation, doubles the number of vectors/records in the collection\n",
    "\n",
    "index = VectorStoreIndex.from_documents(\n",
    "                                         docs,\n",
    "                                         storage_context=storage_context,\n",
    "                                         show_progress= True                 # Show progress bar\n",
    "                                        )"
   ]
  },
  {
   "cell_type": "code",
   "execution_count": 115,
   "metadata": {},
   "outputs": [
    {
     "name": "stdout",
     "output_type": "stream",
     "text": [
      "\n",
      "Number of records in a collection\n"
     ]
    },
    {
     "data": {
      "text/plain": [
       "500"
      ]
     },
     "metadata": {},
     "output_type": "display_data"
    }
   ],
   "source": [
    "# 6.3\n",
    "print(\"\\nNumber of records in a collection\")\n",
    "display(chroma_collection.count())"
   ]
  },
  {
   "cell_type": "markdown",
   "metadata": {},
   "source": [
    "### QueryEngineTool"
   ]
  },
  {
   "cell_type": "code",
   "execution_count": 17,
   "metadata": {},
   "outputs": [],
   "source": [
    "# 7.2\n",
    "from llama_index.core.tools import QueryEngineTool\n",
    "# 7.0 Query Data\n",
    "vector_query_engine = index.as_query_engine()\n",
    "\n",
    "desc = \"Your job is to query the stored data from file data.csv but NOT to search the \"\n",
    "read_tool = QueryEngineTool.from_defaults(\n",
    "                                             query_engine=vector_query_engine,\n",
    "                                             description=( desc\n",
    "                                                           \n",
    "                                                         ),\n",
    "                                            )"
   ]
  },
  {
   "cell_type": "code",
   "execution_count": 20,
   "metadata": {},
   "outputs": [],
   "source": [
    "from tavily import AsyncTavilyClient\n",
    "\n",
    "async def search_jobs_on_web(query: str) -> str:\n",
    "    \"\"\"Given the degree and specialization, search for jobs on the web where he can apply as per his qualifications. You are not to search for any other information on the web.\"\"\"\n",
    "    client = AsyncTavilyClient(api_key=\"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\")\n",
    "    return str(await client.search(query))"
   ]
  },
  {
   "cell_type": "code",
   "execution_count": 24,
   "metadata": {},
   "outputs": [],
   "source": [
    "from llama_index.core.tools import FunctionTool\n",
    "\n",
    "search_web_tool = FunctionTool.from_defaults(fn= search_jobs_on_web)"
   ]
  },
  {
   "cell_type": "code",
   "execution_count": 27,
   "metadata": {},
   "outputs": [],
   "source": [
    "# 9.0\n",
    "\n",
    "from llama_index.core.agent import FunctionCallingAgentWorker\n",
    "from llama_index.core.agent import AgentRunner\n",
    "\n",
    "# 9.1 Define workers\n",
    "agent_worker = FunctionCallingAgentWorker.from_tools(\n",
    "                                                      [read_tool, search_web_tool], \n",
    "                                                      llm=llm, \n",
    "                                                      verbose= True,  # Try also False\n",
    "                                                    )\n",
    "\n",
    "# 9.2 Define supervisor\n",
    "agent = AgentRunner(agent_worker)"
   ]
  },
  {
   "cell_type": "code",
   "execution_count": 28,
   "metadata": {},
   "outputs": [
    {
     "name": "stdout",
     "output_type": "stream",
     "text": [
      "Added user message to memory: Give all details of 'Rahul Kumar' having age of 23 from the data in the database\n",
      "=== Calling Function ===\n",
      "Calling function: query_engine_tool with args: {\"input\": \"Rahul Kumar, 23\"}\n",
      "=== Function Output ===\n",
      "Rahul Kumar is 23 years old. He has an MBA CGPA of 7.7. He completed his B.Com. (Hons.) in Finance from St. Xavier's College, Amity University in 2022 with 74.16%. He attended Delhi Public School and scored 85.33% in class 12 from the Commerce stream under the CBSE board.\n",
      "=== LLM Response ===\n",
      "[{\"name\": \"search_jobs_on_web\", \"arguments\": {\"query\": \"MBA jobs for a 23 year old with a CGPA of 7.7\"}}]\n",
      "CPU times: user 69.4 ms, sys: 0 ns, total: 69.4 ms\n",
      "Wall time: 11.3 s\n"
     ]
    }
   ],
   "source": [
    "%%time\n",
    "\n",
    "# 10.0  Query the supervisor:\n",
    "response = agent.query(\n",
    "                      \"Give all details of 'Rahul Kumar' having age of 23 from the data in the database\"\n",
    "                      )"
   ]
  },
  {
   "cell_type": "code",
   "execution_count": 29,
   "metadata": {},
   "outputs": [
    {
     "name": "stdout",
     "output_type": "stream",
     "text": [
      "[{\"name\": \"search_jobs_on_web\", \"arguments\": {\"query\": \"MBA jobs for a 23 year old with a CGPA of 7.7\"}}]\n"
     ]
    }
   ],
   "source": [
    "print(response)"
   ]
  },
  {
   "cell_type": "code",
   "execution_count": 30,
   "metadata": {},
   "outputs": [
    {
     "name": "stdout",
     "output_type": "stream",
     "text": [
      "Added user message to memory: Give all details of 'Rahul Kumar' having age of 23 from the data in the database\n",
      "=== LLM Response ===\n",
      "Rahul Kumar is 23 years old. He has an MBA CGPA of 7.7. He completed his B.Com. (Hons.) in Finance from St. Xavier's College, Amity University in 2022 with 74.16%. He attended Delhi Public School and scored 85.33% in class 12 from the Commerce stream under the CBSE board.\n"
     ]
    }
   ],
   "source": [
    "response = agent.chat(\n",
    "                      \"Give all details of 'Rahul Kumar' having age of 23 from the data in the database\"\n",
    "                      )"
   ]
  },
  {
   "cell_type": "code",
   "execution_count": 32,
   "metadata": {},
   "outputs": [
    {
     "name": "stdout",
     "output_type": "stream",
     "text": [
      "Added user message to memory: Search the web to list some jobs for him\n",
      "=== Calling Function ===\n",
      "Calling function: search_jobs_on_web with args: {\"query\": \"MBA jobs for a 23 year old with a CGPA of 7.7\"}\n",
      "=== Function Output ===\n",
      "{'query': 'MBA jobs for a 23 year old with a CGPA of 7.7', 'follow_up_questions': None, 'answer': None, 'images': [], 'results': [{'title': 'Which universities should I target with a 7.7 CGPA?', 'url': 'https://www.reddit.com/r/Indians_StudyAbroad/comments/13y7j4a/which_universities_should_i_target_with_a_77_cgpa/', 'content': \"My_qualifications: I'm currently doing my B.Tech in Production and Industrial Engineering from IIT Delhi with a 7.7 CGPA (Class rank 14/78). I have 2 LoRs and a decent internship in equity research. I'm also expecting at least 330 in GRE.\", 'score': 0.3190052, 'raw_content': None}, {'title': 'r/MBA on Reddit: Is 7.5 CGPA in graduation bad?? Did I screw up my ...', 'url': 'https://www.reddit.com/r/MBA/comments/1bselus/is_75_cgpa_in_graduation_bad_did_i_screw_up_my/', 'content': \"Old. Q&A. MrJule • Fair chance ... [ One year gap], and 8.09 CGPA in graduation[ Bachelor's in Journalism and Mass communication] + 1-year work ex. ... Applying in Germany for MBA or similar programs with 3.4 CGPA out of 4 (the highest) upvote r/MBA. r/MBA. Learn about MBA programs, applying to them, and what life is like while in one and\", 'score': 0.21755393, 'raw_content': None}, {'title': 'Career in MBA: Scope, Opportunities, Salary Range - upGrad', 'url': 'https://www.upgrad.com/blog/career-in-mba/', 'content': 'The American Business School MBA with specialization. 23 Months; New Aivancity Paris MSc Artificial Intelligence ... There are estimated to be 505,000 new jobs for management professionals in the coming years. There are various MBA career options to choose from, as the job options open up for professionals. ... Top 22+ Highest Paying Jobs in', 'score': 0.2041994, 'raw_content': None}, {'title': 'Careers | Online Master of Business Administration | Tulane', 'url': 'https://online-business.tulane.edu/online-mba/careers/', 'content': 'There are a wide assortment of jobs for MBA graduates. According to the same GMAC survey, the median Master of Business Administration salary in the United States in 2021 was $115,000, though this amount varies. ... $ 101k per year. Median Salary. 4,054 . Job Openings. 46,209 . Currently Employed. 3.6% . Projected outlook $ 101k per year', 'score': 0.18055448, 'raw_content': None}, {'title': 'The myth behind CGPA, How much do you actually need? A 3rd ... - LinkedIn', 'url': 'https://www.linkedin.com/pulse/myth-behind-cgpa-how-much-do-you-actually-need-disaster-thota', 'content': \"CGPA cutoff: 7+ (almost all companies, few even 6+) Seriously don't waste your time trying to score high in ECE subjects. It's not worth it. 8+ is ideal, 7+ will do.\", 'score': 0.11282495, 'raw_content': None}], 'response_time': 1.63}\n",
      "=== LLM Response ===\n",
      "Here are some job options for Rahul Kumar:\n",
      "\n",
      "1. **Management Professionals**: There are estimated to be 505,000 new jobs for management professionals in the coming years. This field offers various career options for MBA graduates as the job market opens up for professionals with this qualification. [Source](https://www.upgrad.com/blog/career-in-mba/)\n",
      "\n",
      "2. **General MBA Graduate Roles**: MBA graduates have a wide assortment of job opportunities available to them. According to a GMAC survey, the median Master of Business Administration salary in the United States in 2021 was $115,000, although this amount can vary. [Source](https://online-business.tulane.edu/online-mba/careers/)\n",
      "\n",
      "These options provide a range of opportunities for Rahul Kumar to consider based on his MBA qualification and CGPA.\n"
     ]
    }
   ],
   "source": [
    "response = agent.chat(\"Search the web to list some jobs for him\")"
   ]
  },
  {
   "cell_type": "code",
   "execution_count": 33,
   "metadata": {},
   "outputs": [
    {
     "name": "stdout",
     "output_type": "stream",
     "text": [
      "Here are some job options for Rahul Kumar:\n",
      "\n",
      "1. **Management Professionals**: There are estimated to be 505,000 new jobs for management professionals in the coming years. This field offers various career options for MBA graduates as the job market opens up for professionals with this qualification. [Source](https://www.upgrad.com/blog/career-in-mba/)\n",
      "\n",
      "2. **General MBA Graduate Roles**: MBA graduates have a wide assortment of job opportunities available to them. According to a GMAC survey, the median Master of Business Administration salary in the United States in 2021 was $115,000, although this amount can vary. [Source](https://online-business.tulane.edu/online-mba/careers/)\n",
      "\n",
      "These options provide a range of opportunities for Rahul Kumar to consider based on his MBA qualification and CGPA.\n"
     ]
    }
   ],
   "source": [
    "print(response)"
   ]
  },
  {
   "cell_type": "code",
   "execution_count": 137,
   "metadata": {},
   "outputs": [
    {
     "name": "stdout",
     "output_type": "stream",
     "text": [
      "Added user message to memory: Extract Degree and Specialization of Rahul Kumar having age of 23 from the Database. Then search the web where he can apply for jobs.\n",
      "=== Calling Function ===\n",
      "Calling function: query_engine_tool with args: {\"input\": \"Extract Degree and Specialization of Rahul Kumar having age of 23\"}\n",
      "=== Function Output ===\n",
      "B.Com. (Hons.) and Finance\n",
      "=== Calling Function ===\n",
      "Calling function: search_jobs_on_web with args: {\"query\": \"Jobs for B.Com. (Hons.) and Finance\"}\n",
      "=== Function Output ===\n",
      "{'query': 'Jobs for B.Com. (Hons.) and Finance', 'follow_up_questions': None, 'answer': None, 'images': [], 'results': [{'title': 'Bcom Hons Financial Management Jobs, Employment - Indeed', 'url': 'https://www.indeed.com/q-bcom-hons-financial-management-jobs.html', 'content': '213 Bcom Hons Financial Management jobs available on Indeed.com. Apply to Director of Financial Planning and Analysis, Financial Analyst, Senior Principal Consultant and more! ... As a CBRE Finance Analyst, you will apply basic cash and accrual accounting fundamentals to prepare, evaluate, maintain, and deliver complete and accurate financial', 'score': 0.8116913, 'raw_content': None}, {'title': 'Jobs for BCom Graduates: Best Accounting and Finance Jobs', 'url': 'https://imarticus.org/blog/jobs-for-bcom-graduates-best-accounting-and-finance-jobs/', 'content': 'On top of that come the courses under ACCA or any other relevant certification. Therefore, one can increase his chances of employability while he can access international jobs in accounting and finance. Best Jobs for BCom Graduates in Accounting and Finance Entry-Level Accounting Jobs for Freshers. Freshers holding a BCom degree can opt for:', 'score': 0.685971, 'raw_content': None}, {'title': '18 Jobs You Can Get With a Bachelor of Commerce Degree', 'url': 'https://www.indeed.com/career-advice/finding-a-job/bachelor-of-commerce-jobs', 'content': \"Commerce roles are found in sales, marketing, advertising or finance. Finding a job in commerce begins with researching the sectors where you can work and matching yourself to the right job. In this article, we list 18 jobs you can get with a bachelor's degree in commerce (BCom) along with current salary expectations and a brief explanation of\", 'score': 0.5596998, 'raw_content': None}, {'title': \"Top 10 jobs for finance majors and who's hiring - Handshake\", 'url': 'https://joinhandshake.com/blog/students/top-jobs-for-finance-majors/', 'content': 'The median salary for finance jobs was $76,570 as of May 2021 — well above the national average of ($45,760) for all professions. However, salaries largely depend on the job title. For example, the median pay for financial analysts is $95,570 per year.', 'score': 0.19845259, 'raw_content': None}, {'title': 'Ford Motor Company - DE Jobs', 'url': 'https://fordcareers.dejobs.org/locations/louisville-ky/jobs/', 'content': 'Ford Motor Company jobs, updated daily and verified by DirectEmployers Association.', 'score': 0.03927252, 'raw_content': None}], 'response_time': 1.93}\n",
      "=== LLM Response ===\n",
      "Rahul Kumar can apply for the following jobs:\n",
      "\n",
      "1. **Director of Financial Planning and Analysis** - This role involves strategic financial planning and analysis to support business decisions. It requires a strong background in finance and analytical skills.\n",
      "\n",
      "2. **Financial Analyst** - Financial analysts evaluate the financial health of organizations, including their investments and expenditures. They often work in banks, insurance companies, and other financial institutions.\n",
      "\n",
      "3. **Senior Principal Consultant** - This role involves providing expert advice and consulting services in the field of finance. It typically requires extensive experience and specialized knowledge.\n",
      "\n",
      "4. **Entry-Level Accounting Jobs** - For freshers holding a BCom degree, entry-level accounting roles are a good starting point. These jobs involve basic accounting tasks and can lead to more advanced roles with experience.\n",
      "\n",
      "5. **Jobs in Sales, Marketing, Advertising, or Finance** - With a Bachelor of Commerce degree, there are various roles available in sales, marketing, advertising, and finance. These roles can be in different sectors, and matching your skills to the right job is crucial.\n",
      "\n",
      "These opportunities provide a range of options for Rahul Kumar to start his career in finance and accounting.\n",
      "CPU times: user 132 ms, sys: 8.53 ms, total: 141 ms\n",
      "Wall time: 28.7 s\n"
     ]
    }
   ],
   "source": [
    "%%time\n",
    "\n",
    "# 10.0  Query the supervisor:\n",
    "response = agent.query(\n",
    "                      \"Extract Degree and Specialization of Rahul Kumar having age of 23 from the Database. Then search the web where he can apply for jobs.\"\n",
    "                      )"
   ]
  },
  {
   "cell_type": "code",
   "execution_count": 138,
   "metadata": {},
   "outputs": [
    {
     "name": "stdout",
     "output_type": "stream",
     "text": [
      "Rahul Kumar can apply for the following jobs:\n",
      "\n",
      "1. **Director of Financial Planning and Analysis** - This role involves strategic financial planning and analysis to support business decisions. It requires a strong background in finance and analytical skills.\n",
      "\n",
      "2. **Financial Analyst** - Financial analysts evaluate the financial health of organizations, including their investments and expenditures. They often work in banks, insurance companies, and other financial institutions.\n",
      "\n",
      "3. **Senior Principal Consultant** - This role involves providing expert advice and consulting services in the field of finance. It typically requires extensive experience and specialized knowledge.\n",
      "\n",
      "4. **Entry-Level Accounting Jobs** - For freshers holding a BCom degree, entry-level accounting roles are a good starting point. These jobs involve basic accounting tasks and can lead to more advanced roles with experience.\n",
      "\n",
      "5. **Jobs in Sales, Marketing, Advertising, or Finance** - With a Bachelor of Commerce degree, there are various roles available in sales, marketing, advertising, and finance. These roles can be in different sectors, and matching your skills to the right job is crucial.\n",
      "\n",
      "These opportunities provide a range of options for Rahul Kumar to start his career in finance and accounting.\n"
     ]
    }
   ],
   "source": [
    "print(response)"
   ]
  },
  {
   "cell_type": "code",
   "execution_count": 101,
   "metadata": {},
   "outputs": [
    {
     "name": "stdout",
     "output_type": "stream",
     "text": [
      "Added user message to memory: Given these details of Amit Sharma, web-search for relevant jobs\n",
      "=== Calling Function ===\n",
      "Calling function: search_web with args: {\"query\": \"data science jobs in Noida\"}\n",
      "=== Function Output ===\n",
      "{'query': 'data science jobs in Noida', 'follow_up_questions': None, 'answer': None, 'images': [], 'results': [{'title': 'data science jobs in Noida, Uttar Pradesh - Indeed', 'url': 'https://in.indeed.com/q-data-science-l-noida,-uttar-pradesh-jobs.html', 'content': \"data science jobs in Noida, Uttar Pradesh. Sort by: relevance - date. 800+ jobs. Data Analyst. Mavericks Education. ... Bachelor's degree in Data Science, Statistics, Mathematics, Computer Science, or a related field. 1-2 years of proven experience in a Data Analyst or similar role.\", 'score': 0.8795718, 'raw_content': None}, {'title': '4,000+ Data Science Jobs in Noida, Uttar Pradesh, India (72 new)', 'url': 'https://in.linkedin.com/jobs/data-science-jobs-noida', 'content': \"Today's top 4,000+ Data Science jobs in Noida, Uttar Pradesh, India. Leverage your professional network, and get hired. New Data Science jobs added daily.\", 'score': 0.8727061, 'raw_content': None}, {'title': '9,000+ Data Scientist Jobs in Noida - LinkedIn India', 'url': 'https://in.linkedin.com/jobs/data-scientist-jobs-noida', 'content': \"Today's top 9,000+ Data Scientist jobs in Noida. Leverage your professional network, and get hired. New Data Scientist jobs added daily. ... Data Science Specialist Data Science Specialist Pentair Noida, Uttar Pradesh, India 2 days ago Research Scientist\", 'score': 0.8646883, 'raw_content': None}, {'title': '2,518 data science jobs in Noida, March 2025 - Glassdoor', 'url': 'https://www.glassdoor.co.in/Job/noida-data-science-jobs-SRCH_IL.0,5_IC4477468_KO6,18.htm', 'content': 'Search Data science jobs in Noida with company ratings & salaries. 2,518 open jobs for Data science in Noida.', 'score': 0.86303437, 'raw_content': None}, {'title': '75 Data Scientist Job Vacancies in Noida, Uttar Pradesh - Indeed', 'url': 'https://in.indeed.com/q-data-scientist-l-noida,-uttar-pradesh-jobs.html', 'content': '82 Data Scientist jobs available in Noida, Uttar Pradesh on Indeed.com.', 'score': 0.843393, 'raw_content': None}], 'response_time': 2.09}\n",
      "=== LLM Response ===\n",
      "The search results for \"data science jobs in Noida\" are:\n",
      "\n",
      "1. Data Analyst at Mavericks Education (1-2 years of experience, Bachelor's degree in Data Science or related field)\n",
      "2. 4,000+ Data Science Jobs in Noida, Uttar Pradesh, India (72 new) on LinkedIn\n",
      "3. 9,000+ Data Scientist Jobs in Noida on LinkedIn\n",
      "4. 2,518 data science jobs in Noida, March 2025 on Glassdoor\n",
      "5. 75 Data Scientist Job Vacancies in Noida, Uttar Pradesh on Indeed\n",
      "\n",
      "Note: The scores and content of the search results are based on the output of the search engine.\n"
     ]
    }
   ],
   "source": [
    "# 10.0  Query the supervisor:\n",
    "response a= agent.query(\n",
    "                      \"Given these details of Amit Sharma, web-search for relevant jobs\"\n",
    "                      )"
   ]
  },
  {
   "cell_type": "code",
   "execution_count": 79,
   "metadata": {},
   "outputs": [
    {
     "name": "stdout",
     "output_type": "stream",
     "text": [
      "Added user message to memory: Give me Degree and Specialization of the student with full name as 'Rahul Kumar' from the database.\n",
      "=== Calling Function ===\n",
      "Calling function: query_engine_tool with args: {\"input\": \"Rahul Kumar\"}\n",
      "=== Function Output ===\n",
      "Male.\n",
      "=== LLM Response ===\n",
      "It seems like there was a mistake. The function `query_engine_tool` is used to query the database, but it doesn't return any information about the student's degree and specialization. It only extracts the gender from the database.\n",
      "\n",
      "To get the degree and specialization of the student, we need to use the `search_jobs_on_web` function. However, since we don't have any information about the student's job or degree, we can't search for it.\n",
      "\n",
      "If you have more information about the student, such as their job or degree, we can try to search for it.\n",
      "CPU times: user 27.4 ms, sys: 0 ns, total: 27.4 ms\n",
      "Wall time: 2.64 s\n"
     ]
    }
   ],
   "source": [
    "%%time\n",
    "\n",
    "# 10.0  Query the supervisor:\n",
    "response = agent.query(\n",
    "                      \"Give me Degree and Specialization of the student with full name as 'Rahul Kumar' from the database.\"\n",
    "                      )"
   ]
  },
  {
   "cell_type": "code",
   "execution_count": null,
   "metadata": {},
   "outputs": [],
   "source": [
    "# 10.0  Query the supervisor:\n",
    "response = agent.query(\n",
    "                      \"Given these details of Rahul Kumar, perform web-search for relevant jobs\"\n",
    "                      )"
   ]
  },
  {
   "cell_type": "code",
   "execution_count": null,
   "metadata": {},
   "outputs": [],
   "source": [
    "# 9.0\n",
    "from llama_index.core import ChatPromptTemplate\n",
    "from llama_index.core.llms import ChatMessage, MessageRole\n",
    "\n",
    "# 9.1 An ambiguous SYSTEM message\n",
    "message_templates = [\n",
    "                     ChatMessage(content=\"You are an expert system.\", role=MessageRole.SYSTEM),\n",
    "                     ChatMessage(\n",
    "                                 content=\"{query_str}\",\n",
    "                                 role=MessageRole.USER,\n",
    "                               ),\n",
    "                    ]\n",
    "# 9.2\n",
    "chat_template = ChatPromptTemplate(message_templates=message_templates)\n",
    "\n",
    "\n",
    "# 9.3\n",
    "query_str = \"Give me all details of the student with Roll Number 1 and full name as 'Amit Sharma' .\"\n",
    "\n",
    "\n",
    "# 9.4 Query Data with a general query without reference to any document\n",
    "query_engine = index.as_query_engine()\n",
    "query_engine.update_prompts(\n",
    "                            {\"response_synthesizer:text_qa_template\": chat_template }\n",
    "                            )\n",
    "\n",
    "\n",
    "#prompt = chat_template.format(topic=query_str)\n",
    "# 9.5\n",
    "response = query_engine.query(query_str)\n",
    "print(str(response))"
   ]
  },
  {
   "cell_type": "markdown",
   "metadata": {},
   "source": [
    "### Create Simple Query Engine"
   ]
  },
  {
   "cell_type": "code",
   "execution_count": 76,
   "metadata": {},
   "outputs": [],
   "source": [
    "# 7.0 Query Data\n",
    "query_engine_test = index.as_query_engine()"
   ]
  },
  {
   "cell_type": "code",
   "execution_count": 77,
   "metadata": {},
   "outputs": [
    {
     "name": "stdout",
     "output_type": "stream",
     "text": [
      "B.Com. (Hons.) in Finance\n",
      "CPU times: user 3.69 ms, sys: 10 ms, total: 13.7 ms\n",
      "Wall time: 539 ms\n"
     ]
    }
   ],
   "source": [
    "%%time\n",
    "\n",
    "\n",
    "response = query_engine_test.query(\"Give me Degree and Specialization of the student with full name as 'Rahul Kumar' .\")\n",
    "print(response)"
   ]
  },
  {
   "cell_type": "code",
   "execution_count": 148,
   "metadata": {},
   "outputs": [
    {
     "name": "stdout",
     "output_type": "stream",
     "text": [
      "B.Com. (Hons.) in Finance.\n"
     ]
    }
   ],
   "source": [
    "abc = print(response)"
   ]
  },
  {
   "cell_type": "code",
   "execution_count": 149,
   "metadata": {},
   "outputs": [],
   "source": [
    "abc"
   ]
  },
  {
   "cell_type": "code",
   "execution_count": 23,
   "metadata": {},
   "outputs": [
    {
     "name": "stdout",
     "output_type": "stream",
     "text": [
      "Roll_Number: 1\n",
      "fullName: Amit Sharma\n",
      "Gender: Male\n",
      "BirthDate: 5/14/2002\n",
      "age: 23\n",
      "MBA CGPA: 6.69\n",
      "garduation college: Vivekananda Institute Of Professional Studies\n",
      "University: Guru Gobind Singh Indraprastha University\n",
      "Degree: B.C.A.\n",
      "Specialization: Computer Applications\n",
      "percentage marks obtained during graduation: 53.83\n",
      "year when graduation was completed: 2021\n",
      "name of the school attended for class 12: Holy Convent School\n",
      "education board for class 12: CBSE\n",
      "academic stream chosen in class 12: Commerce\n",
      "percentage marks scored in class 12: 79.33\n",
      "year when class 12 was completed: 2018\n",
      "name of the school attended for class 10: Jaspal Kaur Public School\n",
      "education board for class 10: CBSE\n",
      "percentage marks scored in class 10: 85.16\n",
      "year when class 10 was completed: 2018\n"
     ]
    }
   ],
   "source": [
    "# 7.2\n",
    "print(response)"
   ]
  },
  {
   "cell_type": "markdown",
   "metadata": {},
   "source": [
    "## Completion prompt vs chat prompt\n",
    "\n",
    "The main difference between completion and chat prompts lies in their structure and intended use: completion prompts are single strings for text generation, while chat prompts are lists of messages (with roles like \"system,\" \"user,\" and \"assistant\") designed for conversational AI interactions.   \n",
    "Here's a more detailed breakdown:\n",
    "**Completion Prompts:**      \n",
    "\n",
    ">**Structure**: A single string of text, often used for tasks like generating text, completing sentences, or translating.       \n",
    ">**Example**: \"The quick brown fox jumps over...\"        \n",
    ">**Use Cases**: Text generation, code completion, and other tasks where the AI needs to extend or complete a given input.       \n",
    ">**API**: Uses the legacy /completions endpoint.       \n",
    "\n",
    "**Chat Prompts:**     \n",
    ">**Structure**: A list of messages, each with a \"role\" (e.g., \"system,\" \"user,\" \"assistant\") and \"content\".     \n",
    ">**Example**\n",
    "><pre>\n",
    "  [\n",
    "      {\"role\": \"system\", \"content\": \"You are a helpful assistant.\"},\n",
    "      {\"role\": \"user\", \"content\": \"What is the capital of France?\"},\n",
    "      {\"role\": \"assistant\", \"content\": \"The capital of France is Paris.\"}\n",
    "    ]\n",
    "    \n",
    "</pre>\n",
    ">**Use Cases**: Conversational AI, chatbots, and other applications where the AI needs to engage in a dialogue.      \n",
    ">**API**: Uses the /chat/completions endpoint.      \n",
    ">**Flexibility**: Offers more control and flexibility by allowing you to define the system's role, incorporate previous responses, and set the user's prompt     "
   ]
  },
  {
   "cell_type": "markdown",
   "metadata": {},
   "source": [
    "## Using prompt in queries\n",
    "Defining a custom prompt is as simple as creating a format string     \n",
    "See this [link](https://docs.llamaindex.ai/en/stable/module_guides/models/prompts/usage_pattern/)  and this [link](https://community.llamaindex.ai/how-do-i-add-a-custom-prompt-to-my-query-engine-i-want-to-pass-in-a-custom-promptlets-LKz2xGw8KCzv)"
   ]
  },
  {
   "cell_type": "code",
   "execution_count": 22,
   "metadata": {},
   "outputs": [
    {
     "name": "stdout",
     "output_type": "stream",
     "text": [
      "The CGPA score for Amit Sharma is 6.69.\n"
     ]
    }
   ],
   "source": [
    "# 8.0\n",
    "from llama_index.core import PromptTemplate\n",
    "\n",
    "# 8.1 Define your custom prompt with the new variable\n",
    "custom_prompt_str = (\n",
    "                      \"You are an expert Q&A system that is trusted around the world.\\n\"\n",
    "                      \"Your description as an agent is as follows: \\n\"\n",
    "                      \"{{chatbot_description}}\\n\"\n",
    "                             \"Always answer the query using the provided context information, and not prior knowledge.\\n\"\n",
    "                      \"Some rules to follow:\\n\"\n",
    "                          \"Never directly reference the given context in your answer.\\n\"\n",
    "                          \"Avoid statements like 'Based on the context, ...' or 'The context information ...' or anything along those lines.\\n\"\n",
    "                      \"\\n\"\n",
    "                     \"Context information is below.\\n\"\n",
    "                     \"---------------------\\n\"\n",
    "                     \"{{context_str}}\\n\"\n",
    "                     \"---------------------\\n\"\n",
    "                        \"Given the context information and not prior knowledge, answer the query.\\n\"\n",
    "                        \"Query: {{query_str}}\\n\"\n",
    "                        \"Answer: \"\n",
    "                  )\n",
    "\n",
    "\n",
    "# 8.2 Create a PromptTemplate with your custom prompt\n",
    "custom_prompt = PromptTemplate(custom_prompt_str)\n",
    "\n",
    "\n",
    "# 8.3 Update the prompts of your query engine\n",
    "query_engine.update_prompts(\n",
    "                              {\"response_synthesizer:text_qa_template\": custom_prompt}\n",
    "                           )\n",
    "\n",
    "# 8.4 Now you can make a query with your query engine\n",
    "query_str = \"Give me CGPA score of student with Roll Number 1 and full name as 'Amit Sharma' .\"\n",
    "response = query_engine.query(query_str)\n",
    "\n",
    "# 8.5 Print the response\n",
    "print(str(response))"
   ]
  },
  {
   "cell_type": "markdown",
   "metadata": {},
   "source": [
    "## Chatting with data"
   ]
  },
  {
   "cell_type": "code",
   "execution_count": 30,
   "metadata": {},
   "outputs": [
    {
     "name": "stdout",
     "output_type": "stream",
     "text": [
      "I don't have any information about a specific student with roll number 1 and full name as \"Amit Sharma\". I'm a large language model, I don't have access to personal data or records of individual students. My training data is general knowledge and doesn't include specific details about individuals.\n",
      "\n",
      "If you're looking for information about a particular student, it's likely that the information would be stored in a school or university database, or perhaps in a student information system (SIS). I wouldn't be able to provide you with any details without more context or access to those systems.\n"
     ]
    }
   ],
   "source": [
    "# 9.0\n",
    "from llama_index.core import ChatPromptTemplate\n",
    "from llama_index.core.llms import ChatMessage, MessageRole\n",
    "\n",
    "# 9.1 An ambiguous SYSTEM message\n",
    "message_templates = [\n",
    "                     ChatMessage(content=\"You are an expert system.\", role=MessageRole.SYSTEM),\n",
    "                     ChatMessage(\n",
    "                                 content=\"{query_str}\",\n",
    "                                 role=MessageRole.USER,\n",
    "                               ),\n",
    "                    ]\n",
    "# 9.2\n",
    "chat_template = ChatPromptTemplate(message_templates=message_templates)\n",
    "\n",
    "\n",
    "# 9.3\n",
    "query_str = \"Give me all details of the student with Roll Number 1 and full name as 'Amit Sharma' .\"\n",
    "\n",
    "\n",
    "# 9.4 Query Data with a general query without reference to any document\n",
    "query_engine = index.as_query_engine()\n",
    "query_engine.update_prompts(\n",
    "                            {\"response_synthesizer:text_qa_template\": chat_template }\n",
    "                            )\n",
    "\n",
    "\n",
    "#prompt = chat_template.format(topic=query_str)\n",
    "# 9.5\n",
    "response = query_engine.query(query_str)\n",
    "print(str(response))"
   ]
  },
  {
   "cell_type": "code",
   "execution_count": 25,
   "metadata": {},
   "outputs": [],
   "source": [
    "# 10.0 A better question\n",
    "\n",
    "chat_engine = index.as_chat_engine(chat_mode=\"condense_question\", verbose=True)\n",
    "response = chat_engine.chat(\"Give me CGPA score of student with Roll Number 1 and full name as 'Amit Sharma'\")\n",
    "print(str(response))"
   ]
  },
  {
   "cell_type": "code",
   "execution_count": 28,
   "metadata": {},
   "outputs": [
    {
     "name": "stdout",
     "output_type": "stream",
     "text": [
      "Querying with: What is the name of the school that Amit Sharma, a student with a CGPA score of 6.69 and roll number 1, attended for his class 12 exams?\n",
      "Holy Convent School\n"
     ]
    }
   ],
   "source": [
    "# 10.1 Follow up query\n",
    "response = chat_engine.chat(\"What was the name of the school he attended for class 12?\")\n",
    "print(str(response))"
   ]
  },
  {
   "cell_type": "markdown",
   "metadata": {},
   "source": [
    "### Define SYSTEM and USE prompt separately"
   ]
  },
  {
   "cell_type": "code",
   "execution_count": 32,
   "metadata": {},
   "outputs": [
    {
     "name": "stdout",
     "output_type": "stream",
     "text": [
      "Roll Number 1 belongs to Amit Sharma. He is a male student born on May 14, 2002. His age is 23 years old. Amit Sharma graduated from Vivekananda Institute Of Professional Studies with a degree in B.C.A. under the Computer Applications specialization. During his graduation, he scored 53.83% marks and completed his studies in the year 2021. In class 12, Amit attended Holy Convent School, achieved 79.33% marks, and graduated in Commerce stream. He also attended Jaspal Kaur Public School for class 10, scoring 85.16% marks, and completed his class 10 education in 2018.\n"
     ]
    }
   ],
   "source": [
    "# 11.0\n",
    "from llama_index.core import ChatPromptTemplate\n",
    "from llama_index.core.llms import ChatMessage, MessageRole\n",
    "\n",
    "\n",
    "# 8.1 Define your SYSTEM prompt with the new variable\n",
    "custom_prompt_str = (\n",
    "                      \"You are an expert Q&A system that is trusted around the world.\\n\"\n",
    "                      \"Your description as an agent is as follows: \\n\"\n",
    "                      \"{{chatbot_description}}\\n\"\n",
    "                             \"Always answer the query using the provided context information, and not prior knowledge.\\n\"\n",
    "                      \"Some rules to follow:\\n\"\n",
    "                          \"Never directly reference the given context in your answer.\\n\"\n",
    "                          \"Avoid statements like 'Based on the context, ...' or 'The context information ...' or anything along those lines.\\n\"\n",
    "                      \"\\n\"\n",
    "                     \"Context information is below.\\n\"\n",
    "                     \"---------------------\\n\"\n",
    "                     \"{{context_str}}\\n\"\n",
    "                     \"---------------------\\n\"\n",
    "                        \"Given the context information and not prior knowledge, answer the query.\\n\"\n",
    "                        \"Query: {{query_str}}\\n\"\n",
    "                        \"Answer: \"\n",
    "                  )\n",
    "\n",
    "\n",
    "# 8.2 Create a PromptTemplate with your custom prompt\n",
    "custom_prompt = PromptTemplate(custom_prompt_str)\n",
    "\n",
    "message_templates = [\n",
    "                     ChatMessage(content=custom_prompt_str, role=MessageRole.SYSTEM),\n",
    "                     ChatMessage(\n",
    "                                 content=\"Given the context information and not prior knowledge, answer the query: {query_str}\",\n",
    "                                 role=MessageRole.USER,\n",
    "                               ),\n",
    "                    ]\n",
    "\n",
    "chat_template = ChatPromptTemplate(message_templates= message_templates )\n",
    "\n",
    "# you can create message prompts (for chat API)\n",
    "#messages = chat_template.format_messages(topic= \"Cat and mouse\")\n",
    "\n",
    "# or easily convert to text prompt (for completion API)\n",
    "query_str = \"Give me all details of the student with Roll Number 1 and full name as 'Amit Sharma' .\"\n",
    "#prompt = chat_template.format(topic=query_str)\n",
    "#chat_template = ChatPromptTemplate(message_templates=message_templates)\n",
    "\n",
    "\n",
    "# Update the prompts of your query engine\n",
    "# 7.0 Query Data\n",
    "query_engine = index.as_query_engine()\n",
    "query_engine.update_prompts(\n",
    "                            {\"response_synthesizer:text_qa_template\": chat_template }\n",
    "                            )\n",
    "\n",
    "\n",
    "#prompt = chat_template.format(topic=query_str)\n",
    "\n",
    "response = query_engine.query(query_str)\n",
    "print(str(response))"
   ]
  },
  {
   "cell_type": "code",
   "execution_count": null,
   "metadata": {},
   "outputs": [],
   "source": [
    "##################"
   ]
  },
  {
   "cell_type": "code",
   "execution_count": null,
   "metadata": {},
   "outputs": [],
   "source": []
  }
 ],
 "metadata": {
  "kernelspec": {
   "display_name": "Python 3 (ipykernel)",
   "language": "python",
   "name": "python3"
  },
  "language_info": {
   "codemirror_mode": {
    "name": "ipython",
    "version": 3
   },
   "file_extension": ".py",
   "mimetype": "text/x-python",
   "name": "python",
   "nbconvert_exporter": "python",
   "pygments_lexer": "ipython3",
   "version": "3.10.12"
  }
 },
 "nbformat": 4,
 "nbformat_minor": 4
}
