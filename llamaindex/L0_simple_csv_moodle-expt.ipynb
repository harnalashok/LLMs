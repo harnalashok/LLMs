{
 "cells": [
  {
   "cell_type": "code",
   "execution_count": null,
   "metadata": {},
   "outputs": [],
   "source": [
    "# LAst amended: 17th March, 2025\n",
    "# RAG with csv files\n",
    "# USes ollama models, ollama embeddings and chroma vector store"
   ]
  },
  {
   "cell_type": "code",
   "execution_count": null,
   "metadata": {},
   "outputs": [],
   "source": [
    "# References:\n",
    "#            \n",
    "#            https://docs.llamaindex.ai/en/stable/examples/embeddings/ollama_embedding/\n",
    "#            https://docs.llamaindex.ai/en/stable/examples/llm/ollama/\n",
    "#            https://docs.llamaindex.ai/en/stable/module_guides/supporting_modules/settings/\n",
    "#            https://howaibuildthis.substack.com/p/llamaindex-how-to-use-index-correctly"
   ]
  },
  {
   "cell_type": "markdown",
   "metadata": {},
   "source": [
    "### Imports & Environment Variables "
   ]
  },
  {
   "cell_type": "code",
   "execution_count": 70,
   "metadata": {},
   "outputs": [
    {
     "name": "stdin",
     "output_type": "stream",
     "text": [
      "Once deleted, variables cannot be recovered. Proceed (y/[n])?  y\n"
     ]
    }
   ],
   "source": [
    "%reset"
   ]
  },
  {
   "cell_type": "code",
   "execution_count": 71,
   "metadata": {},
   "outputs": [],
   "source": [
    "# 1.0\n",
    "import nest_asyncio\n",
    "nest_asyncio.apply()"
   ]
  },
  {
   "cell_type": "code",
   "execution_count": 72,
   "metadata": {},
   "outputs": [],
   "source": [
    "# 1.0 SimpleDirectoryReader can also load metadata from a dictionary\n",
    "#     https://docs.llamaindex.ai/en/stable/module_guides/loading/simpledirectoryreader/\n",
    "from llama_index.core.readers import SimpleDirectoryReader\n",
    "from llama_index.readers.file import PagedCSVReader\n",
    "\n",
    "# 1.1 The Settings is a bundle of commonly used resources used \n",
    "#     during the indexing and querying stage in a LlamaIndex workflow/application.\n",
    "from llama_index.core import Settings\n",
    "\n",
    "# 1.2 If using LocalAI\n",
    "# https://docs.llamaindex.ai/en/stable/examples/llm/localai/\n",
    "from llama_index.llms.openai_like import OpenAILike\n",
    "\n",
    "# 1.3 Ollama related\n",
    "# https://docs.llamaindex.ai/en/stable/examples/embeddings/ollama_embedding/\n",
    "from llama_index.embeddings.ollama import OllamaEmbedding\n",
    "from llama_index.llms.ollama import Ollama\n",
    "\n",
    "\n",
    "# 1.4 Vector store related\n",
    "import chromadb\n",
    "from llama_index.core import StorageContext\n",
    "from llama_index.core import VectorStoreIndex\n",
    "from llama_index.vector_stores.chroma import ChromaVectorStore\n",
    "\n",
    "# 1.5 Misc\n",
    "import os\n",
    "import pandas as pd"
   ]
  },
  {
   "cell_type": "code",
   "execution_count": 73,
   "metadata": {},
   "outputs": [],
   "source": [
    "# 2.0 Define embedding function\n",
    "\n",
    "# embed_model = HuggingFaceEmbedding(\n",
    "#                                     model_name=\"BAAI/bge-base-en-v1.5\"\n",
    "#                                    )\n",
    "\n",
    "embed_model= OllamaEmbedding(\n",
    "                                    model_name=\"nomic-embed-text\",      # Using foundational model may be overkill\n",
    "                                    base_url=\"http://localhost:11434\",\n",
    "                                    #dimensions=512,\n",
    "                                    #ollama_additional_kwargs={\"mirostat\": 0},\n",
    "                                  )\n"
   ]
  },
  {
   "cell_type": "code",
   "execution_count": 125,
   "metadata": {},
   "outputs": [],
   "source": [
    "# 2.1 Settings can set the global configuration. Local configurations (transformations, LLMs, embedding models).\n",
    "#     These can be passed directly into the interfaces that make use of them.\n",
    "\n",
    "Settings.embed_model = embed_model\n",
    "\n",
    "\"\"\"\n",
    "Settings.llm = Ollama(\n",
    "                        model=\"llama3.2:latest\",\n",
    "                        request_timeout=120.0,\n",
    "                        temperature = 0.0,\n",
    "                        mirostat = 0)\n",
    "\"\"\"\n",
    "\n",
    "# Takes a lot of time but the output is better\n",
    "Settings.llm = OpenAILike(\n",
    "                          temperature=0.7,\n",
    "                          model=   \"gpt-3.5-turbo\", # \"llama-3.2-3b-instruct:q8_0\", # \"gpt-3.5-turbo\",  # \"gemma-3-27b-it\",  #          # Can be any name, not necessarily openai's gpt\n",
    "                          api_base=\"http://127.0.0.1:8080/v1\",\n",
    "                          api_key=\"fake\",\n",
    "                          timeout= 1000.0,\n",
    "                          is_chat_model = True,\n",
    "                          is_function_calling_model=True,\n",
    "                          )\n",
    "\n",
    "\n",
    "llm = Settings.llm"
   ]
  },
  {
   "cell_type": "markdown",
   "metadata": {},
   "source": [
    "### Load and Process CSV Data as Document"
   ]
  },
  {
   "cell_type": "code",
   "execution_count": 126,
   "metadata": {},
   "outputs": [
    {
     "data": {
      "text/html": [
       "<div>\n",
       "<style scoped>\n",
       "    .dataframe tbody tr th:only-of-type {\n",
       "        vertical-align: middle;\n",
       "    }\n",
       "\n",
       "    .dataframe tbody tr th {\n",
       "        vertical-align: top;\n",
       "    }\n",
       "\n",
       "    .dataframe thead th {\n",
       "        text-align: right;\n",
       "    }\n",
       "</style>\n",
       "<table border=\"1\" class=\"dataframe\">\n",
       "  <thead>\n",
       "    <tr style=\"text-align: right;\">\n",
       "      <th></th>\n",
       "      <th>Roll_Number</th>\n",
       "      <th>fullName</th>\n",
       "      <th>Gender</th>\n",
       "      <th>BirthDate</th>\n",
       "      <th>age</th>\n",
       "      <th>MBA CGPA</th>\n",
       "      <th>garduation college</th>\n",
       "      <th>University</th>\n",
       "      <th>Degree</th>\n",
       "      <th>Specialization</th>\n",
       "      <th>...</th>\n",
       "      <th>year when graduation was completed</th>\n",
       "      <th>name of the school attended for class 12</th>\n",
       "      <th>education board for class 12</th>\n",
       "      <th>academic stream chosen in class 12</th>\n",
       "      <th>percentage marks scored in class 12</th>\n",
       "      <th>year when class 12 was completed</th>\n",
       "      <th>name of the school attended for class 10</th>\n",
       "      <th>education board for class 10</th>\n",
       "      <th>percentage marks scored in class 10</th>\n",
       "      <th>year when class 10 was completed</th>\n",
       "    </tr>\n",
       "  </thead>\n",
       "  <tbody>\n",
       "    <tr>\n",
       "      <th>0</th>\n",
       "      <td>1</td>\n",
       "      <td>Amit Sharma</td>\n",
       "      <td>Male</td>\n",
       "      <td>5/14/2002</td>\n",
       "      <td>23</td>\n",
       "      <td>6.69</td>\n",
       "      <td>Vivekananda Institute Of Professional Studies</td>\n",
       "      <td>Guru Gobind Singh Indraprastha University</td>\n",
       "      <td>B.C.A.</td>\n",
       "      <td>Computer Applications</td>\n",
       "      <td>...</td>\n",
       "      <td>2021</td>\n",
       "      <td>Holy Convent School</td>\n",
       "      <td>CBSE</td>\n",
       "      <td>Commerce</td>\n",
       "      <td>79.33</td>\n",
       "      <td>2018</td>\n",
       "      <td>Jaspal Kaur Public School</td>\n",
       "      <td>CBSE</td>\n",
       "      <td>85.16</td>\n",
       "      <td>2018</td>\n",
       "    </tr>\n",
       "    <tr>\n",
       "      <th>1</th>\n",
       "      <td>2</td>\n",
       "      <td>Pooja Verma</td>\n",
       "      <td>Female</td>\n",
       "      <td>8/25/1998</td>\n",
       "      <td>27</td>\n",
       "      <td>7.53</td>\n",
       "      <td>Asutosh College</td>\n",
       "      <td>Rajiv Gandhi Proudyogiki Vishwavidyalaya</td>\n",
       "      <td>B.E.</td>\n",
       "      <td>Biology</td>\n",
       "      <td>...</td>\n",
       "      <td>2020</td>\n",
       "      <td>Kishinchand Chellaram College</td>\n",
       "      <td>CBSE</td>\n",
       "      <td>Science</td>\n",
       "      <td>92.60</td>\n",
       "      <td>2015</td>\n",
       "      <td>Delhi Public School</td>\n",
       "      <td>CBSE</td>\n",
       "      <td>89.30</td>\n",
       "      <td>2013</td>\n",
       "    </tr>\n",
       "    <tr>\n",
       "      <th>2</th>\n",
       "      <td>3</td>\n",
       "      <td>Rahul Kumar</td>\n",
       "      <td>Female</td>\n",
       "      <td>3/26/2002</td>\n",
       "      <td>23</td>\n",
       "      <td>7.70</td>\n",
       "      <td>St. Xavier'S College</td>\n",
       "      <td>Amity University</td>\n",
       "      <td>B.Com. (Hons.)</td>\n",
       "      <td>Finance</td>\n",
       "      <td>...</td>\n",
       "      <td>2022</td>\n",
       "      <td>Delhi Public School</td>\n",
       "      <td>CBSE</td>\n",
       "      <td>Commerce</td>\n",
       "      <td>85.33</td>\n",
       "      <td>2019</td>\n",
       "      <td>Delhi Public School</td>\n",
       "      <td>CBSE</td>\n",
       "      <td>91.67</td>\n",
       "      <td>2017</td>\n",
       "    </tr>\n",
       "    <tr>\n",
       "      <th>3</th>\n",
       "      <td>4</td>\n",
       "      <td>Neha Agarwal</td>\n",
       "      <td>Male</td>\n",
       "      <td>8/15/1997</td>\n",
       "      <td>26</td>\n",
       "      <td>5.82</td>\n",
       "      <td>School Of Commerce</td>\n",
       "      <td>Jaypee Institute Of Information Technology</td>\n",
       "      <td>B.Tech</td>\n",
       "      <td>Electronics And Communication Engineering</td>\n",
       "      <td>...</td>\n",
       "      <td>2019</td>\n",
       "      <td>G.A.V. Public School</td>\n",
       "      <td>CBSE</td>\n",
       "      <td>Science (Non-Medical)</td>\n",
       "      <td>80.33</td>\n",
       "      <td>2015</td>\n",
       "      <td>Carmel Convent Senior Secondary School</td>\n",
       "      <td>ICSE</td>\n",
       "      <td>72.20</td>\n",
       "      <td>2013</td>\n",
       "    </tr>\n",
       "    <tr>\n",
       "      <th>4</th>\n",
       "      <td>5</td>\n",
       "      <td>Rohan Das</td>\n",
       "      <td>Male</td>\n",
       "      <td>8/16/1999</td>\n",
       "      <td>25</td>\n",
       "      <td>6.80</td>\n",
       "      <td>Government Engineering College</td>\n",
       "      <td>Vellore Institute Of Technology</td>\n",
       "      <td>B.A. (Hons.)</td>\n",
       "      <td>Economics</td>\n",
       "      <td>...</td>\n",
       "      <td>2021</td>\n",
       "      <td>Summer Fields School</td>\n",
       "      <td>CBSE</td>\n",
       "      <td>Science (Medical)</td>\n",
       "      <td>67.60</td>\n",
       "      <td>2017</td>\n",
       "      <td>Salt Lake School</td>\n",
       "      <td>CBSE</td>\n",
       "      <td>83.60</td>\n",
       "      <td>2015</td>\n",
       "    </tr>\n",
       "  </tbody>\n",
       "</table>\n",
       "<p>5 rows × 21 columns</p>\n",
       "</div>"
      ],
      "text/plain": [
       "   Roll_Number      fullName  Gender  BirthDate  age  MBA CGPA  \\\n",
       "0            1   Amit Sharma    Male  5/14/2002   23      6.69   \n",
       "1            2   Pooja Verma  Female  8/25/1998   27      7.53   \n",
       "2            3   Rahul Kumar  Female  3/26/2002   23      7.70   \n",
       "3            4  Neha Agarwal    Male  8/15/1997   26      5.82   \n",
       "4            5     Rohan Das    Male  8/16/1999   25      6.80   \n",
       "\n",
       "                              garduation college  \\\n",
       "0  Vivekananda Institute Of Professional Studies   \n",
       "1                                Asutosh College   \n",
       "2                           St. Xavier'S College   \n",
       "3                             School Of Commerce   \n",
       "4                 Government Engineering College   \n",
       "\n",
       "                                   University          Degree  \\\n",
       "0   Guru Gobind Singh Indraprastha University          B.C.A.   \n",
       "1    Rajiv Gandhi Proudyogiki Vishwavidyalaya            B.E.   \n",
       "2                            Amity University  B.Com. (Hons.)   \n",
       "3  Jaypee Institute Of Information Technology          B.Tech   \n",
       "4             Vellore Institute Of Technology    B.A. (Hons.)   \n",
       "\n",
       "                              Specialization  ...  \\\n",
       "0                      Computer Applications  ...   \n",
       "1                                    Biology  ...   \n",
       "2                                    Finance  ...   \n",
       "3  Electronics And Communication Engineering  ...   \n",
       "4                                  Economics  ...   \n",
       "\n",
       "   year when graduation was completed  \\\n",
       "0                                2021   \n",
       "1                                2020   \n",
       "2                                2022   \n",
       "3                                2019   \n",
       "4                                2021   \n",
       "\n",
       "   name of the school attended for class 12 education board for class 12  \\\n",
       "0                       Holy Convent School                         CBSE   \n",
       "1             Kishinchand Chellaram College                         CBSE   \n",
       "2                       Delhi Public School                         CBSE   \n",
       "3                      G.A.V. Public School                         CBSE   \n",
       "4                      Summer Fields School                         CBSE   \n",
       "\n",
       "  academic stream chosen in class 12 percentage marks scored in class 12  \\\n",
       "0                           Commerce                               79.33   \n",
       "1                            Science                               92.60   \n",
       "2                           Commerce                               85.33   \n",
       "3              Science (Non-Medical)                               80.33   \n",
       "4                  Science (Medical)                               67.60   \n",
       "\n",
       "   year when class 12 was completed  name of the school attended for class 10  \\\n",
       "0                              2018                 Jaspal Kaur Public School   \n",
       "1                              2015                       Delhi Public School   \n",
       "2                              2019                       Delhi Public School   \n",
       "3                              2015    Carmel Convent Senior Secondary School   \n",
       "4                              2017                          Salt Lake School   \n",
       "\n",
       "  education board for class 10 percentage marks scored in class 10  \\\n",
       "0                         CBSE                               85.16   \n",
       "1                         CBSE                               89.30   \n",
       "2                         CBSE                               91.67   \n",
       "3                         ICSE                               72.20   \n",
       "4                         CBSE                               83.60   \n",
       "\n",
       "   year when class 10 was completed  \n",
       "0                              2018  \n",
       "1                              2013  \n",
       "2                              2017  \n",
       "3                              2013  \n",
       "4                              2015  \n",
       "\n",
       "[5 rows x 21 columns]"
      ]
     },
     "execution_count": 126,
     "metadata": {},
     "output_type": "execute_result"
    }
   ],
   "source": [
    "# 3.0 Reading data in pandas\n",
    "#     It has nothing to do with subsequent analysis/usage\n",
    "\n",
    "file_path = ('/home/ashok/Documents/csvrag/data/data.csv') # insert the path of the csv file\n",
    "#file_path = ('/home/ashok/Downloads/csvrag/data/data.csv') # insert the path of the csv file\n",
    "df = pd.read_csv(file_path)\n",
    "\n",
    "# 3.1 Preview the csv file\n",
    "df.head()"
   ]
  },
  {
   "cell_type": "markdown",
   "metadata": {},
   "source": [
    "### One way\n",
    "Directly read csv file"
   ]
  },
  {
   "cell_type": "code",
   "execution_count": 127,
   "metadata": {},
   "outputs": [],
   "source": [
    "# 4.0 PagedCSVReader displays each row in an LLM-friendly format. Each row as a separate document.\n",
    "csv_reader = PagedCSVReader()\n",
    "\n",
    "# 4.1\n",
    "reader = SimpleDirectoryReader( \n",
    "                                input_files=[file_path],\n",
    "                                file_extractor= {\".csv\": csv_reader}\n",
    "                               )\n",
    "\n",
    "# 4.2\n",
    "docs = reader.load_data()"
   ]
  },
  {
   "cell_type": "code",
   "execution_count": 128,
   "metadata": {},
   "outputs": [
    {
     "data": {
      "text/plain": [
       "500"
      ]
     },
     "metadata": {},
     "output_type": "display_data"
    },
    {
     "name": "stdout",
     "output_type": "stream",
     "text": [
      "\n",
      "============\n",
      "\n"
     ]
    },
    {
     "data": {
      "text/plain": [
       "[Document(id_='446f0ab1-cd04-4d64-8b88-f0914d9ff75a', embedding=None, metadata={'file_path': '/home/ashok/Documents/csvrag/data/data.csv', 'file_name': 'data.csv', 'file_type': 'text/csv', 'file_size': 122011, 'creation_date': '2025-03-18', 'last_modified_date': '2025-03-18'}, excluded_embed_metadata_keys=['file_name', 'file_type', 'file_size', 'creation_date', 'last_modified_date', 'last_accessed_date'], excluded_llm_metadata_keys=['file_name', 'file_type', 'file_size', 'creation_date', 'last_modified_date', 'last_accessed_date'], relationships={}, metadata_template='{key}: {value}', metadata_separator='\\n', text_resource=MediaResource(embeddings=None, data=None, text='Roll_Number: 1\\nfullName: Amit Sharma\\nGender: Male\\nBirthDate: 5/14/2002\\nage: 23\\nMBA CGPA: 6.69\\ngarduation college: Vivekananda Institute Of Professional Studies\\nUniversity: Guru Gobind Singh Indraprastha University\\nDegree: B.C.A.\\nSpecialization: Computer Applications\\npercentage marks obtained during graduation: 53.83\\nyear when graduation was completed: 2021\\nname of the school attended for class 12: Holy Convent School\\neducation board for class 12: CBSE\\nacademic stream chosen in class 12: Commerce\\npercentage marks scored in class 12: 79.33\\nyear when class 12 was completed: 2018\\nname of the school attended for class 10: Jaspal Kaur Public School\\neducation board for class 10: CBSE\\npercentage marks scored in class 10: 85.16\\nyear when class 10 was completed: 2018', path=None, url=None, mimetype=None), image_resource=None, audio_resource=None, video_resource=None, text_template='{metadata_str}\\n\\n{content}'),\n",
       " Document(id_='134ef01b-686e-41fd-9f90-918521e50c6e', embedding=None, metadata={'file_path': '/home/ashok/Documents/csvrag/data/data.csv', 'file_name': 'data.csv', 'file_type': 'text/csv', 'file_size': 122011, 'creation_date': '2025-03-18', 'last_modified_date': '2025-03-18'}, excluded_embed_metadata_keys=['file_name', 'file_type', 'file_size', 'creation_date', 'last_modified_date', 'last_accessed_date'], excluded_llm_metadata_keys=['file_name', 'file_type', 'file_size', 'creation_date', 'last_modified_date', 'last_accessed_date'], relationships={}, metadata_template='{key}: {value}', metadata_separator='\\n', text_resource=MediaResource(embeddings=None, data=None, text='Roll_Number: 2\\nfullName: Pooja Verma\\nGender: Female\\nBirthDate: 8/25/1998\\nage: 27\\nMBA CGPA: 7.53\\ngarduation college: Asutosh College\\nUniversity: Rajiv Gandhi Proudyogiki Vishwavidyalaya\\nDegree: B.E.\\nSpecialization: Biology\\npercentage marks obtained during graduation: 68.35\\nyear when graduation was completed: 2020\\nname of the school attended for class 12: Kishinchand Chellaram College\\neducation board for class 12: CBSE\\nacademic stream chosen in class 12: Science\\npercentage marks scored in class 12: 92.6\\nyear when class 12 was completed: 2015\\nname of the school attended for class 10: Delhi Public School\\neducation board for class 10: CBSE\\npercentage marks scored in class 10: 89.3\\nyear when class 10 was completed: 2013', path=None, url=None, mimetype=None), image_resource=None, audio_resource=None, video_resource=None, text_template='{metadata_str}\\n\\n{content}')]"
      ]
     },
     "metadata": {},
     "output_type": "display_data"
    }
   ],
   "source": [
    "# 4.3 Look at Documents\n",
    "display(len(docs))\n",
    "\n",
    "print(\"\\n============\\n\")\n",
    "\n",
    "display(docs[:2])   # List of Document"
   ]
  },
  {
   "cell_type": "code",
   "execution_count": 129,
   "metadata": {},
   "outputs": [
    {
     "name": "stdout",
     "output_type": "stream",
     "text": [
      "Roll_Number: 1\n",
      "fullName: Amit Sharma\n",
      "Gender: Male\n",
      "BirthDate: 5/14/2002\n",
      "age: 23\n",
      "MBA CGPA: 6.69\n",
      "garduation college: Vivekananda Institute Of Professional Studies\n",
      "University: Guru Gobind Singh Indraprastha University\n",
      "Degree: B.C.A.\n",
      "Specialization: Computer Applications\n",
      "percentage marks obtained during graduation: 53.83\n",
      "year when graduation was completed: 2021\n",
      "name of the school attended for class 12: Holy Convent School\n",
      "education board for class 12: CBSE\n",
      "academic stream chosen in class 12: Commerce\n",
      "percentage marks scored in class 12: 79.33\n",
      "year when class 12 was completed: 2018\n",
      "name of the school attended for class 10: Jaspal Kaur Public School\n",
      "education board for class 10: CBSE\n",
      "percentage marks scored in class 10: 85.16\n",
      "year when class 10 was completed: 2018\n"
     ]
    }
   ],
   "source": [
    "# 4.4 To read only the text part and not the metadata:\n",
    "\n",
    "for doc in docs[:1]:\n",
    "    print(doc.text)"
   ]
  },
  {
   "cell_type": "markdown",
   "metadata": {},
   "source": [
    "### Vector Store"
   ]
  },
  {
   "cell_type": "code",
   "execution_count": 130,
   "metadata": {},
   "outputs": [],
   "source": [
    "# 5.0 Create client and a new collection\n",
    "#     The following is  in-memory database and NOT a persistent collection.\n",
    "#     chroma_client = chromadb.EphemeralClient()\n",
    "\n",
    "# 5.1 This creates persistent collection. A folder by name of chromadb\n",
    "#     is created and below that a chroma.sqlite3 database exists:\n",
    "\n",
    "chroma_client = chromadb.PersistentClient(path=\"/home/ashok/Documents/chroma_db\")"
   ]
  },
  {
   "cell_type": "code",
   "execution_count": 131,
   "metadata": {},
   "outputs": [
    {
     "data": {
      "text/plain": [
       "Collection(name=datastore)"
      ]
     },
     "execution_count": 131,
     "metadata": {},
     "output_type": "execute_result"
    }
   ],
   "source": [
    "# 5.2 Check if collection exists. If so delete it.\n",
    "#     Collections are the grouping mechanism for embeddings, documents, and metadata.\n",
    "#     Chromadb can have multiple collections\n",
    "\n",
    "if 'datastore' in chroma_client.list_collections():\n",
    "    chroma_client.delete_collection(\"datastore\")\n",
    "    chroma_collection = chroma_client.create_collection(\"datastore\")  \n",
    "else:\n",
    "    # Create collection afresh\n",
    "    chroma_collection = chroma_client.create_collection(\"datastore\")   \n",
    "\n",
    "# 5.3 Get collection information:\n",
    "chroma_collection    "
   ]
  },
  {
   "cell_type": "code",
   "execution_count": 132,
   "metadata": {},
   "outputs": [
    {
     "name": "stdout",
     "output_type": "stream",
     "text": [
      "\n",
      "Number of collections in chromadb\n"
     ]
    },
    {
     "data": {
      "text/plain": [
       "2"
      ]
     },
     "metadata": {},
     "output_type": "display_data"
    },
    {
     "name": "stdout",
     "output_type": "stream",
     "text": [
      "\n",
      "List of collections in chromadb\n"
     ]
    },
    {
     "data": {
      "text/plain": [
       "['datastore', 'quickstart']"
      ]
     },
     "metadata": {},
     "output_type": "display_data"
    },
    {
     "name": "stdout",
     "output_type": "stream",
     "text": [
      "\n",
      "Number of records in a collection\n"
     ]
    },
    {
     "data": {
      "text/plain": [
       "0"
      ]
     },
     "metadata": {},
     "output_type": "display_data"
    }
   ],
   "source": [
    "# 5.4 Some chroma_client related methods:\n",
    "print(\"\\nNumber of collections in chromadb\")\n",
    "display(chroma_client.count_collections())\n",
    "print(\"\\nList of collections in chromadb\")\n",
    "display(chroma_client.list_collections())\n",
    "print(\"\\nNumber of records in a collection\")\n",
    "display(chroma_collection.count())"
   ]
  },
  {
   "cell_type": "code",
   "execution_count": 133,
   "metadata": {},
   "outputs": [],
   "source": [
    "# 6.0 Set up a blank ChromaVectorStore and load in data\n",
    "vector_store = ChromaVectorStore(chroma_collection=chroma_collection)\n",
    "\n",
    "# 6.1\n",
    "storage_context = StorageContext.from_defaults(vector_store=vector_store)"
   ]
  },
  {
   "cell_type": "code",
   "execution_count": 134,
   "metadata": {},
   "outputs": [
    {
     "name": "stderr",
     "output_type": "stream",
     "text": [
      "Parsing nodes: 100%|███████████████████████████████████████████████████████████████████████████████████████| 500/500 [00:00<00:00, 6890.25it/s]\n",
      "Generating embeddings: 100%|█████████████████████████████████████████████████████████████████████████████████| 500/500 [00:07<00:00, 66.07it/s]\n"
     ]
    },
    {
     "name": "stdout",
     "output_type": "stream",
     "text": [
      "CPU times: user 1.06 s, sys: 168 ms, total: 1.22 s\n",
      "Wall time: 8.51 s\n"
     ]
    }
   ],
   "source": [
    "%%time\n",
    "\n",
    "# 6.2 Takes docs and storage context:\n",
    "#     Repeating this operation, doubles the number of vectors/records in the collection\n",
    "\n",
    "index = VectorStoreIndex.from_documents(\n",
    "                                         docs,\n",
    "                                         storage_context=storage_context,\n",
    "                                         show_progress= True                 # Show progress bar\n",
    "                                        )"
   ]
  },
  {
   "cell_type": "code",
   "execution_count": 135,
   "metadata": {},
   "outputs": [
    {
     "name": "stdout",
     "output_type": "stream",
     "text": [
      "\n",
      "Number of records in a collection\n"
     ]
    },
    {
     "data": {
      "text/plain": [
       "500"
      ]
     },
     "metadata": {},
     "output_type": "display_data"
    }
   ],
   "source": [
    "# 6.3\n",
    "print(\"\\nNumber of records in a collection\")\n",
    "display(chroma_collection.count())"
   ]
  },
  {
   "cell_type": "markdown",
   "metadata": {},
   "source": [
    "### QueryEngineTool"
   ]
  },
  {
   "cell_type": "code",
   "execution_count": 136,
   "metadata": {},
   "outputs": [],
   "source": [
    "# 7.2\n",
    "from llama_index.core.tools import QueryEngineTool\n",
    "# 7.0 Query Data\n",
    "vector_query_engine = index.as_query_engine()\n",
    "vector_tool = QueryEngineTool.from_defaults(\n",
    "                                             query_engine=vector_query_engine,\n",
    "                                             description=(\n",
    "                                                           \"Useful for exracting specific information especially degree and specialization from the provided data. \\\n",
    "                                                            In extracting this information do not use web-search.\"\n",
    "                                                         ),\n",
    "                                            )\n"
   ]
  },
  {
   "cell_type": "code",
   "execution_count": 137,
   "metadata": {},
   "outputs": [],
   "source": [
    "from tavily import AsyncTavilyClient\n",
    "\n",
    "async def search_jobs_on_web(query: str) -> str:\n",
    "    \"\"\"Given the degree and specialization, search for jobs on the web as per that qualifications. You are not to search for any other information on the web.\"\"\"\n",
    "    client = AsyncTavilyClient(api_key=\"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\")\n",
    "    return str(await client.search(query))"
   ]
  },
  {
   "cell_type": "code",
   "execution_count": 138,
   "metadata": {},
   "outputs": [],
   "source": [
    "from llama_index.core.tools import FunctionTool\n",
    "\n",
    "search_web_tool = FunctionTool.from_defaults(fn=search_web)"
   ]
  },
  {
   "cell_type": "code",
   "execution_count": 139,
   "metadata": {},
   "outputs": [],
   "source": [
    "# 9.0\n",
    "\n",
    "from llama_index.core.agent import FunctionCallingAgentWorker\n",
    "from llama_index.core.agent import AgentRunner\n",
    "\n",
    "# 9.1 Define workers\n",
    "agent_worker = FunctionCallingAgentWorker.from_tools(\n",
    "                                                      [vector_tool, search_web_tool], \n",
    "                                                      llm=llm, \n",
    "                                                      verbose= True  # Try also False\n",
    "                                                    )\n",
    "\n",
    "# 9.2 Define supervisor\n",
    "agent = AgentRunner(agent_worker)"
   ]
  },
  {
   "cell_type": "code",
   "execution_count": 100,
   "metadata": {},
   "outputs": [
    {
     "name": "stdout",
     "output_type": "stream",
     "text": [
      "Added user message to memory: From the provided data, extract the degree and specialization of student with full name as 'Amit Sharma'\n",
      "=== Calling Function ===\n",
      "Calling function: query_engine_tool with args: {\"input\": \"Amit Sharma\"}\n",
      "=== Function Output ===\n",
      "Amit Sharma is a 23-year-old male with a graduation college of Vivekananda Institute Of Professional Studies, and he completed his degree in Computer Applications with a CGPA of 6.69.\n",
      "=== Calling Function ===\n",
      "Calling function: query_engine_tool with args: {\"input\": \"Amit Sharma\"}\n",
      "=== Function Output ===\n",
      "Amit Sharma is 23 years old.\n",
      "=== LLM Response ===\n",
      "None of the functions can be used to extract the degree and specialization of a student with a full name of 'Amit Sharma' because the provided function `query_engine_tool` does not return the degree and specialization information. It only returns the age of the student.\n",
      "CPU times: user 59.3 ms, sys: 0 ns, total: 59.3 ms\n",
      "Wall time: 1min 7s\n"
     ]
    }
   ],
   "source": [
    "%%time\n",
    "\n",
    "# 10.0  Query the supervisor:\n",
    "response = agent.query(\n",
    "                      \"From the provided data, extract the degree and specialization of student with full name as 'Amit Sharma'\"\n",
    "                      )"
   ]
  },
  {
   "cell_type": "code",
   "execution_count": 101,
   "metadata": {},
   "outputs": [
    {
     "name": "stdout",
     "output_type": "stream",
     "text": [
      "Added user message to memory: Given these details of Amit Sharma, web-search for relevant jobs\n",
      "=== Calling Function ===\n",
      "Calling function: search_web with args: {\"query\": \"data science jobs in Noida\"}\n",
      "=== Function Output ===\n",
      "{'query': 'data science jobs in Noida', 'follow_up_questions': None, 'answer': None, 'images': [], 'results': [{'title': 'data science jobs in Noida, Uttar Pradesh - Indeed', 'url': 'https://in.indeed.com/q-data-science-l-noida,-uttar-pradesh-jobs.html', 'content': \"data science jobs in Noida, Uttar Pradesh. Sort by: relevance - date. 800+ jobs. Data Analyst. Mavericks Education. ... Bachelor's degree in Data Science, Statistics, Mathematics, Computer Science, or a related field. 1-2 years of proven experience in a Data Analyst or similar role.\", 'score': 0.8795718, 'raw_content': None}, {'title': '4,000+ Data Science Jobs in Noida, Uttar Pradesh, India (72 new)', 'url': 'https://in.linkedin.com/jobs/data-science-jobs-noida', 'content': \"Today's top 4,000+ Data Science jobs in Noida, Uttar Pradesh, India. Leverage your professional network, and get hired. New Data Science jobs added daily.\", 'score': 0.8727061, 'raw_content': None}, {'title': '9,000+ Data Scientist Jobs in Noida - LinkedIn India', 'url': 'https://in.linkedin.com/jobs/data-scientist-jobs-noida', 'content': \"Today's top 9,000+ Data Scientist jobs in Noida. Leverage your professional network, and get hired. New Data Scientist jobs added daily. ... Data Science Specialist Data Science Specialist Pentair Noida, Uttar Pradesh, India 2 days ago Research Scientist\", 'score': 0.8646883, 'raw_content': None}, {'title': '2,518 data science jobs in Noida, March 2025 - Glassdoor', 'url': 'https://www.glassdoor.co.in/Job/noida-data-science-jobs-SRCH_IL.0,5_IC4477468_KO6,18.htm', 'content': 'Search Data science jobs in Noida with company ratings & salaries. 2,518 open jobs for Data science in Noida.', 'score': 0.86303437, 'raw_content': None}, {'title': '75 Data Scientist Job Vacancies in Noida, Uttar Pradesh - Indeed', 'url': 'https://in.indeed.com/q-data-scientist-l-noida,-uttar-pradesh-jobs.html', 'content': '82 Data Scientist jobs available in Noida, Uttar Pradesh on Indeed.com.', 'score': 0.843393, 'raw_content': None}], 'response_time': 2.09}\n",
      "=== LLM Response ===\n",
      "The search results for \"data science jobs in Noida\" are:\n",
      "\n",
      "1. Data Analyst at Mavericks Education (1-2 years of experience, Bachelor's degree in Data Science or related field)\n",
      "2. 4,000+ Data Science Jobs in Noida, Uttar Pradesh, India (72 new) on LinkedIn\n",
      "3. 9,000+ Data Scientist Jobs in Noida on LinkedIn\n",
      "4. 2,518 data science jobs in Noida, March 2025 on Glassdoor\n",
      "5. 75 Data Scientist Job Vacancies in Noida, Uttar Pradesh on Indeed\n",
      "\n",
      "Note: The scores and content of the search results are based on the output of the search engine.\n"
     ]
    }
   ],
   "source": [
    "# 10.0  Query the supervisor:\n",
    "response = agent.query(\n",
    "                      \"Given these details of Amit Sharma, web-search for relevant jobs\"\n",
    "                      )"
   ]
  },
  {
   "cell_type": "code",
   "execution_count": 140,
   "metadata": {},
   "outputs": [
    {
     "name": "stdout",
     "output_type": "stream",
     "text": [
      "Added user message to memory: From the provided data, extract the degree and specialization of student with full name as 'Rahul Kumar'\n",
      "=== LLM Response ===\n",
      "<|im_start|>assistant<|im_sep|>\n",
      "{'name': 'query_engine_tool', 'arguments': {'input': \"Rahul Kumar\"}}\n",
      "\n",
      "\n",
      "CPU times: user 344 ms, sys: 109 ms, total: 454 ms\n",
      "Wall time: 29min 19s\n"
     ]
    }
   ],
   "source": [
    "%%time\n",
    "\n",
    "# 10.0  Query the supervisor:\n",
    "response = agent.query(\n",
    "                      \"From the provided data, extract the degree and specialization of student with full name as 'Rahul Kumar'\"\n",
    "                      )"
   ]
  },
  {
   "cell_type": "code",
   "execution_count": null,
   "metadata": {},
   "outputs": [],
   "source": [
    "# 10.0  Query the supervisor:\n",
    "response = agent.query(\n",
    "                      \"Given these details of Rahul Kumar, perform web-search for relevant jobs\"\n",
    "                      )"
   ]
  },
  {
   "cell_type": "markdown",
   "metadata": {},
   "source": [
    "### Create Simple Query Engine"
   ]
  },
  {
   "cell_type": "code",
   "execution_count": 143,
   "metadata": {},
   "outputs": [],
   "source": [
    "# 7.0 Query Data\n",
    "query_engine_test = index.as_query_engine()"
   ]
  },
  {
   "cell_type": "code",
   "execution_count": 144,
   "metadata": {},
   "outputs": [
    {
     "name": "stdout",
     "output_type": "stream",
     "text": [
      "B.Com. (Hons.) in Finance.\n",
      "CPU times: user 19.7 ms, sys: 9.12 ms, total: 28.9 ms\n",
      "Wall time: 52.2 s\n"
     ]
    }
   ],
   "source": [
    "%%time\n",
    "\n",
    "\n",
    "response = query_engine_test.query(\"Give me Degree and Specialization of the student with full name as 'Rahul Kumar' .\")\n",
    "print(response)"
   ]
  },
  {
   "cell_type": "code",
   "execution_count": 148,
   "metadata": {},
   "outputs": [
    {
     "name": "stdout",
     "output_type": "stream",
     "text": [
      "B.Com. (Hons.) in Finance.\n"
     ]
    }
   ],
   "source": [
    "abc = print(response)"
   ]
  },
  {
   "cell_type": "code",
   "execution_count": 149,
   "metadata": {},
   "outputs": [],
   "source": [
    "abc"
   ]
  },
  {
   "cell_type": "code",
   "execution_count": 23,
   "metadata": {},
   "outputs": [
    {
     "name": "stdout",
     "output_type": "stream",
     "text": [
      "Roll_Number: 1\n",
      "fullName: Amit Sharma\n",
      "Gender: Male\n",
      "BirthDate: 5/14/2002\n",
      "age: 23\n",
      "MBA CGPA: 6.69\n",
      "garduation college: Vivekananda Institute Of Professional Studies\n",
      "University: Guru Gobind Singh Indraprastha University\n",
      "Degree: B.C.A.\n",
      "Specialization: Computer Applications\n",
      "percentage marks obtained during graduation: 53.83\n",
      "year when graduation was completed: 2021\n",
      "name of the school attended for class 12: Holy Convent School\n",
      "education board for class 12: CBSE\n",
      "academic stream chosen in class 12: Commerce\n",
      "percentage marks scored in class 12: 79.33\n",
      "year when class 12 was completed: 2018\n",
      "name of the school attended for class 10: Jaspal Kaur Public School\n",
      "education board for class 10: CBSE\n",
      "percentage marks scored in class 10: 85.16\n",
      "year when class 10 was completed: 2018\n"
     ]
    }
   ],
   "source": [
    "# 7.2\n",
    "print(response)"
   ]
  },
  {
   "cell_type": "markdown",
   "metadata": {},
   "source": [
    "## Completion prompt vs chat prompt\n",
    "\n",
    "The main difference between completion and chat prompts lies in their structure and intended use: completion prompts are single strings for text generation, while chat prompts are lists of messages (with roles like \"system,\" \"user,\" and \"assistant\") designed for conversational AI interactions.   \n",
    "Here's a more detailed breakdown:\n",
    "**Completion Prompts:**      \n",
    "\n",
    ">**Structure**: A single string of text, often used for tasks like generating text, completing sentences, or translating.       \n",
    ">**Example**: \"The quick brown fox jumps over...\"        \n",
    ">**Use Cases**: Text generation, code completion, and other tasks where the AI needs to extend or complete a given input.       \n",
    ">**API**: Uses the legacy /completions endpoint.       \n",
    "\n",
    "**Chat Prompts:**     \n",
    ">**Structure**: A list of messages, each with a \"role\" (e.g., \"system,\" \"user,\" \"assistant\") and \"content\".     \n",
    ">**Example**\n",
    "><pre>\n",
    "  [\n",
    "      {\"role\": \"system\", \"content\": \"You are a helpful assistant.\"},\n",
    "      {\"role\": \"user\", \"content\": \"What is the capital of France?\"},\n",
    "      {\"role\": \"assistant\", \"content\": \"The capital of France is Paris.\"}\n",
    "    ]\n",
    "    \n",
    "</pre>\n",
    ">**Use Cases**: Conversational AI, chatbots, and other applications where the AI needs to engage in a dialogue.      \n",
    ">**API**: Uses the /chat/completions endpoint.      \n",
    ">**Flexibility**: Offers more control and flexibility by allowing you to define the system's role, incorporate previous responses, and set the user's prompt     "
   ]
  },
  {
   "cell_type": "markdown",
   "metadata": {},
   "source": [
    "## Using prompt in queries\n",
    "Defining a custom prompt is as simple as creating a format string     \n",
    "See this [link](https://docs.llamaindex.ai/en/stable/module_guides/models/prompts/usage_pattern/)  and this [link](https://community.llamaindex.ai/how-do-i-add-a-custom-prompt-to-my-query-engine-i-want-to-pass-in-a-custom-promptlets-LKz2xGw8KCzv)"
   ]
  },
  {
   "cell_type": "code",
   "execution_count": 22,
   "metadata": {},
   "outputs": [
    {
     "name": "stdout",
     "output_type": "stream",
     "text": [
      "The CGPA score for Amit Sharma is 6.69.\n"
     ]
    }
   ],
   "source": [
    "# 8.0\n",
    "from llama_index.core import PromptTemplate\n",
    "\n",
    "# 8.1 Define your custom prompt with the new variable\n",
    "custom_prompt_str = (\n",
    "                      \"You are an expert Q&A system that is trusted around the world.\\n\"\n",
    "                      \"Your description as an agent is as follows: \\n\"\n",
    "                      \"{{chatbot_description}}\\n\"\n",
    "                             \"Always answer the query using the provided context information, and not prior knowledge.\\n\"\n",
    "                      \"Some rules to follow:\\n\"\n",
    "                          \"Never directly reference the given context in your answer.\\n\"\n",
    "                          \"Avoid statements like 'Based on the context, ...' or 'The context information ...' or anything along those lines.\\n\"\n",
    "                      \"\\n\"\n",
    "                     \"Context information is below.\\n\"\n",
    "                     \"---------------------\\n\"\n",
    "                     \"{{context_str}}\\n\"\n",
    "                     \"---------------------\\n\"\n",
    "                        \"Given the context information and not prior knowledge, answer the query.\\n\"\n",
    "                        \"Query: {{query_str}}\\n\"\n",
    "                        \"Answer: \"\n",
    "                  )\n",
    "\n",
    "\n",
    "# 8.2 Create a PromptTemplate with your custom prompt\n",
    "custom_prompt = PromptTemplate(custom_prompt_str)\n",
    "\n",
    "\n",
    "# 8.3 Update the prompts of your query engine\n",
    "query_engine.update_prompts(\n",
    "                              {\"response_synthesizer:text_qa_template\": custom_prompt}\n",
    "                           )\n",
    "\n",
    "# 8.4 Now you can make a query with your query engine\n",
    "query_str = \"Give me CGPA score of student with Roll Number 1 and full name as 'Amit Sharma' .\"\n",
    "response = query_engine.query(query_str)\n",
    "\n",
    "# 8.5 Print the response\n",
    "print(str(response))"
   ]
  },
  {
   "cell_type": "markdown",
   "metadata": {},
   "source": [
    "## Chatting with data"
   ]
  },
  {
   "cell_type": "code",
   "execution_count": 30,
   "metadata": {},
   "outputs": [
    {
     "name": "stdout",
     "output_type": "stream",
     "text": [
      "I don't have any information about a specific student with roll number 1 and full name as \"Amit Sharma\". I'm a large language model, I don't have access to personal data or records of individual students. My training data is general knowledge and doesn't include specific details about individuals.\n",
      "\n",
      "If you're looking for information about a particular student, it's likely that the information would be stored in a school or university database, or perhaps in a student information system (SIS). I wouldn't be able to provide you with any details without more context or access to those systems.\n"
     ]
    }
   ],
   "source": [
    "# 9.0\n",
    "from llama_index.core import ChatPromptTemplate\n",
    "from llama_index.core.llms import ChatMessage, MessageRole\n",
    "\n",
    "# 9.1 An ambiguous SYSTEM message\n",
    "message_templates = [\n",
    "                     ChatMessage(content=\"You are an expert system.\", role=MessageRole.SYSTEM),\n",
    "                     ChatMessage(\n",
    "                                 content=\"{query_str}\",\n",
    "                                 role=MessageRole.USER,\n",
    "                               ),\n",
    "                    ]\n",
    "# 9.2\n",
    "chat_template = ChatPromptTemplate(message_templates=message_templates)\n",
    "\n",
    "\n",
    "# 9.3\n",
    "query_str = \"Give me all details of the student with Roll Number 1 and full name as 'Amit Sharma' .\"\n",
    "\n",
    "\n",
    "# 9.4 Query Data with a general query without reference to any document\n",
    "query_engine = index.as_query_engine()\n",
    "query_engine.update_prompts(\n",
    "                            {\"response_synthesizer:text_qa_template\": chat_template }\n",
    "                            )\n",
    "\n",
    "\n",
    "#prompt = chat_template.format(topic=query_str)\n",
    "# 9.5\n",
    "response = query_engine.query(query_str)\n",
    "print(str(response))"
   ]
  },
  {
   "cell_type": "code",
   "execution_count": 25,
   "metadata": {},
   "outputs": [],
   "source": [
    "# 10.0 A better question\n",
    "\n",
    "chat_engine = index.as_chat_engine(chat_mode=\"condense_question\", verbose=True)\n",
    "response = chat_engine.chat(\"Give me CGPA score of student with Roll Number 1 and full name as 'Amit Sharma'\")\n",
    "print(str(response))"
   ]
  },
  {
   "cell_type": "code",
   "execution_count": 28,
   "metadata": {},
   "outputs": [
    {
     "name": "stdout",
     "output_type": "stream",
     "text": [
      "Querying with: What is the name of the school that Amit Sharma, a student with a CGPA score of 6.69 and roll number 1, attended for his class 12 exams?\n",
      "Holy Convent School\n"
     ]
    }
   ],
   "source": [
    "# 10.1 Follow up query\n",
    "response = chat_engine.chat(\"What was the name of the school he attended for class 12?\")\n",
    "print(str(response))"
   ]
  },
  {
   "cell_type": "markdown",
   "metadata": {},
   "source": [
    "### Define SYSTEM and USE prompt separately"
   ]
  },
  {
   "cell_type": "code",
   "execution_count": 32,
   "metadata": {},
   "outputs": [
    {
     "name": "stdout",
     "output_type": "stream",
     "text": [
      "Roll Number 1 belongs to Amit Sharma. He is a male student born on May 14, 2002. His age is 23 years old. Amit Sharma graduated from Vivekananda Institute Of Professional Studies with a degree in B.C.A. under the Computer Applications specialization. During his graduation, he scored 53.83% marks and completed his studies in the year 2021. In class 12, Amit attended Holy Convent School, achieved 79.33% marks, and graduated in Commerce stream. He also attended Jaspal Kaur Public School for class 10, scoring 85.16% marks, and completed his class 10 education in 2018.\n"
     ]
    }
   ],
   "source": [
    "# 11.0\n",
    "from llama_index.core import ChatPromptTemplate\n",
    "from llama_index.core.llms import ChatMessage, MessageRole\n",
    "\n",
    "\n",
    "# 8.1 Define your SYSTEM prompt with the new variable\n",
    "custom_prompt_str = (\n",
    "                      \"You are an expert Q&A system that is trusted around the world.\\n\"\n",
    "                      \"Your description as an agent is as follows: \\n\"\n",
    "                      \"{{chatbot_description}}\\n\"\n",
    "                             \"Always answer the query using the provided context information, and not prior knowledge.\\n\"\n",
    "                      \"Some rules to follow:\\n\"\n",
    "                          \"Never directly reference the given context in your answer.\\n\"\n",
    "                          \"Avoid statements like 'Based on the context, ...' or 'The context information ...' or anything along those lines.\\n\"\n",
    "                      \"\\n\"\n",
    "                     \"Context information is below.\\n\"\n",
    "                     \"---------------------\\n\"\n",
    "                     \"{{context_str}}\\n\"\n",
    "                     \"---------------------\\n\"\n",
    "                        \"Given the context information and not prior knowledge, answer the query.\\n\"\n",
    "                        \"Query: {{query_str}}\\n\"\n",
    "                        \"Answer: \"\n",
    "                  )\n",
    "\n",
    "\n",
    "# 8.2 Create a PromptTemplate with your custom prompt\n",
    "custom_prompt = PromptTemplate(custom_prompt_str)\n",
    "\n",
    "message_templates = [\n",
    "                     ChatMessage(content=custom_prompt_str, role=MessageRole.SYSTEM),\n",
    "                     ChatMessage(\n",
    "                                 content=\"Given the context information and not prior knowledge, answer the query: {query_str}\",\n",
    "                                 role=MessageRole.USER,\n",
    "                               ),\n",
    "                    ]\n",
    "\n",
    "chat_template = ChatPromptTemplate(message_templates= message_templates )\n",
    "\n",
    "# you can create message prompts (for chat API)\n",
    "#messages = chat_template.format_messages(topic= \"Cat and mouse\")\n",
    "\n",
    "# or easily convert to text prompt (for completion API)\n",
    "query_str = \"Give me all details of the student with Roll Number 1 and full name as 'Amit Sharma' .\"\n",
    "#prompt = chat_template.format(topic=query_str)\n",
    "#chat_template = ChatPromptTemplate(message_templates=message_templates)\n",
    "\n",
    "\n",
    "# Update the prompts of your query engine\n",
    "# 7.0 Query Data\n",
    "query_engine = index.as_query_engine()\n",
    "query_engine.update_prompts(\n",
    "                            {\"response_synthesizer:text_qa_template\": chat_template }\n",
    "                            )\n",
    "\n",
    "\n",
    "#prompt = chat_template.format(topic=query_str)\n",
    "\n",
    "response = query_engine.query(query_str)\n",
    "print(str(response))"
   ]
  },
  {
   "cell_type": "code",
   "execution_count": null,
   "metadata": {},
   "outputs": [],
   "source": [
    "##################"
   ]
  },
  {
   "cell_type": "code",
   "execution_count": null,
   "metadata": {},
   "outputs": [],
   "source": []
  }
 ],
 "metadata": {
  "kernelspec": {
   "display_name": "Python 3 (ipykernel)",
   "language": "python",
   "name": "python3"
  },
  "language_info": {
   "codemirror_mode": {
    "name": "ipython",
    "version": 3
   },
   "file_extension": ".py",
   "mimetype": "text/x-python",
   "name": "python",
   "nbconvert_exporter": "python",
   "pygments_lexer": "ipython3",
   "version": "3.10.12"
  }
 },
 "nbformat": 4,
 "nbformat_minor": 4
}
