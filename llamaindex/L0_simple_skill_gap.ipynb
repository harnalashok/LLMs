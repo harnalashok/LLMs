{
 "cells": [
  {
   "cell_type": "code",
   "execution_count": null,
   "metadata": {},
   "outputs": [],
   "source": [
    "# LAst amended: 26th March, 2025\n",
    "# RAG with csv files\n",
    "# USes ollama models, ollama embeddings and chroma vector store"
   ]
  },
  {
   "cell_type": "markdown",
   "metadata": {},
   "source": [
    "### Imports & Environment Variables "
   ]
  },
  {
   "cell_type": "code",
   "execution_count": 23,
   "metadata": {},
   "outputs": [],
   "source": [
    "# 1.0\n",
    "import nest_asyncio\n",
    "nest_asyncio.apply()"
   ]
  },
  {
   "cell_type": "code",
   "execution_count": 24,
   "metadata": {},
   "outputs": [],
   "source": [
    "# 1.0 SimpleDirectoryReader can also load metadata from a dictionary\n",
    "#     https://docs.llamaindex.ai/en/stable/module_guides/loading/simpledirectoryreader/\n",
    "from llama_index.core.readers import SimpleDirectoryReader\n",
    "from llama_index.readers.file import PagedCSVReader\n",
    "\n",
    "# 1.1 The Settings is a bundle of commonly used resources used \n",
    "#     during the indexing and querying stage in a LlamaIndex workflow/application.\n",
    "from llama_index.core import Settings\n",
    "\n",
    "# 1.2 If using LocalAI\n",
    "# https://docs.llamaindex.ai/en/stable/examples/llm/localai/\n",
    "#from llama_index.llms.openai_like import OpenAILike\n",
    "\n",
    "# 1.3 Ollama related\n",
    "# https://docs.llamaindex.ai/en/stable/examples/embeddings/ollama_embedding/\n",
    "from llama_index.embeddings.ollama import OllamaEmbedding\n",
    "#from llama_index.llms.ollama import Ollama\n",
    "\n",
    "\n",
    "# 1.4 Vector store related\n",
    "import chromadb\n",
    "from llama_index.core import StorageContext\n",
    "from llama_index.core import VectorStoreIndex\n",
    "from llama_index.vector_stores.chroma import ChromaVectorStore\n",
    "\n",
    "# 1.5 Misc\n",
    "import os\n",
    "import pandas as pd"
   ]
  },
  {
   "cell_type": "code",
   "execution_count": 25,
   "metadata": {},
   "outputs": [],
   "source": [
    "# 2.0 Define embedding function\n",
    "\n",
    "# embed_model = HuggingFaceEmbedding(\n",
    "#                                     model_name=\"BAAI/bge-base-en-v1.5\"\n",
    "#                                    )\n",
    "\n",
    "embed_model= OllamaEmbedding(\n",
    "                                    model_name=\"nomic-embed-text\",      # Using foundational model may be overkill\n",
    "                                    base_url=\"http://localhost:11434\",\n",
    "                                    #dimensions=512,\n",
    "                                    #ollama_additional_kwargs={\"mirostat\": 0},\n",
    "                                  )\n",
    "\n",
    "Settings.embed_model = embed_model"
   ]
  },
  {
   "cell_type": "code",
   "execution_count": 26,
   "metadata": {},
   "outputs": [],
   "source": [
    "# 2.1 Settings can set the global configuration. Local configurations (transformations, LLMs, embedding models).\n",
    "#     These can be passed directly into the interfaces that make use of them.\n",
    "\n",
    "## Very very fast and Excellent\n",
    "# pip install llama-index-llms-mistralai\n",
    "from llama_index.llms.mistralai import MistralAI\n",
    "llm = MistralAI(api_key=\"apikey\")\n",
    "Settings.llm = llm"
   ]
  },
  {
   "cell_type": "markdown",
   "metadata": {},
   "source": [
    "### Load and Process CSV Data as Document"
   ]
  },
  {
   "cell_type": "code",
   "execution_count": 27,
   "metadata": {},
   "outputs": [
    {
     "data": {
      "text/html": [
       "<div>\n",
       "<style scoped>\n",
       "    .dataframe tbody tr th:only-of-type {\n",
       "        vertical-align: middle;\n",
       "    }\n",
       "\n",
       "    .dataframe tbody tr th {\n",
       "        vertical-align: top;\n",
       "    }\n",
       "\n",
       "    .dataframe thead th {\n",
       "        text-align: right;\n",
       "    }\n",
       "</style>\n",
       "<table border=\"1\" class=\"dataframe\">\n",
       "  <thead>\n",
       "    <tr style=\"text-align: right;\">\n",
       "      <th></th>\n",
       "      <th>Roll_Number</th>\n",
       "      <th>fullName</th>\n",
       "      <th>Gender</th>\n",
       "      <th>BirthDate</th>\n",
       "      <th>age</th>\n",
       "      <th>MBA CGPA</th>\n",
       "      <th>garduation college</th>\n",
       "      <th>University</th>\n",
       "      <th>Degree</th>\n",
       "      <th>Specialization</th>\n",
       "      <th>percentage marks obtained during graduation</th>\n",
       "      <th>year when graduation was completed</th>\n",
       "      <th>name of the school attended for class 12</th>\n",
       "      <th>education board for class 12</th>\n",
       "      <th>academic stream chosen in class 12</th>\n",
       "      <th>percentage marks scored in class 12</th>\n",
       "    </tr>\n",
       "  </thead>\n",
       "  <tbody>\n",
       "    <tr>\n",
       "      <th>0</th>\n",
       "      <td>1</td>\n",
       "      <td>Amit Sharma</td>\n",
       "      <td>Male</td>\n",
       "      <td>5/14/2002</td>\n",
       "      <td>23</td>\n",
       "      <td>6.69</td>\n",
       "      <td>Vivekananda Institute Of Professional Studies</td>\n",
       "      <td>Guru Gobind Singh Indraprastha University</td>\n",
       "      <td>B.C.A.</td>\n",
       "      <td>Computer Applications</td>\n",
       "      <td>53.83</td>\n",
       "      <td>2021</td>\n",
       "      <td>Holy Convent School</td>\n",
       "      <td>CBSE</td>\n",
       "      <td>Commerce</td>\n",
       "      <td>79.33</td>\n",
       "    </tr>\n",
       "    <tr>\n",
       "      <th>1</th>\n",
       "      <td>2</td>\n",
       "      <td>Pooja Verma</td>\n",
       "      <td>Female</td>\n",
       "      <td>8/25/1998</td>\n",
       "      <td>27</td>\n",
       "      <td>7.53</td>\n",
       "      <td>Asutosh College</td>\n",
       "      <td>Rajiv Gandhi Proudyogiki Vishwavidyalaya</td>\n",
       "      <td>B.E.</td>\n",
       "      <td>Biology</td>\n",
       "      <td>68.35</td>\n",
       "      <td>2020</td>\n",
       "      <td>Kishinchand Chellaram College</td>\n",
       "      <td>CBSE</td>\n",
       "      <td>Science</td>\n",
       "      <td>92.60</td>\n",
       "    </tr>\n",
       "    <tr>\n",
       "      <th>2</th>\n",
       "      <td>3</td>\n",
       "      <td>Rahul Kumar</td>\n",
       "      <td>Female</td>\n",
       "      <td>3/26/2002</td>\n",
       "      <td>23</td>\n",
       "      <td>7.70</td>\n",
       "      <td>St. Xavier'S College</td>\n",
       "      <td>Amity University</td>\n",
       "      <td>B.Com. (Hons.)</td>\n",
       "      <td>Finance</td>\n",
       "      <td>74.16</td>\n",
       "      <td>2022</td>\n",
       "      <td>Delhi Public School</td>\n",
       "      <td>CBSE</td>\n",
       "      <td>Commerce</td>\n",
       "      <td>85.33</td>\n",
       "    </tr>\n",
       "    <tr>\n",
       "      <th>3</th>\n",
       "      <td>4</td>\n",
       "      <td>Neha Agarwal</td>\n",
       "      <td>Male</td>\n",
       "      <td>8/15/1997</td>\n",
       "      <td>26</td>\n",
       "      <td>5.82</td>\n",
       "      <td>School Of Commerce</td>\n",
       "      <td>Jaypee Institute Of Information Technology</td>\n",
       "      <td>B.Tech</td>\n",
       "      <td>Electronics And Communication Engineering</td>\n",
       "      <td>68.00</td>\n",
       "      <td>2019</td>\n",
       "      <td>G.A.V. Public School</td>\n",
       "      <td>CBSE</td>\n",
       "      <td>Science (Non-Medical)</td>\n",
       "      <td>80.33</td>\n",
       "    </tr>\n",
       "    <tr>\n",
       "      <th>4</th>\n",
       "      <td>5</td>\n",
       "      <td>Rohan Das</td>\n",
       "      <td>Male</td>\n",
       "      <td>8/16/1999</td>\n",
       "      <td>25</td>\n",
       "      <td>6.80</td>\n",
       "      <td>Government Engineering College</td>\n",
       "      <td>Vellore Institute Of Technology</td>\n",
       "      <td>B.A. (Hons.)</td>\n",
       "      <td>Economics</td>\n",
       "      <td>64.24</td>\n",
       "      <td>2021</td>\n",
       "      <td>Summer Fields School</td>\n",
       "      <td>CBSE</td>\n",
       "      <td>Science (Medical)</td>\n",
       "      <td>67.60</td>\n",
       "    </tr>\n",
       "  </tbody>\n",
       "</table>\n",
       "</div>"
      ],
      "text/plain": [
       "   Roll_Number      fullName  Gender  BirthDate  age  MBA CGPA  \\\n",
       "0            1   Amit Sharma    Male  5/14/2002   23      6.69   \n",
       "1            2   Pooja Verma  Female  8/25/1998   27      7.53   \n",
       "2            3   Rahul Kumar  Female  3/26/2002   23      7.70   \n",
       "3            4  Neha Agarwal    Male  8/15/1997   26      5.82   \n",
       "4            5     Rohan Das    Male  8/16/1999   25      6.80   \n",
       "\n",
       "                              garduation college  \\\n",
       "0  Vivekananda Institute Of Professional Studies   \n",
       "1                                Asutosh College   \n",
       "2                           St. Xavier'S College   \n",
       "3                             School Of Commerce   \n",
       "4                 Government Engineering College   \n",
       "\n",
       "                                   University          Degree  \\\n",
       "0   Guru Gobind Singh Indraprastha University          B.C.A.   \n",
       "1    Rajiv Gandhi Proudyogiki Vishwavidyalaya            B.E.   \n",
       "2                            Amity University  B.Com. (Hons.)   \n",
       "3  Jaypee Institute Of Information Technology          B.Tech   \n",
       "4             Vellore Institute Of Technology    B.A. (Hons.)   \n",
       "\n",
       "                              Specialization  \\\n",
       "0                      Computer Applications   \n",
       "1                                    Biology   \n",
       "2                                    Finance   \n",
       "3  Electronics And Communication Engineering   \n",
       "4                                  Economics   \n",
       "\n",
       "   percentage marks obtained during graduation  \\\n",
       "0                                        53.83   \n",
       "1                                        68.35   \n",
       "2                                        74.16   \n",
       "3                                        68.00   \n",
       "4                                        64.24   \n",
       "\n",
       "   year when graduation was completed  \\\n",
       "0                                2021   \n",
       "1                                2020   \n",
       "2                                2022   \n",
       "3                                2019   \n",
       "4                                2021   \n",
       "\n",
       "  name of the school attended for class 12 education board for class 12  \\\n",
       "0                      Holy Convent School                         CBSE   \n",
       "1            Kishinchand Chellaram College                         CBSE   \n",
       "2                      Delhi Public School                         CBSE   \n",
       "3                     G.A.V. Public School                         CBSE   \n",
       "4                     Summer Fields School                         CBSE   \n",
       "\n",
       "  academic stream chosen in class 12  percentage marks scored in class 12  \n",
       "0                           Commerce                                79.33  \n",
       "1                            Science                                92.60  \n",
       "2                           Commerce                                85.33  \n",
       "3              Science (Non-Medical)                                80.33  \n",
       "4                  Science (Medical)                                67.60  "
      ]
     },
     "execution_count": 27,
     "metadata": {},
     "output_type": "execute_result"
    }
   ],
   "source": [
    "# 3.0 Reading data in pandas\n",
    "#     It has nothing to do with subsequent analysis/usage\n",
    "\n",
    "file_path = ('/home/ashok/Documents/csvrag/data/data.csv') # insert the path of the csv file\n",
    "#file_path = ('/home/ashok/Downloads/csvrag/data/data.csv') # insert the path of the csv file\n",
    "df = pd.read_csv(file_path)"
   ]
  },
  {
   "cell_type": "markdown",
   "metadata": {},
   "source": [
    "### One way\n",
    "Directly read csv file"
   ]
  },
  {
   "cell_type": "code",
   "execution_count": 28,
   "metadata": {},
   "outputs": [],
   "source": [
    "# 4.0 PagedCSVReader displays each row in an LLM-friendly format. Each row as a separate document.\n",
    "csv_reader = PagedCSVReader()\n",
    "\n",
    "# 4.1\n",
    "reader = SimpleDirectoryReader( \n",
    "                                input_files=[file_path],\n",
    "                                file_extractor= {\".csv\": csv_reader}\n",
    "                               )\n",
    "\n",
    "# 4.2\n",
    "docs = reader.load_data()"
   ]
  },
  {
   "cell_type": "markdown",
   "metadata": {},
   "source": [
    "### Vector Store"
   ]
  },
  {
   "cell_type": "code",
   "execution_count": 31,
   "metadata": {},
   "outputs": [],
   "source": [
    "# 5.0 Create client and a new collection\n",
    "#     The following is  in-memory database and NOT a persistent collection.\n",
    "#     chroma_client = chromadb.EphemeralClient()\n",
    "\n",
    "# 5.1 This creates persistent collection. A folder by name of chromadb\n",
    "#     is created and below that a chroma.sqlite3 database exists:\n",
    "\n",
    "chroma_client = chromadb.PersistentClient(path=\"/home/ashok/Documents/chroma_db\")"
   ]
  },
  {
   "cell_type": "code",
   "execution_count": 32,
   "metadata": {},
   "outputs": [
    {
     "data": {
      "text/plain": [
       "Collection(name=datastore)"
      ]
     },
     "execution_count": 32,
     "metadata": {},
     "output_type": "execute_result"
    }
   ],
   "source": [
    "# 5.2 Check if collection exists. If so delete it.\n",
    "#     Collections are the grouping mechanism for embeddings, documents, and metadata.\n",
    "#     Chromadb can have multiple collections\n",
    "\n",
    "if 'datastore' in chroma_client.list_collections():\n",
    "    chroma_client.delete_collection(\"datastore\")\n",
    "    chroma_collection = chroma_client.create_collection(\"datastore\")  \n",
    "else:\n",
    "    # Create collection afresh\n",
    "    chroma_collection = chroma_client.create_collection(\"datastore\")   \n",
    "\n",
    "# 5.3 Get collection information:\n",
    "chroma_collection    "
   ]
  },
  {
   "cell_type": "code",
   "execution_count": 34,
   "metadata": {},
   "outputs": [],
   "source": [
    "# 6.0 Set up a blank ChromaVectorStore and load in data\n",
    "vector_store = ChromaVectorStore(chroma_collection=chroma_collection)\n",
    "\n",
    "# 6.1\n",
    "storage_context = StorageContext.from_defaults(vector_store=vector_store)"
   ]
  },
  {
   "cell_type": "code",
   "execution_count": 35,
   "metadata": {},
   "outputs": [
    {
     "name": "stderr",
     "output_type": "stream",
     "text": [
      "Parsing nodes: 100%|████████████████████████████████████████████████████████████████| 500/500 [00:00<00:00, 8437.75it/s]\n",
      "Generating embeddings: 100%|██████████████████████████████████████████████████████████| 500/500 [00:06<00:00, 76.84it/s]\n"
     ]
    },
    {
     "name": "stdout",
     "output_type": "stream",
     "text": [
      "CPU times: user 1.08 s, sys: 229 ms, total: 1.31 s\n",
      "Wall time: 7.99 s\n"
     ]
    }
   ],
   "source": [
    "# 6.2 Takes docs and storage context:\n",
    "#     Repeating this operation, doubles the number of vectors/records in the collection\n",
    "\n",
    "index = VectorStoreIndex.from_documents(\n",
    "                                         docs,\n",
    "                                         storage_context=storage_context,\n",
    "                                         show_progress= False                 # Show progress bar\n",
    "                                        )"
   ]
  },
  {
   "cell_type": "markdown",
   "metadata": {},
   "source": [
    "### QueryEngineTool"
   ]
  },
  {
   "cell_type": "code",
   "execution_count": 46,
   "metadata": {},
   "outputs": [],
   "source": [
    "# 7.2\n",
    "from llama_index.core.tools import QueryEngineTool\n",
    "# 7.0 Query Data\n",
    "vector_query_engine = index.as_query_engine()\n",
    "\n",
    "desc = \"Your job is to query the stored data from file data.csv but NOT to search the \"\n",
    "read_tool = QueryEngineTool.from_defaults(\n",
    "                                             query_engine=vector_query_engine,\n",
    "                                             description=( desc\n",
    "                                                           \n",
    "                                                         ),\n",
    "                                            )"
   ]
  },
  {
   "cell_type": "code",
   "execution_count": 47,
   "metadata": {},
   "outputs": [],
   "source": [
    "from tavily import AsyncTavilyClient\n",
    "\n",
    "async def search_jobs_on_web(query: str) -> str:\n",
    "    \"\"\"Given the degree and specialization, search for jobs on the web where he can apply as per his qualifications. You are not to search for any other information on the web.\"\"\"\n",
    "    client = AsyncTavilyClient(api_key=\"apikey\")\n",
    "    return str(await client.search(query))"
   ]
  },
  {
   "cell_type": "code",
   "execution_count": 48,
   "metadata": {},
   "outputs": [],
   "source": [
    "\n",
    "async def course_recommender(query: str) -> str:\n",
    "    \"\"\"Given the job requirments, recommend courses from the web .\"\"\"\n",
    "    client = AsyncTavilyClient(api_key=\"apikey\")\n",
    "    return str(await client.search(query))"
   ]
  },
  {
   "cell_type": "code",
   "execution_count": 49,
   "metadata": {},
   "outputs": [],
   "source": [
    "from llama_index.core.tools import FunctionTool\n",
    "\n",
    "search_web_tool = FunctionTool.from_defaults(fn= search_jobs_on_web)\n",
    "course_recommender_tool = FunctionTool.from_defaults(fn=course_recommender)"
   ]
  },
  {
   "cell_type": "code",
   "execution_count": 50,
   "metadata": {},
   "outputs": [],
   "source": [
    "# 9.0\n",
    "\n",
    "from llama_index.core.agent import FunctionCallingAgentWorker\n",
    "from llama_index.core.agent import AgentRunner\n",
    "\n",
    "# 9.1 Define workers\n",
    "agent_worker = FunctionCallingAgentWorker.from_tools(\n",
    "                                                      [read_tool, search_web_tool, course_recommender_tool], \n",
    "                                                      llm=llm, \n",
    "                                                      verbose= True,  # Try also False\n",
    "                                                    )\n",
    "\n",
    "# 9.2 Define supervisor\n",
    "agent = AgentRunner(agent_worker)"
   ]
  },
  {
   "cell_type": "markdown",
   "metadata": {},
   "source": [
    "## Chatting"
   ]
  },
  {
   "cell_type": "code",
   "execution_count": 52,
   "metadata": {},
   "outputs": [
    {
     "name": "stdout",
     "output_type": "stream",
     "text": [
      "Added user message to memory: Give all details of 'Rahul Kumar' having age of 23 from the data in the database\n",
      "=== Calling Function ===\n",
      "Calling function: query_engine_tool with args: {\"input\": \"Rahul Kumar age 23\"}\n",
      "=== Function Output ===\n",
      "Rahul Kumar was born on 3/26/2002 and has a CGPA of 7.7 in MBA. He completed his B.Com. (Hons.) in Finance from St. Xavier's College, Amity University in 2022 with 74.16%. He attended Delhi Public School and scored 85.33% in class 12 from the Commerce stream under the CBSE board.\n",
      "=== LLM Response ===\n",
      "If you have any more questions or need further assistance, feel free to ask!\n"
     ]
    }
   ],
   "source": [
    "\n",
    "response = agent.chat(\n",
    "                      \"Give all details of 'Rahul Kumar' having age of 23 from the data in the database\"\n",
    "                      )\n",
    "\n",
    "print(response)"
   ]
  },
  {
   "cell_type": "code",
   "execution_count": 56,
   "metadata": {},
   "outputs": [
    {
     "name": "stdout",
     "output_type": "stream",
     "text": [
      "Added user message to memory: Search the web to list some jobs for him\n",
      "=== Calling Function ===\n",
      "Calling function: search_jobs_on_web with args: {\"query\": \"MBA jobs\"}\n",
      "=== Function Output ===\n",
      "{'query': 'MBA jobs', 'follow_up_questions': None, 'answer': None, 'images': [], 'results': [{'title': '20 High-Paying Careers With an MBA (With Duties and Salary)', 'url': 'https://in.indeed.com/career-advice/finding-a-job/careers-with-an-mba', 'content': 'Learn about the types of jobs you can get after an MBA degree, along with their duties and salaries. Find out how an MBA can help you advance your career in various fields, such as information technology, healthcare, business operations and more.', 'score': 0.78413767, 'raw_content': None}, {'title': 'MBA Jobs, Employment - Indeed', 'url': 'https://www.indeed.com/q-MBA-jobs.html', 'content': 'MBA jobs. Sort by: relevance - date. 42,000+ jobs. Audit and Reimbursement III. New. Elevance Health 3.6. Indianapolis, IN. Pay information not provided. Full-time. Audit & Reimbursement III Location: This is a virtual position; must be US based. The Audit & Reimbursement III is responsible for completing limited and…', 'score': 0.6907474, 'raw_content': None}, {'title': '5 Highest Paying Jobs You Can Get With An MBA - Forbes', 'url': 'https://www.forbes.com/sites/rachelwells/2024/04/09/highest-paying-jobs-with-mba/', 'content': \"But what are the highest paying jobs you can secure with an MBA degree? 1. Chief Executive Officer. Of course, this goes without saying. It's commonly expected for a CEO to have a master's degree.\", 'score': 0.5900477, 'raw_content': None}, {'title': '20 MBA Degree Jobs That Pay Well | Indeed.com', 'url': 'https://www.indeed.com/career-advice/finding-a-job/mba-degree-jobs', 'content': 'Learn about the top career options for MBA graduates, including their national average salaries and typical duties. Find out how an MBA can help you improve your skills, expand your network and earn a better salary in various fields.', 'score': 0.5504388, 'raw_content': None}, {'title': '11 Entry-Level MBA Jobs With Salary Information and Related ... - Indeed', 'url': 'https://www.indeed.com/career-advice/finding-a-job/mba-jobs', 'content': 'Explore 11 examples of jobs you can get with an MBA degree and the average salary for each position. Learn how to find an entry-level MBA job with tips and advice from Indeed.com.', 'score': 0.5393963, 'raw_content': None}], 'response_time': 1.57}\n",
      "=== LLM Response ===\n",
      "Here are some jobs for an MBA graduate:\n",
      "\n",
      "1. **Chief Executive Officer (CEO)**: Often expected to have a master's degree, a CEO oversees the entire operations of an organization, making strategic decisions and ensuring the company meets its goals.\n",
      "\n",
      "2. **Audit and Reimbursement III**: This role involves completing limited and full-scope audits, ensuring compliance with policies and procedures, and providing recommendations for process improvements. It is a virtual position that requires being based in the US.\n",
      "\n",
      "3. **High-Paying Careers**:\n",
      "   - **Information Technology**: MBA graduates can advance their careers in IT management, overseeing technology strategies and implementations.\n",
      "   - **Healthcare**: Roles in healthcare management involve overseeing operations, ensuring quality care, and managing financial aspects.\n",
      "   - **Business Operations**: Positions in business operations focus on optimizing processes, managing teams, and driving operational efficiency.\n",
      "\n",
      "4. **Entry-Level MBA Jobs**:\n",
      "   - **Marketing Specialist**: Responsible for developing and implementing marketing strategies, conducting market research, and managing marketing campaigns.\n",
      "   - **Financial Analyst**: Analyzes financial data, prepares reports, and provides insights to support business decisions.\n",
      "   - **Human Resources Manager**: Oversees recruitment, employee relations, and benefits administration, ensuring a positive work environment.\n",
      "\n",
      "These roles highlight the diverse opportunities available to MBA graduates, allowing them to leverage their skills in various industries and positions.\n"
     ]
    }
   ],
   "source": [
    "response = agent.chat(\"Search the web to list some jobs for him\")\n",
    "print(response)"
   ]
  },
  {
   "cell_type": "code",
   "execution_count": 58,
   "metadata": {},
   "outputs": [
    {
     "name": "stdout",
     "output_type": "stream",
     "text": [
      "Added user message to memory: Recommend some courses for Rahul as he wants to be data analyst\n",
      "=== Calling Function ===\n",
      "Calling function: course_recommender with args: {\"query\": \"data analyst courses\"}\n",
      "=== Function Output ===\n",
      "{'query': 'data analyst courses', 'follow_up_questions': None, 'answer': None, 'images': [], 'results': [{'title': 'Best Data Analyst Courses & Certificates [2025] | Coursera Learn Online', 'url': 'https://www.coursera.org/courses?query=data+analyst', 'content': 'Best Data Analyst Courses Online with Certificates [2024] | Coursera Data Analyst Courses Online Explore the Data Analyst Course Catalog ibm data analyst professional certificate In summary, here are 10 of our most popular data analyst courses How can taking online courses help me learn to be a data analyst?\\u200e What are the benefits of taking an online Data Analyst course?\\u200e Online Data Analyst courses offer a convenient and flexible way to enhance your knowledge or learn new Data Analyst skills. Choose from a wide range of Data Analyst courses offered by top universities and industry leaders tailored to various skill levels.\\u200e IBM Data Analyst Professional Certificate Microsoft Power BI Data Analyst Professional Certificate', 'score': 0.83710164, 'raw_content': None}, {'title': 'Top 10 Data Analytics Courses with Certifications in 2025', 'url': 'https://www.geeksforgeeks.org/best-data-analytics-courses-and-certifications/', 'content': 'Top 10 Data Analytics Courses with Certifications in 2024 - GeeksforGeeks Top 10 Data Analytics Courses with Certifications in 2024 Top 10 Data Analytics Courses with Certifications in 2024 From this *Data analysis courses* offered by Harvard University, you can develop a data mindset and the analytical skills to interpret and communicate data while applying concepts to real business problems. In this *data analysis courses* program, you will learn by doing 12 real-life data analytics projects, each of which is reviewed by a senior data analyst. Learn Python, SQL, Excel, and Tableau for data analysis courses, visualization, and reporting through hands-on projects. This Udemy course is designed to kickstart your *data analysis courses* journey with Tableau, focusing on solving real-world analytics projects.', 'score': 0.77548623, 'raw_content': None}, {'title': 'Data Analytics Certificate & Training - Grow with Google', 'url': 'https://grow.google/certificates/data-analytics/', 'content': 'Data Analytics Certificate & Training - Grow with Google Google Data Analytics Certificate Already completed the Google Data Analytics Certificate? Already completed the Google Data Analytics Certificate? Karrim O., Associate Analyst at Infosys and Google Data Analytics Certificate graduate Who is the Google Data Analytics Certificate for? Why enroll in the Google Data Analytics Certificate? Does the Google Data Analytics Certificate include AI content? The Google Data Analytics Certificate courses are 100-percent online learning. After you complete the Google Data Analytics Certificate, you will have access to expert training and hands-on projects designed to prepare you for a job in data analytics, including a resume-building tool, mock interviews, and career networking support designed to help you with your job search.', 'score': 0.6977124, 'raw_content': None}, {'title': 'Google Data Analytics Professional Certificate - Coursera', 'url': 'https://www.coursera.org/professional-certificates/google-data-analytics', 'content': 'Google Data Analytics Professional Certificate | Coursera Google Data Analytics Professional Certificate Google Data Analytics Professional Certificate Learn key analytical skills (data cleaning, analysis, & visualization) and tools (spreadsheets, SQL, R programming, Tableau) The Google Data Analytics Certificate can be completed in less than 6 months at under 10 hours per week of part-time study, so most learners can complete the certificate for less than $300 USD. Google Career Certificates are designed to prepare you for an entry-level role in job fields like data analytics, digital marketing & e-commerce, IT support, project management, and UX design. Does the Google Data Analytics Certificate include AI content?', 'score': 0.6852132, 'raw_content': None}, {'title': 'Best Data Analytics Certificates Online Of 2024 - Forbes', 'url': 'https://www.forbes.com/advisor/education/certifications/best-data-analytics-certifications/', 'content': 'Best Data Analytics Certificates Online Of 2024 – Forbes Advisor Forbes Advisor Best Data Analytics Certificates Online Many data analytics certificates feature transferable credits that students can apply to full degree programs. Forbes Advisor Best Data Analytics Certificates Online Each institution sets its own admission requirements for an undergraduate data analytics certificate program, but many programs are accessible to students with just a high school diploma or GED. The certificates that made Forbes Advisor’s list of the best online data analytics programs range from $4,830 to $10,350 in total tuition, which could eventually pay off in a high-paying, in-demand career. However, the skills learned in a data analytics certificate program can apply to many well-paying careers.', 'score': 0.57780564, 'raw_content': None}], 'response_time': 1.59}\n",
      "=== LLM Response ===\n",
      "Here are some recommended courses for becoming a data analyst:\n",
      "\n",
      "1. **IBM Data Analyst Professional Certificate**:\n",
      "   - Offered on Coursera, this certificate covers essential data analysis skills and tools, including Excel, SQL, Python, and data visualization techniques. It's designed to be completed in about 11 months with a flexible online learning format.\n",
      "\n",
      "2. **Microsoft Power BI Data Analyst Professional Certificate**:\n",
      "   - Also available on Coursera, this certificate focuses on mastering Power BI for data analysis and visualization. It includes hands-on projects and is suitable for those looking to specialize in data analysis using Microsoft tools.\n",
      "\n",
      "3. **Harvard University Data Analytics Courses**:\n",
      "   - These courses help develop a data mindset and analytical skills to interpret and communicate data. The program includes 12 real-life data analytics projects, covering Python, SQL, Excel, and Tableau.\n",
      "\n",
      "4. **Google Data Analytics Certificate**:\n",
      "   - Offered by Grow with Google, this certificate provides comprehensive training in data analytics, including key analytical skills and tools like spreadsheets, SQL, R programming, and Tableau. It can be completed in less than 6 months with part-time study and includes career support services.\n",
      "\n",
      "5. **Forbes Advisor Best Data Analytics Certificates Online**:\n",
      "   - Forbes Advisor highlights various data analytics certificates that feature transferable credits applicable to full degree programs. These certificates cover a range of skills and tools essential for data analysis roles.\n",
      "\n",
      "These courses and certificates offer a mix of foundational knowledge and practical skills, making them excellent choices for anyone looking to start or advance their career in data analysis.\n"
     ]
    }
   ],
   "source": [
    "response = agent.chat(\"Recommend some courses for Rahul as he wants to be data analyst\")\n",
    "print(response)"
   ]
  },
  {
   "cell_type": "markdown",
   "metadata": {},
   "source": [
    "## Loop to constantly chat"
   ]
  },
  {
   "cell_type": "code",
   "execution_count": null,
   "metadata": {},
   "outputs": [],
   "source": [
    "# You can also set up a loop to constantly query:\n",
    "\n",
    "while True:\n",
    "    text_input = input(\"User: \")\n",
    "    if text_input == \"exit\":\n",
    "        break\n",
    "    response = agent.chat(text_input)\n",
    "    print(f\"Agent: {response}\")"
   ]
  },
  {
   "cell_type": "markdown",
   "metadata": {},
   "source": [
    "### ============= DONE ==============================="
   ]
  },
  {
   "cell_type": "code",
   "execution_count": null,
   "metadata": {},
   "outputs": [],
   "source": [
    "##################"
   ]
  },
  {
   "cell_type": "code",
   "execution_count": null,
   "metadata": {},
   "outputs": [],
   "source": []
  }
 ],
 "metadata": {
  "kernelspec": {
   "display_name": "Python 3 (ipykernel)",
   "language": "python",
   "name": "python3"
  },
  "language_info": {
   "codemirror_mode": {
    "name": "ipython",
    "version": 3
   },
   "file_extension": ".py",
   "mimetype": "text/x-python",
   "name": "python",
   "nbconvert_exporter": "python",
   "pygments_lexer": "ipython3",
   "version": "3.10.12"
  }
 },
 "nbformat": 4,
 "nbformat_minor": 4
}
