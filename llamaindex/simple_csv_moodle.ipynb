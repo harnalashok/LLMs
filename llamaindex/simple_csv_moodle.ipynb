{
 "cells": [
  {
   "cell_type": "code",
   "execution_count": null,
   "metadata": {},
   "outputs": [],
   "source": [
    "# LAst amended: 17th March, 2025\n",
    "# RAG with csv files\n",
    "# USes ollama models, ollama embeddings and chroma vector store"
   ]
  },
  {
   "cell_type": "code",
   "execution_count": null,
   "metadata": {},
   "outputs": [],
   "source": [
    "# References:\n",
    "#            \n",
    "#            https://docs.llamaindex.ai/en/stable/examples/embeddings/ollama_embedding/\n",
    "#            https://docs.llamaindex.ai/en/stable/examples/llm/ollama/\n",
    "#            https://docs.llamaindex.ai/en/stable/module_guides/supporting_modules/settings/\n",
    "#            https://howaibuildthis.substack.com/p/llamaindex-how-to-use-index-correctly"
   ]
  },
  {
   "cell_type": "markdown",
   "metadata": {},
   "source": [
    "# Simple RAG (Retrieval-Augmented Generation) System for CSV Files\n",
    "\n",
    "## Overview\n",
    "\n",
    "This code implements a basic Retrieval-Augmented Generation (RAG) system for processing and querying CSV documents. The system encodes the document content into a vector store, which can then be queried to retrieve relevant information.\n",
    "\n",
    "# CSV File Structure and Use Case\n",
    "The CSV file contains dummy customer data, comprising various attributes like first name, last name, company, etc. This dataset will be utilized for a RAG use case, facilitating the creation of a customer information Q&A system.\n",
    "\n",
    "## Key Components\n",
    "\n",
    "1. Loading and spliting csv files.\n",
    "2. Vector store creation using [Chroma](https://docs.llamaindex.ai/en/stable/examples/vector_stores/ChromaIndexDemo/). See [here](https://github.com/harnalashok/LLMs/blob/main/chromadbExpts%20and%20exports.ipynb) also. Ollama embeddings are used.\n",
    "3. Query engine setup for querying the processed documents\n",
    "4. Creating a question and answer over the csv data.\n",
    "\n",
    "## Method Details\n",
    "\n",
    "### Document Preprocessing\n",
    "\n",
    "1. The csv is loaded using LlamaIndex's [PagedCSVReader](https://docs.llamaindex.ai/en/stable/api_reference/readers/file/#llama_index.readers.file.PagedCSVReader)\n",
    "2. This reader converts each row into a LlamaIndex Document along with the respective column names of the table. No further splitting applied.\n",
    "\n",
    "\n",
    "### Vector Store Creation\n",
    "\n",
    "1. Ollama embeddings are used to create vector representations of the text chunks.\n",
    "2. A Chroma vector store is created from these embeddings for efficient similarity search.\n",
    "\n",
    "### Query Engine Setup\n",
    "\n",
    "1. A query engine is configured to fetch the most relevant chunks for a given query then answer the question.\n",
    "\n",
    "## Benefits of this Approach\n",
    "\n",
    "1. Scalability: Can handle large documents by processing them in chunks.\n",
    "2. Flexibility: Easy to adjust parameters like chunk size and number of retrieved results.\n",
    "3. Efficiency: Utilizes FAISS for fast similarity search in high-dimensional spaces.\n",
    "4. Integration with Advanced NLP: Uses OpenAI embeddings for state-of-the-art text representation.\n",
    "\n",
    "## Conclusion\n",
    "\n",
    "This simple RAG system provides a solid foundation for building more complex information retrieval and question-answering systems. By encoding document content into a searchable vector store, it enables efficient retrieval of relevant information in response to queries. This approach is particularly useful for applications requiring quick access to specific information within a CSV file."
   ]
  },
  {
   "cell_type": "markdown",
   "metadata": {},
   "source": [
    "### Imports & Environment Variables "
   ]
  },
  {
   "cell_type": "code",
   "execution_count": 2,
   "metadata": {},
   "outputs": [
    {
     "name": "stderr",
     "output_type": "stream",
     "text": [
      "/home/ashok/langchain/lib/python3.10/site-packages/tqdm/auto.py:21: TqdmWarning: IProgress not found. Please update jupyter and ipywidgets. See https://ipywidgets.readthedocs.io/en/stable/user_install.html\n",
      "  from .autonotebook import tqdm as notebook_tqdm\n"
     ]
    }
   ],
   "source": [
    "# 1.0 SimpleDirectoryReader can also load metadata from a dictionary\n",
    "#     https://docs.llamaindex.ai/en/stable/module_guides/loading/simpledirectoryreader/\n",
    "from llama_index.core.readers import SimpleDirectoryReader\n",
    "from llama_index.readers.file import PagedCSVReader\n",
    "\n",
    "# 1.1 The Settings is a bundle of commonly used resources used \n",
    "#     during the indexing and querying stage in a LlamaIndex workflow/application.\n",
    "from llama_index.core import Settings\n",
    "\n",
    "# 1.2 If using LocalAI\n",
    "# https://docs.llamaindex.ai/en/stable/examples/llm/localai/\n",
    "from llama_index.llms.openai_like import OpenAILike\n",
    "\n",
    "# 1.3 Ollama related\n",
    "# https://docs.llamaindex.ai/en/stable/examples/embeddings/ollama_embedding/\n",
    "from llama_index.embeddings.ollama import OllamaEmbedding\n",
    "from llama_index.llms.ollama import Ollama\n",
    "\n",
    "\n",
    "# 1.4 Vector store related\n",
    "import chromadb\n",
    "from llama_index.core import StorageContext\n",
    "from llama_index.core import VectorStoreIndex\n",
    "from llama_index.vector_stores.chroma import ChromaVectorStore\n",
    "\n",
    "# 1.5 Misc\n",
    "import os\n",
    "import pandas as pd"
   ]
  },
  {
   "cell_type": "code",
   "execution_count": 3,
   "metadata": {},
   "outputs": [],
   "source": [
    "# 2.0 Define embedding function\n",
    "\n",
    "# embed_model = HuggingFaceEmbedding(\n",
    "#                                     model_name=\"BAAI/bge-base-en-v1.5\"\n",
    "#                                    )\n",
    "\n",
    "embed_model= OllamaEmbedding(\n",
    "                                    model_name=\"nomic-embed-text\",      # Using foundational model may be overkill\n",
    "                                    base_url=\"http://localhost:11434\",\n",
    "                                    #dimensions=512,\n",
    "                                    #ollama_additional_kwargs={\"mirostat\": 0},\n",
    "                                  )\n"
   ]
  },
  {
   "cell_type": "code",
   "execution_count": 4,
   "metadata": {},
   "outputs": [],
   "source": [
    "# 2.1 Settings can set the global configuration. Local configurations (transformations, LLMs, embedding models).\n",
    "#     These can be passed directly into the interfaces that make use of them.\n",
    "\n",
    "Settings.embed_model = embed_model\n",
    "Settings.llm = Ollama(\n",
    "                        model=\"llama3.2:latest\",\n",
    "                        request_timeout=120.0,\n",
    "                        temperature = 0.0,\n",
    "                        mirostat = 0)"
   ]
  },
  {
   "cell_type": "code",
   "execution_count": 5,
   "metadata": {},
   "outputs": [
    {
     "data": {
      "text/plain": [
       "_Settings(_llm=Ollama(callback_manager=<llama_index.core.callbacks.base.CallbackManager object at 0x7d49628240a0>, system_prompt=None, messages_to_prompt=<function messages_to_prompt at 0x7d4964451750>, completion_to_prompt=<function default_completion_to_prompt at 0x7d49643452d0>, output_parser=None, pydantic_program_mode=<PydanticProgramMode.DEFAULT: 'default'>, query_wrapper_prompt=None, base_url='http://localhost:11434', model='llama3.2:latest', temperature=0.0, context_window=3900, request_timeout=120.0, prompt_key='prompt', json_mode=False, additional_kwargs={}, is_function_calling_model=True, keep_alive=None), _embed_model=OllamaEmbedding(model_name='nomic-embed-text', embed_batch_size=10, callback_manager=<llama_index.core.callbacks.base.CallbackManager object at 0x7d49628240a0>, num_workers=None, base_url='http://localhost:11434', ollama_additional_kwargs={}), _callback_manager=<llama_index.core.callbacks.base.CallbackManager object at 0x7d49628240a0>, _tokenizer=None, _node_parser=None, _prompt_helper=None, _transformations=None)"
      ]
     },
     "execution_count": 5,
     "metadata": {},
     "output_type": "execute_result"
    }
   ],
   "source": [
    "# 2.2 One can Check its various values:\n",
    "Settings"
   ]
  },
  {
   "cell_type": "code",
   "execution_count": 5,
   "metadata": {},
   "outputs": [
    {
     "data": {
      "text/plain": [
       "'\\nFor default settings, see:\\nhttps://docs.llamaindex.ai/en/stable/module_guides/supporting_modules/settings/\\n\\n\\nfrom llama_index.core.node_parser import SentenceSplitter\\n\\nSettings.text_splitter = SentenceSplitter(chunk_size=1024)\\nSettings.chunk_size = 512             # Default is 1024\\nSettings.chunk_overlap = 20           # Default is 20\\n'"
      ]
     },
     "execution_count": 5,
     "metadata": {},
     "output_type": "execute_result"
    }
   ],
   "source": [
    "# Other configuration can also be set:\n",
    "\"\"\"\n",
    "For default settings, see:\n",
    "https://docs.llamaindex.ai/en/stable/module_guides/supporting_modules/settings/\n",
    "\n",
    "\n",
    "from llama_index.core.node_parser import SentenceSplitter\n",
    "\n",
    "Settings.text_splitter = SentenceSplitter(chunk_size=1024)\n",
    "Settings.chunk_size = 512             # Default is 1024\n",
    "Settings.chunk_overlap = 20           # Default is 20\n",
    "\"\"\"\n"
   ]
  },
  {
   "cell_type": "code",
   "execution_count": 112,
   "metadata": {},
   "outputs": [],
   "source": [
    "\"\"\"\n",
    "rom llama_index.core.node_parser import SentenceSplitter\n",
    "\n",
    "Settings.text_splitter = SentenceSplitter(chunk_size=10000)\n",
    "Settings.chunk_size = 10000             # Default is 1024\n",
    "Settings.chunk_overlap = 200           # Default is 20\n",
    "\"\"\""
   ]
  },
  {
   "cell_type": "markdown",
   "metadata": {},
   "source": [
    "### Load and Process CSV Data as Document"
   ]
  },
  {
   "cell_type": "code",
   "execution_count": 6,
   "metadata": {},
   "outputs": [
    {
     "data": {
      "text/html": [
       "<div>\n",
       "<style scoped>\n",
       "    .dataframe tbody tr th:only-of-type {\n",
       "        vertical-align: middle;\n",
       "    }\n",
       "\n",
       "    .dataframe tbody tr th {\n",
       "        vertical-align: top;\n",
       "    }\n",
       "\n",
       "    .dataframe thead th {\n",
       "        text-align: right;\n",
       "    }\n",
       "</style>\n",
       "<table border=\"1\" class=\"dataframe\">\n",
       "  <thead>\n",
       "    <tr style=\"text-align: right;\">\n",
       "      <th></th>\n",
       "      <th>Roll_Number</th>\n",
       "      <th>fullName</th>\n",
       "      <th>Gender</th>\n",
       "      <th>BirthDate</th>\n",
       "      <th>age</th>\n",
       "      <th>MBA CGPA</th>\n",
       "      <th>garduation college</th>\n",
       "      <th>University</th>\n",
       "      <th>Degree</th>\n",
       "      <th>Specialization</th>\n",
       "      <th>...</th>\n",
       "      <th>year when graduation was completed</th>\n",
       "      <th>name of the school attended for class 12</th>\n",
       "      <th>education board for class 12</th>\n",
       "      <th>academic stream chosen in class 12</th>\n",
       "      <th>percentage marks scored in class 12</th>\n",
       "      <th>year when class 12 was completed</th>\n",
       "      <th>name of the school attended for class 10</th>\n",
       "      <th>education board for class 10</th>\n",
       "      <th>percentage marks scored in class 10</th>\n",
       "      <th>year when class 10 was completed</th>\n",
       "    </tr>\n",
       "  </thead>\n",
       "  <tbody>\n",
       "    <tr>\n",
       "      <th>0</th>\n",
       "      <td>1</td>\n",
       "      <td>Amit Sharma</td>\n",
       "      <td>Male</td>\n",
       "      <td>5/14/2002</td>\n",
       "      <td>23</td>\n",
       "      <td>6.69</td>\n",
       "      <td>Vivekananda Institute Of Professional Studies</td>\n",
       "      <td>Guru Gobind Singh Indraprastha University</td>\n",
       "      <td>B.C.A.</td>\n",
       "      <td>Computer Applications</td>\n",
       "      <td>...</td>\n",
       "      <td>2021</td>\n",
       "      <td>Holy Convent School</td>\n",
       "      <td>CBSE</td>\n",
       "      <td>Commerce</td>\n",
       "      <td>79.33</td>\n",
       "      <td>2018</td>\n",
       "      <td>Jaspal Kaur Public School</td>\n",
       "      <td>CBSE</td>\n",
       "      <td>85.16</td>\n",
       "      <td>2018</td>\n",
       "    </tr>\n",
       "    <tr>\n",
       "      <th>1</th>\n",
       "      <td>2</td>\n",
       "      <td>Pooja Verma</td>\n",
       "      <td>Female</td>\n",
       "      <td>8/25/1998</td>\n",
       "      <td>27</td>\n",
       "      <td>7.53</td>\n",
       "      <td>Asutosh College</td>\n",
       "      <td>Rajiv Gandhi Proudyogiki Vishwavidyalaya</td>\n",
       "      <td>B.E.</td>\n",
       "      <td>Biology</td>\n",
       "      <td>...</td>\n",
       "      <td>2020</td>\n",
       "      <td>Kishinchand Chellaram College</td>\n",
       "      <td>CBSE</td>\n",
       "      <td>Science</td>\n",
       "      <td>92.60</td>\n",
       "      <td>2015</td>\n",
       "      <td>Delhi Public School</td>\n",
       "      <td>CBSE</td>\n",
       "      <td>89.30</td>\n",
       "      <td>2013</td>\n",
       "    </tr>\n",
       "    <tr>\n",
       "      <th>2</th>\n",
       "      <td>3</td>\n",
       "      <td>Rahul Kumar</td>\n",
       "      <td>Female</td>\n",
       "      <td>3/26/2002</td>\n",
       "      <td>23</td>\n",
       "      <td>7.70</td>\n",
       "      <td>St. Xavier'S College</td>\n",
       "      <td>Amity University</td>\n",
       "      <td>B.Com. (Hons.)</td>\n",
       "      <td>Finance</td>\n",
       "      <td>...</td>\n",
       "      <td>2022</td>\n",
       "      <td>Delhi Public School</td>\n",
       "      <td>CBSE</td>\n",
       "      <td>Commerce</td>\n",
       "      <td>85.33</td>\n",
       "      <td>2019</td>\n",
       "      <td>Delhi Public School</td>\n",
       "      <td>CBSE</td>\n",
       "      <td>91.67</td>\n",
       "      <td>2017</td>\n",
       "    </tr>\n",
       "    <tr>\n",
       "      <th>3</th>\n",
       "      <td>4</td>\n",
       "      <td>Neha Agarwal</td>\n",
       "      <td>Male</td>\n",
       "      <td>8/15/1997</td>\n",
       "      <td>26</td>\n",
       "      <td>5.82</td>\n",
       "      <td>School Of Commerce</td>\n",
       "      <td>Jaypee Institute Of Information Technology</td>\n",
       "      <td>B.Tech</td>\n",
       "      <td>Electronics And Communication Engineering</td>\n",
       "      <td>...</td>\n",
       "      <td>2019</td>\n",
       "      <td>G.A.V. Public School</td>\n",
       "      <td>CBSE</td>\n",
       "      <td>Science (Non-Medical)</td>\n",
       "      <td>80.33</td>\n",
       "      <td>2015</td>\n",
       "      <td>Carmel Convent Senior Secondary School</td>\n",
       "      <td>ICSE</td>\n",
       "      <td>72.20</td>\n",
       "      <td>2013</td>\n",
       "    </tr>\n",
       "    <tr>\n",
       "      <th>4</th>\n",
       "      <td>5</td>\n",
       "      <td>Rohan Das</td>\n",
       "      <td>Male</td>\n",
       "      <td>8/16/1999</td>\n",
       "      <td>25</td>\n",
       "      <td>6.80</td>\n",
       "      <td>Government Engineering College</td>\n",
       "      <td>Vellore Institute Of Technology</td>\n",
       "      <td>B.A. (Hons.)</td>\n",
       "      <td>Economics</td>\n",
       "      <td>...</td>\n",
       "      <td>2021</td>\n",
       "      <td>Summer Fields School</td>\n",
       "      <td>CBSE</td>\n",
       "      <td>Science (Medical)</td>\n",
       "      <td>67.60</td>\n",
       "      <td>2017</td>\n",
       "      <td>Salt Lake School</td>\n",
       "      <td>CBSE</td>\n",
       "      <td>83.60</td>\n",
       "      <td>2015</td>\n",
       "    </tr>\n",
       "  </tbody>\n",
       "</table>\n",
       "<p>5 rows × 21 columns</p>\n",
       "</div>"
      ],
      "text/plain": [
       "   Roll_Number      fullName  Gender  BirthDate  age  MBA CGPA  \\\n",
       "0            1   Amit Sharma    Male  5/14/2002   23      6.69   \n",
       "1            2   Pooja Verma  Female  8/25/1998   27      7.53   \n",
       "2            3   Rahul Kumar  Female  3/26/2002   23      7.70   \n",
       "3            4  Neha Agarwal    Male  8/15/1997   26      5.82   \n",
       "4            5     Rohan Das    Male  8/16/1999   25      6.80   \n",
       "\n",
       "                              garduation college  \\\n",
       "0  Vivekananda Institute Of Professional Studies   \n",
       "1                                Asutosh College   \n",
       "2                           St. Xavier'S College   \n",
       "3                             School Of Commerce   \n",
       "4                 Government Engineering College   \n",
       "\n",
       "                                   University          Degree  \\\n",
       "0   Guru Gobind Singh Indraprastha University          B.C.A.   \n",
       "1    Rajiv Gandhi Proudyogiki Vishwavidyalaya            B.E.   \n",
       "2                            Amity University  B.Com. (Hons.)   \n",
       "3  Jaypee Institute Of Information Technology          B.Tech   \n",
       "4             Vellore Institute Of Technology    B.A. (Hons.)   \n",
       "\n",
       "                              Specialization  ...  \\\n",
       "0                      Computer Applications  ...   \n",
       "1                                    Biology  ...   \n",
       "2                                    Finance  ...   \n",
       "3  Electronics And Communication Engineering  ...   \n",
       "4                                  Economics  ...   \n",
       "\n",
       "   year when graduation was completed  \\\n",
       "0                                2021   \n",
       "1                                2020   \n",
       "2                                2022   \n",
       "3                                2019   \n",
       "4                                2021   \n",
       "\n",
       "   name of the school attended for class 12 education board for class 12  \\\n",
       "0                       Holy Convent School                         CBSE   \n",
       "1             Kishinchand Chellaram College                         CBSE   \n",
       "2                       Delhi Public School                         CBSE   \n",
       "3                      G.A.V. Public School                         CBSE   \n",
       "4                      Summer Fields School                         CBSE   \n",
       "\n",
       "  academic stream chosen in class 12 percentage marks scored in class 12  \\\n",
       "0                           Commerce                               79.33   \n",
       "1                            Science                               92.60   \n",
       "2                           Commerce                               85.33   \n",
       "3              Science (Non-Medical)                               80.33   \n",
       "4                  Science (Medical)                               67.60   \n",
       "\n",
       "   year when class 12 was completed  name of the school attended for class 10  \\\n",
       "0                              2018                 Jaspal Kaur Public School   \n",
       "1                              2015                       Delhi Public School   \n",
       "2                              2019                       Delhi Public School   \n",
       "3                              2015    Carmel Convent Senior Secondary School   \n",
       "4                              2017                          Salt Lake School   \n",
       "\n",
       "  education board for class 10 percentage marks scored in class 10  \\\n",
       "0                         CBSE                               85.16   \n",
       "1                         CBSE                               89.30   \n",
       "2                         CBSE                               91.67   \n",
       "3                         ICSE                               72.20   \n",
       "4                         CBSE                               83.60   \n",
       "\n",
       "   year when class 10 was completed  \n",
       "0                              2018  \n",
       "1                              2013  \n",
       "2                              2017  \n",
       "3                              2013  \n",
       "4                              2015  \n",
       "\n",
       "[5 rows x 21 columns]"
      ]
     },
     "execution_count": 6,
     "metadata": {},
     "output_type": "execute_result"
    }
   ],
   "source": [
    "# 3.0 Reading data in pandas\n",
    "#     It has nothing to do with subsequent analysis/usage\n",
    "\n",
    "#file_path = ('/home/ashok/Documents/csvrag/data/data.csv') # insert the path of the csv file\n",
    "file_path = ('/home/ashok/Downloads/csvrag/data/data.csv') # insert the path of the csv file\n",
    "df = pd.read_csv(file_path)\n",
    "\n",
    "# 3.1 Preview the csv file\n",
    "df.head()"
   ]
  },
  {
   "cell_type": "markdown",
   "metadata": {},
   "source": [
    "### One way\n",
    "Directly read csv file"
   ]
  },
  {
   "cell_type": "code",
   "execution_count": 7,
   "metadata": {},
   "outputs": [],
   "source": [
    "# 4.0 PagedCSVReader displays each row in an LLM-friendly format. Each row as a separate document.\n",
    "csv_reader = PagedCSVReader()\n",
    "\n",
    "# 4.1\n",
    "reader = SimpleDirectoryReader( \n",
    "                                input_files=[file_path],\n",
    "                                file_extractor= {\".csv\": csv_reader}\n",
    "                               )\n",
    "\n",
    "# 4.2\n",
    "docs = reader.load_data()"
   ]
  },
  {
   "cell_type": "code",
   "execution_count": 8,
   "metadata": {},
   "outputs": [
    {
     "data": {
      "text/plain": [
       "500"
      ]
     },
     "metadata": {},
     "output_type": "display_data"
    },
    {
     "name": "stdout",
     "output_type": "stream",
     "text": [
      "\n",
      "============\n",
      "\n"
     ]
    },
    {
     "data": {
      "text/plain": [
       "[Document(id_='23c21661-502a-4e8b-9d4d-42dced527f49', embedding=None, metadata={'file_path': '/home/ashok/Downloads/csvrag/data/data.csv', 'file_name': 'data.csv', 'file_type': 'text/csv', 'file_size': 122011, 'creation_date': '2025-03-18', 'last_modified_date': '2025-03-18'}, excluded_embed_metadata_keys=['file_name', 'file_type', 'file_size', 'creation_date', 'last_modified_date', 'last_accessed_date'], excluded_llm_metadata_keys=['file_name', 'file_type', 'file_size', 'creation_date', 'last_modified_date', 'last_accessed_date'], relationships={}, metadata_template='{key}: {value}', metadata_separator='\\n', text_resource=MediaResource(embeddings=None, data=None, text='Roll_Number: 1\\nfullName: Amit Sharma\\nGender: Male\\nBirthDate: 5/14/2002\\nage: 23\\nMBA CGPA: 6.69\\ngarduation college: Vivekananda Institute Of Professional Studies\\nUniversity: Guru Gobind Singh Indraprastha University\\nDegree: B.C.A.\\nSpecialization: Computer Applications\\npercentage marks obtained during graduation: 53.83\\nyear when graduation was completed: 2021\\nname of the school attended for class 12: Holy Convent School\\neducation board for class 12: CBSE\\nacademic stream chosen in class 12: Commerce\\npercentage marks scored in class 12: 79.33\\nyear when class 12 was completed: 2018\\nname of the school attended for class 10: Jaspal Kaur Public School\\neducation board for class 10: CBSE\\npercentage marks scored in class 10: 85.16\\nyear when class 10 was completed: 2018', path=None, url=None, mimetype=None), image_resource=None, audio_resource=None, video_resource=None, text_template='{metadata_str}\\n\\n{content}'),\n",
       " Document(id_='17d892f1-4224-4c01-b416-a9678942b215', embedding=None, metadata={'file_path': '/home/ashok/Downloads/csvrag/data/data.csv', 'file_name': 'data.csv', 'file_type': 'text/csv', 'file_size': 122011, 'creation_date': '2025-03-18', 'last_modified_date': '2025-03-18'}, excluded_embed_metadata_keys=['file_name', 'file_type', 'file_size', 'creation_date', 'last_modified_date', 'last_accessed_date'], excluded_llm_metadata_keys=['file_name', 'file_type', 'file_size', 'creation_date', 'last_modified_date', 'last_accessed_date'], relationships={}, metadata_template='{key}: {value}', metadata_separator='\\n', text_resource=MediaResource(embeddings=None, data=None, text='Roll_Number: 2\\nfullName: Pooja Verma\\nGender: Female\\nBirthDate: 8/25/1998\\nage: 27\\nMBA CGPA: 7.53\\ngarduation college: Asutosh College\\nUniversity: Rajiv Gandhi Proudyogiki Vishwavidyalaya\\nDegree: B.E.\\nSpecialization: Biology\\npercentage marks obtained during graduation: 68.35\\nyear when graduation was completed: 2020\\nname of the school attended for class 12: Kishinchand Chellaram College\\neducation board for class 12: CBSE\\nacademic stream chosen in class 12: Science\\npercentage marks scored in class 12: 92.6\\nyear when class 12 was completed: 2015\\nname of the school attended for class 10: Delhi Public School\\neducation board for class 10: CBSE\\npercentage marks scored in class 10: 89.3\\nyear when class 10 was completed: 2013', path=None, url=None, mimetype=None), image_resource=None, audio_resource=None, video_resource=None, text_template='{metadata_str}\\n\\n{content}')]"
      ]
     },
     "metadata": {},
     "output_type": "display_data"
    }
   ],
   "source": [
    "# 4.3 Look at Documents\n",
    "display(len(docs))\n",
    "\n",
    "print(\"\\n============\\n\")\n",
    "\n",
    "display(docs[:2])   # List of Document"
   ]
  },
  {
   "cell_type": "code",
   "execution_count": 9,
   "metadata": {},
   "outputs": [
    {
     "name": "stdout",
     "output_type": "stream",
     "text": [
      "Roll_Number: 1\n",
      "fullName: Amit Sharma\n",
      "Gender: Male\n",
      "BirthDate: 5/14/2002\n",
      "age: 23\n",
      "MBA CGPA: 6.69\n",
      "garduation college: Vivekananda Institute Of Professional Studies\n",
      "University: Guru Gobind Singh Indraprastha University\n",
      "Degree: B.C.A.\n",
      "Specialization: Computer Applications\n",
      "percentage marks obtained during graduation: 53.83\n",
      "year when graduation was completed: 2021\n",
      "name of the school attended for class 12: Holy Convent School\n",
      "education board for class 12: CBSE\n",
      "academic stream chosen in class 12: Commerce\n",
      "percentage marks scored in class 12: 79.33\n",
      "year when class 12 was completed: 2018\n",
      "name of the school attended for class 10: Jaspal Kaur Public School\n",
      "education board for class 10: CBSE\n",
      "percentage marks scored in class 10: 85.16\n",
      "year when class 10 was completed: 2018\n"
     ]
    }
   ],
   "source": [
    "# 4.4 To read only the text part and not the metadata:\n",
    "\n",
    "for doc in docs[:1]:\n",
    "    print(doc.text)"
   ]
  },
  {
   "cell_type": "markdown",
   "metadata": {},
   "source": [
    "### IInd way\n",
    "Using pandas dataframe     \n",
    "See this [good article](https://blog.stackademic.com/mastering-document-ingestion-in-llamaindex-a-guide-to-integrating-diverse-data-sources-44939ea68617)"
   ]
  },
  {
   "cell_type": "code",
   "execution_count": 10,
   "metadata": {},
   "outputs": [
    {
     "data": {
      "text/plain": [
       "[Document(id_='49a8b085-c715-455c-954a-f17a21f78eab', embedding=None, metadata={}, excluded_embed_metadata_keys=[], excluded_llm_metadata_keys=[], relationships={}, metadata_template='{key}: {value}', metadata_separator='\\n', text_resource=MediaResource(embeddings=None, data=None, text='Roll_Number              1\\nfullName       Amit Sharma\\nGender                Male', path=None, url=None, mimetype=None), image_resource=None, audio_resource=None, video_resource=None, text_template='{metadata_str}\\n\\n{content}'),\n",
       " Document(id_='033f3026-38a5-4d61-8fa6-c6f55d52058c', embedding=None, metadata={}, excluded_embed_metadata_keys=[], excluded_llm_metadata_keys=[], relationships={}, metadata_template='{key}: {value}', metadata_separator='\\n', text_resource=MediaResource(embeddings=None, data=None, text='Roll_Number              2\\nfullName       Pooja Verma\\nGender              Female', path=None, url=None, mimetype=None), image_resource=None, audio_resource=None, video_resource=None, text_template='{metadata_str}\\n\\n{content}')]"
      ]
     },
     "execution_count": 10,
     "metadata": {},
     "output_type": "execute_result"
    }
   ],
   "source": [
    "# 4.5 To read only specific columns into llama index:\n",
    "from llama_index.core import Document\n",
    "\n",
    "# 4.5.1\n",
    "columns_of_interest = ['Roll_Number', 'fullName' ,'Gender']\n",
    "\n",
    "\n",
    "# 4.5.2 Convert rows of the CSV into Document objects\n",
    "documents = [Document(text=row.to_string()) for _, row in df[columns_of_interest].iterrows()]\n",
    "documents[:2]"
   ]
  },
  {
   "cell_type": "markdown",
   "metadata": {},
   "source": [
    "### StorageContext vs VectorStoreIndex\n",
    "\n",
    "In LlamaIndex, the StorageContext manages the persistence of data (documents, indices, and vectors), while the VectorStoreIndex is a specific type of index that utilizes a vector store for efficient storage and retrieval of document embeddings.\n",
    "Here's a more detailed breakdown:\n",
    "#### 1. Storage Context:     \n",
    ">•\tPurpose:     \n",
    "The StorageContext is a core abstraction in LlamaIndex that handles the storage and retrieval of data, including documents, indices, and vectors.       \n",
    "•  •  Components:                 \n",
    "It contains the underlying BaseDocumentStore (for nodes), BaseIndexStore (for indices), and VectorStore (for vectors).      \n",
    "•  •  Persisting Data:          \n",
    "The StorageContext class provides a persist method to save the state of the document store, index store, graph store, and vector stores.    \n",
    "•  •  Customization:         \n",
    "LlamaIndex allows you to customize where ingested documents, embedding vectors, and index metadata are stored by using a swappable storage layer.     \n",
    "•\t   \n",
    "#### 2. VectorStoreIndex:          \n",
    ">•\tPurpose:       \n",
    "The VectorStoreIndex is a type of index that stores data (documents) as vectors in a vector store, enabling efficient similarity search and retrieval.     \n",
    "•  •  Default Storage:     \n",
    "By default, VectorStoreIndex uses an in-memory SimpleVectorStore initialized as part of the default storage context.     \n",
    "•  •  Vector Stores:     \n",
    "LlamaIndex supports various vector stores (e.g., Chroma, Pinecone, Weaviate) that can be integrated for storing and querying document embeddings.     \n",
    "•  •  Integration:     \n",
    "You can integrate different vector stores to enhance your data management and querying capabilities.     \n",
    "•  •  Indexing:     \n",
    "VectorStoreIndex turns text into embeddings using an API from your LLM.      "
   ]
  },
  {
   "attachments": {
    "805215f6-c026-48c1-89c7-fe6c2189af2d.png": {
     "image/png": "[encoded data removed]"
    }
   },
   "cell_type": "markdown",
   "metadata": {},
   "source": [
    "![image.png](attachment:805215f6-c026-48c1-89c7-fe6c2189af2d.png)"
   ]
  },
  {
   "cell_type": "markdown",
   "metadata": {},
   "source": [
    "### Vector Store"
   ]
  },
  {
   "cell_type": "code",
   "execution_count": 11,
   "metadata": {},
   "outputs": [],
   "source": [
    "# 5.0 Create client and a new collection\n",
    "#     The following is  in-memory database and NOT a persistent collection.\n",
    "#     chroma_client = chromadb.EphemeralClient()\n",
    "\n",
    "# 5.1 This creates persistent collection. A folder by name of chromadb\n",
    "#     is created and below that a chroma.sqlite3 database exists:\n",
    "\n",
    "chroma_client = chromadb.PersistentClient(path=\"/home/ashok/Documents/chroma_db\")"
   ]
  },
  {
   "cell_type": "code",
   "execution_count": 13,
   "metadata": {},
   "outputs": [
    {
     "data": {
      "text/plain": [
       "Collection(name=datastore)"
      ]
     },
     "execution_count": 13,
     "metadata": {},
     "output_type": "execute_result"
    }
   ],
   "source": [
    "# 5.2 Check if collection exists. If so delete it.\n",
    "#     Collections are the grouping mechanism for embeddings, documents, and metadata.\n",
    "#     Chromadb can have multiple collections\n",
    "\n",
    "if 'datastore' in chroma_client.list_collections():\n",
    "    chroma_client.delete_collection(\"datastore\")\n",
    "    chroma_collection = chroma_client.create_collection(\"datastore\")  \n",
    "else:\n",
    "    # Create collection afresh\n",
    "    chroma_collection = chroma_client.create_collection(\"datastore\")   \n",
    "\n",
    "# 5.3 Get collection information:\n",
    "chroma_collection    "
   ]
  },
  {
   "cell_type": "code",
   "execution_count": 14,
   "metadata": {},
   "outputs": [
    {
     "name": "stdout",
     "output_type": "stream",
     "text": [
      "\n",
      "Number of collections in chromadb\n"
     ]
    },
    {
     "data": {
      "text/plain": [
       "2"
      ]
     },
     "metadata": {},
     "output_type": "display_data"
    },
    {
     "name": "stdout",
     "output_type": "stream",
     "text": [
      "\n",
      "List of collections in chromadb\n"
     ]
    },
    {
     "data": {
      "text/plain": [
       "['quickstart', 'datastore']"
      ]
     },
     "metadata": {},
     "output_type": "display_data"
    },
    {
     "name": "stdout",
     "output_type": "stream",
     "text": [
      "\n",
      "Number of records in a collection\n"
     ]
    },
    {
     "data": {
      "text/plain": [
       "0"
      ]
     },
     "metadata": {},
     "output_type": "display_data"
    }
   ],
   "source": [
    "# 5.4 Some chroma_client related methods:\n",
    "print(\"\\nNumber of collections in chromadb\")\n",
    "display(chroma_client.count_collections())\n",
    "print(\"\\nList of collections in chromadb\")\n",
    "display(chroma_client.list_collections())\n",
    "print(\"\\nNumber of records in a collection\")\n",
    "display(chroma_collection.count())"
   ]
  },
  {
   "cell_type": "code",
   "execution_count": 15,
   "metadata": {},
   "outputs": [],
   "source": [
    "# 6.0 Set up a blank ChromaVectorStore and load in data\n",
    "vector_store = ChromaVectorStore(chroma_collection=chroma_collection)\n",
    "\n",
    "# 6.1\n",
    "storage_context = StorageContext.from_defaults(vector_store=vector_store)"
   ]
  },
  {
   "cell_type": "code",
   "execution_count": 16,
   "metadata": {},
   "outputs": [
    {
     "name": "stderr",
     "output_type": "stream",
     "text": [
      "Parsing nodes: 100%|████████████████████████| 500/500 [00:00<00:00, 9014.12it/s]\n",
      "Generating embeddings: 100%|█████████████████| 500/500 [00:04<00:00, 101.91it/s]\n"
     ]
    },
    {
     "name": "stdout",
     "output_type": "stream",
     "text": [
      "CPU times: user 1.06 s, sys: 101 ms, total: 1.16 s\n",
      "Wall time: 5.44 s\n"
     ]
    }
   ],
   "source": [
    "%%time\n",
    "\n",
    "# 6.2 Takes docs and storage context:\n",
    "#     Repeating this operation, doubles the number of vectors/records in the collection\n",
    "\n",
    "index = VectorStoreIndex.from_documents(\n",
    "                                         docs,\n",
    "                                         storage_context=storage_context,\n",
    "                                         show_progress= True                 # Show progress bar\n",
    "                                        )"
   ]
  },
  {
   "cell_type": "code",
   "execution_count": 17,
   "metadata": {},
   "outputs": [
    {
     "name": "stdout",
     "output_type": "stream",
     "text": [
      "\n",
      "Number of records in a collection\n"
     ]
    },
    {
     "data": {
      "text/plain": [
       "500"
      ]
     },
     "metadata": {},
     "output_type": "display_data"
    }
   ],
   "source": [
    "# 6.3\n",
    "print(\"\\nNumber of records in a collection\")\n",
    "display(chroma_collection.count())"
   ]
  },
  {
   "cell_type": "code",
   "execution_count": 44,
   "metadata": {},
   "outputs": [],
   "source": [
    "from llama_index.core import ChatPromptTemplate\n",
    "from llama_index.core.llms import ChatMessage, MessageRole\n",
    "\n",
    "message_templates = [\n",
    "    ChatMessage(content=\"You are an expert system.\", role=MessageRole.SYSTEM),\n",
    "    ChatMessage(\n",
    "        content=\"Generate a short story about {topic}\",\n",
    "        role=MessageRole.USER,\n",
    "    ),\n",
    "]\n",
    "chat_template = ChatPromptTemplate(message_templates=message_templates)\n",
    "\n",
    "# you can create message prompts (for chat API)\n",
    "messages = chat_template.format_messages(topic=...)\n",
    "\n",
    "# or easily convert to text prompt (for completion API)\n",
    "# prompt = chat_template.format(topic=...)\n",
    "\n",
    "\n",
    "\n",
    "# Update the prompts of your query engine\n",
    "# 7.0 Query Data\n",
    "query_engine = index.as_query_engine()\n",
    "query_engine.update_prompts(\n",
    "    {\"response_synthesizer:text_qa_template\": formatted_prompt }\n",
    ")"
   ]
  },
  {
   "cell_type": "markdown",
   "metadata": {},
   "source": [
    "### Create Simple Query Engine"
   ]
  },
  {
   "cell_type": "code",
   "execution_count": 18,
   "metadata": {},
   "outputs": [],
   "source": [
    "# 7.0 Query Data\n",
    "query_engine = index.as_query_engine()"
   ]
  },
  {
   "cell_type": "code",
   "execution_count": 19,
   "metadata": {},
   "outputs": [],
   "source": [
    "7.1\n",
    "response = query_engine.query(\"Give me all details of the student with Roll Number 1 and full name as 'Amit Sharma' .\")\n",
    "#response = query_engine.query(\"Give me full names of all students in the data\")"
   ]
  },
  {
   "cell_type": "code",
   "execution_count": 20,
   "metadata": {},
   "outputs": [
    {
     "name": "stdout",
     "output_type": "stream",
     "text": [
      "Roll_Number: 1\n",
      "fullName: Amit Sharma\n",
      "Gender: Male\n",
      "BirthDate: 5/14/2002\n",
      "age: 23\n",
      "MBA CGPA: 6.69\n",
      "garduation college: Vivekananda Institute Of Professional Studies\n",
      "University: Guru Gobind Singh Indraprastha University\n",
      "Degree: B.C.A.\n",
      "Specialization: Computer Applications\n",
      "percentage marks obtained during graduation: 53.83\n",
      "year when graduation was completed: 2021\n",
      "name of the school attended for class 12: Holy Convent School\n",
      "education board for class 12: CBSE\n",
      "academic stream chosen in class 12: Commerce\n",
      "percentage marks scored in class 12: 79.33\n",
      "year when class 12 was completed: 2018\n",
      "name of the school attended for class 10: Jaspal Kaur Public School\n",
      "education board for class 10: CBSE\n",
      "percentage marks scored in class 10: 85.16\n",
      "year when class 10 was completed: 2018\n"
     ]
    }
   ],
   "source": [
    "# 7.2\n",
    "print(response)"
   ]
  },
  {
   "cell_type": "markdown",
   "metadata": {},
   "source": [
    "## Completion prompt vs chat prompt\n",
    "\n",
    "The main difference between completion and chat prompts lies in their structure and intended use: completion prompts are single strings for text generation, while chat prompts are lists of messages (with roles like \"system,\" \"user,\" and \"assistant\") designed for conversational AI interactions.   \n",
    "Here's a more detailed breakdown:\n",
    "**Completion Prompts:**      \n",
    "\n",
    ">**Structure**: A single string of text, often used for tasks like generating text, completing sentences, or translating.       \n",
    ">**Example**: \"The quick brown fox jumps over...\"        \n",
    ">**Use Cases**: Text generation, code completion, and other tasks where the AI needs to extend or complete a given input.       \n",
    ">**API**: Uses the legacy /completions endpoint.       \n",
    "\n",
    "**Chat Prompts:**     \n",
    ">**Structure**: A list of messages, each with a \"role\" (e.g., \"system,\" \"user,\" \"assistant\") and \"content\".     \n",
    ">**Example**\n",
    "><pre>\n",
    "  [\n",
    "      {\"role\": \"system\", \"content\": \"You are a helpful assistant.\"},\n",
    "      {\"role\": \"user\", \"content\": \"What is the capital of France?\"},\n",
    "      {\"role\": \"assistant\", \"content\": \"The capital of France is Paris.\"}\n",
    "    ]\n",
    "    \n",
    "</pre>\n",
    ">**Use Cases**: Conversational AI, chatbots, and other applications where the AI needs to engage in a dialogue.      \n",
    ">**API**: Uses the /chat/completions endpoint.      \n",
    ">**Flexibility**: Offers more control and flexibility by allowing you to define the system's role, incorporate previous responses, and set the user's prompt     "
   ]
  },
  {
   "cell_type": "markdown",
   "metadata": {},
   "source": [
    "## Using prompt in queries\n",
    "Defining a custom prompt is as simple as creating a format string     \n",
    "See this [link](https://docs.llamaindex.ai/en/stable/module_guides/models/prompts/usage_pattern/)  and this [link](https://community.llamaindex.ai/how-do-i-add-a-custom-prompt-to-my-query-engine-i-want-to-pass-in-a-custom-promptlets-LKz2xGw8KCzv)"
   ]
  },
  {
   "cell_type": "code",
   "execution_count": 22,
   "metadata": {},
   "outputs": [
    {
     "name": "stdout",
     "output_type": "stream",
     "text": [
      "The CGPA score for Amit Sharma is 6.69.\n"
     ]
    }
   ],
   "source": [
    "# 8.0\n",
    "from llama_index.core import PromptTemplate\n",
    "\n",
    "# 8.1 Define your custom prompt with the new variable\n",
    "custom_prompt_str = (\n",
    "                      \"You are an expert Q&A system that is trusted around the world.\\n\"\n",
    "                      \"Your description as an agent is as follows: \\n\"\n",
    "                      \"{{chatbot_description}}\\n\"\n",
    "                             \"Always answer the query using the provided context information, and not prior knowledge.\\n\"\n",
    "                      \"Some rules to follow:\\n\"\n",
    "                          \"Never directly reference the given context in your answer.\\n\"\n",
    "                          \"Avoid statements like 'Based on the context, ...' or 'The context information ...' or anything along those lines.\\n\"\n",
    "                      \"\\n\"\n",
    "                     \"Context information is below.\\n\"\n",
    "                     \"---------------------\\n\"\n",
    "                     \"{{context_str}}\\n\"\n",
    "                     \"---------------------\\n\"\n",
    "                        \"Given the context information and not prior knowledge, answer the query.\\n\"\n",
    "                        \"Query: {{query_str}}\\n\"\n",
    "                        \"Answer: \"\n",
    "                  )\n",
    "\n",
    "\n",
    "# 8.2 Create a PromptTemplate with your custom prompt\n",
    "custom_prompt = PromptTemplate(custom_prompt_str)\n",
    "\n",
    "\n",
    "# 8.3 Update the prompts of your query engine\n",
    "query_engine.update_prompts(\n",
    "                              {\"response_synthesizer:text_qa_template\": custom_prompt}\n",
    "                           )\n",
    "\n",
    "# 8.4 Now you can make a query with your query engine\n",
    "query_str = \"Give me CGPA score of student with Roll Number 1 and full name as 'Amit Sharma' .\"\n",
    "response = query_engine.query(query_str)\n",
    "\n",
    "# 8.5 Print the response\n",
    "print(str(response))"
   ]
  },
  {
   "cell_type": "markdown",
   "metadata": {},
   "source": [
    "## Chatting with data"
   ]
  },
  {
   "cell_type": "code",
   "execution_count": 30,
   "metadata": {},
   "outputs": [
    {
     "name": "stdout",
     "output_type": "stream",
     "text": [
      "I don't have any information about a specific student with roll number 1 and full name as \"Amit Sharma\". I'm a large language model, I don't have access to personal data or records of individual students. My training data is general knowledge and doesn't include specific details about individuals.\n",
      "\n",
      "If you're looking for information about a particular student, it's likely that the information would be stored in a school or university database, or perhaps in a student information system (SIS). I wouldn't be able to provide you with any details without more context or access to those systems.\n"
     ]
    }
   ],
   "source": [
    "# 9.0\n",
    "from llama_index.core import ChatPromptTemplate\n",
    "from llama_index.core.llms import ChatMessage, MessageRole\n",
    "\n",
    "# 9.1 An ambiguous SYSTEM message\n",
    "message_templates = [\n",
    "                     ChatMessage(content=\"You are an expert system.\", role=MessageRole.SYSTEM),\n",
    "                     ChatMessage(\n",
    "                                 content=\"{query_str}\",\n",
    "                                 role=MessageRole.USER,\n",
    "                               ),\n",
    "                    ]\n",
    "# 9.2\n",
    "chat_template = ChatPromptTemplate(message_templates=message_templates)\n",
    "\n",
    "\n",
    "# 9.3\n",
    "query_str = \"Give me all details of the student with Roll Number 1 and full name as 'Amit Sharma' .\"\n",
    "\n",
    "\n",
    "# 9.4 Query Data with a general query without reference to any document\n",
    "query_engine = index.as_query_engine()\n",
    "query_engine.update_prompts(\n",
    "                            {\"response_synthesizer:text_qa_template\": chat_template }\n",
    "                            )\n",
    "\n",
    "\n",
    "#prompt = chat_template.format(topic=query_str)\n",
    "# 9.5\n",
    "response = query_engine.query(query_str)\n",
    "print(str(response))"
   ]
  },
  {
   "cell_type": "code",
   "execution_count": 25,
   "metadata": {},
   "outputs": [],
   "source": [
    "# 10.0 A better question\n",
    "\n",
    "chat_engine = index.as_chat_engine(chat_mode=\"condense_question\", verbose=True)\n",
    "response = chat_engine.chat(\"Give me CGPA score of student with Roll Number 1 and full name as 'Amit Sharma'\")\n",
    "print(str(response))"
   ]
  },
  {
   "cell_type": "code",
   "execution_count": 28,
   "metadata": {},
   "outputs": [
    {
     "name": "stdout",
     "output_type": "stream",
     "text": [
      "Querying with: What is the name of the school that Amit Sharma, a student with a CGPA score of 6.69 and roll number 1, attended for his class 12 exams?\n",
      "Holy Convent School\n"
     ]
    }
   ],
   "source": [
    "# 10.1 Follow up query\n",
    "response = chat_engine.chat(\"What was the name of the school he attended for class 12?\")\n",
    "print(str(response))"
   ]
  },
  {
   "cell_type": "markdown",
   "metadata": {},
   "source": [
    "### Define SYSTEM and USE prompt separately"
   ]
  },
  {
   "cell_type": "code",
   "execution_count": 32,
   "metadata": {},
   "outputs": [
    {
     "name": "stdout",
     "output_type": "stream",
     "text": [
      "Roll Number 1 belongs to Amit Sharma. He is a male student born on May 14, 2002. His age is 23 years old. Amit Sharma graduated from Vivekananda Institute Of Professional Studies with a degree in B.C.A. under the Computer Applications specialization. During his graduation, he scored 53.83% marks and completed his studies in the year 2021. In class 12, Amit attended Holy Convent School, achieved 79.33% marks, and graduated in Commerce stream. He also attended Jaspal Kaur Public School for class 10, scoring 85.16% marks, and completed his class 10 education in 2018.\n"
     ]
    }
   ],
   "source": [
    "# 11.0\n",
    "from llama_index.core import ChatPromptTemplate\n",
    "from llama_index.core.llms import ChatMessage, MessageRole\n",
    "\n",
    "\n",
    "# 8.1 Define your SYSTEM prompt with the new variable\n",
    "custom_prompt_str = (\n",
    "                      \"You are an expert Q&A system that is trusted around the world.\\n\"\n",
    "                      \"Your description as an agent is as follows: \\n\"\n",
    "                      \"{{chatbot_description}}\\n\"\n",
    "                             \"Always answer the query using the provided context information, and not prior knowledge.\\n\"\n",
    "                      \"Some rules to follow:\\n\"\n",
    "                          \"Never directly reference the given context in your answer.\\n\"\n",
    "                          \"Avoid statements like 'Based on the context, ...' or 'The context information ...' or anything along those lines.\\n\"\n",
    "                      \"\\n\"\n",
    "                     \"Context information is below.\\n\"\n",
    "                     \"---------------------\\n\"\n",
    "                     \"{{context_str}}\\n\"\n",
    "                     \"---------------------\\n\"\n",
    "                        \"Given the context information and not prior knowledge, answer the query.\\n\"\n",
    "                        \"Query: {{query_str}}\\n\"\n",
    "                        \"Answer: \"\n",
    "                  )\n",
    "\n",
    "\n",
    "# 8.2 Create a PromptTemplate with your custom prompt\n",
    "custom_prompt = PromptTemplate(custom_prompt_str)\n",
    "\n",
    "message_templates = [\n",
    "                     ChatMessage(content=custom_prompt_str, role=MessageRole.SYSTEM),\n",
    "                     ChatMessage(\n",
    "                                 content=\"Given the context information and not prior knowledge, answer the query: {query_str}\",\n",
    "                                 role=MessageRole.USER,\n",
    "                               ),\n",
    "                    ]\n",
    "\n",
    "chat_template = ChatPromptTemplate(message_templates= message_templates )\n",
    "\n",
    "# you can create message prompts (for chat API)\n",
    "#messages = chat_template.format_messages(topic= \"Cat and mouse\")\n",
    "\n",
    "# or easily convert to text prompt (for completion API)\n",
    "query_str = \"Give me all details of the student with Roll Number 1 and full name as 'Amit Sharma' .\"\n",
    "#prompt = chat_template.format(topic=query_str)\n",
    "#chat_template = ChatPromptTemplate(message_templates=message_templates)\n",
    "\n",
    "\n",
    "# Update the prompts of your query engine\n",
    "# 7.0 Query Data\n",
    "query_engine = index.as_query_engine()\n",
    "query_engine.update_prompts(\n",
    "                            {\"response_synthesizer:text_qa_template\": chat_template }\n",
    "                            )\n",
    "\n",
    "\n",
    "#prompt = chat_template.format(topic=query_str)\n",
    "\n",
    "response = query_engine.query(query_str)\n",
    "print(str(response))"
   ]
  },
  {
   "cell_type": "code",
   "execution_count": null,
   "metadata": {},
   "outputs": [],
   "source": [
    "##################"
   ]
  },
  {
   "cell_type": "code",
   "execution_count": null,
   "metadata": {},
   "outputs": [],
   "source": []
  }
 ],
 "metadata": {
  "kernelspec": {
   "display_name": "Python 3 (ipykernel)",
   "language": "python",
   "name": "python3"
  },
  "language_info": {
   "codemirror_mode": {
    "name": "ipython",
    "version": 3
   },
   "file_extension": ".py",
   "mimetype": "text/x-python",
   "name": "python",
   "nbconvert_exporter": "python",
   "pygments_lexer": "ipython3",
   "version": "3.10.12"
  }
 },
 "nbformat": 4,
 "nbformat_minor": 4
}
