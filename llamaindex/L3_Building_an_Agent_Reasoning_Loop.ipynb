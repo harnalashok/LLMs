{
 "cells": [
  {
   "attachments": {
    "a65a92f4-d9b0-4d4a-8a09-95041ab700be.png": {
     "image/png": "[encoded data removed]"
    }
   },
   "cell_type": "markdown",
   "id": "64ec2f0f",
   "metadata": {},
   "source": [
    "# Lesson 3: Building an Agent Reasoning Loop\n",
    "\n",
    "Ref: [deeplearning.ai](https://learn.deeplearning.ai/courses/building-agentic-rag-with-llamaindex/lesson/ix5w5/building-an-agent-reasoning-loop)     \n",
    "Login with email: ashok@fsm.ac.in (password is the usual one)    \n",
    "   \n",
    "![image.png](attachment:a65a92f4-d9b0-4d4a-8a09-95041ab700be.png)\n"
   ]
  },
  {
   "cell_type": "markdown",
   "id": "b0d7f1cf",
   "metadata": {},
   "source": [
    "## Setup"
   ]
  },
  {
   "cell_type": "code",
   "execution_count": 1,
   "id": "eb50481a-d719-49ea-b26b-566bda508b9b",
   "metadata": {},
   "outputs": [
    {
     "name": "stdin",
     "output_type": "stream",
     "text": [
      "Once deleted, variables cannot be recovered. Proceed (y/[n])?  y\n"
     ]
    }
   ],
   "source": [
    "%reset"
   ]
  },
  {
   "cell_type": "code",
   "execution_count": 2,
   "id": "dcfa86a3-c7f2-41fa-b8b6-5617659ec36a",
   "metadata": {
    "height": 47,
    "tags": []
   },
   "outputs": [],
   "source": [
    "# 1.0\n",
    "import nest_asyncio\n",
    "nest_asyncio.apply()"
   ]
  },
  {
   "cell_type": "markdown",
   "id": "7d3af4bb",
   "metadata": {},
   "source": [
    "## Load the data"
   ]
  },
  {
   "cell_type": "markdown",
   "id": "3d8bfb34",
   "metadata": {
    "tags": []
   },
   "source": [
    "To download this paper, below is the needed code:\n",
    "\n",
    "#!wget \"https://openreview.net/pdf?id=VtmBAGCN7o\" -O metagpt.pdf\n",
    "\n",
    "**Note**: The pdf file is included with this lesson. To access it, go to the `File` menu and select`Open...`."
   ]
  },
  {
   "cell_type": "code",
   "execution_count": 3,
   "id": "fa0b5ea0-4644-4c69-89ff-9062238203c0",
   "metadata": {},
   "outputs": [],
   "source": [
    "# 1.0\n",
    "import nest_asyncio\n",
    "nest_asyncio.apply()"
   ]
  },
  {
   "cell_type": "code",
   "execution_count": 14,
   "id": "20d16add-1b09-4ee5-a704-f7abf414d004",
   "metadata": {},
   "outputs": [],
   "source": [
    "# 2.0\n",
    "\n",
    "from llama_index.core import Settings\n",
    "from llama_index.llms.ollama import Ollama\n",
    "from llama_index.embeddings.ollama import OllamaEmbedding\n",
    "from llama_index.llms.openai_like import OpenAILike\n",
    "\n",
    "# 2.1\n",
    "\n",
    "Settings.llm = OpenAILike(\n",
    "                          temperature=0.7,\n",
    "                          model= \"gpt-3.5-turbo\",  # \"gemma-3-27b-it\",  #          # Can be any name, not necessarily openai's gpt\n",
    "                          api_base=\"http://127.0.0.1:8080/v1\",\n",
    "                          api_key=\"fake\",\n",
    "                          timeout= 1000.0,\n",
    "                          is_chat_model = True,\n",
    "                          is_function_calling_model=True,\n",
    "                          )\n",
    "\n",
    "# 2.2\n",
    "Settings.embed_model = OllamaEmbedding(\n",
    "                                        model_name=\"nomic-embed-text\",      # Using foundational model may be overkill\n",
    "                                        base_url=\"http://localhost:11434\",\n",
    "                                       )\n"
   ]
  },
  {
   "cell_type": "code",
   "execution_count": 15,
   "id": "73110257-05a5-4a64-9727-0e245372fab0",
   "metadata": {},
   "outputs": [],
   "source": [
    "# 3.0\n",
    "\n",
    "from llama_index.core import SimpleDirectoryReader\n",
    "\n",
    "# 3.1 load documents\n",
    "documents = SimpleDirectoryReader(input_files=[\"/home/ashok/Documents/csvrag/metagpt.pdf\"]).load_data()"
   ]
  },
  {
   "cell_type": "code",
   "execution_count": 16,
   "id": "5ce53ddb-8b0a-474d-b4cf-cfd8637da757",
   "metadata": {},
   "outputs": [],
   "source": [
    "# 4.0\n",
    "\n",
    "from llama_index.core.node_parser import SentenceSplitter\n",
    "\n",
    "# 3.1\n",
    "splitter = SentenceSplitter(chunk_size=1024)\n",
    "\n",
    "# 3.2\n",
    "nodes = splitter.get_nodes_from_documents(documents)"
   ]
  },
  {
   "cell_type": "markdown",
   "id": "fb741560",
   "metadata": {},
   "source": [
    "## Setup the Query Tools"
   ]
  },
  {
   "cell_type": "code",
   "execution_count": 17,
   "id": "9540050d-a3d7-4e86-8f12-a77791ed5026",
   "metadata": {},
   "outputs": [],
   "source": [
    "# 5.0\n",
    "from llama_index.core import SummaryIndex, VectorStoreIndex\n",
    "\n",
    "# 5.0\n",
    "summary_index = SummaryIndex(nodes)\n",
    "\n",
    "# 5.1\n",
    "vector_index = VectorStoreIndex(\n",
    "                                 nodes,\n",
    "                                 show_progres = True\n",
    "                               )"
   ]
  },
  {
   "cell_type": "code",
   "execution_count": 18,
   "id": "34875e1f-828d-4245-beab-eca457dddd50",
   "metadata": {},
   "outputs": [],
   "source": [
    "# 6.0\n",
    "summary_query_engine = summary_index.as_query_engine(\n",
    "                                                     response_mode=\"tree_summarize\",\n",
    "                                                     use_async=True,  # Optional but gives faster response\n",
    "                                                    )\n",
    "\n",
    "# 6.1\n",
    "vector_query_engine = vector_index.as_query_engine(show_progress = True)"
   ]
  },
  {
   "cell_type": "code",
   "execution_count": 19,
   "id": "adf75d30-834a-4e2e-b28f-cb9ceb72d095",
   "metadata": {},
   "outputs": [],
   "source": [
    "# 7.0\n",
    "\n",
    "from llama_index.core.tools import QueryEngineTool\n",
    "\n",
    "# 7.1\n",
    "summary_tool = QueryEngineTool.from_defaults(\n",
    "                                             query_engine=summary_query_engine,\n",
    "                                             description=(\n",
    "                                                          \"Useful for summarization questions related to MetaGPT\"\n",
    "                                                          ),\n",
    "                                              )\n",
    "\n",
    "# 7.2\n",
    "vector_tool = QueryEngineTool.from_defaults(\n",
    "                                             query_engine=vector_query_engine,\n",
    "                                             description=(\n",
    "                                                           \"Useful for retrieving specific context from the MetaGPT paper.\"\n",
    "                                                         ),\n",
    "                                            )\n"
   ]
  },
  {
   "cell_type": "code",
   "execution_count": 20,
   "id": "77464fb2-5ace-4839-9032-a020df8d4259",
   "metadata": {
    "height": 64,
    "tags": []
   },
   "outputs": [],
   "source": [
    "#from utils import get_doc_tools\n",
    "\n",
    "#vector_tool, summary_tool = get_doc_tools(\"metagpt.pdf\", \"metagpt\")"
   ]
  },
  {
   "cell_type": "markdown",
   "id": "40aae3fc",
   "metadata": {},
   "source": [
    "## Setup Function Calling Agent"
   ]
  },
  {
   "cell_type": "code",
   "execution_count": 21,
   "id": "ff4f5199-d02c-47b0-a9ab-cf72c8a506a3",
   "metadata": {
    "height": 64,
    "tags": []
   },
   "outputs": [],
   "source": [
    "# 8.0\n",
    "llm = Settings.llm"
   ]
  },
  {
   "cell_type": "code",
   "execution_count": 22,
   "id": "9365d78d-8e9f-4f22-8d57-35a4c6aa6baf",
   "metadata": {
    "height": 166,
    "tags": []
   },
   "outputs": [],
   "source": [
    "# 9.0\n",
    "\n",
    "from llama_index.core.agent import FunctionCallingAgentWorker\n",
    "from llama_index.core.agent import AgentRunner\n",
    "\n",
    "# 9.1\n",
    "agent_worker = FunctionCallingAgentWorker.from_tools(\n",
    "                                                      [vector_tool, summary_tool], \n",
    "                                                      llm=llm, \n",
    "                                                      verbose=True\n",
    "                                                    )\n",
    "\n",
    "# 9.2\n",
    "agent = AgentRunner(agent_worker)"
   ]
  },
  {
   "cell_type": "code",
   "execution_count": 23,
   "id": "5a9535d7-0baf-4905-ad16-5fb903d33b85",
   "metadata": {
    "height": 81,
    "tags": []
   },
   "outputs": [
    {
     "name": "stdout",
     "output_type": "stream",
     "text": [
      "Added user message to memory: Tell me about the agent roles in MetaGPT, and then how they communicate with each other.\n",
      "=== Calling Function ===\n",
      "Calling function: query_engine_tool with args: {\"input\": \"Tell me about the agent roles in MetaGPT, and then how they communicate with each other.\"}\n",
      "=== Function Output ===\n",
      "In MetaGPT, the agent roles are specifically designed to enhance the efficiency and effectiveness of software development tasks. The primary roles include the Product Manager, Architect, Project Manager, Engineer, and QA Engineer, each with distinct responsibilities:\n",
      "\n",
      "1. **Product Manager**: This agent is responsible for conducting business-oriented analysis and deriving insights. They create a Product Requirement Document (PRD) that includes goals, user stories, competitive analysis, and requirement analysis. This document serves as the foundation for the project and is handed over to the Architect for further development.\n",
      "\n",
      "2. **Architect**: The Architect takes the PRD and translates it into technical specifications and system design components. They create system architecture diagrams, interface definitions, and technical trajectories. The Architect's output, including the overall system architecture and detailed design documents, is then passed to the Project Manager for task distribution.\n",
      "\n",
      "3. **Project Manager**: The Project Manager breaks down the project into manageable tasks based on the Architect's design. Each task is assigned to the appropriate Engineer, ensuring that the development process is organized and efficient.\n",
      "\n",
      "4. **Engineer**: Engineers are responsible for executing the development tasks assigned by the Project Manager. They write the code for each assigned file, ensuring that the technical specifications are met.\n",
      "\n",
      "5. **QA Engineer**: The QA Engineer's role is to ensure the quality and correctness of the code produced by the Engineers. They generate unit tests, identify bugs, and provide feedback for improvements. This role is crucial for maintaining the software's quality and reliability.\n",
      "\n",
      "Communication among these agents is structured and efficient, facilitated through a shared message pool and a publish-subscribe mechanism. Each agent's output serves as input for the subsequent agent, ensuring a seamless workflow. For example, the Product Manager's PRD is handed over to the Architect, who then provides the technical specifications to the Project Manager. The Project Manager assigns tasks to the Engineers, and the QA Engineer reviews the code to ensure quality. This structured communication system reduces errors and enhances collaboration, leading to higher quality software development.\n",
      "\n",
      "\n",
      "=== Calling Function ===\n",
      "Calling function: query_engine_tool with args: {\"input\": \"MetaGPT utilizes a structured and efficient communication system among its agents to enhance software development processes. The agents include the Product Manager, Architect, Project Manager, Engineer, and QA Engineer, each with specific roles and responsibilities.\\n\\n1. **Product Manager**: This agent is responsible for conducting business-oriented analysis and deriving insights. They create a Product Requirement Document (PRD) that includes goals, user stories, competitive analysis, and requirement analysis. This document serves as the foundation for the project and is handed over to the Architect for further development.\\n\\n2. **Architect**: The Architect takes the PRD and translates it into technical specifications and system design components. They create system architecture diagrams, interface definitions, and technical trajectories. The Architect's output, including the overall system architecture and detailed design documents, is then passed to the Project Manager for task distribution.\\n\\n3. **Project Manager**: The Project Manager breaks down the project into manageable tasks based on the Architect's design. Each task is assigned to the appropriate Engineer, ensuring that the development process is organized and efficient.\\n\\n4. **Engineer**: Engineers are responsible for executing the development tasks assigned by the Project Manager. They write the code for each assigned file, ensuring that the technical specifications are met.\\n\\n5. **QA Engineer**: The QA Engineer's role is to ensure the quality and correctness of the code produced by the Engineers. They generate unit tests, identify bugs, and provide feedback for improvements. This role is crucial for maintaining the software's quality and reliability.\\n\\nCommunication among these agents is structured and efficient, facilitated through a shared message pool and a publish-subscribe mechanism. Each agent's output serves as input for the subsequent agent, ensuring a seamless workflow. For example, the Product Manager's PRD is handed over to the Architect, who then provides the technical specifications to the Project Manager. The Project Manager assigns tasks to the Engineers, and the QA Engineer reviews the code to ensure quality. This structured communication system reduces errors and enhances collaboration, leading to higher quality software development.\"}\n",
      "=== Function Output ===\n",
      "MetaGPT employs a structured and efficient communication system among its agents to enhance software development processes. The system includes several specialized agents, each with distinct roles and responsibilities, which work together to ensure efficient and high-quality software development.\n",
      "\n",
      "1. **Product Manager**: The Product Manager is responsible for business-oriented analysis and insights. They create a Product Requirement Document (PRD) that encompasses goals, user stories, competitive analysis, and requirement analysis. This PRD serves as the foundation for the project and is handed over to the Architect for further development.\n",
      "\n",
      "2. **Architect**: The Architect takes the PRD and translates it into technical specifications and system design components. They create system architecture diagrams, interface definitions, and technical trajectories. The Architect's output, which includes the overall system architecture and detailed design documents, is then passed to the Project Manager for task distribution.\n",
      "\n",
      "3. **Project Manager**: The Project Manager breaks down the project into manageable tasks based on the Architect's design. Each task is assigned to the appropriate Engineer, ensuring that the development process is organized and efficient.\n",
      "\n",
      "4. **Engineer**: Engineers are responsible for executing the development tasks assigned by the Project Manager. They write the code for each assigned file, ensuring that the technical specifications are met.\n",
      "\n",
      "5. **QA Engineer**: The QA Engineer's role is to ensure the quality and correctness of the code produced by the Engineers. They generate unit tests, identify bugs, and provide feedback for improvements. This role is crucial for maintaining the software's quality and reliability.\n",
      "\n",
      "Communication among these agents is structured and efficient, facilitated through a shared message pool and a publish-subscribe mechanism. Each agent's output serves as input for the subsequent agent, ensuring a seamless workflow. For example, the Product Manager's PRD is handed over to the Architect, who then provides the technical specifications to the Project Manager. The Project Manager assigns tasks to the Engineers, and the QA Engineer reviews the code to ensure quality. This structured communication system reduces errors and enhances collaboration, leading to higher quality software development.\n",
      "\n",
      "=== Calling Function ===\n",
      "Calling function: query_engine_tool with args: {\"input\": \"Tell me about the agent roles in MetaGPT, and then how they communicate with each other.\"}\n",
      "=== Function Output ===\n",
      "In MetaGPT, agent roles are specifically defined to cover different aspects of the software development process, ensuring efficiency and reducing errors. The system includes five specialized roles:\n",
      "\n",
      "1. **Product Manager**: This agent is responsible for business-oriented analysis and gathering insights. They utilize tools like web searches to collect necessary information, ensuring alignment with business goals.\n",
      "\n",
      "2. **Architect**: This role focuses on system design and high-level technical planning. The Architect translates user requirements into detailed system designs, including interface definitions and data structures.\n",
      "\n",
      "3. **Project Manager**: This agent oversees the project timelines and manages tasks. They break down the system design into actionable tasks and ensure that the development team is equipped with the necessary tools and knowledge.\n",
      "\n",
      "4. **Engineer**: Responsible for programming and code implementation, this agent executes the tasks assigned by the Project Manager. They generate code based on pre-defined structures and function definitions.\n",
      "\n",
      "5. **QA Engineer**: Ensures code quality by developing and running test cases. This agent reviews code outputs for errors and fixes any issues to maintain high standards.\n",
      "\n",
      "Communication among these roles is structured and efficient. Agents communicate through structured messages, publishing them to a shared message pool. This allows other agents to subscribe to relevant messages, ensuring they receive necessary information without unnecessary overload. The iterative programming approach involves Engineers running code, checking for errors, and using executable feedback to make corrections based on past messages and documents. This structured communication protocol ensures clarity and precision, reducing the risk of information distortion and enhancing collaboration among different roles.\n",
      "\n",
      "\n",
      "=== Calling Function ===\n",
      "Calling function: query_engine_tool with args: {\"input\": \"Agent Roles in MetaGPT\"}\n",
      "=== Function Output ===\n",
      "MetaGPT employs a structured multi-agent framework where each agent has a clearly defined role tailored to specific aspects of the software development process. These roles are designed to mirror the responsibilities found in a software company, ensuring efficient collaboration and task execution. \n",
      "\n",
      "1. **Development Agent**: This agent handles the core software development tasks, applying programming and natural language skills to achieve project goals. It plays a crucial role in executing the development process efficiently.\n",
      "\n",
      "2. **Reflection Agent**: Engages in self-reflection by analyzing the performance and outcomes of completed projects. This agent identifies improvement areas and adapts future strategies based on past experiences.\n",
      "\n",
      "3. **Collaboration Agent**: Facilitates teamwork among different agents, ensuring seamless communication and cooperation. This agent aligns the efforts of various agents towards a common objective.\n",
      "\n",
      "4. **Learning Agent**: Focuses on acquiring new knowledge and skills from past projects. It refines algorithms for better future performance through recursive self-improvement.\n",
      "\n",
      "5. **Evaluation Agent**: Assesses the effectiveness of the development process, providing feedback on software quality and the efficiency of methods used.\n",
      "\n",
      "6. **Adaptation Agent**: Adapts to new challenges and environments, ensuring the system remains flexible and capable of handling a wide range of tasks and scenarios.\n",
      "\n",
      "7. **Innovation Agent**: Drives the exploration of new ideas and approaches, fostering creativity and innovation within the framework.\n",
      "\n",
      "8. **Integration Agent**: Ensures different components work together harmoniously, integrating various tools and techniques to enhance overall performance.\n",
      "\n",
      "9. **Optimization Agent**: Focuses on optimizing processes and algorithms, ensuring resources are used efficiently and the system performs at its best.\n",
      "\n",
      "10. **Support Agent**: Provides assistance to other agents, helping them overcome challenges and achieve objectives.\n",
      "\n",
      "In addition to these roles, the MetaGPT framework includes specific agents for different phases of the software development lifecycle:\n",
      "\n",
      "- **Product Manager**: Conducts business-oriented analysis and derives insights to create Product Requirements Documents (PRDs) with standardized structures.\n",
      "- **Architect**: Ensures the software architecture aligns with the PRD, creating technical specifications and system architecture diagrams.\n",
      "- **Project Manager**: Oversees project timelines, coordinates tasks, and ensures completion on schedule.\n",
      "- **Engineer**: Responsible for programming, code generation, execution, and necessary modifications.\n",
      "- **QA Engineer**: Conducts quality assurance, tests software for bugs, and ensures it meets required standards.\n",
      "\n",
      "Each agent operates within a structured workflow, adhering to standard operating procedures to enhance communication efficiency, reduce information overload, and ultimately lead to successful software development. The shared message pool and subscription mechanism further facilitate efficient collaboration among agents, ensuring that the MetaGPT system can learn from experience, improve over time, and achieve its goals effectively.\n",
      "=== Calling Function ===\n",
      "Calling function: query_engine_tool with args: {\"input\": \"Tell me about the agent roles in MetaGPT, and then how they communicate with each other.\"}\n",
      "=== Function Output ===\n",
      "In MetaGPT, the system is designed around five specialized roles that mimic a real-world software development team, each with distinct responsibilities tailored to specific tasks within the multi-agent system. These roles include the Product Manager, Architect, Project Manager, Engineer, and QA Engineer. Each role plays a crucial part in the development process, from analyzing business requirements to ensuring the quality of the final product.\n",
      "\n",
      "The Product Manager is focused on business-oriented analysis, deriving insights from market and user needs to create a detailed Product Requirement Document (PRD). This document serves as a foundational guide for the development process. Next, the Architect takes the PRD and designs the technical specifications, including system architecture diagrams and interface definitions, ensuring that the technical trajectory aligns with the product requirements. The Project Manager then breaks down the project into specific tasks, assigning responsibilities to Engineers who are tasked with coding and implementing the software components. Finally, the QA Engineer ensures the quality of the code by generating unit tests and identifying any defects, making necessary corrections to meet the project's standards.\n",
      "\n",
      "Communication between these specialized agents is facilitated through a shared message pool that acts as a central repository for structured messages. This setup allows agents to publish messages and subscribe to relevant ones based on their roles, ensuring efficient and role-specific communication. For instance, Engineers can access messages related to code specifications and design artifacts from the Architect, while QA Engineers can retrieve messages about code changes and test results. Additionally, the framework incorporates an iterative programming process where engineers run the initial code, identify errors, and make necessary corrections based on past messages and the PRD. This structured communication and iterative process ensure that each agent receives the information necessary to perform their tasks effectively, streamlining workflows and enhancing the overall efficiency and quality of the development process.\n",
      "\n",
      "Overall, the MetaGPT framework leverages specialized agent roles and structured communication protocols to simulate a software development environment, allowing for efficient collaboration and high-quality software development.\n",
      "CPU times: user 653 ms, sys: 35.9 ms, total: 689 ms\n",
      "Wall time: 12min 53s\n"
     ]
    }
   ],
   "source": [
    "%%time\n",
    "\n",
    "# 10.0\n",
    "response = agent.query(\n",
    "    \"Tell me about the agent roles in MetaGPT, \"\n",
    "    \"and then how they communicate with each other.\"\n",
    ")"
   ]
  },
  {
   "cell_type": "code",
   "execution_count": 24,
   "id": "bcf74ec4-559f-4284-9ed0-817d26951c54",
   "metadata": {
    "height": 30,
    "tags": []
   },
   "outputs": [
    {
     "name": "stdout",
     "output_type": "stream",
     "text": [
      "page_label: 1\n",
      "file_name: metagpt.pdf\n",
      "file_path: /home/ashok/Documents/csvrag/metagpt.pdf\n",
      "file_type: application/pdf\n",
      "file_size: 16911937\n",
      "creation_date: 2025-03-21\n",
      "last_modified_date: 2025-03-20\n",
      "\n",
      "Preprint\n",
      "METAGPT: M ETA PROGRAMMING FOR A\n",
      "MULTI -AGENT COLLABORATIVE FRAMEWORK\n",
      "Sirui Hong1∗, Mingchen Zhuge2∗, Jonathan Chen1, Xiawu Zheng3, Yuheng Cheng4,\n",
      "Ceyao Zhang4, Jinlin Wang1, Zili Wang, Steven Ka Shing Yau5, Zijuan Lin4,\n",
      "Liyang Zhou6, Chenyu Ran1, Lingfeng Xiao1,7, Chenglin Wu1†, J¨urgen Schmidhuber2,8\n",
      "1DeepWisdom, 2AI Initiative, King Abdullah University of Science and Technology,\n",
      "3Xiamen University, 4The Chinese University of Hong Kong, Shenzhen,\n",
      "5Nanjing University, 6University of Pennsylvania,\n",
      "7University of California, Berkeley, 8The Swiss AI Lab IDSIA/USI/SUPSI\n",
      "ABSTRACT\n",
      "Remarkable progress has been made on automated problem solving through so-\n",
      "cieties of agents based on large language models (LLMs). Existing LLM-based\n",
      "multi-agent systems can already solve simple dialogue tasks. Solutions to more\n",
      "complex tasks, however, are complicated through logic inconsistencies due to\n",
      "cascading hallucinations caused by naively chaining LLMs. Here we introduce\n",
      "MetaGPT, an innovative meta-programming framework incorporating efficient\n",
      "human workflows into LLM-based multi-agent collaborations. MetaGPT en-\n",
      "codes Standardized Operating Procedures (SOPs) into prompt sequences for more\n",
      "streamlined workflows, thus allowing agents with human-like domain expertise\n",
      "to verify intermediate results and reduce errors. MetaGPT utilizes an assembly\n",
      "line paradigm to assign diverse roles to various agents, efficiently breaking down\n",
      "complex tasks into subtasks involving many agents working together. On col-\n",
      "laborative software engineering benchmarks, MetaGPT generates more coherent\n",
      "solutions than previous chat-based multi-agent systems. Our project can be found\n",
      "at https://github.com/geekan/MetaGPT.\n",
      "1 I NTRODUCTION\n",
      "Autonomous agents utilizing Large Language Models (LLMs) offer promising opportunities to en-\n",
      "hance and replicate human workflows. In real-world applications, however, existing systems (Park\n",
      "et al., 2023; Zhuge et al., 2023; Cai et al., 2023; Wang et al., 2023c; Li et al., 2023; Du et al., 2023;\n",
      "Liang et al., 2023; Hao et al., 2023) tend to oversimplify the complexities. They struggle to achieve\n",
      "effective, coherent, and accurate problem-solving processes, particularly when there is a need for\n",
      "meaningful collaborative interaction (Chen et al., 2024; Zhang et al., 2023; Dong et al., 2023; Zhou\n",
      "et al., 2023; Qian et al., 2023).\n",
      "Through extensive collaborative practice, humans have developed widely accepted Standardized\n",
      "Operating Procedures (SOPs) across various domains (Belbin, 2012; Manifesto, 2001; DeMarco &\n",
      "Lister, 2013). These SOPs play a critical role in supporting task decomposition and effective coor-\n",
      "dination. Furthermore, SOPs outline the responsibilities of each team member, while establishing\n",
      "standards for intermediate outputs. Well-defined SOPs improve the consistent and accurate exe-\n",
      "cution of tasks that align with defined roles and quality standards (Belbin, 2012; Manifesto, 2001;\n",
      "DeMarco & Lister, 2013; Wooldridge & Jennings, 1998). For instance, in a software company,\n",
      "Product Managers analyze competition and user needs to create Product Requirements Documents\n",
      "(PRDs) using a standardized structure, to guide the developmental process.\n",
      "Inspired by such ideas, we design a promising GPT -based Meta-Programming framework called\n",
      "MetaGPT that significantly benefits from SOPs. Unlike other works (Li et al., 2023; Qian et al.,\n",
      "2023), MetaGPT requires agents to generate structured outputs, such as high-quality requirements\n",
      "∗These authors contributed equally to this work.\n",
      "†Chenglin Wu (alexanderwu@fuzhi.ai) is the corresponding author, affiliated with DeepWisdom.\n",
      "1\n"
     ]
    }
   ],
   "source": [
    "# 10.1\n",
    "print(response.source_nodes[0].get_content(metadata_mode=\"all\"))"
   ]
  },
  {
   "cell_type": "code",
   "execution_count": null,
   "id": "ba752bca-7456-49f5-97de-921cce0fcc8e",
   "metadata": {},
   "outputs": [],
   "source": [
    "#10.2\n",
    "\n",
    "response = agent.chat(\n",
    "                       \"Tell me about the evaluation datasets used.\"\n",
    "                     )"
   ]
  },
  {
   "cell_type": "code",
   "execution_count": null,
   "id": "d9586cef-21b5-4732-b95d-619462b4aaf6",
   "metadata": {
    "height": 30,
    "tags": []
   },
   "outputs": [],
   "source": [
    "# 10.3\n",
    "\n",
    "response = agent.chat(\"Tell me the results over one of the above datasets.\")"
   ]
  },
  {
   "cell_type": "markdown",
   "id": "1cc4e983",
   "metadata": {},
   "source": [
    "## Lower-Level: Debuggability and Control"
   ]
  },
  {
   "cell_type": "code",
   "execution_count": null,
   "id": "55abad72-b189-471a-accc-1621fd19c804",
   "metadata": {
    "height": 115,
    "tags": []
   },
   "outputs": [],
   "source": [
    "agent_worker = FunctionCallingAgentWorker.from_tools(\n",
    "                                                      [vector_tool, summary_tool], \n",
    "                                                       llm=llm, \n",
    "                                                       verbose=True\n",
    "                                                    )\n",
    "\n",
    "agent = AgentRunner(agent_worker)"
   ]
  },
  {
   "cell_type": "code",
   "execution_count": null,
   "id": "18e911aa-4640-4f89-99c8-6cdf6aff07c6",
   "metadata": {
    "height": 81,
    "tags": []
   },
   "outputs": [],
   "source": [
    "\n",
    "task = agent.create_task(\n",
    "                         \"Tell me about the agent roles in MetaGPT, \"\n",
    "                         \"and then how they communicate with each other.\"\n",
    "                        )"
   ]
  },
  {
   "cell_type": "code",
   "execution_count": null,
   "id": "5eaf0b88-e03a-4dd9-91f6-f6f0c8758e64",
   "metadata": {
    "height": 30,
    "tags": []
   },
   "outputs": [],
   "source": [
    "step_output = agent.run_step(task.task_id)"
   ]
  },
  {
   "cell_type": "code",
   "execution_count": null,
   "id": "a8e77fac-8734-4071-a672-b3a9f30e2bf1",
   "metadata": {
    "height": 64,
    "tags": []
   },
   "outputs": [],
   "source": [
    "completed_steps = agent.get_completed_steps(task.task_id)\n",
    "\n",
    "print(f\"Num completed for task {task.task_id}: {len(completed_steps)}\")\n",
    "print(completed_steps[0].output.sources[0].raw_output)"
   ]
  },
  {
   "cell_type": "code",
   "execution_count": null,
   "id": "db8de410-4b82-4daf-93da-28da57cbb0bb",
   "metadata": {
    "height": 64,
    "tags": []
   },
   "outputs": [],
   "source": [
    "upcoming_steps = agent.get_upcoming_steps(task.task_id)\n",
    "\n",
    "print(f\"Num upcoming steps for task {task.task_id}: {len(upcoming_steps)}\")\n",
    "upcoming_steps[0]"
   ]
  },
  {
   "cell_type": "code",
   "execution_count": null,
   "id": "dc352582-2c17-46ef-ba80-0f571e920c3c",
   "metadata": {
    "height": 64,
    "tags": []
   },
   "outputs": [],
   "source": [
    "step_output = agent.run_step(\n",
    "                              task.task_id, input=\"What about how agents share information?\"\n",
    "                            )"
   ]
  },
  {
   "cell_type": "code",
   "execution_count": null,
   "id": "be80661f-81b1-45fc-b0ba-33a04dae849b",
   "metadata": {
    "height": 47,
    "tags": []
   },
   "outputs": [],
   "source": [
    "step_output = agent.run_step(task.task_id)\n",
    "print(step_output.is_last)"
   ]
  },
  {
   "cell_type": "code",
   "execution_count": null,
   "id": "4496328c-e6d5-4722-a8df-78a73a441b3c",
   "metadata": {
    "height": 30,
    "tags": []
   },
   "outputs": [],
   "source": [
    "response = agent.finalize_response(task.task_id)"
   ]
  },
  {
   "cell_type": "code",
   "execution_count": null,
   "id": "601d1bed-78b2-4512-87ac-aec5ce5d8494",
   "metadata": {
    "height": 30,
    "tags": []
   },
   "outputs": [],
   "source": [
    "print(str(response))"
   ]
  }
 ],
 "metadata": {
  "kernelspec": {
   "display_name": "Python 3 (ipykernel)",
   "language": "python",
   "name": "python3"
  },
  "language_info": {
   "codemirror_mode": {
    "name": "ipython",
    "version": 3
   },
   "file_extension": ".py",
   "mimetype": "text/x-python",
   "name": "python",
   "nbconvert_exporter": "python",
   "pygments_lexer": "ipython3",
   "version": "3.10.12"
  }
 },
 "nbformat": 4,
 "nbformat_minor": 5
}
