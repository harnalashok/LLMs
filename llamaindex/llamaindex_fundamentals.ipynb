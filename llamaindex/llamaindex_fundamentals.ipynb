{
 "cells": [
  {
   "cell_type": "code",
   "execution_count": null,
   "metadata": {
    "id": "ho4rZvv98VF3"
   },
   "outputs": [],
   "source": []
  },
  {
   "cell_type": "markdown",
   "metadata": {
    "id": "6KyodWBIHQg8"
   },
   "source": [
    "![image.png](data:image/png;base64,iVBORw0KGgoAAAANSUhEUgAAAkoAAAHgCAYAAABaTEKMAAAgAElEQVR4Xu2dDbAW1ZnnzxVEYoIJH5utMdHdUpwJMhtIiTFVwdrVWcFRR9Fo4Vft6rgCOkSTLSKJmkkxKlVSrkZjIRBJOVuySuGY0vELnMSdiKkl4A5spmIS0dqVjKkkfEwwUYOSd+/T2nf6Nt19zttvd5+v31uVMtzbfc7z/J7nPO//Pn26e6g3/FHvf5YvX6527tyZ/pP/QgACEGiNwPjx49XKlStLx6cetYaegSEAgRyBqno0lBVKCxYsUO+++6761re+BUQIQAACrRH48z//czV27Fi1Zs2a0jmoR63hZ2AIQCBDQFePRoTSxo0b1fr169Uxxxyjli1bBkQIQAACrRH42te+pnbt2qXmz5+v5s6de8g81KPW0DMwBCCQI6CrR4lQSouSnHv99derGTNmABICEIBAawR27Nih7r777mT8vFiiHrWGnYEhAIECArp6NHT11Vf35HKbfOQvOylafCAAAQi0TUA62CKK5COX4eR/UouoR22TZ3wIQCBPoKoeDV155ZU9udx2wQUX0EkidyAAgU4JyF9yjz76aHIZLv1QjzoNAZNBAALvEyirR6M2c0MLAhCAAAQgAAEIxE5ANninN7YhlGLPBvyHAAQgAAEIQGAUAYQSCQEBCEAAAhCAAARKCCCUSA0IQAAChgSGhoYMj+QwCEAgSyDzPGvvwCCUvAsZBkMAArYIiFDyueDb4sa8cRPwfd0glOLOX7yHAAT6IOB7we/DVQ6FQGMEfF83CKXGUoGBIACB0An4XvBDjw/+uUnA93WDUHIzr7AKAhBwkIDvBd9BpJgUAQHf1w1CKYIkxUUIQKAZAr4X/GYoMAoE+iPg+7pBKPUXb46GAAQiJuB7wY84dLhukYDv6wahZDF5mBoCEPCLgO8F3y/aWBsKAd/XDUIplEzEDwhAoHUCvhf81gExAQQKCPi+bhBKpDUEIAABQwK+F3xDNzkMAo0S8H3dIJQaTQcGgwAEQibge8EPOTb45i4B39cNQsnd3MIyCEDAMQK+F3zHcGJOJAR8XzcIpUgSFTchAIHBCfhe8AcnwAgQ6J+A7+sGodR/zDkDAhCIlIDvBT/SsOG2ZQK+rxuEkuUEYnoIQMAfAr4XfH9IY2lIBHxfNwilkLIRXyAAgVYJ+F7wW4XD4BAoIeD7ukEokdoQgAAEDAn4XvAN3eQwCDRKwPd1g1BqNB0YDAIQCJmA7wU/hNg8/PDD6oEHHlAnnXSSuu2220JwKXgffF83CKXgUxQHIQCBpgj4XvCb4jDoOCtWrFBLly41Hmbu3LnqmWeeSY6XGKSfXq83aowzzzxTbdy4UWWPN56EA1sj4Pu6QSi1lhoMDAEIhEbA94LvSjwGEUrpufPnz1fSXcp+EEquRHi0Hb6vG4SSm3mFVRCAgIMEfC/4riDNCqVVq1ap6dOnV5o2YcIENWPGDK35CCUtIisH+L5uEEpW0oZJIQABHwn4XvBdYZ4VSs8//7yaPXt2I6YhlBrB2Pggvq8bhFLjKcGAEIBAqAR8L/iuxAWh5EokurHD93WDUOomT5gFAhAIgIDvBd+VEAwilKq6RqYdpVdffVXdcccdatOmTeqVV15JsBx//PFqzpw5asmSJeq4445zBVUQdvi+bhBKQaQhTkAAAl0Q8L3gd8HIZA6bQkk2gF9yySWlZk6cOFE9/vjjjV0ONOER+jG+rxuEUugZin8QgEBjBHwv+I2BGHAgW0Jpx44daubMmYn1ctfc8uXLR7pH0mW68cYb1fr165WIpW3bttFZGjDO6em+rxuEUkOJwDAQgED4BHwv+K5EqN+73rKbvQe59HbxxRcnQmjWrFlq69athTimTp2aXI675ppr1MqVK11B5rUdvq8bhJLX6YfxEIBAlwR8L/hdsqqaq9/nKGUfLFlXKO3Zs0dNmTIlMevJJ59UZ511VqGJq1evVosWLUq6Snv37nUFmdd2+L5uEEpepx/GQwACXRLwveB3yco1obR582Z16qmnJmbt3r1bTZ48udDE7HHSWWJj9+BZ4/u6QSgNngOMAAEIRELA94LvSphs7FHKzimvOCn7SOdJ9ifJp8lnPLnC3oYdvq8bhJKNrGFOCEDASwK+F3xXoNsWSqYcEEqmpKqP833dIJSayQNGgQAEIiDge8F3JUQ2hFK690gY5F+m6wqXUO3wfd0glELNTPyCAAQaJ+B7wW8cSM0BbQil7N6j7du3G707rqZ7nJYj4Pu6QSiR0hCAAAQMCfhe8A3dbP0wG0Ipe9ebvIh34cKFhX7Ks5aWLl2a/O72229HUDWQDb6vG4RSA0nAEBCAQBwEfC/4rkTJhlAS36+99lp13333Ja8r2bJlS+Gdb1nbuETXTMb4vm4QSs3kAaNAAAIREPC94LsSoraE0k033ZQ8bVs+RRux5enb8rDJffv2Jf+96667Rr2qJLuPSZ7Sfdttt7mCzGs7fF83CCWv0w/jIQCBLgn4XvC7ZFU1V1tCSYSQdIuyn7xgkktrp512WiKWyj7y+IB169aVPmvJFY6+2OH7ukEo+ZJp2AkBCFgn4HvBtw7wfQPaEkoyvGzavvfee5NXlZR1lmS/0tq1a9WGDRtGnpkkT+KeM2eOmjdvnpJXnfBpjoDv6wah1FwuMBIEIBA4Ad8LfuDhwT1HCfi+bhBKjiYWZkEAAu4R8L3gu0cUi2Ig4Pu6QSjFkKX4CAEINELA94LfCAQGgUCfBHxfNwilPgPO4RCAQLwEfC/48UYOz20S8H3dIJRsZg9zQwACXhHwveB7BRtjgyHg+7pBKAWTijgCAQi0TcD3gt82H8aHQBEB39cNQom8hgAEIGBIwPeCb+gmh0GgUQK+rxuEUqPpwGAQgEDIBHwv+CHHBt/cJeD7ukEouZtbWAYBCDhGwPeC7xhOzImEgO/rBqEUSaLiJgQgMDgB3wv+4AQYAQL9E/B93SCU+o85Z0AAApES8L3gRxo23LZMwPd1g1CynEBMDwEI+EPA94LvD2ksDYmA7+sGoRRSNuILBCDQKgHfC36rcBgcAiUEfF83CCVSGwIQgIAhAd8LvqGbHAaBRgn4vm4QSo2mA4NBAAIhE/C94IccG3xzl4Dv6wah5G5uYRkEIOAYAd8LvmM4MScSAr6vG4RSJImKmxCAwOAEfC/4gxNgBAj0T8D3dYNQ6j/mnAEBCERKwPeCH2nYcNsyAd/XDULJcgIxPQQg4A8B3wu+P6SxNCQCvq8bhFJI2YgvEIBAqwR8L/itwmFwCJQQ8H3dIJRIbQhAAAKGBHwv+IZuchgEGiXg+7pBKDWaDgwGAQiETMD3gh9ybPDNXQK+rxuEkru5hWUQgIBjBHwv+I7hxJxICPi+bhBKkSQqbkIAAoMT8L3gD06AESDQPwHf1w1Cqf+YcwYEIBApAd8LfqRhw23LBHxfNwglywnE9BCAgD8EfC/4/pDG0pAI+L5uEEohZSO+QAACrRLwveC3CofBIVBCwPd1g1AitSEAAQgYEvC94Bu6yWEQaJSA7+sGodRoOjAYBCAQMgHfC37IscE3dwn4vm4QSu7mFpZBAAKOEfC94DuGE3MiIeD7ukEoRZKouAkBCAxOwPeCPzgBRoBA/wR8XzcIpf5jzhkQgECkBHwv+JGGDbctE/B93SCULCcQ00MAAv4Q8L3g+0MaS0Mi4Pu6QSiFlI34AgEItErA94LfKhwGh0AJAd/XDUKJ1IYABCBgSEAKPh8IQKB/Ar1er/+THDkDoeRIIDADAhCAAAQgAAH3CCCU3IsJFkEAAhCAAAQg4AgBhJIjgcAMCEAAAhB4j8Bf3bO6MRR/ed3CxsZioDgJIJTijDteQwACEHCWwOEnzGrMtnde3tbYWAwUJwGEUpxxx2sIQAACzhJ4Tyj11PhjP1Hbxrdf+0lyLkKpNkJOfJ8AQolUgAAEIAABpwikHaWJs8+rbde+zY8hlGrT48QsAYQS+QABCEAAAk4RQCg5FY7ojUEoRZ8CAIAABCDgFgGEklvxiN0ahFLsGYD/EIAABBwjgFByLCCRm4NQijwBcB8CEICAawQQSq5FJG57EEpxxx/vIQABCDhHAKHkXEiiNgihFHX4cR4CEICAewQQSu7FJGaLEEoxRx/fIQABCDhIAKHkYFAiNgmhFHHwcR0CEICAiwQQSi5GJV6bEErxxh7PIQABCDhJAKHkZFiiNQqhFG3ocRwCEICAmwQQSm7GJVarEEqxRh6/IQABCDhKAKHkaGAiNQuhFGngcRsCEICAqwQQSq5GJk67EEpxxh2vIQABCDhLAKHkbGiiNAyhFGXYcRoCEICAuwQQSu7GJkbLEEoxRh2fIQABCDhMAKHkcHAiNA2hFGHQcRkCEICAywQQSi5HJz7bEErxxRyPIQABCDhNAKHkdHiiMw6hFF3IcRgCEICA2wQQSm7HJzbrEEqxRRx/IQABCDhOAKHkeIAiMw+hFFnAcRcCEICA6wQQSq5HKC77EEpxxRtvIQABCDhPAKHkfIiiMhChFFW4cRYCEICA+wQQSu7HKCYLEUoxRRtfIQABCHhAAKHkQZAiMhGhFFGwcRUCEICADwQQSj5EKR4bEUrxxBpPIQABCHhBAKHkRZiiMRKhFE2ocRQCEICAHwQQSn7EKRYrEUqxRBo/IQABCHhCAKHkSaAiMROhFEmgcRMCEICALwQQSr5EKg47EUpxxBkvIQABCHhDAKHkTaiiMBShFEWYcRICEICAPwQQSv7EKgZLEUoxRBkfIQABCHhEAKHkUbAiMBWhFEGQcRECEICATwQQSj5FK3xbEUrhxxgPIQABCFgn8Ms9e9WqdRtG7Pjtm2+pDx75gUK7bvnGN5OfT5x9Xm27921+bPjcnvrq5xcYjbHosovURydPMjqWg+IigFCKK954CwEIQMAaARFL5179BfXiD39kZMPgQkk/zaxPnqgeW/N1RJIeVbRHIJSiDT2OQwACEOiewC9271Unz7tM/fwXv1JDR4xX46Z8TA2NGXuIIUPDPxl/7CdqG/jWaz8uPLd38KA68Kufqd6BtxUiqTbeqE5EKEUVbpyFAAQgYJ+AiKXzFrzXWRoz4SPqQyd+Rh12+BGtG/b7A79Tv3lpizr4xj5EUuu0w5kAoRROLPEEAhCAgDcEuhZLiCRvUsM5QxFKzoUEgyAAAQjEQaArsYRIiiOf2vISodQWWcaFAAQgAAEtgbbFEiJJGwIO0BBAKJEiEIAABCBglUBbYgmRZDWswUyOUAomlDgCAQhAwF8CTYslRJK/ueCa5Qgl1yKCPRCAAAQiJdCUWEIkRZpALbmNUGoJLMNCAAIQgED/BAYVS4ik/plzRjUBhBIZAgEIQAACThGoK5YQSU6FMRhjEErBhBJHIAABCIRDoF+xhEgKJ/aueYJQci0i2AMBCEAAAgkBU7GESCJh2iSAUGqTLmNDAAIQgMBABHRiCZE0EF5ONiCAUDKAxCEQgAAEIGCPQJlYQiTZi0lMMyOUYoo2vkIAAhDwlEBeLB059VPqzZ3becGtp/H0yWyEkk/RwlYIQAACERPIiiU1ZoxSBw+qWZ88UT225uvqo5MnRUwG19skgFBqky5jQwACEIBAowSyYgmR1ChaBishgFAiNSAAAQhAwCsCIpbmLfwCnSSvouavsQglf2OH5RCAAASiJfDLPXu53BZt9Lt1HKHULW9mgwAEIAABCEDAIwIIJY+ChakQgAAEIAABCHRLAKHULW9mgwAEIAABCEDAIwIIJY+ChakQgAAEIAABCHRLAKHULW9mgwAEPCEwNDTkiaWYCQG3CPR6PbcMGtAahNKAADkdAhAIk4AIpdAKfpiRwiuXCIS4bhBKLmUYtkAAAs4QCLHgOwMXQ4IlEOK6QSgFm644BgEIDEIgxII/CA/OhYAJgRDXDULJJPIcAwEIREcgxIIfXRBxuHMCIa4bhFLnacSEEICADwRCLPg+cMdGvwmEuG4QSn7nJNZDAAItEQix4LeEimEhMEIgxHWDUCLBIQABCBQQCLHgE2gItE0gxHWDUGo7axgfAhDwkkCIBd/LQGC0VwRCXDcIJa9SEGMhAIGuCIRY8LtixzzxEghx3SCU4s1nPIcABCoIhFjwCTgE2iYQ4rpBKLWdNYwPAQh4SSDEgu9lIDDaKwIhrhuEklcpiLEQgEBXBEIs+F2xY554CYS4bhBK8eYznkMAAlx6Iwcg0CgBhFKjOBkMAhCAgLsEQiz47tLGslAIhLhu6CiFkp34AQEINEogxILfKCAGg0ABgRDXDUKJVIcABCAQScEn0BBomwBCqW3CjA8BCEDAEQIhFnxH0GJGwARCXDd0lAJOWFyDAATqE+i64K9YsUItXbq00uBZs2apk08+WV166aVq9uzZ9Z3jTAi0RKDrddOSG6OGRSh1QZk5IAAB7wh0XfBNhFIWooim+++/X82YMcM7thhcTmDPnj3qpZdeSg6YNm2amjx5sle4ul43XcBBKHVBmTkgAAHvCHRd8LNCadWqVWr69OmjmO3fv1+98MILav369eqVV14Z+d1DDz2kLr74Yu/4YnAxgc2bN6tTTz01+eXzzz/vXeew63XTRR4hlLqgzBwQgIB3BLou+FmhpPuCXL16tVq0aFHCdOLEieq5556js+RdhiGUfAkZQsmXSGEnBCDQKQGXhZKAePjhh9Ull1ySMJk7d6565plnOuXDZO0QoKPUDtdBRkUoDUKPcyEAgWAJuC6UBLxccpNLcfLZvn17aVdJ9r2sXbtWbdiwQW3btm2kEzVnzhy1ePFio8s7Msadd96pNm3a1NcYZ555ptq4caNWzAlv+dx+++3qhhtuGJVX+TFeffVVdccddyRicd++fcmx8+fPV1/5yldGGKQ+r1mzZuRSpezrWrZsmTrrrLMq8zYdX3xNL3Mef/zxSngtWbJEHXfccYXnl9mZHUdE7c0333wIc90etSIxLHZKXPuNSZuLtut106Yv6dgIpS4oMwcEIOAdga4Lfj+X3lKYTz31lDr77LNLBYb8YseOHeq0004bERRFgbjmmmvUypUrS2M0yBhNC6UrrrhipJOWN1guQ4oQfP3119W5555b6vOTTz5ZKpaynboiIDLH448/Xigus76Knddee22pDfnLq/0KpXxMRMil/qd26+LaxqLset204UN+TIRSF5SZAwIQ8I5A1wW/jlASqGknpqzjIF0U6brIf++6666RL3jpRjzyyCMjjyS48cYb1W233XZInOS4dAz5Mr7nnntGRIb8Ts5Lu1qyCX3hwoWjxmhSKIkQSH1JO0PSORI/0j1bYquIJbH11ltvVWeccUZy55iIyssvvzw5X363c+fOQ3wV8TFz5szk59KhWr58+Uj3KOtrKkjynaXU17ydp5xyirENppfepk6dmnS7xF/hn9qSdv7Edvno9rs1vTC7XjdN2180HkKpC8rMAQEIeEeg64JfVyilX85FX/7S0bjvvvuSTsPLL79ceKt5dt6iy3fp5b0ycSCBrbKhSaEkc5V1SVJf5RgRD7JnK39rfbZbVOWrnL9169bCnE0FSpEdqa9VdmZ5i9DJiy1ToZQK5LLumDxvSwRj112lrtdNF4UFodQFZeaAAAS8I9B1wR9UKAngXq83wlk6C1OmTEn+XdYtkt/JcSeccELSackfZzpGVoBkbciKKN2Gc5M9SlUCJstv9+7dhaIw2zHKd1qyvlZdmkvvOBThuHfv3lF5nQqlKjt1Qkj3+3TCKl5yzE033aRefPFFddJJJxV2CttakF2vm7b8yI6LUOqCMnNAAALeEei64DctlEy/cLNiJv8F388YZQFusqNUJbaythZ1avICI//8qez5ZUJLxqiax8RXHVPd71M/8t2rc845R7tJvYtF2PW66cInhFIXlJkDAhDwjkDXBX9QoZS/9JZ91lKVcJDAZOfOdoR0l4lMgmoiHmQck46SqVCq2pdTNk/WV5mn7COdp/TOwfw8Jr7qhJDu96ld0h373Oc+N+rho9LlkjvzZPP+hRdeaOWp3l2vG5McHPQYhNKgBDkfAhAIkkDXBb+uUCrbzF0mfoqCZSKU8pfUTINuIh5cE0qmvtkUSmJjupFdXmWTirfUdhFNX/7ylw951IKpb3WP63rd1LWzn/MQSv3Q4lgIQCAaAl0X/DpCKbvnJr+/qJ9ukIlQ0nWlyhLDF6GU7cC1KQp1HSPd78s4y115P/jBD9T3vve9Uc+XKnouVZuLuOt106Yv6dgIpS4oMwcEIOAdga4Lfh2hlL3TK38XVz9fuGWbkPsZw3ehlPW16uGdVYlsIgp1THW/N1lI0mkSW6TLVLTp3GSMusd0vW7q2tnPeQilfmhxLAQgEA2Brgt+v0Ip+7DJor07pnesSUAnTZqU3PWWv5XcdIwqkWEiHqQbInus5GPyZO6iJDQVGGV7lLK+Fj0PKp1TunhLly4dsXXGjBkj5pj4qrOz6s68dKI0V8qeByXHZfOjboeszmLvet3UsbHfcxBK/RLjeAhAIAoCXRf8foSS6Utxu3qOUnae/C3z2a5X0d1kIpLk4Y7pHhtbQkmSOrVVBMiWLVu0z52q8ygEnVASO1IxVybYsiKo7JJoE5cS6yz0rtdNHRv7PQeh1C8xjocABKIg0HXBzwol+YKcPn36KM779+9XL7zwQvIU5vT9Y3JA/jb37EnZp2q39WRueddY+hToIpGT/VJP37V21FFHJWY+/fTTyQMx5ZO+s82mUKriJTZmxUfRs6ma6CjJPNmnbhc9ODP77CthKpu5s50tEWPpK1xEhMpzrrr6dL1uuvALodQFZeaAAAS8I9B1wde96ysPsOgLsgjyIO9pS8cbdIzsM3/K/EhfHWJTKIltJr7Kpc5169Yd0nFqSihlBVnKK395tehdbyKwZEN3KjqrOmNtLciu101bfmTHRSh1QZk5IAAB7wh0XfBNhJKII3k1xaWXXlr4UtYyyNKBkM7Phg0bRi5xpc/cWbx4sdFYg4yRnrtmzZqRbpj4ctFFF6mrrroqERy2n6OUZVfl67x585S81qXo05RQSrtX2dv+y97lJ3HdtGnTqMcDyLHnn3++lWcpdb1uuigsCKUuKDMHBCDgHYEQC753QcBg7wiEuG4QSt6lIQZDAAJdEAix4HfBjTniJhDiukEoxZ3TeA8BCJQQCLHgE2wItE0gxHWDUGo7axgfAhDwkkCIBd/LQGC0VwRCXDcIJa9SEGMhAIGuCIRY8LtixzzxEghx3SCU4s1nPIcABCoIhFjwCTgE2iYQ4rpBKLWdNYwPAQh4SSDEgu9lIDDaKwIhrhuEklcpiLEQgEBXBEIs+F2xY554CYS4bhBK8eYznkMAAlx6Iwcg0CgBhFKjOBkMAhCAgLsEQiz47tLGslAIhLhu6CiFkp34AQEINEogxILfKCAGg0ABgRDXDUKJVIcABCAQScEn0BBomwBCqW3CjA8BCEDAEQIhFnxH0GJGwARCXDd0lAJOWFyDAATqEwix4NenwZkQMCMQ4rpBKJnFnqMgAIHICIRY8CMLIe5aIBDiukEoWUgkpoQABNwnEGLBd586FvpOIMR1g1DyPSuxHwIQaIVAiAW/FVAMCoEMgRDXDUKJFIcABCBQQCDEgk+gIdA2gRDXDUKp7axhfAhAwEsCIRZ8LwOB0V4RCHHdIJS8SkGMhQAEuiIQYsHvih3zxEsgxHWDUIo3n/EcAhCoIBBiwSfgEGibQIjrBqHUdtYwPgQg4CWBEAu+l4HAaK8IhLhuEEpepSDGQgACXREIseB3xY554iUQ4rpBKMWbz3gOAQhw6Y0cgECjBBBKjeJkMAhAAALuEgix4LtLG8tCIRDiuqGjFEp24gcEINAogRALfqOAGAwCBQRCXDcIJVIdAhCAQCQFn0BDoG0CCKW2CTM+BCAAAUcIhFjwHUGLGQETCHHd0FEKOGFxDQIQqE8gxIJfnwZnQsCMQIjrBqFkFnuOggAEIiMQYsGPLIS4a4FAiOsGoWQhkZgSAhBwn0CIBd996ljoO4EQ1w1CyfesxH4IQKAVAiEW/FZAMSgEMgRCXDcIJVIcAhCAQAGBEAs+gYZA2wRCXDcIpbazhvEhAAEvCYRY8L0MBEZ7RSDEdYNQ8ioFMRYCEOiKgBR8PhCAQP8Eer1e/yc5fAZCyeHgYBoEIACBWAj81T2rG3P1L69b2NhYDAQBhBI5AAEIQAAC1gkcfsKsxmx45+VtjY3FQBBAKJEDEIAABCBgncB7Qqmnxh/7idq2vP3aT5JzEUq1EXJiAQGEEmkBAQhAAALWCaQdpYmzz6tty77NjyGUatPjxDICCCVyAwIQgAAErBNAKFkPAQaUEEAokRoQgAAEIGCdAELJeggwAKFEDkAAAhCAgKsEEEquRga76CiRAxCAAAQgYJ0AQsl6CDCAjhI5AAEIQAACrhJAKLkaGeyio0QOQAACEICAdQIIJeshwAA6SuQABCAAAQi4SgCh5GpksIuOEjkAAQhAAALWCSCUrIcAA+gokQMQgAAEIOAqAYSSq5HBLjpK5AAEIAABCFgngFCyHgIMoKNEDkAAAhCAgKsEEEquRga76CiRAxCAAAQgYJ0AQsl6CDCAjhI5AAEIQAACrhJAKLkaGeyio0QOQAACEICAdQIIJeshwACTjtKVV17ZO+aYY9QFF1ygZsyYATQIQAACEIBAJwQQSp1gZhJDAjt27FCPPvqo2rVr18gZoo+Grr766t67776b/HDu3Llq/vz5hkNyGAQgAAEIQKA+AYRSfXac2SyB9evXq40bNyaDjh07NvmfaCP531Bv+CO/lIPkc/3119NZapY/o0EAAhCAQAEBhBJp4QIB6STdfffdiSnSLJKmUfoRfZQIJflBKpakzbRs2TIXbMcGCEAAAhAImABCKeDgeuTa1772teRyW14kpS6MCCX5wcKFC9U777yjvvWtb3nkIqZCAAIQgICPBBBKPkYtPJvlDje51LZmzZpC531G+WQAACAASURBVEYJpeXLl6udO3cilMLLAzyCAAQg4BwBhJJzIYnSIBFK48ePVytXrtQLpQULFiQbl+goRZkrOA0BCECgUwIIpU5xM1kJAeOOEnuUyCEIQAACEOiSAEKpS9rMVUbAaI8Sd72RQBCAAAQg0DUBhFLXxJmviID2rjeeo0TiQAACEICADQIIJRvUmbOIQOVzlHgyN0kDAQhAAAI2CCCUbFBnzjICpU/mTp+jBDoIQAACEIBAlwQQSl3SZq5+CPBS3H5ocSwEIAABCLRCAKHUClYGbYAAQqkBiAwBAQhAAAKDEUAoDcaPs9sjgFBqjy0jQwACEICAIQGEkiEoDuucAEKpc+RMCAEIQAACeQIIJXLCVQIIJVcjg10QgAAEIiKAUIoo2J65ilDyLGCYCwEIQCBEAgilEKMahk8IpTDiiBcQgAAEnCPwyz171ap1G0bs+u2bb6kPHvmBQjtv+cY3k59PnH1ebT/2bX5s+Nye+urnFxiNseiyi9RHJ08yOpaD4iWAUIo39ngOAQhAoHUCIpbOvfoL6sUf/shorsGFkn6aWZ88UT225uuIJD0qjhgmgFAiDSAAAQhAoFUCv9i9V5087zL181/8Sg0dMV6Nm/IxNTRm7CFzDg3/ZPyxn6hty1uv/bjw3N7Bg+rAr36megfeVoik2nijPRGhFG3ocRwCEIBAdwRELJ234L3O0pgJH1EfOvEz6rDDj2jdgN8f+J36zUtb1ME39iGSWqcd5gQIpTDjilcQgAAEnCPQtVhCJDmXAl4ahFDyMmwYDQEIQMBPAl2JJUSSn/nhotUIJRejgk0QgAAEAibQtlhCJAWcPBZcQyhZgM6UEIAABGIn0JZYQiTFnlnN+49Qap4pI0IAAhCAgAGBpsUSIskAOof0TQCh1DcyToAABCAAgaYINCWWEElNRYRx8gQQSuQEBCAAAQhYJTCoWEIkWQ1f8JMjlIIPMQ5CAAIQcJ9AXbGESHI/tr5biFDyPYLYDwEIQCAQAv2KJURSIIF33A2EkuMBwjwIQAACMREwFUuIpJiywq6vCCW7/JkdAhCAAARyBHRiCZFEynRJAKHUJW3mggAEIAABIwJlYgmRZISPgxokgFBqECZDQQACEIBAcwTyYunIqZ9Sb+7czgtum0PMSAYEEEoGkDgEAhCAAATsEMiKJTVmjFIHD6pZnzxRPbbm6+qjkyfZMYpZoyKAUIoq3DgLAQhAwD8CWbGESPIvfr5bjFDyPYLYDwEIQCACAiKW5i38Ap2kCGLtmosIJdcigj0QgAAEIFBI4Jd79nK5jdzonABCqXPkTAgBCLhOYGhoyHUTsQ8C0RLo9Xqd+o5Q6hQ3k0EAAj4QEKHUdTH2gQs2QsA2ARtrE6FkO+rMDwEIOEfARjF2DgIGQcBBAjbWZl9CiXa0g1mDSRB4nwAdkOZSwUYxbs56RoJAuARsrM2+hRLFONwExDN/CdgoHv7S0lsOTz0jjoCADQI21iZCyUakmRMCDROwUTwadsGp4eDpVDgwBgIjBGysTYQSCQiBAAjYKB4BYCt1AZ4hRxfffCZgY20ilHzOGGyHwPsEbBSPkOHDM+To4pvPBGysTYSSzxmD7RBAKLWSAzaKcSuOMCgEAiNgY20ilAJLItyJk4CN4hEyaXiGHF1885mAjbWJUPI5Y7AdAnSUWskBG8W4FUcYFAKBEbCxNhFKgSUR7sRJwEbxCJk0PEOOLr75TMDG2kQo+Zwx2A4BOkqt5ICNYtyKIwwKgcAI2FibCKXAkgh34iRgo3iETBqeIUcX33wmYGNtIpR8zhhshwAdpVZywEYxbsURBoVAYARsrE2EUmBJhDtxErBRPEImDc+Qo4tvPhOwsTYRSj5nDLZDgI5SKzlgoxi34giDQiAwAjbWJkIpsCTCnTgJ2CgeIZOGZ8jRxTefCdhYmwglnzMG2yFAR6mVHOiyGL/66qvq2WefVd/+9rfVD37wA7Vv377Ep4kTJ6o5c+aoefPmqTPOOENNnjy51NczzzxTbdy4Uc2dO1c988wzrTDpalAXfFm9enUSj9NPP13dcMMNXbne2DySv/K5/fbbvbS/CkSXazO1A6HUWGoyEATsEbBRPOx52/7MXfFcsWKFWrp0qdYhEU0rV65UF198ceGxLogLrROGB7jgy6RJkxLB+tBDD5UyN3THymEIpWaxI5Sa5cloELBCoKsvdivOWZi0C57XXnutuu+++0a6R9dcc4360z/90xFv9+/fr5544omRY+QXN954o7rtttsOIeKCuGgqTLZ9eeqpp9TZZ5+duLN79+7KTl5TPjc9DkKpWaJRCiXTv+KyqJ9//nk1e/bsZukbjGa7aBiYOHJIE4uziTH6sTmUY7v4Yg+FlYkfbfO86aab1PLlyxNTZs2alVwuK7u0Jpfm5s+fr7Zt25YcX1SLfKoTOv62fUkFrAhX6eL5+Am5jra9NovijVAyXAUIJT2oJhZnE2PoLQ3vCBvFIzyK/+JRmzx37NihZs6caSSSUotELB1//PHJP4v2IdkWF03mgk1f9uzZo6ZMmZK48+STT6qzzjqrSdc6GyvkOtrm2iwLUPRCadWqVWr69OnaBJ42bZqVFqzNoqGFkjugicXZxBj92h3C8TaKRwjcynxok2f2kls/f4Blz+v1eqNMz9cJEVZ33HGH2rRpk3rllVdGBNZ1111X+uVvWmuq1qipHTfffHNph15nhwjN0047LdlDlO36iM9r165NfE67b+mG+MWLFxtdEXj44YfVJZdckmyk37t3by3GVb7JgCLGxM4NGzbUtnPz5s3q3nvvTXwVDmKv7F9buHChmjFjhjKpo0U5ImJcbiBYsmSJOu644wqXRxOcB6kdba5NhFKGQPbSWz+FapDg1j1XVzTqjtvGeSaLUzdvE2Po5gjx9zaKR4gcU5/a5JluFJYvpZ07dxpjlC/H73//+8nxF1544agvsmyduOKKK5SIqvTuufwEZZ0S01pjKpR0dpTV3io7siJJLllu3bo1cS/7c/m3sBXxkAom+ZnJpbR07qK9YP0wLvMtb2dR8HV2pmKu6Fzx+cEHHxzZY1V211vVGDKujPP4448fIi6b4myc9AUHtrk2EUoIpUFy0+jcJkROE2MYGRvYQTaKR2AIR7nTFk8RO6eeemoyV9nG7Dpc0y9x+YITgSQiYtmyZeqUU05JOuGyQfnyyy9Pflcm0JoUSm3YIZ0M8Sv1L7uva+rUqUnnTH6/fv36EREp3Zs777xzZD9Y1R/G2cub27dvTzoz2c+gjPP233XXXSNCRH73yCOPjNwBWZYb2fwRX7NjyO+++MUvJhxSkVwklLKXfmXvm+yVS7tHYofMLQxToZntLDXBuU5+Z89pa21W2RX9pbe6HaWyFrMo9TRJJQm/8pWvjCy4tOW6Zs2akXZ4WtDKroXr5umntVy31ZomUBPt3ibGqOtHnqV8edxzzz3J82d8f96IjeIxaMFz+fy2eGbvqGoy59LcruqcZDvp8mWav7TSpFBq2g6pnWKfdIiKNr+nf2CVdctOPvnk5Nyqbo08O2nRokVaIVnXt/TSqdTsl19+uXArRzZGOrFWNEaWk9hZlGNyiU6EULYjl1+LqSDK82qC86Drvq21iVDKEWji0lu+DSvXtYs+qSp//fXX1bnnnjtQO1xa2WXzyNxVz/yo22pNfWq73dt2y1j8qIpZk19agxaCOufbKB517PTlnLZ4NlF7ihimuV315ZftRgxy55zJpbcm7ch++ZeJDF0nWu4yfPHFF9VJJ51U+HgFYZqKA9m3Knt98p9BGGc3iVd1EuW4E044IfmeyB+X7XhVjZE9Ll/XTDerp6Ixv1erCc6D1oC21iZCqUWhlG8xS2dIklHaqPLXiXykaMhfM9LyvvXWW0eesttPO1zOTVvLRe3W9Fp80V+Kg7Raxf4m2r1NjDGoH/nWuTD90pe+lGzmP/roo0s3Lw66sLs430bx6MIvW3O0xbNtoVT1ZO4uhVKTdqTdIKm1zz333CGXxLJ/BMn/ly7IOeec09cda9naUlRD839olT39vIyxjn02z8sEWT9jlAma7BhVz4jKHpflke9c9su5ifXc1tpEKFUIJZO73oq+RE1a3dm7VMqelZLt1FS1WsUFuZQnx+c/2b8gilrLg7RaswWi7K85k3ZvVqTYaBkXFdNbbrnFyp2MTRSL/Bg2ikcbfrgyZls8s5feyjoXdRiYXDbTfdGajCG2mXSUmhJKcnlQHspZJZLEJhE6n/vc50a2NMjP0m0JcoecbH6vegVM+lyrKrtN+JQxTjs0YleZEEvjnhXT2bsbsz/XPQizLEbZMcTXso/U9KLndg3KuU5uu1Drot+jZBK4ossyJm1Yk8TO/iVT1Q6vuq4tPmSvf2dvax201dpEu7eJMQb1IyuU+r3byCRHbB/T1he7bb9szd8Wz7Y3czclUKreF9eVUJI/LuUjX9g6oSTHpZ38+++/f9Tdbqlo+vKXv1z63jOTV5YMIpTKxE9RfpsIpfzjIYrEhPws/93VxMOWB+HcxHpua21W2YZQMohclVAyLUxVf0Wkhadoj5HJ4hQXyjpTg7ZadX+FZvGZtHt1m+dNxqjTMs4KpRBeHOrCX1kGS8fbQ9osxnUfDyBr/IEHHkiYSk3K3pVlUid0a9lkDJm7K6Ek61T8TJ+ZpPtjMZts8seZvGD4e9/7XlIbq+4CM31liQmfMsa6jfRZ202Ekq4rVRajbGdLJ7ZMFm8/nE3GMzmmzbVZNn/0Qkn3xV0GbpBFY6r++/lyN1mgdVqtJl2x1B+Tdq+tlnE/LE0Wq2vH2CgerjFo0p42eTbxwMn8OmqiHpmM0bVQks5W/tlJVa97KcqB/Gbw/IMkTV9ZYsLHpz1KRVs9BllDOs6DjJ3/g7wJkdePPQilmu9wG2TR2BJKpomRFY/9tIxNhJIuwU3GqOMHQsmUGselYkCXq3VJ5W9sMPniz16+Ltqr2EQ9Mhmj6o4q0zVWp7OV7frkO8Jpjaq6pJ49PxtX00v6g/pmetebzJN2HPP7TU23MGTnqrrrrWqPnIjTpUuXJimedi8H4Vx3rRSd1+YfMWV2IpQCF0qDtlr7aRmbiBybLWOTL4ImF3SXY9koHl361/VcbfO08VJcnUDJdrqKOr/5l/M2sSWhn8cUZLcXZEVEVgSV1ZeyOlj1ypJ8zpnUjyrGTTxHKXsHYN2bYlI7RFhu2bJF+zynVFgOwrnJ9dv22iyyFaEUiFAqu6siu3DrtFp1xTXfEk3/ArnhhhtGftX0GHX8MP2LsMkF3eVYNopHl/51PVcXPLPCRPbfyJf/Zz/7WXXUUUcl7u7fv1898cQTo/bYlD0rbdAvcZkv+0WYPgg3teXpp59O7j6TT9V+nybsqBojKzDTZwllnz0kdstm7uz+Lak/6TPs8t24dC7da0NM60dVrWviydz5GKWPihEGInrkXX5yabEqRlV2iJ/Z75Ls85oG4dzk+u1ibebtRSh5IpR0d2qljwDIPyAs24btt9UqydJEu7eJMQb1w7TQNbmguxzLRvHo0r+u5+qKp+ldSLKuV65cmbz4tOjThEDJrpGiOVIRMnPmzOTXXXeUUpuyAjMVjkXvIJMHSMqG7lQ05DsouleW5Bk0wbiJd71l/c/bmOZJ+mDisgfpmtghlzjXrVs3quNUh3PTa7ertZm1G6HkiVCSoJX91ZN9xEDRMXVbrWmiNNHubWKMQf0wKXRNL+quxrNRPLryzcY8XfKUL+xnn31Wffvb3x71xS5fep/+9KfV+eefr30OkElum3R2y16zdNFFF6mrrroq+dLs8q63sscUpPVEciN9bUnRW+3l9/KFX8RQ98qSNoSSjJky3rBhw8hjDPp5FZWMkX39kvxbROCcOXPUkiVLkgfnpk8Zr3rjQJUd8+bNKxXl/XJuev12uTZT26MXSiYPnBRY06ZNG6WsmypMMrZJ4UmfAJ59f5wkuhTY9E3hRS8xlPHrtlrTJGmi3dvEGIP6YRKzphd1V+PZKB5d+WZjHnjaoO7enL8ZFocHd+1SRw1fAh0aNu/Nu+9OjDzy+uuT//Lvch69YT77h5+QPuaYY9SH1q5tLLg21mb0Qsk0evlNhyZfuiZ/wZkKJfmrKH1KbZHNutZ83VZrOlcT7d4mxhjED5OYmeaDa8fZKB6uMWjSHng2SdPfsX493KV5Z/iP0XF/8idKNjW/893vJs4cfvrpyX/5dzkPWUMHvvMdNWWYW5MfG2sToWQYQReEkrShdS3XKnfqtlrTMXVzm7R7mxijrh8IJcNk57Cky9vW4wHA6w+B3oED6o3hrsiBYbGEQOpfII474ww1Qbpx48Y1FnQbazNKodRYxBgIAo4QsFE8HHG9FTPg2QpWPwcdFktcYhvgkmODIkkSyMbaRCj5uXSxGgKjCNgoHiGHAJ4hRxfffCZgY20ilHzOGGyHwPsEbBSPkOHDM+To4pvPBGysTYSSzxmD7RBAKLWSAzaKcSuOMCgEAiNgY20ilAJLItyJk4CN4hEyaXiGHF1885mAjbWJUPI5Y7AdAnSUWskBG8W4FUcYFAKBEbCxNhFKgSUR7sRJwEbxCJk0PEOOLr75TMDG2kQo+Zwx2A4BOkqt5ICNYtyKIwwKgcAI2FibCKXAkgh34iRgo3iETBqeIUcX33wmYGNtIpR8zhhshwAdpVZywEYxbsURBoVAYARsrE2EUmBJhDtxErBRPEImDc+Qo4tvPhOwsTYRSj5nDLZDgI5SKzlgoxi34giDQiAwAjbWJkIpsCTCnTgJ2CgeIZOGZ8jRxTefCdhYmwglnzMG2yFAR6mVHLBRjFtxhEEhEBgBG2sToRRYEuFOnARsFI+QScMz5Ojim88EbKxNhJLPGYPtEKCj1EoO2CjGrTjCoBAIjICNtYlQCiyJcCdOAjaKR8ik4RlydPHNZwI21iZCyeeMwXYI0FFqJQdsFONWHGFQCARGwMbaRCgFlkS4EycBG8UjZNLwDDm6+OYzARtrE6Hkc8ZgOwToKLWSAzaKcSuOMCgEAiNgY20ilAJLItyJk4CN4hEyaV94rlixQi1durQyFLNmzVInn3yyuvTSS9Xs2bNDDhu+RUDAxtpEKEWQWLgYPgEbxSNkqvAMObr45jMBG2sToeRzxmA7BLj01koO2CjGrTjCoBAIjICNtYlQCiyJcCdOAjaKR8ik4RlydPHNZwI21iZCyeeMwXYI0FFqJQdsFONWHGFQCARGwMbaRCgFlkS4EycBG8UjZNLwDDm6+OYzARtrE6Hkc8ZgOwToKLWSAzaKcSuOMCgEAiNgY20ilAJLItyJk4CN4hEyaXiGHF1885mAjbWJUPI5YzS2//2WF9Xfb9lm5OG/+djR6j9/7s+MjuUg9wjYKB7uUWjOIng2x5KRINAkARtrE6HUZAQdG+uv7lmtbvnGN42s+vennKT+7sHVRsdykHsEbBQP9yg0ZxE8m2PJSBBokoCNtYlQajKCjo2VCqWxH56ixn54cqF1v3/7LXXgl68phJJjwevTHBvFo08TvTocnl6FC2MjImBjbSKUAk6wVCiNP/aP1AeO/UShp+/+erd644cvIJQ8zwMbxcNzZJXmC08+9gkcNukPGjPi93t/3thYDGSXQK/X69QAhFKnuLudDKHULW+bsyGUbNJn7rYIHH7CrMaGfudls/2ajU3IQMEQQCgFE8pDHUEoBRzcnGsIpXhiHZOn7wmlnhpf0hE3YfH2az9JDkMomdDimCICfQslMPpDQNrWh006erjI6C+99d56Qx38p5/64xyWHkKg63Y0IYBA2wTSjtLE2efVnmrf5scQSrXpcaIQ6EsogcwvAnSU/IoX1kIAAqMJIJTICBcIIJRciEJLNiCUWgLLsBCAQCcEEEqdYGYSDQGEUsApglAKOLi4BoEICCCUIgiyBy4ilDwIUl0TEUp1yXEeBCDgAgGEkgtRwAaEUsA5gFAKOLi4BoEICCCUIgiyBy4ilDwIUl0TEUp1yXEeBCDgAgGEkgtRwAaEUsA5gFAKOLi4BoEICCCUIgiyBy4ilDwIUl0TEUp1yXEeBCDgAgGEkgtRwAaEUsA5gFAKOLi4BoEICCCUIgiyBy4ilDwIUl0TEUp1yXEeBCDgAgGEkgtRwAaEUsA5gFAKOLi4BgHHCfzz/jfUR46aMJCVCKWB8HFyQwQQSg2BdHGYv/6bv1X/5cvL1LiPHqs++IefKjSx9+476p//11PqwxMmqN3/+zkX3cAmCEDAQwIXXrtEffXzC9SMaX9Y23qEUm10nNggAYRSgzBdG+qxZ/+nkmI1bvIfqA9O+3Speb/e+qz6/e/eVC8/97j6tx8/2jU3sAcCEPCQwH+8fKHa8dJP1d89uLq2WEIoeRj4AE1GKAUY1NQlKVKzzr1UjfngUeqoT51W6ulvf/oP6sAvX1PXXXGp+m83/deAieAaBCDQFQERSn+/5cXk8ltdsYRQ6ipazFNFAKEUcH7IHoF/ddJ7AukjnzlLDY09vNDbg2+/qfZvezb53bbH/0ftv/4CRolrEIBAnwRSoZTUn5piCaHUJ3QOb4UAQqkVrO4MKpfe5BLckSd8Sh3xr48tNex3r7+i3nz1H5PfS1dJukt8IAABCNQlkAol6Wgf/O3+WmIJoVSXPuc1SQCh1CRNB8dKN3SP/fAUNeHffbbSwvQSnBwkGzBnTPuj4f+dkGz05gMBCECgHwLf+OuHkj1KUnd+94tdyeX9oyZ8SH133RrjrjVCqR/iHNsWAYRSW2QdGTd7+U32Kclfd1Uf+cvvNz/akmzu5gMBCEBgUAIilOQPtfQPsX4uwyGUBqXP+U0QQCg1QdHxMdLnKZl0lVJXDuz5uZJHB4hwkv/ygQAEIFCHwPiPHT/yB1oqlkw7SwilOsQ5p2kCCKWmiTo4nnSVTvqzy9Rrr7+ePCZAHhfABwIQgIANAv10lhBKNiLEnHkCCKVIciJ9ppK4a3IJLhIsuAkBCFggYNpZQihZCA5THkIAoRRRUly1dJn674/+rTrs8HHqQ3/8We1+pYjQ4CoEINAxAROxhFDqOChMV0gAoRRZYmSfbcJluMiCj7sQcIiA7H/c/w/vvTbpP13wZ2rt7V87xDqEkkMBi9gUhFKEwU+frSSuH3H08erI4/44Qgq4DAEI2CIgIum3//iCOvjOgUQkybPbil6gi1CyFSHmzRJAKEWaD+mdcKn7Ipbk5bllT++OFBNuQwACDRNIHkEyLJJ+rxFJMi1CqWH4DFeLAEKpFrYwTpKHwd3zwEPJvqX0I3fEHTb8rKUxH/ywOmz4lSdDRxwZhrN4AQEIWCEwZvy/1JB+RBJCyUq4mLSAAEKJtEheXClP0ZU74/hAAAIQaJJA+sDJfkUSQqnJKDDWIAQQSoPQC/BcEUs7XvqJ+j8/flnJ85f+789+HqCXuAQBCLRN4P/90+vJFCKUhsaOM9qTlLeJS29tR4nxTQgglEwocQwEIAABCPRFIL3DVvY//m7XT7Ubt4sGRyj1hZyDWyKAUGoJLMNCAAIQiJlA9lEkwqHq7rYyTgilmDPIHd8RSu7EAksgAAEIBEMgK5TqiCQBgVAKJh28dgSh5HX4MB4CEICAmwRSoVRXJCGU3IxrjFYhlGKMOj5DAAIQaJmACKV/87GjD3mY5C/37FWr1m0Ymf23b76lPnjkBwqtueUb30x+PnH2ebWt3bf5seFze+qrn19gNMaiyy5SH508yehYDoqDAEIpjjjjJQQgAIFOCfz13/ytOu+M/1D4xG0RS+de/QX14g9/ZGTT4EJJP82sT56oHlvzdUSSHlV0RyCUogs5DkMAAhCwT+AXu/eqk+ddpn7+i18NP9h2vBo35WNqaMzYQwwbGv7J+GM/Udvgt177ceG5vYMH1YFf/Uz1DrytEEm18UZxIkIpijDjJAQgAAH3CIhYOm/Be52lMRM+oj504mfUYYcf0bqhvz/wO/Wbl7aog2/sQyS1Ttv/CRBK/scQDyAAAQh4S6BrsYRI8jZVrBmOULKGnokhAAEIQEAIdCWWEEnkWx0CCKU61DgHAhCAAAQaJdC2WEIkNRquqAZDKEUVbpyFAAQg4C6BtsQSIsndmPtgGULJhyhhIwQgAIFICDQtlhBJkSROi24ilFqEy9AQgAAEINA/gabEEiKpf/accSgBhBJZAQEIQAACzhEYVCwhkpwLqbcGIZS8DR2GQwACEAibQF2xhEgKOy+69g6h1DVx5oMABCAAAWMC/YolRJIxWg40JIBQMgTFYRCAAAQgYIeAqVhCJNmJT+izIpRCjzD+QQACEAiAgE4sIZICCLKjLiCUHA0MZkEAAhCAwGgCZWIJkUSmtEkAodQmXcaGAAQgAIFGCeTF0pFTP6Xe3LmdF9w2SpnBsgQQSuQDBCAAAQh4RSArltSYMUodPKhmffJE9diar6uPTp7klS8Y6z4BhJL7McJCCEAAAhDIEciKJUQS6dEmAYRSm3QZGwIQGEVgaGgIIhCAAAScI9Dr9UptQig5Fy4MgkC4BEQoVRWkcD3HMwhAwFUCurqEUHI1ctgFgQAJ6ApSgC7jEgQg4DgBXV1CKDkeQMyDQEgEdAUpJF/xBQIQ8IOAri4hlPyII1ZCIAgCuoIUhJM4AQEIeEVAV5cQSl6FE2Mh4DcBXUHy2zushwAEfCSgq0sIJR+jis0Q8JSAriB56hZmQwACHhPQ1SWEksfBxXQI+EZAV5B88wd7IQAB/wno6hJCyf8Y4wEEvCGgK0jeOIKhEIBAMAR0dQmhFEyocQQC7hPQFST3PcBCCEAgNAK6uoRQCi3i+AMBhwnoCpLDpmMaBCAQKAFdXUIoBRp43IKAiwR0BclFm7EJAhAIm4CuLiGUwo4/3kHAKQK6guSUsRgDAQhEQUBXlxBKUaQBTkLADQK6guSGlVgBAQjEREBXlxBKMWUDvkLAMgFdQbJsHtNDAAIREtDVBQf0cAAADppJREFUJYRShEmByxCwRUBXkGzZxbwQgEC8BHR1CaEUb27gOQQ6J6ArSJ0bxIQQgED0BHR1CaEUfYoAAALdEdAVpO4sYSYIQAAC7xHQ1SWEEpkCAQh0RkBXkDoz5P2JLr74YrV+/frkX6+88oo67rjjjEy46aab1PLly5Njn3zySXXWWWcZnRfjQZs3b1b33nuv2rZtW8I4/cydO1edf/756sILL1STJ08OHs2KFSvU0qVLEz+ff/55NXv2bGs+yzqUz+23365uuOEGa3a4MrGuLiGUXIkUdkAgAgK6gtQ1gocfflhdcsklybSrVq1SCxcuNDJh6tSpyZf+8ccfr3bu3Gl0TpsH7dmzR7300kvJFNOmTXNCeIhNl112mdq4cWOl6xMnTlQrV65UIlrzHxf9qhtHhFJdcu2fp6tLCKX2Y8AMEIDA+wR0BckGqEmTJql9+/apWbNmqa1bt2pN2LFjh5o5c2Zy3I033qhuu+027TltHyBdm1NPPTWZxna3IvX12muvVffdd1/yT+keXXHFFerjH//4CIqnn346+b2wl09RZ85Fv+rGEqFUl1z75+nqEkKp/RgwAwQg4LBQyn6hm1x+y1522759u5oxY4b1+LomKF599dWk25aKpGeeeaaQkYjO0047LRFLRd051/waJNAIpUHotXsuQqldvowOAQj0QUBXkPoYqrFDn3rqKXX22Wcn45lcfnPtspvY7ZqgyNqj28NVJTxd82uQpEMoDUKv3XN1dYmOUrv8GR0CEMgQ0BUkW7BML79lL7sViSrppNxxxx1q06ZNIxuXpVMyZ84ctWTJEu1mcdmTc+eddybny+Zn+cgeHjl/8eLFh2wAzn75FrGTS15F3RyZZ+3atWrDhg1G82THPvPMM5N9R+nYIjTvueee5Gfp5uB+hJIc+/3vfz+ZQjZ2y4b6On617VPKoG6MdUIpz7VoHmF+8803azeCpxvoJY+kWyc5JHvAZA+edEBNNnP346ccK5euZa6yDeL95ETXdUBXlxBKXUeE+SAQMQFdQbKFJtvVqLr8VnVcdmN4kR/yZfX444+XfsllL0OVcbjmmmuSjc/pp46gqDNPmVCSfUfpZng5Jv2SzF56ky9QEWv93NnWr19d+CT+DRLjfoSScJVLwun+rXw+VO1Dq7JRcvDBBx8c6aCWiZo6fq5evVotWrQoMbVoDaWd2Pnz5yccXfro6hJCyaVoYQsEAiegK0i23Nd1ilK70mKf3/idPV++COTRAemjBkQ0yKZveQyBfFFJpyj/GILsX+TSgZIOTfrIgez5YkdRJ8v0ElV2HvHhrrvuGhFu8rtHHnlk5Bb2so3qaedDfEn3Fn3pS19S06dPV0cfffSIb+lxYrP4dOutt6ozzjijL8Fk4ldXPg0aY1OhlHKV+CxbtkydcsopCTPp3F1++eWl+7mEc5ZXPr7yuy9+8YuJiEkFWJFQGsTPk08+OcnvfCcz9b0s/22t+3ReXV1CKNmOEPNDICICuoJkE0WZCEptyn4JPfTQQ6NuZ0+fx1R151w6fr4rJOOn51d9kaTCY5BNz+nGdZnn5ZdfLhQt2S/0os3qWQEkvtxyyy2F48ilMDk2vYSYcpQv0dNPPz35MtVthDcRSl35NGiMTYWScCrKEfl5doyirk1WxBbFNx+TIqE0iJ9ZkZXuTcsKWZM9gDZqgK4uIZRsRIU5IRApAV1BsolFd/kte3fc7t27R8SBfPlMmTIlMb1q43J6aUJEyt69e0dczZ5f9biB7OWQXq83CpWJoDCdR4474YQTkq5DkT1Vgq0ofmK37KvJPmwyPU5E34IFC9RVV11VKLZ0fnXl06AxzoucoktnKdcqsV3FI3u5syqPssflhVKTfkpst2zZov7iL/4i6aaW7ZezuebpKLlAHxsgAIFRBFwWSrovmnTDd36PRfbLKyug8qHPHpftBujEgEkKmYxhckw6V9WXdn7TsYl9cox0G2TDd3YDeXpuuncm/4Rznc2632dtG8SnQWPcj1CqEhRV/vbDomwzdxN+iq/Z/UhVl5xNc6ft43R1iY5S2xFgfAhAYISAriDZRpXuschf3so+QiDfNcpeDpEvubKP/LWeXobKdhR0l1NMmJh8Seo222bnydqU717VFUrZ8YXFs88+e0inKX+pT+dXVz4NGuMuhFLWxirBLraUCaUm/JTxs3GTf7v+qhRdXUIomVQhjoEABBohoCtIjUwywCDZL97sl3Z2H0z2sln+C9B06jKhlBclpuPpBEXeTt08bQulMlGW35uj86vKzjy7QXzS3YVXFKf85TXTPUp1O0r9sDARSqa5V3QZMXv5VsbRPUvLdK62jtPVJYRSW+QZFwIQOISAriDZRlZ2+S297Fa0yTYrrnQCpMi/rjpK/cwziKhIOwry3wkTJmg3bMtx6aWavEjoRyjpnqo+iE+DxjgvVKv2KDUhlHQsyoRSE36Kr9mbE9I7I2W/Uj+PiOiyFujqEkKpy2gwFwQiJ6ArSC7gyW9Wzl52K/qCy36Z13mliU4MmDAxGcPkmHSuQfbzyBhlt4mX+VJ2OU9ns+732fkG8WnQGHchlPphYbJHqU4ui5/Z9SKCTR6WKv915b2IRTmoq0sIJZMqxDEQgEAjBHQFqZFJBhwke3eZfFnIX9ny8tai2/JlquydQlW3P8tm5qVLlybWyZ6N9NZ40zu3qr6ss7dllz2M0HQesa+qg2ayRyntKMhYuv0yckxZR0nnV1c+DRrjLoSS7maEdFlkfam6661uLqd3TBY9pd2VFzbnS4SuLiGUBiyqnA4BCJgT0BUk85HaOzL/5Zu+4b7qL+J0D1N6S3TRJYaqSz8mz1Gq2iclNNIuQdUXXJPPHKq6RJQVm2XPBEojmL3cU7TpV+dXVz4NGuO29ygJz7STV/acLJPnKA3iZ9m5aX6X/bHR3mo2G1lXlxBKZhw5CgIQaICAriA1MEUjQ2Q7IumAVZciqp4OLednxUCR4NI9mVveyyZP+5ZP2R1E2Qdmlr0ypMmnWOuei5N/Mnf69O6U589+9jP1wAMPJI8MkE/Zq050fnXl06Ax7kIoZS97ZZ/MLQJJ9ghdd911yTO8qp7MXdfPqkt/2c3dLt4Bp6tLCKVGyiqDQAACJgR0BclkjC6OyX7hpF/iW7durZza5H1jIi7WrVtXuKnV5Pyq7kxWjKWGFomZQecxufQm88uXY/qwQV3MqriY+NWVTybzlPnShVASztkHo+a5S6dJ3hWYvp+vTLT066fEWl61InuRyt7lVnZHqS43uvi9ri4hlLqIAnNAAAIJAV1BcglTuk9HbDJ99ULVG+znzZs36rUnRb5Wnb948WLtW+Ply+j+++8feV5TWddnkHlMhVLqn3Qann76aSVvss++zkQuw8hG33POOWfkvXZl8Tfxqyuf6sa4K6EkDEXoy/sC025dynrJkiXJu/jSLl1Vd6cfP9On2le9GkfsMnn6uI0aoKtLCCUbUWFOCERKQFeQusTym+HXZhzctUsd9cQTamh44jfvvjuZ/sjrr0/+y7/hQT60tB7GjetyqWvn0tUlhJIWIQdAAAJNEdAVpKbmMRnn18PdjHeGnw497k/+RMnzj9757neT0w4ffmGrfPg3PMiH5tfDuDPOUBPkjxOHxJKuLiGUTCoqx0AAAo0Q0BWkRiYxHKR34IB6Y/iyz4FhscQXYvNfiAhOBHf+Dw5Z/we+8x11+LBY+vDwpVhXPrq6hFByJVLYAYEICOgKUucIhsUSl9i4xCZ5xyXX9i8594Y5SydJLnt/aPhOTlc+urqEUHIlUtgBgQgI6ApSBAhwEQIQcIyAri4hlBwLGOZAIGQCuoIUsu/4BgEIuElAV5cQSm7GDasgECQBXUEK0mmcggAEnCagq0sIJafDh3EQCIuAriCF5S3eQAACPhDQ1SWEkg9RxEYIBEJAV5ACcRM3IAABjwjo6hJCyaNgYioEfCegK0i++4f9EICAfwR0dQmh5F9MsRgC3hLQFSRvHcNwCEDAWwK6uoRQ8ja0GA4B/wjoCpJ/HmExBCDgOwFdXUIo+R5h7IeARwR0BckjVzAVAhAIhICuLiGUAgk0bkDABwK6guSDD9gIAQiERUBXlxBKYcUbbyDgNAFdQXLaeIyDAASCJKCrSwilIMOOUxBwk4CuILlpNVZBAAIhE9DVJYRSyNHHNwg4RkBXkBwzF3MgAIEICOjqEkIpgiTARQi4QkBXkFyxEzsgAIF4COjqEkIpnlzAUwhYJ6ArSNYNxAAIQCA6Arq6hFCKLiVwGAL2COgKkj3LmBkCEIiVgK4uIZRizQz8hoAFArqCZMEkpoQABCInoKtLCKXIEwT3IdAlAV1B6tIW5oIABCAgBHR1CaFEnkAAAp0R0BWkzgxhIghAAALvE9DVJYQSqQIBCHRGQFeQOjOEiSAAAQgglMgBCEDANQIIJdcigj0QgICuLtFRIkcgAIHOCOgKUmeGMBEEIAABOkrkAAQg4BoBhJJrEcEeCEBAV5foKJEjEIBAZwR0BakzQ5gIAhCAAB0lcgACEHCNAELJtYhgDwQgoKtLdJTIEQhAoDMCuoLUmSFMBAEIQICOEjkAAQi4RgCh5FpEsAcCENDVJTpK5AgEINAZAV1B6swQJoIABCBAR4kcgAAEXCOAUHItItgDAQjo6hIdJXIEAhDojICuIHVmCBNBAAIQoKNEDkAAAq4REKHEBwIQgIBrBHq9XqlJdJRcixb2QAACEIAABCDgDAGEkjOhwBAIQAACEIAABFwjMEooXXnllb1jjjlGXXDBBWrGjBmu2Yo9EIBAwAR27NihHn30UbVr164RL6lHAQcc1yDgMIGyejR09dVX9959993E9Llz56r58+c77AamQQACoRBYv3692rhxY+LO2LFjk/9JLaIehRJh/ICAPwSq6tHQ8GamnhQrOUg+119/PZ0lf2KLpRDwkoD85Xb33XcntssfZ/JHWvqhHnkZUoyGgLcEdPXo/wOt0WGGPXsx3AAAAABJRU5ErkJggg==)"
   ]
  },
  {
   "cell_type": "markdown",
   "metadata": {
    "id": "Iv7gHNU4830i"
   },
   "source": [
    "In LlamaIndex, **documents** represent entire data sources (like PDFs or API outputs), while **nodes** represent smaller, chunked pieces of those documents, containing metadata and relationships to other nodes. Here's a more detailed explanation:    \n",
    "### Documents:\n",
    "\n",
    ">    Purpose: Documents are the foundational units representing your data sources.\n",
    "\n",
    ">Examples: PDFs, API outputs, data retrieved from a database, or even images.      \n",
    "\n",
    ">**LlamaIndex's Role**: LlamaIndex provides data connectors to ingest various data formats into documents.     \n",
    "\n",
    ">**Metadata**: Documents can store metadata, which is inherited by the nodes derived from them.    \n",
    "\n",
    ">**Usage**: You can create documents from various sources and then use them to build indexes.        \n",
    "\n",
    "###Nodes:\n",
    "\n",
    ">    Purpose:    \n",
    "    Nodes represent smaller, manageable chunks of text or other data from a document, suitable for LLM processing.\n",
    "\n",
    ">**Attributes**:     \n",
    "Nodes contain metadata, relationship information with other nodes, and metadata inherited from the document they came from.     \n",
    ">**Creation**:         \n",
    "You can either construct nodes directly or parse source documents into nodes using LlamaIndex's NodeParser classes.     \n",
    ">**Usage**:          \n",
    "Nodes are the building blocks of indexes, allowing for efficient retrieval and processing of data for applications like question answering and chatbots.      \n",
    ">**Example**:    \n",
    "A node could be a single paragraph from a PDF, or a specific section of a database record.\n"
   ]
  },
  {
   "cell_type": "code",
   "execution_count": 4,
   "metadata": {
    "id": "kqoFRWTf-6bv"
   },
   "outputs": [],
   "source": [
    "!pip install llama_index -q"
   ]
  },
  {
   "cell_type": "code",
   "execution_count": 7,
   "metadata": {
    "colab": {
     "base_uri": "https://localhost:8080/"
    },
    "id": "_OtwiStP80tg",
    "outputId": "cd5d9260-6a0b-4dcb-9719-150d3f33171d"
   },
   "outputs": [
    {
     "data": {
      "text/plain": [
       "[Document(id_='3d6ac1c7-72f5-4d1b-80c6-e90d7ccf6306', embedding=None, metadata={}, excluded_embed_metadata_keys=[], excluded_llm_metadata_keys=[], relationships={}, metadata_template='{key}: {value}', metadata_separator='\\n', text_resource=MediaResource(embeddings=None, data=None, text='text1', path=None, url=None, mimetype=None), image_resource=None, audio_resource=None, video_resource=None, text_template='{metadata_str}\\n\\n{content}'),\n",
       " Document(id_='889e1eea-d7c7-4cfc-8aae-68f2f370da43', embedding=None, metadata={}, excluded_embed_metadata_keys=[], excluded_llm_metadata_keys=[], relationships={}, metadata_template='{key}: {value}', metadata_separator='\\n', text_resource=MediaResource(embeddings=None, data=None, text='text2', path=None, url=None, mimetype=None), image_resource=None, audio_resource=None, video_resource=None, text_template='{metadata_str}\\n\\n{content}')]"
      ]
     },
     "execution_count": 7,
     "metadata": {},
     "output_type": "execute_result"
    }
   ],
   "source": [
    "# 1.0\n",
    "from llama_index.core import Document, VectorStoreIndex\n",
    "\n",
    "#1.1\n",
    "text_list = [\"text1\", \"text2\"]\n",
    "documents = [Document(text=t) for t in text_list]\n",
    "\n",
    "documents"
   ]
  },
  {
   "cell_type": "code",
   "execution_count": null,
   "metadata": {
    "id": "YVABRKP3BotR"
   },
   "outputs": [],
   "source": []
  },
  {
   "cell_type": "markdown",
   "metadata": {
    "id": "5etK_TwVBqP7"
   },
   "source": [
    "### VectorStoreIndex"
   ]
  },
  {
   "cell_type": "markdown",
   "metadata": {
    "id": "5hJNxX_N_9CD"
   },
   "source": [
    "`VectorStoreIndex` is an indexing structure designed to turn raw text data into vector embeddings using LlamaIndex's seamless integration with OpenAI’s embedding models.    \n",
    "\n",
    "`VectorStoreIndex.from_documents` transforms documents to nodes and nodes to vectors using default OpenAI embeddings.     \n",
    "\n",
    "Vector stores accept a list of Node objects and build an index from them."
   ]
  },
  {
   "cell_type": "markdown",
   "metadata": {
    "id": "CoYK3S52B9KA"
   },
   "source": [
    "We override the default embeddings, as:"
   ]
  },
  {
   "cell_type": "code",
   "execution_count": 18,
   "metadata": {
    "id": "9QvLivMHCaM8"
   },
   "outputs": [],
   "source": [
    "%pip install fastembed -q\n",
    "%pip install llama-index-embeddings-fastembed -q"
   ]
  },
  {
   "cell_type": "code",
   "execution_count": 19,
   "metadata": {
    "id": "YGo7Xj-AB8bJ"
   },
   "outputs": [],
   "source": [
    "from llama_index.embeddings.fastembed import FastEmbedEmbedding\n",
    "from llama_index.core import Settings"
   ]
  },
  {
   "cell_type": "code",
   "execution_count": 20,
   "metadata": {
    "colab": {
     "base_uri": "https://localhost:8080/",
     "height": 209,
     "referenced_widgets": [
      "47a1097c1329453e925708b14607e0da",
      "a290d4ddd7ef4563a7d49a39000c5204",
      "bcd2607a1f6a4bf1ac3134be03a5be9a",
      "5dd518a809d34d4faba3d80cc9ace13a",
      "09815e0d9ca843949ffa497cf5a2dac3",
      "8ce638bc01254ea2986254a1fbc34a91",
      "afac5dd3b2834f35949502ab35b00655",
      "1ba8312b673c4ac8b5066460f592055b",
      "232c444240824c0aab0c71b1920328f1",
      "97d57afa0d6d4daa9f1365300c323088",
      "0dc762621d3e4f3bbaab211f500a4509",
      "2b018c0699b846da96641c2cec7c5787",
      "8e1e435c6dda4cc2a24128011c724033",
      "794afed0e7c44b88a38687eab6581282",
      "5bc08c3a9e8c4f118fe4babe1dcbe92d",
      "c5c0a05653b8493b8d315c22055e7070",
      "23d17e5011434ee68da4e66f6b8e0368",
      "959e34167f494a0e9f09b140ed39a9cc",
      "819c6f07b9bf49a2b67442f6e445080b",
      "ea193fd9688e481faa3ba3b061dca28d",
      "c10c419486ea4305804e96b984b4001c",
      "093aa2dc8d034fc585980905ea579e1b",
      "8143b4d181874b8bbab81247235708e5",
      "9f038cd66d1e4b9bad31919a1c5f215f",
      "f41ed249ecb442bb9d449309f30ff0fd",
      "3574d1c7ba3544e788ebd4e3cfa8134b",
      "ecf67cbec3c843e398b2e25ebe87f7f1",
      "9fe9a7d6e71f4ad5a09e56e03ff0eeee",
      "5bec04a187ff4e7e9070b281ea412545",
      "b0c0e36f15444a649679a0065f18f033",
      "d476a07c14d94f43b74234576d34555c",
      "f58861d1176a43cba34047f67413795f",
      "6139c81e55c6464e999f0d54313a0102",
      "9535b42a60ca44f5bcc724d9192e7c73",
      "25deb63d669246cf945c1aaf11307045",
      "039606cbc16844a4b1d3b956070ebd2d",
      "21dba5c5987c4577ae4ddeccbd49e52b",
      "aa8bdb08ec0146d7867d350a4f345ea8",
      "2dcdbc6a9fb94c05adb8112fd1b6e226",
      "facd01eda21742c2b92006ca068cbe90",
      "dca1a479315c47028d89eb776ca8dcc4",
      "145ec0bb4c9947de8f0665a4b768b73e",
      "229ea4d80cfc4d3a9a759617335dbf66",
      "87eb4a9fd3704854ac4c53554bd89e01",
      "99ac3fbf87484aa986b4f9cac894ea00",
      "c4fe0bb0965d458e993ae3a5d63a372f",
      "e6b545ba8fa2469d9b6af81e06125d4b",
      "0279ac9846a4419087f093bdaff4d789",
      "f622195c92444462a1de434fd7f194d8",
      "a4fcb5e9a2564ab9a9b6dd4f8a2c0a0b",
      "138011adcda640c6955e21ae3fa0ec5c",
      "24120f1294294bfcbbcad57d84a74a81",
      "406ab8b6b5b2433c9c7caf09a813276c",
      "052503a031c34679981dd208a0ac7b76",
      "e78d95a9aa5e46fba6a778a97f98c500",
      "e1e478b0e17248c5a7cd514011c0f17e",
      "aedb3bb0c970492995e9a8dfb47aacb9",
      "5fe55080163048269ef89e900d2e47a8",
      "b542b3f410fe497eb3345779d540d56c",
      "a92be351b6744a66af2ba5f5a8716acb",
      "9385196d329341b2bec9f4ef3560fd99",
      "de72851e55ec4f9a8e46a8b19d872687",
      "de844fbbb9c94506977cb2d5cc74d1cf",
      "6e35d22ba49244ce9adfb997e408449d",
      "b61baad8ccfe4a7c86b8b2ab7466c16c",
      "5cd1bdf2c06f401c8b873cc110fa0f6c"
     ]
    },
    "id": "HMRWlCXPDUcK",
    "outputId": "d39634e0-6e70-4d3e-f045-e5aa66d535fc"
   },
   "outputs": [
    {
     "data": {
      "application/vnd.jupyter.widget-view+json": {
       "model_id": "47a1097c1329453e925708b14607e0da",
       "version_major": 2,
       "version_minor": 0
      },
      "text/plain": [
       "Fetching 5 files:   0%|          | 0/5 [00:00<?, ?it/s]"
      ]
     },
     "metadata": {},
     "output_type": "display_data"
    },
    {
     "data": {
      "application/vnd.jupyter.widget-view+json": {
       "model_id": "2b018c0699b846da96641c2cec7c5787",
       "version_major": 2,
       "version_minor": 0
      },
      "text/plain": [
       "model_optimized.onnx:   0%|          | 0.00/218M [00:00<?, ?B/s]"
      ]
     },
     "metadata": {},
     "output_type": "display_data"
    },
    {
     "data": {
      "application/vnd.jupyter.widget-view+json": {
       "model_id": "8143b4d181874b8bbab81247235708e5",
       "version_major": 2,
       "version_minor": 0
      },
      "text/plain": [
       "special_tokens_map.json:   0%|          | 0.00/695 [00:00<?, ?B/s]"
      ]
     },
     "metadata": {},
     "output_type": "display_data"
    },
    {
     "data": {
      "application/vnd.jupyter.widget-view+json": {
       "model_id": "9535b42a60ca44f5bcc724d9192e7c73",
       "version_major": 2,
       "version_minor": 0
      },
      "text/plain": [
       "tokenizer.json:   0%|          | 0.00/711k [00:00<?, ?B/s]"
      ]
     },
     "metadata": {},
     "output_type": "display_data"
    },
    {
     "data": {
      "application/vnd.jupyter.widget-view+json": {
       "model_id": "99ac3fbf87484aa986b4f9cac894ea00",
       "version_major": 2,
       "version_minor": 0
      },
      "text/plain": [
       "config.json:   0%|          | 0.00/740 [00:00<?, ?B/s]"
      ]
     },
     "metadata": {},
     "output_type": "display_data"
    },
    {
     "data": {
      "application/vnd.jupyter.widget-view+json": {
       "model_id": "e1e478b0e17248c5a7cd514011c0f17e",
       "version_major": 2,
       "version_minor": 0
      },
      "text/plain": [
       "tokenizer_config.json:   0%|          | 0.00/1.24k [00:00<?, ?B/s]"
      ]
     },
     "metadata": {},
     "output_type": "display_data"
    }
   ],
   "source": [
    "Settings.embed_model = FastEmbedEmbedding(model_name=\"BAAI/bge-base-en-v1.5\")\n"
   ]
  },
  {
   "cell_type": "code",
   "execution_count": 22,
   "metadata": {
    "colab": {
     "base_uri": "https://localhost:8080/"
    },
    "id": "8CyHylBT-3l3",
    "outputId": "29007ec4-cc86-4751-f12b-4a22f36d2102"
   },
   "outputs": [
    {
     "data": {
      "text/plain": [
       "<llama_index.core.indices.vector_store.base.VectorStoreIndex at 0x79dd5cb86d90>"
      ]
     },
     "execution_count": 22,
     "metadata": {},
     "output_type": "execute_result"
    }
   ],
   "source": [
    "# Use above documents to create embeddings (index)\n",
    "# Embeddings are stored in memory\n",
    "\n",
    "index = VectorStoreIndex.from_documents(documents)\n"
   ]
  },
  {
   "cell_type": "code",
   "execution_count": 28,
   "metadata": {
    "colab": {
     "base_uri": "https://localhost:8080/"
    },
    "id": "Yjby2qAyDk_B",
    "outputId": "c6a53ddf-ac1e-43b5-d718-f1bd73f00330"
   },
   "outputs": [
    {
     "data": {
      "text/plain": [
       "SimpleVectorStore(stores_text=False, is_embedding_query=True, data=SimpleVectorStoreData(embedding_dict={'77114dc7-b71a-4109-ac44-f9bf85e6206b': [-0.005573860835283995, 0.03835131227970123, -0.012337337248027325, 0.008807881735265255, 0.06586215645074844, 0.009138768538832664, 0.01919141411781311, 0.024091683328151703, -0.030504578724503517, -0.046922847628593445, -0.02831442467868328, 0.036649610847234726, -0.08962295204401016, -0.043424904346466064, -0.041187483817338943, 0.05546287074685097, 0.06078856438398361, -0.004049419891089201, 0.0012398393591865897, -0.01629221811890602, 0.04481147602200508, 0.06762688606977463, 0.05029473826289177, 0.04058873653411865, 0.03813072293996811, 0.0003237467899452895, 0.03141845390200615, -0.008823638781905174, -0.06126125901937485, 0.018403587862849236, 0.07040002942085266, 0.030220961198210716, -0.006487737875431776, -0.014582637697458267, 0.016623103991150856, 0.012833666987717152, 0.025509769096970558, -0.018403587862849236, 0.05281578004360199, -0.009776906110346317, -0.04200682044029236, 0.016024356707930565, -0.03428613767027855, 0.004758462309837341, -0.04679679498076439, -0.0012063567992299795, -0.07411856204271317, -0.005739304237067699, -0.05313090980052948, 0.02751084417104721, -0.054927147924900055, 0.06091461703181267, -0.018545396625995636, 0.0014880042290315032, -0.058393578976392746, 0.042164385318756104, -0.040147554129362106, -0.03548363223671913, 0.010745931416749954, -0.02163366973400116, 0.009973863139748573, 0.023792311549186707, 0.027116931974887848, 0.012242798693478107, -0.004766340367496014, -0.02670726180076599, 0.0010251570492982864, 0.0301264226436615, -0.06844622641801834, -0.010635635815560818, 0.03167055919766426, 0.023130537942051888, -0.0009350496111437678, -0.06028435751795769, 0.010753809474408627, -0.05833055078983307, 0.01667037419974804, 0.029874319210648537, 0.025037074461579323, 0.023682015016674995, 0.0013530892319977283, 0.006282903254032135, 0.03255292400717735, 0.04121899604797363, 0.0013826326467096806, -0.005183887667953968, -0.012329459190368652, -0.03296259045600891, -0.01852964051067829, 0.0883624330163002, -0.014369925484061241, -0.001142346067354083, -0.008603047579526901, 0.04509509354829788, -0.008926055394113064, 0.008713343180716038, 0.04345642030239105, 0.05228005722165108, 0.00992659293115139, 0.006227755453437567, -0.011194990947842598, -0.02432803064584732, 0.02621881105005741, 0.018687205389142036, -0.10745930671691895, 0.011013791896402836, 0.011478608474135399, 0.03160753473639488, 0.037595003843307495, 0.010556853376328945, 0.02565157786011696, -0.033813443034887314, -0.02464316226541996, -0.009186037816107273, -0.022248173132538795, 0.06450709700584412, 0.04922329634428024, 0.017237607389688492, -0.027290252968668938, -0.034443702548742294, 0.04509509354829788, 0.0018897948320955038, 0.014787472784519196, 0.08955992758274078, -0.00994234997779131, 0.036019351333379745, 0.03152875229716301, 0.03813072293996811, -0.04039965942502022, -0.042416490614414215, 0.007870370522141457, 0.06416045874357224, 0.010730174370110035, 0.004080932587385178, 0.02733752317726612, -0.02254754677414894, 0.02974826656281948, -0.03687020391225815, 0.054013270884752274, -0.01701701618731022, -0.0026510306634008884, -0.03756348788738251, -0.0058614169247448444, 0.017489712685346603, 0.021649427711963654, 0.004585140850394964, -0.007279501762241125, -0.024564379826188087, -0.05067289620637894, 0.006578337401151657, -0.008618803694844246, -0.08180773258209229, 0.03973788395524025, -0.0014988367911428213, 0.015078967437148094, 0.0487821139395237, 0.015788009390234947, 0.05322544649243355, -0.054233863949775696, 0.06122974678874016, -0.0017942710546776652, 0.03608237951993942, -0.011896155774593353, 0.024201979860663414, 0.0027967782225459814, 0.017694545909762383, 0.04184925556182861, -0.0012585502117872238, -0.04714344069361687, -0.05722759664058685, -9.035366383614019e-05, -0.039548806846141815, 0.03649204596877098, -0.00010500228381715715, -0.006928919814527035, 0.013416657224297523, 0.05231156945228577, 0.007102241273969412, 0.005030261818319559, 0.0018454797100275755, -0.053918734192848206, 0.05174433812499046, 0.0289761982858181, 0.016544321551918983, 0.005061774514615536, -0.030331257730722427, 0.03463277965784073, 0.005735364742577076, -0.027101175859570503, -0.02220090478658676, -0.08388759195804596, -0.05275275185704231, 0.015701349824666977, -0.00288343895226717, 0.06267934292554855, -0.03267897665500641, 0.027384791523218155, 0.017001260071992874, -0.011510120704770088, 0.03485337272286415, 0.015709226951003075, 0.02834593877196312, 0.04856152459979057, -0.02068828046321869, -0.010359897278249264, 0.0329941064119339, -0.013645126484334469, 0.0007257836405187845, -0.011667686514556408, 0.012463388964533806, -0.029874319210648537, 0.028535015881061554, 0.057164572179317474, 0.008918177336454391, 0.030788196250796318, -0.0352945551276207, 0.024595892056822777, 0.002097583608701825, -0.00043970474507659674, -0.07002187520265579, -0.026975123211741447, -0.0009301257086917758, 0.007062850054353476, -0.004025784786790609, -0.0066846939735114574, 0.11987543106079102, 0.04777370020747185, -0.05691246688365936, -0.021224001422524452, -0.050420790910720825, 0.006015042774379253, -0.03233233094215393, 0.025462498888373375, 0.009170281700789928, -0.02779446169734001, 0.015315314754843712, 0.013503317721188068, -0.05092499777674675, 0.03015793487429619, -0.04953842610120773, 0.011793738231062889, 0.048214882612228394, -0.012542171403765678, 0.0496329665184021, -0.003336438210681081, -0.028471989557147026, -0.0032773513812571764, -0.021129462867975235, -0.05596707761287689, -0.026864826679229736, -0.023083267733454704, -0.019270196557044983, -0.007996422238647938, 0.004254254046827555, -0.03513699024915695, -0.01890779659152031, -0.014306899160146713, -0.004923905245959759, 0.05864568054676056, 0.026975123211741447, -0.06724873185157776, 0.025698846206068993, -0.009335724636912346, 0.008327309042215347, -0.016686130315065384, -0.027132688090205193, -0.03267897665500641, 0.013897230848670006, 0.02372928522527218, 0.013881473802030087, 0.03305713087320328, -0.04068327695131302, -0.03560968488454819, 0.022657843306660652, 0.04777370020747185, -0.03167055919766426, 0.08867756277322769, -0.023429911583662033, -0.019270196557044983, -0.05943350866436958, 0.021160975098609924, 0.03239535912871361, -0.0023516572546213865, -0.045630816370248795, 0.03756348788738251, -0.035010937601327896, 0.03608237951993942, -0.002458013594150543, -0.03683869168162346, -0.05943350866436958, 0.01758425123989582, 0.01574861817061901, 0.0039332155138254166, -0.010612000711262226, 0.03359285369515419, 0.04254254326224327, -0.007555240299552679, 0.02198031358420849, -0.00519176572561264, -0.03992696478962898, 0.027526600286364555, 0.016055870801210403, -0.014267507940530777, 0.03809921070933342, 0.011384068988263607, -0.002282722620293498, -0.0034546121023595333, -0.03308864310383797, -0.2909279763698578, -0.008839394897222519, 0.0030863038264214993, -0.07071515917778015, 0.04140807315707207, -0.034128572791814804, 0.01764727756381035, -0.05051533132791519, -0.012510659173130989, -0.003232051385566592, -0.009729636833071709, 0.03595632687211037, 0.007799466140568256, 0.024895265698432922, 0.04635561630129814, -0.0332777202129364, -0.034475214779376984, -0.0556519478559494, -0.014015404507517815, 0.027841730043292046, -0.0028361694421619177, -0.05889778584241867, -0.009067864157259464, 0.054801095277071, -0.020404662936925888, 0.08313127607107162, -0.013558465987443924, 0.004522114526480436, -0.014503855258226395, 0.006416833493858576, 0.03170207142829895, -0.03932821750640869, 0.029417380690574646, 0.002570278476923704, 0.012683980166912079, 0.0219488013535738, 0.06384532898664474, 0.032032959163188934, 0.006093825213611126, -0.00928057637065649, 0.022169390693306923, -0.04386608675122261, 0.016307974234223366, -0.028991954401135445, 0.038855522871017456, -0.03485337272286415, -0.018324805423617363, -0.035010937601327896, 0.014763837680220604, 0.06901345402002335, -0.04288918524980545, 0.0007966879056766629, -0.020215585827827454, 0.02398138865828514, 0.03620843216776848, -0.02303599938750267, -0.006787111051380634, -0.0049514793790876865, 0.011415582150220871, -0.03431764990091324, -0.0364290215075016, -0.03179661184549332, -0.023997144773602486, -0.04203833267092705, 0.027699921280145645, -0.07556816190481186, -0.0275423564016819, -0.038319800049066544, 0.03293107822537422, 0.01838783174753189, -0.009304211474955082, 0.0024954352993518114, -0.03784710541367531, -0.09271123260259628, -0.008807881735265255, 0.012258554808795452, -0.05382419377565384, 0.010060523636639118, -0.002040466293692589, -0.03627145662903786, -0.030835464596748352, -0.05703851953148842, 0.03173358365893364, 0.003338407725095749, 0.034475214779376984, -0.07645052671432495, 0.010454435832798481, -0.03658658638596535, -0.0023398399353027344, -0.030031884089112282, 0.04972750321030617, -0.042479515075683594, -0.08817335963249207, 0.04553627595305443, 0.028361694887280464, 0.00026096697547473013, -0.008492751978337765, -0.030788196250796318, 0.05974863842129707, 0.028991954401135445, 0.041817743331193924, -0.0522170327603817, -0.007894004695117474, 0.002410744084045291, -0.0023181745782494545, -0.007657657377421856, -0.08224891126155853, -0.009327846579253674, 0.03655507415533066, 0.006751658860594034, 0.001294002286158502, -0.003962758928537369, 0.020073777064681053, -0.03274200111627579, 0.004474845249205828, -0.030677899718284607, 0.014763837680220604, 0.027069661766290665, -0.0025131613947451115, -0.009642976336181164, -0.003064638702198863, 0.022705111652612686, -0.05499017611145973, -0.013369387947022915, -0.05215400457382202, 0.012991231866180897, 0.06444407254457474, 0.030945761129260063, -0.04374003782868385, -0.023020241409540176, -0.015575297176837921, -0.03286805376410484, 0.028739850968122482, -0.019112631678581238, 0.028093833476305008, -0.002261057263240218, -0.0438976027071476, -0.048498496413230896, -0.00898120366036892, 0.017064286395907402, -0.008374578319489956, 0.016969747841358185, -0.0450320690870285, 0.023760797455906868, 0.0044039408676326275, -0.008540021255612373, -0.036050863564014435, -0.007700988091528416, -0.061324287205934525, 0.013361509889364243, -0.046324100345373154, -0.03163904696702957, -0.011226504109799862, -0.007870370522141457, 0.011754347011446953, 0.004000180866569281, 0.027132688090205193, 0.003109938697889447, -0.04931783676147461, 0.0011748438701033592, 0.0015470910584554076, -0.050483815371990204, 0.022500278428196907, -0.011959181167185307, -0.001134467776864767, 0.02272086963057518, 0.0026530001778155565, -0.028078077360987663, -0.0101865753531456, 0.011628295294940472, 0.07292106747627258, -0.02673877589404583, -0.06750083714723587, 0.023162050172686577, -0.020577985793352127, 0.01870296150445938, 0.005286304745823145, 0.0292598158121109, 0.03998998925089836, -0.0011659808224067092, 0.01302274502813816, -0.04197530820965767, 0.010029010474681854, 0.040525712072849274, 0.09107255190610886, -0.012794275768101215, 0.008248526602983475, -0.06286842375993729, -0.03208022937178612, -0.020656768232584, -0.011896155774593353, -0.006704389583319426, -0.030488822609186172, -0.011581025086343288, -0.04837244749069214, -0.05382419377565384, -0.029212545603513718, 0.009493289515376091, 0.05933896824717522, 0.0731731727719307, -0.00865031685680151, 0.023083267733454704, -0.029307084158062935, 0.03806769847869873, -0.010060523636639118, -0.07443369179964066, 0.04443332180380821, -0.028078077360987663, -0.005400539375841618, 0.023366885259747505, 0.01629221811890602, 0.0052429744973778725, -0.020010750740766525, -0.03545212000608444, -0.004183350130915642, -0.023934118449687958, -0.05404478684067726, -0.0674378052353859, -0.003671263810247183, -0.04922329634428024, -0.0029740389436483383, -0.014409316703677177, -0.034065548330545425, -0.012518537230789661, -0.011368312872946262, 0.04985355585813522, 0.03170207142829895, -0.0015697410563006997, 0.04767915979027748, 0.0037579245399683714, -0.0034585511311888695, -0.012171894311904907, 0.04326733946800232, 0.03334074839949608, -0.0008547899778932333, -0.04125050827860832, -0.04928632453083992, -0.022279687225818634, -0.0007395705906674266, 0.04802580177783966, 0.019270196557044983, -0.009965984150767326, -0.014724446460604668, 0.026092758402228355, 0.038256775587797165, 0.007441005669534206, 0.016307974234223366, -0.010801078751683235, -0.007641901262104511, 0.010485948994755745, 0.008327309042215347, 0.037279870361089706, -0.04134504869580269, -0.014779594726860523, 0.010265357792377472, -0.02900771051645279, -0.019916212186217308, 0.04408667981624603, -0.025052830576896667, 0.04033663123846054, 0.043046750128269196, 0.020388906821608543, -0.002747539198026061, -0.003029186511412263, 0.06305750459432602, -0.0007927487604320049, 0.041786231100559235, 0.02257906086742878, 0.03935972973704338, -0.03293107822537422, -0.030993029475212097, -0.08666073530912399, 0.01230582408607006, 0.0036614160053431988, 0.03086697869002819, -0.0033246208913624287, -0.008618803694844246, 0.014196603558957577, 0.033498313277959824, -0.046859823167324066, -0.005085409618914127, 0.04166017845273018, 0.006507433485239744, 0.015654079616069794, 0.026486672461032867, -0.036964740604162216, -0.0047781579196453094, -0.024233492091298103, -0.049759019166231155, -0.009839932434260845, -0.02544674277305603, 0.04793126508593559, -0.025115856900811195, 0.009335724636912346, 0.051397692412137985, 0.02320932038128376, 0.061670929193496704, 0.03516850247979164, 0.021617913618683815, 0.058456603437662125, -0.03680717572569847, 0.06393986195325851, 0.025352204218506813, -0.011336799710988998, -0.05798390880227089, 0.02558855153620243, -0.027211470529437065, -0.06548400223255157, -0.014330534264445305, 0.025667333975434303, -0.010950765572488308, -0.058488115668296814, 0.03712230548262596, 0.012991231866180897, -0.013014866970479488, -0.05064138025045395, -0.023099025711417198, -0.05707003176212311, -0.004687557928264141, -0.025998219847679138, 0.050798945128917694, -0.016859451308846474, 0.04197530820965767, 0.05341452360153198, 0.023997144773602486, 0.05732213705778122, -0.015788009390234947, 0.028440477326512337, 0.028787119314074516, 0.05826752632856369, 0.06995885074138641, 0.06211211159825325, -0.02142883650958538, 0.0415971539914608, -0.02338264137506485, -0.05473807081580162, 0.03055184707045555, -0.0008385410765185952, 0.007984604686498642, 0.01225067675113678, 0.0055541652254760265, 0.055557407438755035, -0.006948615424335003, 0.036996256560087204, -0.015323193743824959, -0.014212360605597496, -0.0262503232806921, 0.00819337833672762, -0.00985568854957819, 0.017347903922200203, 0.003917458932846785, 0.04065176099538803, -0.014212360605597496, -0.01481898594647646, 0.05064138025045395, -0.050137173384428024, 0.006948615424335003, -0.005270548164844513, -0.06122974678874016, -0.037973158061504364, -0.015614688396453857, 0.011431338265538216, 0.12208133935928345, 0.04736403003334999, -0.02757387049496174, -0.014432951807975769, 0.035420604050159454, 0.011699198745191097, 0.024454083293676376, 0.011163477785885334, 0.003966697957366705, -0.017032774165272713, -0.009989619255065918, -0.005329634994268417, -0.0015008063055574894, -2.509652949811425e-05, 0.024690430611371994, 0.004494540859013796, -0.00707860616967082, 0.03422311320900917, 0.02806232124567032, -0.052689727395772934, -0.07298409193754196, -0.06983279436826706, -0.008736977353692055, -0.05788937211036682, 0.008729099296033382, 0.04087235406041145, -0.013322118669748306, -0.027778703719377518, -0.021617913618683815, -0.04033663123846054, -0.0009576996089890599, -0.014259629882872105, -0.03850887715816498, 0.022500278428196907, 0.031008785590529442, 0.07411856204271317, -0.001611101790331304, 0.03709079325199127, 0.022137878462672234, 0.03466429188847542, -0.04575686901807785, -0.00733071006834507, 0.011817372404038906, 0.06523189693689346, -0.010966521687805653, 0.007350405678153038, -0.08899269253015518, -0.007744318339973688, 0.0648537427186966, 0.005471443757414818, -0.05763726681470871, 0.007645840290933847, -0.0014033130137249827, -0.004931783769279718, 0.04077781364321709, -3.477508289506659e-05, -0.02128702774643898, 0.008083082735538483, 0.007090423721820116, -0.01758425123989582, 0.028298668563365936, 0.038950059562921524, -0.035073962062597275, 0.05341452360153198, 0.000244471913902089, 0.026297593489289284, -0.034790344536304474, 0.0183563195168972, 0.018372075632214546, 0.059717122465372086, -0.02823564223945141, 0.010942887514829636, -0.04938086122274399, -0.09050531685352325, -0.02401290088891983, 0.008744856342673302, -0.06775293499231339, -0.047521594911813736, 0.039548806846141815, -0.012053720653057098, 0.030504578724503517, 0.03835131227970123, -0.006038677413016558, -0.05083046108484268, -0.03932821750640869, -0.037279870361089706, -0.029827049002051353, -0.02027861215174198, 0.008469116874039173, -0.0062553295865654945, 0.00985568854957819, -0.032521411776542664, -0.021696696057915688, -0.033750418573617935, 0.005010566208511591, -0.006022920832037926, 0.0015037606935948133, 0.017915137112140656], 'f91333fa-3557-464d-b4d5-1ea5d28ccf25': [-0.01387634128332138, 0.023345740512013435, -0.0036290145944803953, -0.004470124840736389, 0.034750085324048996, 0.02609415538609028, 0.018591295927762985, 0.019870731979608536, -0.04034169018268585, -0.041099876165390015, -0.023266762495040894, 0.038730550557374954, -0.03775123134255409, -0.02658381685614586, 0.003986387513577938, 0.045870114117860794, 0.029679732397198677, 0.027247225865721703, -0.004493818152695894, -0.03437099605798721, 0.008600646629929543, 0.045648977160453796, 0.05016648769378662, 0.04037328064441681, 0.0224927831441164, 0.02031300589442253, 0.0024976625572890043, -0.007151409983634949, -0.02539915405213833, 0.00013364468759391457, 0.04245828837156296, 0.03185950964689255, -0.017485611140727997, -0.036045316606760025, 0.020565733313560486, 0.014531854540109634, 0.007518655154854059, -0.016601063311100006, 0.025636086240410805, -0.02716824971139431, -0.04808148369193077, 0.03493963181972504, -0.014523956924676895, 0.0024305316619575024, -0.04002578184008598, 0.0015183418290689588, -0.0672256201505661, -0.003082095645368099, -0.019507434219121933, 0.020360391587018967, -0.06109696999192238, 0.05105103552341461, 0.0023456308990716934, 0.0034829063806682825, -0.019681185483932495, 0.06779425591230392, -0.019791753962635994, -0.015542766079306602, 0.017422430217266083, -0.018512317910790443, 0.018370158970355988, 0.006025980692356825, 0.0021679315250366926, 0.011783438734710217, 0.002416710602119565, -0.025020062923431396, 0.014492365531623363, 0.03004302829504013, -0.0709533616900444, -0.029995642602443695, 0.0011688665254041553, 0.02718404494225979, -0.006511692423373461, -0.04978739470243454, 0.007755587343126535, -0.048144664615392685, -0.014713502489030361, 0.02806859277188778, 0.010962072759866714, 0.02113437093794346, 0.031970079988241196, -0.008963942527770996, 0.014334410429000854, 0.03996260091662407, -0.031464625149965286, -0.027547340840101242, -0.011341164819896221, -0.02064470946788788, -0.01378156803548336, 0.06296084076166153, -0.003032734850421548, 0.025146426633000374, 0.002452250337228179, 0.014350205659866333, 0.021545054391026497, 0.014847763814032078, 0.04827103018760681, 0.01066195871680975, -0.01234417874366045, -0.010235480032861233, -0.006638056132942438, -0.03737213835120201, 0.053704679012298584, -0.01873345486819744, -0.11353801190853119, -0.0047899833880364895, -0.008845476433634758, 0.05421013385057449, 0.024751538410782814, 0.025920405983924866, 0.016032425686717033, -0.05828537046909332, 0.0035441138315945864, -0.013315601274371147, -0.03433940187096596, 0.040120553225278854, 0.026599612087011337, 0.021387098357081413, -0.040910329669713974, -0.004821574315428734, 0.026331087574362755, 0.026015177369117737, 0.04906080290675163, 0.08428475260734558, -0.0003973553830292076, 0.04470124840736389, 0.04716534540057182, 0.028700411319732666, -0.030169393867254257, -0.027626318857073784, 0.022255850955843925, 0.04072078317403793, -0.020771075040102005, 0.011965086683630943, 0.01931788958609104, -0.04236351326107979, 0.037340547889471054, -0.04435374587774277, 0.05199876427650452, 0.03373917564749718, 0.028826776891946793, -0.030785417184233665, 0.011135823093354702, 0.010290764272212982, 0.021955735981464386, -0.00572981545701623, -0.019696980714797974, -0.03512917831540108, -0.017074929550290108, -0.02536756359040737, 0.0014028373407199979, -0.07588155567646027, 0.02241380512714386, -0.046154431998729706, 0.01050400361418724, 0.06106537953019142, 0.05086148902773857, 0.03478167578577995, -0.027705296874046326, 0.06602516025304794, 0.03433940187096596, 0.05847491696476936, 0.01617458648979664, 0.006290555465966463, 0.008940249681472778, -0.01605611853301525, 0.03939396142959595, 0.0031867409124970436, -0.030469506978988647, -0.03588736057281494, -0.04451170191168785, -0.07758746296167374, 0.04059441760182381, 0.01055928785353899, -0.002795802429318428, -0.010977867990732193, 0.06431925296783447, 0.0482078455388546, 0.022240055724978447, 0.010890993289649487, -0.05692695826292038, 0.029932459816336632, 0.07689246535301208, 0.028779389336705208, 0.019080957397818565, -0.014650320634245872, 0.04906080290675163, -0.0005207576905377209, 0.005556065123528242, 0.0260783601552248, -0.07329109311103821, -0.0653933435678482, 0.03084859997034073, 0.011949291452765465, 0.04770239070057869, -0.0261889286339283, 0.033075764775276184, 0.04034169018268585, 0.006744675803929567, 0.036550771445035934, -0.004335863050073385, 0.021987326443195343, 0.048144664615392685, -0.030706439167261124, -0.020455164834856987, 0.015234753489494324, 0.042868971824645996, 0.0006476152339018881, -0.01756458915770054, 0.03601372614502907, -0.03629804402589798, -0.004474073648452759, 0.06052833050489426, 0.008253145031630993, 0.03370758518576622, -0.008442691527307034, 0.02173459902405739, 0.01298389583826065, -0.012770656496286392, -0.07885110378265381, -0.02587301842868328, -0.009864285588264465, -0.0035342418123036623, 0.01412906963378191, 0.0171539057046175, 0.11296936869621277, 0.023551080375909805, -0.06463515758514404, -0.026694385334849358, -0.01655367761850357, -0.0239933542907238, -0.010843606665730476, 0.042300332337617874, -0.00952468253672123, 0.003243999555706978, 0.03512917831540108, -0.01388423889875412, -0.04808148369193077, 0.04748125374317169, -0.04056282714009285, 0.016601063311100006, 0.026141542941331863, -0.02152925729751587, 0.03885691612958908, -0.009785308502614498, -0.04422738403081894, 0.0011441861279308796, -0.025762449949979782, -0.005149330943822861, -0.02201891876757145, 0.007028994616121054, -0.0015864599263295531, -0.028226546943187714, 0.0056824288330972195, -0.015432197600603104, -0.04678625240921974, -0.009335136972367764, -0.01634833589196205, 0.06728880107402802, 0.00661831209436059, -0.03332849219441414, 0.032665081322193146, -0.011886108666658401, 0.021371303126215935, -0.012644292786717415, -0.009137692861258984, -0.027910636737942696, 0.02380380965769291, -0.0147214001044631, -0.006412970367819071, 0.04018373787403107, -0.04166851192712784, -0.04274260625243187, -0.005196717567741871, 0.03083280473947525, -0.04577534273266792, 0.06381379812955856, 0.019365275278687477, -0.022777102887630463, -0.06384538859128952, 0.004033774137496948, 0.04817625507712364, 0.003638886846601963, -0.05149330943822861, 0.03092757612466812, -0.04501715674996376, 0.03699304535984993, -0.008253145031630993, -0.029205868020653725, -0.03800395876169205, -0.02350369468331337, 0.001815494615584612, 0.01040923036634922, -0.01566123217344284, 0.019112547859549522, 0.0438167005777359, -0.006444561295211315, 0.025035858154296875, 0.015400606207549572, -0.007143511902540922, 0.01903356984257698, -0.037435319274663925, -0.016632655635476112, 0.02299823984503746, 0.04460647329688072, -0.01843334175646305, 0.007727945223450661, -0.027231430634856224, -0.29594436287879944, -0.015353219583630562, 0.0121072456240654, -0.06950017064809799, 0.030769621953368187, -0.037435319274663925, 0.00882178358733654, -0.01066195871680975, -0.0400889627635479, -0.0019635772332549095, -0.04002578184008598, 0.030595870688557625, 0.0003398499102331698, 0.003954796586185694, 0.002008989453315735, 0.013489351607859135, 0.008095190860331059, -0.06577243655920029, -0.021876757964491844, 0.04631238803267479, 0.02418290078639984, -0.0637190192937851, 0.006081264931708574, 0.05430490896105766, -0.008075445890426636, 0.07367018610239029, -0.027784273028373718, 0.006306350696831942, -0.003326925914734602, -0.004762341268360615, 0.00563109340146184, -0.04182646796107292, 0.013813159428536892, 0.001681232824921608, 0.004276630003005266, -0.004201601259410381, 0.043974652886390686, -0.0018905231263488531, 0.01843334175646305, -0.005607400089502335, 0.014105375856161118, -0.009153489023447037, 0.005421803332865238, -0.04678625240921974, 0.05199876427650452, -0.03876214101910591, -0.02806859277188778, -0.03835145756602287, 0.004509613383561373, 0.06213947385549545, -0.03490804135799408, -0.02091323398053646, -0.025699269026517868, -0.0028037000447511673, 0.03670872747898102, -0.04305851459503174, -0.034655313938856125, 0.02448301576077938, 0.006452459376305342, -0.0470389798283577, -0.02885836735367775, -0.03487645089626312, -0.046154431998729706, -0.03132246434688568, 0.020391982048749924, -0.051303762942552567, -0.05342036113142967, -0.040815554559230804, 0.022761305794119835, 0.009398318827152252, -0.03383394703269005, 0.010962072759866714, 0.025620291009545326, -0.09357250481843948, -0.017406634986400604, -0.010977867990732193, -0.07006881386041641, -0.026457451283931732, 0.027626318857073784, -0.02893734537065029, -0.03917282447218895, -0.08062019944190979, -0.001999117201194167, 0.028921548277139664, 0.008521668612957, -0.05522104725241661, 0.005212512798607349, -0.01865447871387005, 0.0077437409199774265, -0.034971222281455994, 0.07468109577894211, -0.0465967059135437, -0.07998838275671005, 0.04454329237341881, 0.045175112783908844, 0.016822200268507004, 0.014437081292271614, -0.002460148185491562, 0.06735198199748993, 0.004924245178699493, 0.04470124840736389, -0.051903992891311646, 0.014208046719431877, -0.029079504311084747, -0.006748624611645937, -0.01746981590986252, -0.061823561787605286, -0.021781986579298973, 0.03775123134255409, -0.016395723447203636, 0.0014966230373829603, -0.03582417964935303, 0.02171880379319191, -0.0565478689968586, -0.008956044912338257, -0.046849433332681656, 0.027294613420963287, 0.04290056228637695, 0.009935365989804268, -0.005173024255782366, -0.023171989247202873, 0.046754661947488785, -0.05057717114686966, 0.009848490357398987, -0.06476152688264847, -0.003834356088191271, 0.03519235923886299, 0.004162112716585398, -0.008158372715115547, -0.021071188151836395, -0.0017503381241112947, -0.03471849486231804, 0.04365874454379082, -0.005702173337340355, 0.007475217338651419, 0.0006792062195017934, -0.04141578450798988, -0.041889648884534836, 0.0013584124390035868, -0.00787800271064043, 0.007506808266043663, -0.007652916945517063, -0.03332849219441414, -0.004209498874843121, 0.01634833589196205, -0.020344596356153488, -0.016680041328072548, 0.007293569389730692, -0.06577243655920029, 0.01647469960153103, -0.02547813206911087, -0.031590986996889114, 0.011822926811873913, -0.0317489430308342, 0.007763484958559275, 0.006859193090349436, 0.0044069429859519005, -0.0010128860594704747, 0.0006288581062108278, 0.0024877903051674366, -0.01617458648979664, -0.04324806109070778, -0.011815029196441174, -0.007858257740736008, -0.01566123217344284, 0.03241235390305519, 0.01813322678208351, 0.0077792806550860405, -0.01716970093548298, 0.009098204784095287, 0.08428475260734558, -0.0008031021570786834, -0.08358975499868393, 0.025620291009545326, 0.0027444669976830482, 0.024040741845965385, -0.02290346659719944, -0.004521460272371769, 0.03977305442094803, 0.010014343075454235, 0.002031695330515504, -0.042868971824645996, 0.036424409598112106, 0.0400889627635479, 0.0741756409406662, 0.019886527210474014, 0.029016321524977684, -0.0648878887295723, 0.005240154918283224, -0.02964814193546772, -0.024751538410782814, 0.00530728604644537, -0.029790300875902176, -0.017675157636404037, -0.02012345939874649, -0.06507743149995804, -0.0440378375351429, 0.020992211997509003, 0.04918716847896576, 0.07689246535301208, -0.02380380965769291, 0.003478957572951913, -0.038035549223423004, 0.007104023359715939, 0.02865302562713623, -0.06912107765674591, 0.07550246268510818, -0.05086148902773857, -0.015226855874061584, 0.003405903233215213, -0.015811288729310036, -0.009232466109097004, -0.04226874187588692, -0.01724867895245552, 0.00857695285230875, -0.04561738669872284, -0.04144737496972084, -0.017833111807703972, -0.010590878315269947, -0.04078396409749985, 0.011933495290577412, -0.014547649770975113, -0.04141578450798988, 0.01219412125647068, -0.04504874721169472, 0.026947112753987312, 0.007806922774761915, -0.009737921878695488, 0.04801830276846886, -0.018591295927762985, 0.002047490794211626, -0.018117431551218033, 0.028115978464484215, 0.08201020210981369, 0.0016851817490532994, -0.0491555780172348, -0.06987926363945007, -0.01991811767220497, -0.03304417431354523, 0.058759238570928574, 0.034149859100580215, -0.012280995957553387, -0.025699269026517868, 0.016616858541965485, -0.005263848230242729, 0.04839739203453064, -0.0007596645154990256, -0.008110986091196537, -0.004774188157171011, 0.029474390670657158, 0.037846002727746964, 0.045554205775260925, -0.039236005395650864, 0.0014679937157779932, 0.06239220127463341, -0.0005839396617375314, -0.042205560952425, 0.02885836735367775, -0.01873345486819744, 0.019128343090415, 0.035539861768484116, 0.019159933552145958, 0.0011767642572522163, 0.009579966776072979, 0.04432215541601181, -0.0024877903051674366, 0.05673741176724434, -0.0137894656509161, 0.03163837268948555, -0.02083425596356392, -0.0004129040753468871, -0.06533016264438629, -0.019902322441339493, -0.042205560952425, 0.013299806043505669, -0.035666223615407944, -0.015558561310172081, -0.0021778037771582603, 0.021955735981464386, -0.026252111420035362, -0.01993391290307045, 0.027594728395342827, -0.004951887298375368, 0.05970696732401848, 0.02934802696108818, -0.024719947949051857, 0.03778282180428505, -0.01378156803548336, -0.0561055950820446, 0.028384502977132797, 0.012723269872367382, 0.03560304269194603, -0.040404874831438065, 0.007186949718743563, -0.008205759339034557, 0.034149859100580215, 0.04539624974131584, 0.03790918365120888, 0.019475843757390976, 0.03402349352836609, -0.02301403507590294, 0.06709925830364227, -0.009295647963881493, 0.006799960043281317, -0.033265311270952225, 0.056863777339458466, -0.0452067032456398, -0.05212512984871864, -0.006673596333712339, 0.02647324837744236, -0.0032894115429371595, -0.05474718287587166, 0.03670872747898102, 0.03024837002158165, -0.029964052140712738, -0.01637992635369301, 0.02002868615090847, -0.0653933435678482, -0.0031373798847198486, -0.032980989664793015, 0.041700102388858795, -0.029411209747195244, 0.044764429330825806, 0.01735924743115902, 0.01925470679998398, 0.0493767149746418, -0.013434067368507385, 0.028005409985780716, 0.026410065591335297, 0.05342036113142967, 0.07310154289007187, 0.08479020744562149, 0.002671412890776992, 0.06097060441970825, -0.0470389798283577, -0.045459430664777756, 0.03073803149163723, 0.0157639030367136, 0.015092594549059868, 0.020944824442267418, 0.008016212843358517, 0.05503150075674057, 0.019791753962635994, 0.04460647329688072, -0.03541349619626999, -0.02598358690738678, -0.059454239904880524, -0.02430926449596882, -0.0008544374722987413, 0.025067448616027832, 0.03898327797651291, 0.05357831344008446, -0.02171880379319191, -0.040815554559230804, 0.07089017331600189, -0.029332231730222702, 0.0027247227262705564, -0.0010997612262144685, -0.05073512718081474, 0.0007300479919649661, -0.022192668169736862, 0.041605331003665924, 0.11454892158508301, 0.0359189510345459, -0.008963942527770996, 0.0207394827157259, 0.017864704132080078, 0.0400889627635479, 0.02001289092004299, 0.009303545579314232, 0.0018589321989566088, -0.014050091616809368, -0.05117740109562874, -0.03370758518576622, -0.007475217338651419, 0.019001979380846024, 0.042079195380210876, -0.00878229457885027, -0.003030760446563363, 0.026820749044418335, -0.0024463271256536245, -0.04504874721169472, -0.04561738669872284, -0.054968319833278656, -0.025130631402134895, -0.08030428737401962, 0.003024837002158165, 0.016522087156772614, -0.018591295927762985, -0.08630657941102982, -0.010227582417428493, -0.03541349619626999, 0.0008652968681417406, -0.01922311633825302, -0.056074004620313644, 0.035855770111083984, 0.04732329770922661, 0.07493381947278976, -0.026615407317876816, 0.024546196684241295, 0.03364440053701401, 0.016506290063261986, -0.034149859100580215, -0.017801521345973015, -0.00797672476619482, 0.050640352070331573, -0.008924453519284725, 0.0057179685682058334, -0.10273389518260956, 0.0008075446239672601, 0.053009677678346634, -0.0075265527702867985, -0.07013199478387833, 0.029395414516329765, 0.010914686135947704, -0.00876649934798479, 0.03860418498516083, 0.016616858541965485, 0.004675466101616621, -0.018701864406466484, 0.019302092492580414, 0.0013524891110137105, 0.027341999113559723, 0.013844749890267849, -0.0465967059135437, 0.08643294125795364, 0.022445397451519966, 0.01025917287915945, -0.03173314779996872, -0.01825959049165249, 0.039014868438243866, 0.0398678258061409, -0.03114871308207512, -0.015503277070820332, -0.028400298207998276, -0.10267070680856705, -0.03974146395921707, 0.014065886847674847, -0.012059859931468964, -0.038225095719099045, 0.04757602885365486, -0.03699304535984993, 0.03958350792527199, 0.04501715674996376, -0.038414642214775085, -0.001562766614370048, -0.024135515093803406, -0.04065760225057602, -0.041984423995018005, -0.022745510563254356, -0.004446431528776884, -0.002738543786108494, 0.0058008949272334576, -0.0012468567583709955, 0.023851195350289345, -0.042584650218486786, 0.04075237363576889, -0.03301258012652397, -0.012620599940419197, 0.025557108223438263]}, text_id_to_ref_doc_id={'77114dc7-b71a-4109-ac44-f9bf85e6206b': '3d6ac1c7-72f5-4d1b-80c6-e90d7ccf6306', 'f91333fa-3557-464d-b4d5-1ea5d28ccf25': '889e1eea-d7c7-4cfc-8aae-68f2f370da43'}, metadata_dict={'77114dc7-b71a-4109-ac44-f9bf85e6206b': {'_node_type': 'TextNode', 'document_id': '3d6ac1c7-72f5-4d1b-80c6-e90d7ccf6306', 'doc_id': '3d6ac1c7-72f5-4d1b-80c6-e90d7ccf6306', 'ref_doc_id': '3d6ac1c7-72f5-4d1b-80c6-e90d7ccf6306'}, 'f91333fa-3557-464d-b4d5-1ea5d28ccf25': {'_node_type': 'TextNode', 'document_id': '889e1eea-d7c7-4cfc-8aae-68f2f370da43', 'doc_id': '889e1eea-d7c7-4cfc-8aae-68f2f370da43', 'ref_doc_id': '889e1eea-d7c7-4cfc-8aae-68f2f370da43'}}))"
      ]
     },
     "execution_count": 28,
     "metadata": {},
     "output_type": "execute_result"
    }
   ],
   "source": [
    "index.vector_store"
   ]
  },
  {
   "cell_type": "markdown",
   "metadata": {
    "id": "yEFPxQ_bNk9b"
   },
   "source": [
    "When managing your index directly, you will want to deal with data sources that change over time. `Index` classes have *insertion, deletion, update*, and *refresh* operations."
   ]
  },
  {
   "cell_type": "markdown",
   "metadata": {
    "id": "hUo7RUQqVAbL"
   },
   "source": [
    "### Vector stores"
   ]
  },
  {
   "cell_type": "markdown",
   "metadata": {
    "id": "OxrGqcsxN7ZR"
   },
   "source": [
    "LlamaIndex supports dozens of vector stores to store indexes. You can specify which one to use by passing in a `StorageContext`, on which in turn you specify the vector_store argument, as in this example using Qdrant.    \n",
    "\n",
    "First, create a vector store using the specifc vector database API:"
   ]
  },
  {
   "cell_type": "markdown",
   "metadata": {
    "id": "bL1AxCcNONRh"
   },
   "source": [
    "Configure the specific vector store to use.\n",
    "\n",
    "<pre>\n",
    "vector_store = QdrantVectorStore(    \n",
    "                                  collection_name = 'llama2',             # ~/databases/qdrant/storage/collections/\n",
    "                                  client=client,\n",
    "                                  aclient=aclient,\n",
    "                                  enable_hybrid=True,\n",
    "                                  batch_size=20,\n",
    "                               )</pre>"
   ]
  },
  {
   "cell_type": "markdown",
   "metadata": {
    "id": "RGxVxROsYrCR"
   },
   "source": [
    "### StorageContext"
   ]
  },
  {
   "cell_type": "markdown",
   "metadata": {
    "id": "o00C_d39Ywew"
   },
   "source": [
    "The storage context container is a utility container for storing nodes (chunks of documents), indices (node ids), and vectors. It contains the index for each:"
   ]
  },
  {
   "cell_type": "markdown",
   "metadata": {
    "id": "51KMZGZoYt-S"
   },
   "source": [
    "![image.png](data:image/png;base64,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)"
   ]
  },
  {
   "cell_type": "markdown",
   "metadata": {
    "id": "NB3C8uJKZAuy"
   },
   "source": [
    "![storage.png](data:image/png;base64,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)"
   ]
  },
  {
   "cell_type": "markdown",
   "metadata": {
    "id": "EpTVxBnrOeFy"
   },
   "source": [
    "Define a `StorageContext` to have a uniform interface for llamaindex classes:\n",
    "\n",
    "<pre>\n",
    "storage_context = StorageContext.from_defaults(\n",
    "                                               vector_store=vector_store\n",
    "                                               )\n",
    "</pre>"
   ]
  },
  {
   "cell_type": "markdown",
   "metadata": {
    "id": "fvixKIwvZiBp"
   },
   "source": [
    "Finally build index:\n",
    "\n",
    "<pre>\n",
    "index = VectorStoreIndex.from_documents(\n",
    "                                        documents,\n",
    "                                        storage_context = storage_context\n",
    "                                       )\n",
    "</pre>"
   ]
  },
  {
   "cell_type": "markdown",
   "metadata": {
    "id": "y-jTW5fCdUOY"
   },
   "source": [
    "![image.png](data:image/png;base64,iVBORw0KGgoAAAANSUhEUgAAAlQAAALiCAYAAAAfC0hBAAAgAElEQVR4Xu29e+xXx33nPdS5uNk6LYYnkbxeS+XybAhJoTWOVw1oi/UYE2zZWLEF2FZFH6vmYuomfTAk4LRybahAxLTU5eIYLX+YAMWSN6xtbo+aNmBrMTgLalSnD+BKqZNtUgxd0k1zc34Pn+POr/M7v3P9nst8zpzXV1p1w2/OzOfz+szMefszc2bGDF35GX4QgAAEIAABCEAAAgMTGIOgGpgdD0IAAhCAAAQgAIGIAIKKjgABCEAAAhCAAAQqEkBQVQTI4xCAAAQgAAEIQABBRR+AAAQgAAEIQAACFQkgqCoC5HEIQAACEIAABCCAoKIPQAACEIAABCAAgYoEEFQVAfI4BCAAAQhAAAIQQFDRByAAAQhAAAIQgEBFAgiqigB5HAIQgAAEIAABCCCo6AMQgAAEIAABCECgIoGBBNWYMWMqNsvjEOgnAW566mfc8RoCEAifwMCCihdD+J0DD+slIP8hwriplym1QQACENBCAEGlJRLYETwBBFXwIcZBCECgxwQQVD0OPq63SwBB1S5vWoMABCDQJgEEVZu0aavXBBBUvQ4/zkMAAoETQFAFHmDc00MAQaUnFlgCAQhAoG4CCKq6iVIfBFIIIKjoGhCAAATCJYCgCje2eKaMAIJKWUAwBwIQgECNBBBUNcKkKghkEUBQ0T8gAAEIhEsAQRVubPFMGQEElbKAYA4EIACBGgkgqGqESVUQIENFH4AABCDQTwIIqn7GHa89ECBD5QE6TUIAAhBoiQCCqiXQNAMBBBV9AAIQgEC4BBBU4cYWz5QRQFApCwjmQAACEKiRAIKqRphUBYEsAggq+gcEIACBcAkgqMKNLZ4pI4CgUhYQzIEABCBQIwEEVY0wqQoCZKjoAxCAAAT6SQBB1dG479271+zatcvceOONZt26dR31ol9mk6HqV7zxFgIQ6BcBBJXHeG/cuNGsXr26sAW33XabOXToUFReXs72NzQ0NKKOuXPnmsOHDxu3fOFGKNgYAQRVY2ipGAIQgIB3AggqjyGoIqjsswsWLDCSrXJ/CCqPQc1oGkGlMy5YBQEIQKAOAgiqOigOWIcrqLZv326mTp2aWdM111xjpk2bltsagioXkZcCCCov2GkUAhCAQCsEEFStYE5uxBVUx44dMzNnzqzFGgRVLRhrrwRBVTtSKoQABCCghgCCymMoEFQe4XtoGkHlATpNQgACEGiJAIKqJdBJzVQRVFlZqKIZqjfffNNs2rTJHDlyxJw/fz4yceLEiWbOnDlm5cqVZsKECR7phNc0giq8mOIRBCAAAUsAQeWxL/gUVLKRfdGiRanejx071hw4cKC2ZUiPmNU0jaBSEwoMgQAEIFA7AQRV7UiLV+hLUJ05c8ZMnz49MlS+Ely/fv1wNkqyVmvWrDH79u0zIqpOnTpFpqp4SDNLIqhqAkk1EIAABBQSQFB5DErZr/zcTetVlvwWLlwYCaYZM2aYkydPJhKYNGlStAy4bNkys3XrVo+UwmkaQRVOLPEEAhCAQJwAgspjnyh7DpV7gOeggurtt98248ePj7x+6aWXzLx58xIJ7NixwyxdujTKUl28eNEjpXCaRlCFE0s8gQAEIICgUtQHfAiq48ePm1mzZkUULly4YMaNG5dIxC0nmSo2qFfvOAiq6gypAQIQgIBWAmSoPEbGxx4qt025mibtJ5ks2T8lvzrPyPKI23vTCCrvIcAACEAAAo0RQFA1hja/Yt+CKt/Cd0sgqIqSyi6HoKqHI7VAAAIQ0EgAQeUxKj4Eld0bJW7HL1X2iKIXTSOoehFmnIQABHpKAEHlMfA+BJW7N+r06dOF7gb0iCiophFUQYUTZyAAAQiMIICg8tghfAgq9ys/uZB5yZIliQTkrKrVq1dHf9uwYQPCq4Z+gqCqASJVQAACEFBKAEHlMTA+BJW4u3z5crNt27bompkTJ04kfunn2sbSYD2dBEFVD0dqgQAEIKCRAILKY1SaElRr166NTj+XX9KGcjkNXQ71vHTpUvR/N2/ePOKKGXeflZyavm7dOo+UwmkaQRVOLPEEAhCAQJwAgspjn2hKUIlgkuyT+4sLK1nSmz17diSq0n5yrMLu3btTz6ryiK6TTSOoOhk2jIYABCBQiACCqhCmZgo1JajEWtl8/vTTT0dXzKRlqmQ/1c6dO83+/fuHz5ySk9HnzJlj5s+fb+SKGn71EUBQ1ceSmiAAAQhoI4Cg0hYR7AmWAIIq2NDiGAQgAAGDoKITQKAlAgiqlkDTDAQgAAEPBBBUHqDTZD8JIKj6GXe8hgAE+kEAQdWPOOOlAgIIKgVBwAQIQAACDRFAUDUElmohECeAoKJPQAACEAiXAIIq3NjimTICCCplAcEcCEAAAjUSQFDVCJOqIJBFAEFF/4AABCAQLgEEVbixxTNlBBBUygKCORCAAARqJICgqhEmVUGADBV9AAIQgEA/CSCo+hl3vPZAgAyVB+g0CQEIQKAlAgiqlkDTDAQQVPQBCEAAAuESQFCFG1s8U0YAQaUsIJgDAQhAoEYCCKoaYVIVBLIIIKjoHxCAAATCJYCgCje2eKaMAIJKWUAwBwIQgECNBBBUNcKkKgiQoaIPQAACEOgnAQRVP+OO1x4IkKHyAJ0mIQABCLREAEHVEmiagQCCij4AAQhAIFwCCKpwY4tnygggqJQFBHMgAAEI1EgAQVUjTKqCQBYBBBX9AwIQgEC4BBBU4cYWz5QRQFApCwjmQAACEKiRAIKqRphUBQEyVPQBCEAAAv0kgKDqZ9zx2gMBMlQeoNMkBCAAgZYIIKhaAk0zEEBQ0QcgAAEIhEsAQRVubPFMGQEElbKAYA4EIACBGgkgqGqESVUQyCKAoKJ/QAACEAiXAIIq3NjimTICCCplAcEcCEAAAjUSQFDVCJOqIECGij4AAQhAoJ8EEFT9jDteeyBAhsoDdJqEAAQg0BIBBFVLoGkGAggq+gAEIACBcAkgqMKNLZ4pI4CgUhYQzIEABCBQIwEEVY0wqQoCWQQQVPQPCEAAAuESQFCFG1s8U0YAQaUsIJgDAQhAoEYCCKoaYVIVBMhQ0QcgAAEI9JMAgqqfccdrDwTIUHmATpMQgAAEWiKAoGoJNM1AAEFFH4AABCAQLgEEVbixxTNlBBBUygKCORCAAARqJICgqhEmVUEgiwCCiv4BAQhAIFwCCKpwY4tnygggqJQFBHMgAAEI1EgAQVUjTKqCABkq+gAEIACBfhJAUPUz7njtgQAZKg/QaRICEIBASwQQVC2BphkIIKjoAxCAAATCJYCgCje2eKaMAIJKWUAwBwIQgECNBBBUNcKkKghkEUBQ0T8gAAEIhEsAQRVubPFMGQEElbKAYA4EIACBGgkgqGqESVUQIENFH4AABCDQTwIIqn7GHa89ECBD5QE6TUIAAhBoiQCCqiXQNAMBBBV9AAIQgEC4BBBU4cYWz5QRQFApCwjmQAACEKiRAIKqRphUBYEsAggq+gcEIACBcAkgqMKNLZ4pI4CgUhYQzIEABCBQIwEEVY0wqQoCZKjoAxCAAAT6SQBB1c+447UHAmSoPECnSQhAAAItEUBQtQSaZiCAoKIPQAACEAiXAIIq3NjimTICCCplAcEcCEAAAjUSQFDVCJOqIJBFAEFF/4AABCAQLgEEVbixxTNlBBBUygKCORCAAARqJICgqhEmVUGADBV9AAIQgEA/CSCo+hl3vPZAgAyVB+g0CQEIQKAlAgiqlkDTDAQQVPQBCEAAAuESQFCFG1s8U0YAQaUsIJgDAQhAoEYCCKoaYVIVBLIIIKjoHxCAAATCJYCgCje2eKaMAIJKWUAwBwIQgECNBBBUNcKkKgiQoaIPQAACEOgnAQRVP+OO1x4IkKHyAJ0mIQABCLREAEHVEmiagQCCij4AAQhAIFwCCKpwY4tnygggqJQFBHMgAAEI1EgAQVUjTKqCQBYBBBX9AwIQgEC4BBBU4cYWz5QRQFApCwjmQAACEKiRAIKqRphUBQEyVPQBCEAAAv0kgKDqZ9zx2gMBMlQeoNMkBCAAgZYIIKhaAk0zEEBQ0QcgAAEIhEsAQRVubPFMGQEElbKAYA4EIACBGgkgqGqESVUQyCKAoKJ/QAACEAiXAIIq3NjimTICCCplAcEcCEAAAjUSQFDVCJOqIECGij4AAQhAoJ8EEFT9jDteeyBAhsoDdJqEAAQg0BIBBFVLoGkGAggq+gAEIACBcAkMLKjCRYJnEGiOwNDQUHOVUzMEIAABCHgjMJCg8mYtDUMAAhCAAAQgAAGFBBBUCoOCSRCAAAQgAAEIdIsAgqpb8cJaCEAAAhCAAAQUEkBQKQwKJkEAAhCAAAQg0C0CCKpuxQtrIQABCEAAAhBQSABBpTAo1qQ/3LKjNut+/5EltdVFRRCAAAQgAAEIjCSAoFLcI947eUZt1v3k7Kna6qIiCEAAAhCAAAQQVJ3pA+8KqiFz9Q0fGdjmH37rb6NnEVQDI+RBCEAAAhCAQC4BMlS5iPwVsBmqsTPvGtiIS8e/gqAamB4PQgACEIAABIoRQFAV4+SlFILKC3YahQAEIAABCJQmgKAqjay9BxBU7bGmJQhAAAIQgEAVAgiqKvQafhZB1TBgqocABCAAAQjURABBVRPIJqpBUDVBlTohAAEIQAAC9RNAUNXPtLYaEVS1oaQiCEAAAhCAQKMEEFSN4q1WOYKqGj+ehgAEIAABCLRFAEHVFukB2kFQDQCNRyAAAQhAAAIeCCCoPEAv2iSCqigpykEAAhCAAAT8EkBQ+eWf2TqCSnFwMA0CEIAABCDgEEBQKe4OCCrFwcE0CEAAAhCAAIKqG30AQdWNOGElBCAAAQhAgAyV4j6AoFIcHEyDAAQgAAEIkKHqRh9AUHUjTlgJAQhAAAIQIEOluA8gqBQHB9MgAAEIQAACZKi60QcQVN2IE1ZCAAIQgAAEyFAp7gMIKsXBwTQIQAACEIAAGapu9AEEVTfihJUQgAAEIAABMlSK+wCCSnFwMA0CEIAABCBAhqobfQBB1Y04YSUEIAABCECADJXiPoCgUhwcTIMABCAAAQiQoepGH0BQdSNOWAkBCEAAAhAgQ6W4DyCoFAcH0yAAAQhAAAJkqLrRBxBU3YgTVkIAAhCAAATIUCnuAwgqxcHBNAhAAAIQgAAZqm70AQRVN+KElRCAAAQgAAEyVIr7AIJKcXAwDQIQgAAEIECGqht9AEHVjThhJQQgAAEIQIAMleI+gKBSHBxMgwAEIAABCJCh6kYfQFB1I05YCQEIQAACECBDpbgPIKgUBwfTIAABCEAAAmSoutEHEFTdiBNWQgACEIAABMhQKe4DCCrFwcE0CEAAAhCAABmqbvQBBFU34oSVEIAABCAAATJUivsAgkpxcDANAhCAAAQgQIaqG30AQdWNOGElBCAAAQhAgAyV4j6AoFIcHEyDAAQgAAEIkKHqRh9AUHUjTlgJAQhAAAIQIEOluA8gqBQHB9MgAAEIQAACZKi60QcQVN2IE1ZCAAIQgAAEyFAp7gMIKsXBwTQIQAACEIAAGapu9AEEVTfihJUQgAAEIAABMlSK+wCCSnFwMA0CEIAABCBAhqobfQBB1Y04YSUEIAABCECADJXiPoCgUhwcTIMABCAAAQiQoepGH0BQdSNOWAkBCEAAAhAgQ6W4DyCoFAcH0yAAAQhAAAJkqLrRBxBU3YgTVkIAAhCAAATIUCnuAwgqxcHBNAhAAAIQgAAZqm70AQRVN+KElRCAAAQgAAEyVIr7AIJKcXAwDQIQgAAEIECGqht9AEHVjThhJQQgAAEIQIAMleI+gKBSHBxMgwAEIAABCJCh6kYfQFB1I05YCQEIQAACECBDpbgPIKgUBwfTIAABCEAAAmSoutEHEFTdiBNWQgACEIAABMhQKe4DCCrFwcE0CEAAAhCAABmqbvQBBFU34oSVEIAABCAAATJUivsAgkpxcDANAhCAAAQgQIaqG30AQdWNOGElBCAAAQhAgAyV4j6AoFIcHEyDAAQgAAEIkKHqRh9AUHUjTlgJAQhAAAIQIEOluA8gqBQHB9MgAAEIQAACZKi60QcQVN2IE1ZCAAIQgAAEyFAp7gMIKsXBwTQIQAACEIAAGapu9AEEVTfihJUQgAAEIAABMlSK+wCCSnFwMA0CEIAABCBAhqobfQBB1Y04YSUEIAABCECADJXiPoCgUhwcTIMABCAAAQiQoepGH0BQdSNOWAkBCEAAAhAgQ6W4DyCoFAcH0yAAAQhAAAJkqLrRBxBU3YgTVkIAAhCAAATIUCnuAwgqxcHBNAhAAAIQgAAZqm70AQRVN+KElRCAAAQgAAEyVIr7AIJKcXAwDQIQgAAEIECGqht9AEHVjThhJQQgAAEIQIAMleI+gKBSHBxMgwAEIAABCJCh6kYfQFB1I05YCQEIQAACECBDpbgPIKgUBwfTIAABCEAAAmSo/PWB77190Wzfvb+QAU/86ZeicmNn3lWofFKhS8e/cuWfh8wXfuehQnUsvf9e86Fx1xYqSyEIQAACEIAABN4lQIbKQ08QUXXnb3/GvP7Xf1Oo9eqCKr+ZGb/yUfOVZ/4YMZWPihIQgAAEIACBUQQQVJ46xXcvXDQz7rrf/MP3/tGMef/V5n3jrzdjrrpqdICu/MvVN3xkYCv/5VvfTHx26J2fmh9f+LYZ+tEPza9+bIr5b1/6E/Ph8WSmBgbNgxCAAAQg0GsCCCqP4RdRdedDnzFfv5KpuuqaXzK/MOU/mZ973/sbt+hnP/mR+ee/+e/mne//k/m1j3/UHLiSmUJMNY6dBiAAAQhAIGACCCrPwW1bVCGmPAec5iEAAQhAIEgCCCoFYY1E1ZU9VV//RrOZqhFi6mNXMlNfIjOlIPyYAAEIQAACARBAUCkJ4khRNfbK8t/NtS7/IaaUBBozIAABCEAgSAIIKkVhbUpUIaYUBRlTIAABCEAgSAIIKmVhrVtUIaaUBRhzIAABCEAgSAIIKoVhfVdU/e6VPVVvXPn6b/Dlv3fF1IkrX/NdMr925WiEAxyNoDDamAQBCEAAAiEQQFApjWJVUYWYUhpYzIIABCAAgSAJIKgUh3VQUYWYUhxUTIMABCAAgSAJIKiUh7WsqEJMKQ8o5kEAAhCAQJAEEFQdCGtRUYWY6kAwMRECEIAABIIkgKDqSFhFVN115ZoauVA5aaO6K6ZuvHKdjFx0zHUyHQkuZkIAAhCAQOcJ5AqqMWPGdN5JHICADwJDQ0M+mqVNCEAAAhDwQKCQoOLF4CEyNNlpAvIfIoybTocQ4yEAAQiUIoCgKoWLwhAoRgBBVYwTpSAAAQiEQgBBFUok8UMVAQSVqnBgDAQgAIHGCSCoGkdMA30kgKDqY9TxGQIQ6DMBBFWfo4/vjRFAUDWGloohAAEIqCSAoFIZFozqOgEEVdcjiP0QgAAEyhFAUJXjRWkIFCKAoCqEiUIQgAAEgiGAoAomlDiiiQCCSlM0sAUCEIBA8wQQVM0zpoUeEkBQ9TDouAwBCPSaAIKq1+HH+aYIIKiaIku9EIAABHQSQFDpjAtWdZwAgqrjAcR8CEAAAiUJIKhKAqM4BIoQQFAVoUQZCEAAAuEQQFCFE0s8UUQAQaUoGJgCAQhAoAUCCKoWINNE/wggqPoXczyGAAT6TQBB1e/4431DBBBUDYGlWghAAAJKCSColAYGs7pNAEHV7fhhPQQgAIGyBBBUZYlRHgIFCCCoCkCiCAQgAIGACKgTVBs3bjSrV6/ORDxjxgxz0003mfvuu8/MnDkzoHDgSigEEFShRBI/IAABCBQj0ElB5bom4urZZ58106ZNK+YxpTpB4O233zZvvPFGZOuUKVPMuHHjOmG3NRJB1alwYSwEIACBygRUC6rt27ebqVOnjnDy8uXL5pVXXjH79u0z58+fH/7bnj17zMKFCysDoQIdBI4fP25mzZoVGXPs2LHOZSIRVDr6EVZAAAIQaIuAakGV9yLdsWOHWbp0acRq7Nix5qtf/SqZqrZ6TsPtIKgaBkz1EIAABCBQK4FOCyohsXfvXrNo0aIIym233WYOHTpUKyAq80MAQeWHO61CAAIQgMBgBDovqMRtWeqTJUD5nT59OjVLJftydu7cafbv329OnTo1nNmaM2eOWbFiRaFlJanjqaeeMkeOHClVx9y5c83hw4dzRZ8sFclvw4YNZtWqVSOiGq/jzTffNJs2bYpE5aVLl6KyCxYsMJ///OeHGVifn3nmmeElUtl39vjjj5t58+Zl9hpbv/hql1cnTpxohNfKlSvNhAkTEp9Ps9OtR8TvY489Nop53kcJSaJZ7JS4lo3JYEOm2FMs+RXjRCkIQAACoRAIQlC9/PLL5vbbb08VIvKHM2fOmNmzZw8Lj6QALlu2zGzdujU1tlXqqFtQLV68eDgzFzdYlj9FMH7nO98xd955Z6rPL730UqqocjN/SUCkjQMHDiSKUNdXsXP58uWpNsSXdcsKqnhMRPBZ/63deXFtYjAjqJqgSp0QgAAE9BIIQlAJXpvZSctgSFZGsjjyfzdv3jwsBCS78fzzzw8f1bBmzRqzbt26URGTcrYOeWlv2bJlWIzI3+Q5myWTzfRLlizJzC6ldYkiGSoRDNYXm2mSTJT4YfeUia0iqsTWJ5980tx6663Rl3IiPh944IHoefnbuXPnRpkiImX69OnRv0vGa/369cPZKNdXK1zimSorqOJ23nzzzYVtKLrkN2nSpCh7Jv4Kf2uLzSSK7fLL249X9xBFUNVNlPogAAEI6CYQjKCyL/EkkSAZkm3btkWZi7NnzyZ+gu9mRpKWDe2yYpqIkDBn2VBnhkraSsu6WF+ljIgM2VMWP3LAzT5l+SrPnzx5MrEHWyGTZIf1NctOl7cIorgoKyqorABNy7bJeWUiLNvOUiGodE98WAcBCECgbgLBCSoBNDQ0NMxJMhXjx4+P/nda9kn+JuUmT54cZW7i5YrW4QoV1wZXbOVtnC+SocoSOq5QuXDhQqJ4dDNQ8cyN62vWkqD9wlIE5sWLF0f0SyuosuzME0x5f7cNZvGSMmvXrjWvv/66ufHGGxMzj3UPKNeueB9oqi3qhQAEIAAB/wSCF1RFX8yu6IkLgTJ1pIW0zgxVlihzbU3K/MSFSPz8Lvf5NEEmdWS1U8TXPKZ5f7d+xLNhd9xxR+5m+zaGHRmqNijTBgQgAAE9BIITVPElP/esqiyBISFxsztudiFveapIOIuIDKmnSIaqqKDK2jeU1o7rq7ST9pNMlv1SMt5OEV/zBFPe361dkm379Kc/PeKQV8mayZeI8hHCPffc4+WUdQRVkVFBGQhAAALhEAhGUKVtSk8TSUkhLCKoBl3GKSIytAmqot3cp6ASG+2GfLmCyIo8a7uIq8997nOjjqAo6tug5RBUg5LjOQhAAALdJBCEoHL3BMX3P5XJLhURVHlZrrRu0BVB5Wb0mhSPeRmovL+ncZavEF977TXzta99bcT5XEnnejU5ZBFUTdKlbghAAAL6CAQhqNwv2+JfrZV5Madtpi5TR9cFletr1iGpWV25iHjMY5r39yJDSTJXYotkrZI2zxepY9AyCKpByfEcBCAAgW4S6Lygcg/1TNpbVPQLPQnftddeG33lF//EvmgdWWKkiMiQ7IrsAZNfkZPSk7pcUSGStofK9TXpPC3bpmQFV69ePWzrtGnThs0p4muenVlfItqGbEYx7TwtKef2j0EzboMMbQTVINR4BgIQgEB3CXRaUBW9HLmtc6jcduJHCbhZtKSv50RMySGadg+QL0ElXdnaKkLlxIkTued2DXJERJ6gEjus6EsTdq5YSluKrWMJc5DhjaAahBrPQAACEOguAdWCSl6kU6dOHUH38uXL5pVXXolOxbb3y0mB+Of/7kPuKedNnZQud8nZU7mTxJD78rd36X3wgx+MzDx48GB08Kj87J18PgVVFi+x0RUpSWd71ZGhknbcU9CTDih1zw4TprIp3c2UiWizV++IWJVzwtr6IajaIk07EIAABHQQUC2oiiBKepEmPVflHj5bX9U63DOT4jZaP+yVLz4FldhWxFdZYt29e/eoDFZdgsoVbpZXfFk36S4/EWKyMd2K06xMW5E+NkgZBNUg1HgGAhCAQHcJdFJQifiQK0Xuu+++xMt508IhGQ3JJO3fv394ac2eWbRixYpCdVWpwz77zDPPDGfXxJd7773XPPjgg5Ew8X0Olcsuy9f58+cbuY4n6VeXoLLZMPc4hLS7GiWuR44cGXFsgpS9++67vZxFhaDq7qSI5RCAAAQGIaBOUA3iBM9AQBsBBJW2iGAPBCAAgWYJIKia5UvtPSWAoOpp4HEbAhDoLQEEVW9Dj+NNEkBQNUmXuiEAAQjoI4Cg0hcTLAqAAIIqgCDiAgQgAIESBBBUJWBRFAJFCSCoipKiHAQgAIEwCCCowogjXigjgKBSFhDMgQAEINAwAQRVw4Cpvp8EEFT9jDteQwAC/SWAoOpv7PG8QQIIqgbhUjUEIAABhQQQVAqDgkndJ4Cg6n4M8QACEIBAGQIIqjK0KAuBggQQVAVBUQwCEIBAIAQQVIEEEjd0EUBQ6YoH1kAAAhBomgCCqmnC1N9LAgiqXoYdpyEAgR4TQFD1OPi43hwBBFVzbKkZAhCAgEYCCCqNUcGmzhNAUHU+hDgAAQhAoBQBBFUpXBSGQDECCKpinCgFAQhAIBQCCKpQIokfqgggqFSFA2MgAAEINE4AQdU4YhroIwEEVR+jjs8QgECfCSCo+hx9fG+MAIKqMbRUDAEIQEAlAQSVyrBgVNcJIKi6HkHshwAEIFCOAIKqHC9KQ6AQAQRVIUwUggAEIBAMAQRVMKHEEU0EEFSaooEtEIAABJongKBqnjEt9JAAgqqHQcdlCECg1wQQVL0OP843RQBB1RRZ6oUABCCgkwCCSmdcsKrjBBBUHQ8g5kMAAhAoSQBBVRIYxSFQhACCqgglykAAAunl0YYAACAASURBVBAIhwCCKpxY4okiAggqRcHAFAhAAAItEEBQtQCZJvpHAEHVv5jX4bH0G34QgEB5AkNDQ+UfqvkJBFXNQKkOAkIAQUU/GIQA/WYQajzTdwJaxg2Cqu89Ef8bIaBlgDfiHJU2RoB+0xhaKg6YgJZxg6AKuJPhmj8CWga4PwK0PAgB+s0g1Him7wS0jBsEVd97Iv43QkDLAG/EOSptjAD9pjG0VBwwAS3jBkEVcCfDNX8EtAxwfwRoeRAC9JtBqPFM3wloGTcIqr73RPxvhICWAd6Ic1TaGAH6TWNoqThgAlrGDYIq4E6Ga/4IaBng/gjQ8iAE6DeDUOOZvhPQMm4QVH3vifjfCAEtA7wR56i0MQL0m8bQUnHABLSMGwRVwJ0M1/wR0DLA/RGg5UEI0G8GocYzfSegZdwgqPreE/G/EQJaBngjzlFpYwToN42hpeKACWgZNwiqgDsZrvkjoGWA+yNAy4MQoN8MQo1n+k5Ay7hBUPW9J+J/IwS0DPBGnKPSxgjQbxpDS8UBE9AybhBUAXcyXPNHQMsA90eAlgchQL8ZhBrP9J2AlnGDoOp7T8T/RghoGeCNOEeljRGg3zSGlooDJqBl3CCoAu5kuOaPgJYB7o8ALQ9CgH4zCDWe6TsBLeMGQdX3noj/jRDQMsAbcY5KGyNAv2kMLRUHTEDLuEFQBdzJcM0fAS0D3B8BWh6EAP1mEGo803cCWsYNgqrvPRH/GyGgZYA34hyVNkagyX6zcOFCs2/fvsj28+fPmwkTJhTyY+3atWb9+vVR2ZdeesnMmzev0HMUepfA8ePHzdNPP21OnToVcbe/2267zdx9993mnnvuMePGjQNXBQJNjpsyZiGoytCiLAQKEtAywAuaSzElBJrsN3v37jWLFi2KPN2+fbtZsmRJIa8nTZoUCYGJEyeac+fOFXqmyUJvv/22eeONN6ImpkyZolaMiJ3333+/OXz4cCaOsWPHmq1btxoRvPFfV3xtMt5F6m5y3BRp35ZBUJWhRVkIFCSgZYAXNJdiSgg03W+uvfZac+nSJTNjxgxz8uTJXK/PnDljpk+fHpVbs2aNWbduXe4zTReQjM+sWbOiZo4dO2ZmzpzZdJMD1b98+XKzbdu26FnJRi1evNhcf/31w3UdPHgw+rvEQ35J2b+u+DoQoBofanrcFDUVQVWUFOUgUIKAlgFewmSKKiDQdL9xX/JFlv3c5b7Tp0+badOmeafUBZHx5ptvRhk9K6YOHTqUyE0E6+zZsyNRlZQB7IKv3jvEFQOaHjdFfURQFSVFOQiUIKBlgJcwmaIKCDTdb15++WVz++23R54WWfbTttwndndBZLg25u07yxKtXfBVwbBBUGkIAjZAoCkCTb8Ym7Kbev0SaKPfFF32c5f7ksSXZGE2bdpkjhw5MrzZWrIsc+bMMStXrszd9C77g5566qnoedmwLT/ZTyTPr1ixYtRS3saNG83q1atTAyTLakmZIGln586dZv/+/YXacRuYO3dutAfK1i2CdMuWLdG/bdiwwaxatSrRnjKCSsq++uqrUT2yQV0+FuiCr1XjX+dIa2PcFLGXDFURSpSBQEkCWgZ4SbMp7plAG/3GzYhkLftllXM3uCchE2F04MCB1P1N7lJXGvJly5ZFm7XtbxCRMUg7aYJK9kDZTf1SJktQuUt+sl9NhF6ZL/m0+1o1/nUPszbGTRGbEVRFKFEGAiUJaBngJc2muGcCbfSbvMyTRWCX++Ib2N3nFyxYEB2pYI9gECEhm9fleAYRVZJ5ih/PIGWkTrtvSDI+9igG93mxIykzVnQZzG1H2tu8efOwwJO/Pf/888MZr7QN9zZDJb5Yex999FEzdepUc91112Vm4eyz4odk7p588klz6623lhJWGn2tGv8mhlgb46aI3QiqIpQoA4GSBLQM8JJmU9wzgbb6TZpYsu67L/I9e/aM+KTfnmeV9aWgrT+eZZL67fNpgkvKWDFSZaO23YAv7Zw9ezZRyLiZoKRN964oEl+eeOKJwoJIlhrlebucadnK8uEtt9wSLSPmbfIvKqja9LVq/JsYYm2NmzzbEVR5hPg7BAYgoGWAD2A6j3gk0Fa/yVv2c78GvHDhwrCIEJEwfvz4iFDWZusdO3aYpUuXRlmqixcvDhN1n886hsFdUhoaGhoRkSIio2g7Um7y5MlR9inJnixhV7SbiC+PPfbYiEM97bMiGB966CHz4IMPJgo1bb5WjX9RZmXLtTVu8uxCUOUR4u8QGICAlgE+gOk84pFAW/3G3eOTJCTsxnVZ0hNBYH/uC94VWnFkbjl3n1YRgZCHv0gdRcrYdqxoSsq4xTel59mW9XdZKpPN7O7meFtehOdzzz036hT6In4UKVOXr1XjX4Vf1rNtjZs8+xFUeYT4OwQGIKBlgA9gOo94JNBmv7npppui5aj4spp7tEI8C+UukcmSVdpPMhl2qcs9fNN9vsg5WEn1FxEQNkMmz+e149oUz4bVKahcX4TP0aNHR2Wu4suO2nytGv+mhlab4yZT2F3pQCPzqbHSWgxtKhDUC4EmCDBumqAafp1t9htXdLgvcnc/jrtcJ/Tzvj5LilCaoMp59aQGu4jIyBJJ8Yp9CCrXBrf9+J4zbb5WjX9TI7jNcYOgaiqK1AuBFAJaBjgB6haBNvtN2rKfXe5L2lDuirBBBFFbGaoy7TQhqEQIye+aa67J3Xgu5ewm/vhZWmUFVdPZuKrxb2o0tjluEFRNRZF6IYCgog/USKDtF0N807W73Jd0T577gh/kKpoiAiEPZ5E6ipSx7TSxh8oup6YdNhr3MW1psYgfRcrU5WvV+OfFdtC/tz1u0uxkD9WgEeQ5CGQQ0DLACVK3CLTdb9yv6UQgSQZCLuxNOq5ASLpfeWVdXSMbsO2p5nIApj0eoOjXd1kvbvccpLTLkYu2Iz5lZeQG3UNljxaQ+rM279vemZah0uZr1fg3NRrbHjcIqqYiSb0QSCCgZYATnG4RaLvfxIWHiKm0IwQsSbvHSkTXiRMncs93ii8NFjmHKmsfl9ghnOSXJerqPJupaKbJMnKFatLSqdsr3WW0pNPXtflaNf5NjMi2xw2CqokoUicEUghoGeAEqFsEfPQbN5tiaWUt52WdQC7PuwIh6UiGvJPS5d49OX1dfmnXu7gHk6Zd61LnSellBZXYHj8p3Z6wbhm/9dZbZteuXdFRCvJLu6JGm69V49/EiPQxbpL8YMmviehSZ+8JaBngvQ9ExwD46Dfuvin7Yj958mQmuSJ35IkI2b17d2IGq8jzWZkdV7RZQ5NET9V2Bl3yE5sk+/fwww9H1/Dk/bJYafS1CNcsn/J4lP27j3GDoCobJcpDYEACWgb4gObzmCcCvvqN3Uckbmcto7lYRDBINsk9qFIOqJwzZ46ZP3/+iOtqknBmPb9ixYrUi5VtXSI0nn322eHzrtKySFXaqSKorJ2yH+zgwYPmyJEjI66hkSVTYXXHHXeMOtAzzkujr1XjX+cQ8zVu4j6QoaozqtQFgX8loGWAE5BuEaDfdCteWKuDgJZxg6DS0R+wIjACWgZ4YFiDd4d+E3yIcbABAlrGDYKqgeBSJQS0DHAi0S0C9JtuxQtrdRDQMm4QVDr6A1YERkDLAA8Ma/Du0G+CDzEONkBAy7hBUDUQXKqEgJYBTiS6RYB+0614Ya0OAlrGDYJKR3/AisAIaBnggWEN3h36TfAhxsEGCGgZNwiqBoJLlRDQMsCJRLcI0G+6FS+s1UFAy7hBUOnoD1gRGAEtAzwwrMG7Q78JPsQ42AABLeMGQdVAcKkSAloGOJHoFgH6TbfihbU6CGgZNwgqHf0BKwIjoGWAB4Y1eHfoN8GHGAcbIKBl3CCoGgguVUJAywAnEt0iQL/pVrywVgcBLeMGQaWjP0RW/OGWHbVZ8/uPLKmtLioqT0DLAC9vOU/4JEC/8UmftrtKQMu4QVAp6kHvnTyjNmt+cvZUbXVRUXkCWgZ4ect5wicB+o1P+rTdVQJaxk0hQdVVyF2z+z2Tbrxi8pC5+oaPDGz6D7/1t9GzPz33+sB18GA9BIaGhuqpiFp6Q0DLi6E3wHE0CAJaxk2uoAqCdkecsBmqsTPvGtjiS8e/Ej1LhmpghDwIAW8EtLwYvAGgYQgMQEDLuEFQDRC8ph5BUDVFlnoh0A0CWl4M3aCFlRB4l4CWcYOgUtQjEVSKgoEpEPBAQMuLwYPrNAmBgQloGTcIqoFDWP+DCKr6mVIjBLpEQMuLoUvMsBUCWsYNgkpRX0RQKQoGpkDAAwF5MfCDAATKE9DwERCCqnzcGnsCQdUYWiqGAAQgAAEINEoAQdUo3nKVI6jK8aI0BCAAAQhAQAsBBJWWSFyxA0GlKBiYAgEIQAACEChBAEFVAlbTRRFUTROmfghAoO8EuOKr7z2gOf8RVM2xLV0zgqo0Mh6AAAQgUIoAV3yVwkXhEgQQVCVgNV0UQdU0YeqHAAT6TuDdebaeK764kaLvvWmk/wgqRf0BQaUoGJgCAQgESYB5NsiwqnAKQaUiDO8awUBXFAxMgQAEgiTAPBtkWFU4haBSEQYElaIwYAoEIBAwAQRVwMH17BqCynMA3OYZ6IqCgSkQgECQBJhngwyrCqcQVCrCQIZKURgwBQIQCJgAgirg4Hp2DUHlOQBkqBQFAFMgAIHgCSCogg+xNwcRVN7Qj26Yga4oGJgCAQgESYB5NsiwqnAKQaUiDCz5KQoDpkAAAgETQFAFHFzPriGoPAeAJT9FAcAUCEAgeAIIquBD7M1BBJU39Cz5KUKPKRCAQE8IIKh6EmgPbiKoPEBPa5KBrigYmAIBCARJgHk2yLCqcApBpSIM7xrBQFcUDEyBAASCJMA8G2RYVTiFoFIRBgSVojBgCgQgEDABBFXAwfXsGoLKcwDc5hnoioKBKRCAQJAEmGeDDKsKpxBUKsJAhkpRGDAFAhAImACCKuDgenYNQeU5AGSoFAUAUyAAgeAJIKiCD7E3BxFU3tCPbpiBrigYmAIBCARJgHk2yLCqcApBpSIMLPkpCgOmQAACARNAUAUcXM+uIag8B4AlP0UBwBQIQCB4Agiq4EPszUEElTf0LPkpQo8pEIBATwggqHoSaA9uIqg8QE9rkoGuKBiYAgEIBEmAeTbIsKpwCkGlIgzvGsFAVxQMTIEABIIkwDwbZFhVOIWgUhEGBJWiMGAKBCAQMAEEVcDB9ewagspzANzmGeiKgoEpEIBAkASYZ4MMqwqnEFQqwkCGSlEYMAUCEAiYAIIq4OB6dg1B5TkAZKgUBQBTIACB4AkgqIIPsTcHEVTe0I9umIGuKBiYAgEIBEmAeTbIsKpwCkGlIgws+SkKA6ZAAAIBE0BQBRxcz64hqDwHgCU/RQHAFAhAIHgCCKrgQ+zNQQSVN/Qs+SlCjykQgEBPCCCoehJoD24iqDxAT2uSga4oGJgCAQgESYB5NsiwqnAKQaUiDO8awUBXFAxMgQAEgiTAPBtkWFU4haBSEQYElaIwYAoEIBAwAQRVwMH17BqCynMA3OYZ6IqCgSkQgECQBJhngwyrCqcQVCrCQIZKURgwBQIQCJgAgirg4Hp2DUHlOQBkqBQFAFMgAIHgCSCogg+xNwcRVN7Qj26Yga4oGJgCAQgESYB5NsiwqnAKQaUiDCz5KQoDpkAAAgETQFAFHFzPriGoPAeAJT9FAcAUCEAgeAIIquBD7M1BBJU39Cz5KUKPKRCAQE8IIKh6EmgPbiKoPEBPa5KBrigYmAIBCARJgHk2yLCqcApBpSIM7xrBQFcUDEyBAASCJMA8G2RYVTiFoFIRBgSVojBgCgQgEDABBFXAwfXsGoLKcwDc5hnoioKBKRCAQJAEmGeDDKsKpxBUKsJAhkpRGDAFAhAImACCKuDgenYNQeU5AGSoFAUAUyAAgeAJIKiCD7E3BxFU3tCPbpiBrigYmAIBCARJgHk2yLCqcApBpSIMLPkpCgOmQAACARNAUAUcXM+uIag8B4AlP0UBwBQIQCB4Agiq4EPszUEElTf0LPkpQo8pEIBATwggqHoSaA9uIqg8QE9rkoGuKBiYAgEIBEmAeTbIsKpwCkGlIgzvGsFAVxQMTIEABIIkwDwbZFhVOIWgUhEGBJWiMGAKBCAQMAEEVcDB9ewagspzANzmGeiKgoEpEIBAkASYZ4MMqwqnEFQqwkCGSlEYMAUCEAiYAIIq4OB6dg1B5TkAZKgUBQBTIACB4AkgqIIPsTcHEVTe0I9umIGuKBiYAgEIBEmAeTbIsKpwCkHVcBi+9/ZFs333/kKtPPGnX4rKjZ15V6HySYUuHf/KlX8eMl/4nYcK1bH0/nvNh8ZdW6gshSAAAQh0nQCCqusR1Gs/gqqF2IiouvO3P2Ne/+u/KdRadUGV38yMX/mo+cozf4yYykdFCQhAICACCKqAgqnMFQRVSwH57oWLZsZd95t/+N4/mjHvv9q8b/z1ZsxVV41qfcyVf7n6ho8MbNW/fOubic8OvfNT8+ML3zZDP/qh+dWPTTH/7Ut/Yj48nszUwKB5EAIQ6CQBBFUnw9YJoxFULYZJRNWdD33GfP1Kpuqqa37J/MKU/2R+7n3vb9yCn/3kR+af/+a/m3e+/0/m1z7+UXPgSmYKMdU4dhqAAAQUEkBQKQxKICYhqFoOZNuiCjHVcoBpDgIQUE0AQaU6PJ02DkHlIXyRqLqyp+rr32g2UzVCTH3sSmbqS2SmPISbJiEAAUUEEFSKghGYKQgqTwEdKarGXln+u7nW5T/ElKfA0iwEIKCaAIJKdXg6bRyCymP4mhJViCmPQaVpCEBANQEElerwdNo4BJXn8NUtqhBTngNK8xCAQOsE4uf9/e8f/Iv5dx/4+UQ7OO+v9fD0pkEElYJQvyuqfvfKnqo3rnz9N/jy37ti6sSVr/kumV+7cjTCAY5GUBBdTIAABNogwHl/bVCmjSwCCCol/aOqqEJMKQkkZkAAAt4IyDx60/z7zf/8rj3v799fOe/vPaPsae68v3fMj//xLTP04x8aDk/21g28NYyg8oZ+dMODiirElKIgYgoEIOCVgMyjd105709upojO+/volfP+3tvCeX8/vrJC8Ma7KwSIKa9dwFvjCCpv6JMbLiuqEFPKAog5EICAdwJti6qfIaa8x1yDAQgqDVGI2VBUVCGmFAYPkyAAARUE2hJViCkV4VZhBIJKRRiSl//+LW09eqO6K6ZuvHKdjFx0zHUySoOJWRCAgBcCTYsqxJSXsKptFEGlNjTGjJwM/k1UIaYUBw3TIAABVQSaElWIKVVhVmEMgkpFGNKNiIuqD0z+VfODs/8j2vhIZkp58DAPAhBQQaBuUYWYUhFWdUYgqNSFJHv5z8gnwO/8FDHVgbhhIgQgoIdAXaIKMaUnptosQVBpi0iKPe5kQGaqI0HDTAhAQBWBqqIKMaUqnOqMQVCpC0n28t/8JZ8x/3UHG9A7FDZMhUApAmPGyLGT/CAAgbIEhoaGyj5Sa3kEVa04m69Mrlf40Lhrm2+IFiAAAS8ERFD5fjF4cZxGIVCBgIZxg6CqEEAehQAEIFA3AQ0vhrp9oj4INE1Aw7hBUDUdZeqHAAQgUIKAhhdDCXMpCgEVBDSMGwSViq6AERCAAATeJaDhxUAsINA1AhrGTaagYnNk17oU9vaJAPtswoy2hhdDmGTxKmQCGsZNrqBi0g65C+JbVwlomDy6yk673cRWe4SwTyMBDeMGQaWxZ2ATBHIIaJg8CFIzBIhtM1ypNWwCGsYNgirsPoZ3gRLQMHkEita7W8TWewgwoIMENIwbBFUHOw4mQ0DD5EEUmiFAbJvhSq1hE9AwbhBUYfcxvAuUgIbJI1C03t0itt5DgAEdJKBh3CCoOthxMBkCGiYPotAMAWLbDFdqDZuAhnGDoAq7j+FdoAQ0TB6BovXuFrH1HgIM6CABDeMGQdXBjoPJENAweRCFZggQ22a4UmvYBDSMGwRV2H0M7wIloGHyCBStd7eIrfcQYEAHCWgYNwiqDnYcTIaAhsmDKDRDgNg2w5VawyagYdwgqMLuY3gXKAENk0egaL27RWy9hwADOkhAw7hBUHWw42AyBDRMHkShGQLEthmu1Bo2AQ3jBkEVdh/Du0AJaJg8AkXr3S1i6z0EGNBBAhrGDYKqgx0HkyGgYfIgCs0QILbNcKXWsAloGDcIqrD7GN4FSkDD5BEoWu9uEVvvIcCADhLQMG4QVB3sOJgMAQ2TB1FohgCxbYYrtYZNQMO4QVCF3cfwLlACGiaPQNF6d4vYeg8BBnSQgIZxo0JQvfnmm+bo0aPmhRdeMK+99pq5dOlSFM6xY8eaOXPmmPnz55tbb73VjBs3LjXMc+fONYcPHza33XabOXToUAe7w7+ZrMWXHTt2RDG55ZZbzKpVqzrJVAaZ/DZs2NBZH5LAa5g8OtkhOmA0se1AkDBRHQEN48a7oNq4caNZvXp1bnBEXG3dutUsXLgwsawWEZLrSIECWny59tprI3G7Z8+eVO4F3PFaBEHlFT+ND0BAw4thALN5BAJeCWgYN14F1fLly822bduGs1HLli0zn/rUp4aDcvnyZfPiiy8Ol5E/rFmzxqxbt25U4LSIkDp6lAZfXn75ZXP77bdH7ly4cCEzO1iHz03VgaBqiiz1NkVAw4uhKd+oFwJNEdAwbrwJqrVr15r169dHbGfMmBEt06Ut6cmS4IIFC8ypU6ei8seOHTMzZ84cERcNIqSujqLBFyt2ReRKZrCrPwRVVyPXX7s1vBj6Sx/Pu0pAw7jxIqjOnDljpk+fXkhM2eCKqJo4cWL0P5P2SWkQIXV1RN++vP3222b8+PGROy+99JKZN29eXa61Xg+CqnXkNFiRgIYXQ0UXeBwCrRPQMG68CCp3qS8p25QWCfe5oaGhzAyVCLBNmzaZI0eOmPPnzw8LsUceeSRVIBQVMlkv6XgdaXY89thjo7Js1qE8O0SQzp49O9rfFM8gSXs7d+6M/LYZPbu5f8WKFaltujD37t1rFi1aFH0UcPHixYE4Z/lnKxThJrbu379/YFuPHz9unn766chf4SE2yz67JUuWmGnTppkigiopRiLe5YOIlStXmgkTJqRODnXwHmTm0TB5DGI3z+QTILb5jCgBgTgBDePGi6Cym53lpXXu3LnCPUNenq+++mpU/p577hnxonNFyOLFi42IL/u1YLyBtKxLnpCx9RQVVHl2pInJLDtcMSVLpSdPnhx2z/2b/KPwFYFhhZX8W5ElPNt+0n61MpyzxHLc1qROkGerFX5Jz4rfzz333PA+sLSv/LLqkHqlngMHDiQK0bp4Fx4ATkENk8cgdvNMPgFim8+IEhBAUF0hIKJo1qxZEYu0DeaDdBX7opcXoAgpERuPP/64ufnmm6O9WbLJ+oEHHoj+libk6hRUTdgh2RDxy/oX33c2adKkKBsnZfbt2zcsOCUT9NRTTw3vWcsSOu7S6unTp6Msj/urg3Pcj82bNw8LFvnb888/P/zlZ1ofcfuR+OvWIX/77Gc/G7GwojpJULlLz7JHT/b02WyU2CFtC0crSuOZqjp4D9LX5RleuoOS0/8csdUfIyzUR0DDuGk9Q+V+PVbn2UD2RZ+VhXGPaJCXbfwFWaegqtsOEUVin2Sb0jbx28xZWgbupptuip7PyvzI2VNLly7NFZ1V/LNLtyJUzp49m/gxghurPGGXVIfLS2xN6muyNCiCKZ7pc6cKK5qSmNXBe9BpScPkMajtPJdNgNjSQyBQnoCGcdO6oHJflGX2T+XhtWIo6+XoZjWqfClYZMmvTjtccZAlQvL2C8mXla+//rq58cYbE4+eEMZWQGzfvj3ahxT/VeXsbnjPylBKucmTJ0cZpng5N4uWVYdbLi6oim68twIzaT9ZHbzz+nXa3zVMHoPaznMIKvoABOomoGFODE5QZZ2U3qagqtMOm1mSl/pXv/rVUctwtmPGs3R33HFHqS/03CWwpAyetFMki5fFOS8G7iBLE29l6kgTPW4dWedsueXiTKryrjKhaJg8qtjPs+kEiC29AwLlCWgYN60LKnfJLy0LUh5l9Rd9UbEg5YpkqOoSVLIsKYef5okpsUsE0ac//enhrxrl3+wXfvJVoGzkz7q+x54NlmV7VUFlMz5iW5pos/F3s5nuV53uv+cdOpoWK7cO8TftJ5mstPPPqvIepJ/bZzRMHlXs51kEFX0AAnUS0DAnti6omt6UXpeQyboPsC1BJcuG8pMXehFBJWVFAMim7meffXbE131WXH3uc59LvdOuyFUzVQVVmkhKGlhFBFX8+Ix4PUUEVdFBnbRMXIV30XaTymmYPKrYz7MIKvoABOokoGFObF1QCcBBj02QT9x37doVxUD2xLhfoFV90UudReqQcm0JKhGH4qc9cypr/1RSx5Q9RHLZ9Ne+9jUj7LK+eCt61UwRRllLcnkfBrh+FBFUeVmutFi5mbI8UVZ00JfhXbTOtHIaJo+qPvB8MgFiS8+AQHkCGsaNF0FVx8Ge8aWeqi96rYJKMmXxs6eyrulJ64bxje3xAzuLXjVTlXOZ/U9t7aFK+oqw/HAe+UQe76r1a5g8qvrA8wgq+gAE6iKgYU70IqjiZwgVEQjuF1tyZpBkXNxf1Rd9UUGV9eVY0TryREWSL24GKWlZ02Zzsg5LdetwszJFv3irw7+iX/lJWzaTmXQavL2GKO9LQXuFTtZXfll7+UTMrl69Oupqbla0Cu86JhANk0cdflDHaALEll4BgfIENIwbL4JKUPm4HDlPyLiZs6TNzvFLmpPONmpS2LmnesdFhiuW0pbB0pa5sq6aiXfrOvyr4xwq98vHQc+hsnaIODtx4kTueViuCK3Cu/xUwUu3DmZdqUPDi6ErrLATApaAhnHjTVAJBFfAyP4gEQmf/OQnzQc/+MGI0eXLl82LL744Yv/Pnj17orvamnjRuy9Je9K6teXgwYPRHsKhhwAAIABJREFU13byy9qLVIfgyKrDFaJudsY9t0lsl03p7h4zEZN33nlnZHs8w2fby7vqRXyvw786TkqPx8qelC4cRBzJnY2yrJkVqyw7xFdXgMYzYVV41zEFapg86vCDOhDL9AEI1EFAw5zoVVAJRHfjcRZUEVxbt25NFFN1vejdepJssUJl+vTp0Z/bzlBZm1wh6grMpLvl5KBO2ZhuhUU8G5N31UwTwlXqrOMuP5dD3E7bX+SS57RYFbVDllh37949KoM1CO86Jg6pQ8PkUZcv1DOSALGlR0CgPAEN48a7oBJs8lI/evSoeeGFF0a8/OWl+IlPfMLcfffduWco1ZE5EVsk87Bz507zzDPPDJ/nJELq3nvvNQ8++GD0Um3zK7+04xvskpfY7F41IyzF/iNHjow4NkFEQRLHvKtmmhJULuv9+/cP22rPzVqxYkXihcRxeyRTtWXLFnP48OHoTyIY58yZY1auXBldLWRPfs+65sjGPMmO+fPnp4p423fL8C4/TSQ/oWHyqMsX6kFQ0QcgUJWAhjlRhaCqCpLnIdA3Ahomj74xb8tfYtsWadoJiYCGcYOgCqlH4UtvCGiYPHoDu2VHiW3LwGkuCAIaxg2CKoiuhBN9I6Bh8ugb87b8JbZtkaadkAhoGDcIqpB6FL70hoCGyaM3sFt2lNi2DJzmgiCgYdwgqILoSjjRNwIaJo++MW/LX2LbFmnaCYmAhnGDoAqpR+FLbwhomDx6A7tlR4lty8BpLggCGsYNgiqIroQTfSOgYfLoG/M6/N2y68vmkcX3ZVZFbOsgTR19I6Bh3CCo+tbr8DcIAhomjyBAtuzEeyfPMF9c+3uZoorYthwUmguCgIZxg6AKoivhRN8IaJg8+sa8Dn9FUMkvS1QR2zpIU0ffCGgYNwiqvvU6/A2CgIbJIwiQLTthBZU0u2nN75nf/a3Ry3/EtuWg0FwQBDSMGwRVEF0JJ/pGQMPk0TfmdfjrCqo0UdWX2MqF7U8//XR07dT58+eH8aZdk1UHf+oIl4CGcYOgCrd/4VnABDRMHgHjbcw1K6g+8MsfMz/4u29E7cQzVaHHVu7OvP/++4fv30yDbS84X7hw4agiUscbb7wR/fuUKVNGXVzeWACpWC0BDeMGQaW2e2AYBNIJaJg8iE95AlZQjZ15l/nRt88niqrQY7t8+XKzbdu2CJ5koxYvXmyuv/76YZgHDx6M/n7p0qXo39zL320hyW7NmjUr+p/Hjh0rdJF6+WjxRJcIaBg3CKou9RhshcC/EpDJ4/E/2W6+9trXYdIhAn914vXIWhFU8ksSVRpeDE0hffPNN83EiROHxdShQ4cSmzpz5oyZPXt2JKqk/Llz50aU66OgEiZ//ud/bl5//XWzYcMGM23atKbC1Ml6NYwbBFUnuw5G952AFVRP/OmXrqAYuvL/xvQdSaf8t4IqSVR95v++3wwNSUzD+7lCKCnz5Hq8du1as379+uifTp8+PUJA9E1Q7d271yxatGgYD1m50WMDQRXefIFHEGiFgCuo3veh/2De/+EbWmmXRuoh8J5fHD+iIjdT9bMLb5l3Lv1DPQ0pq6WMoJKyr776auTBPffcYyZMmGA2btxoVq9eneqVLCEmZb1kz9XOnTvN/v37o03w8pM9WnPmzDErVqzIXDKcO3dutN/L1v3yyy+bLVu2RP8mmaJVq1YN2yM2f/nLXzZHjhwZ3mhv2/nN3/xNM2/evFTb02yUPWQiqK699lrz0EMPmV//9V8ftW9MMn+bNm0a0a5k9sS/lStXRuxC/yGoQo8w/kGgIQKuoLr6hv9ofv6GjzTUEtW2RSBtT1Vb7bfRjrvkN2PGjEj8jBs3rnDTgwgqd/kwraFly5aZrVu3Jv7ZFVSy38vNFLmCKm6b+Ce+ifCyvzVr1ph169aNakfElLRjxZ6IN/nJUqf9AnL79u1myZIlo56NZ6/iBUTQHThwIPh9ZgiqwsOIghCAgEsAQRVmf+iDqLICRSIoWZQnn3zS3HrrraWEVdElPxFwImxkL5b8382bNw8LC/nb888/P5zxShM71l4RJnZP16OPPmqmTp1qrrvuuij749qzYMGCaKnSZoVELH3hC18Y3oiftFxnN+qLjfv27RuRUbJCTdoXweVmm0QsTp8+PRoM8XbFP/FJ6kt6NrQRhKAKLaL4A4GWCCCoWgLtoZnQRVU8G2MRS1bmlltuiZbW8jZcFxVUVqiIoDh79myiaHMzS/G9WmKbKwAlk/XEE0+Mqse2k7SB3vonS3YiyOLCzc3ape0rmzRpUpSpimepZDlQBJMIsZMnTyb2VvtsVhbOQzevvUkEVe1IqRAC/SCAoAo7zqGLKomeLFU99thjIw71tFEVYSL7hR588MFEEVREUIlwGz/+3b1qadkn+ZuUmzx5cqLYcQVVlliyoiurnfheLOur60vaxwj2WclCCTdrt/Uva4P/jh07zNKlS6Ms1cWLF4MdOAiqYEOLYxBolgCCqlm+vmt3BVXeZcq+ba3avixbyT4jd8O4rVNEwHPPPTdqM3cRQVWkjG3HCpakTE+aECrrd92CyvXvwoULqUumbjnJcoW6QR1BVbZHUh4CEIgIIKjC7Qh9yE6lRU+yRUePHh2VuRrk2ASbmZG28oSEu+wXzxKVEVSyfPfaa6+Zb33rW+Yv/uIvht10N5fHv0QcdMnPtdluYk/iKkztZveQj1tAUIU7J+IZBBolgKBqFK+3yvsspuLQXcEQ3/9TJPuUJZKy2hpEUMU3ntv6XaEjQkv2UCUd7ZC1Kd3dB+ZuSs/74jGpEyOomh3anT7Ys0iHkhTuTTfdZO67777gPxtttqtQuyYCCCpN0ajHlj6IKRFC8rvmmmtyN55LObuhOi5CygqqpjNU8o6xWSA5SiFpY31WpqvIsQl79uwx7r2GbgYu1INgy4wsMlRlaCWULSKo3MdEXD377LOFBnJF03i8RQJ9vCiVgz1b7GANNJV9sOffXznY87sNtOq/Sis80g7gjFtYZN9RWtaliOiy7VXZQ+W2k3ZWlLSTJahko7lkouRLQHvEgTwj/38RUXL+VPzLR7fdpK8T/Ue7XQsQVBV5u4JKOrKcC+L+Ll++bF555ZXos1J7OJr8Pa70K5rB454JlJk4PZtaW/NcPVMbSi8VpV09IxvQf/e3wr16xn7mL9CzNlLboKRlqNzzl9IEVdGv/KQte6RB0tECeXuoii4tpolJu4dKviI8ceJE4fO4XP+yhJywsqfLh3wHIIKq4lTmduS8tWE3PSqq/6tf/SqZqor8tTzeZ0HF5chaemExO7IuR7Zf82l4MRTzpnwp91TvvHOR3Dk7fsWLtCyc5JclJuo8hyotq1Zk87tbJm35UgSVXGmTdT1NnLh7/lWaGCsq+MpHU9cTGsZNMHuo8gSVhN4dzEVTzrq6DNYkEeiroGLfRPfGw3snz4iMlgxV2tEIGl4MTZKNn5RuTx23bb711ltm165dw1e2pF1RY7NXWVfY1HlSeto7w/1KT86J+rM/+7PhLJNkh/7oj/5o+LTytE3p7h6sJPbS9o033hidy+Uee5Dln9TjCrmsM7KajHdbdWsYN70SVBJYN+Wcte5c5TJN24Gkjqeeeiq6sLLMhZx5KWZbv/0vtKT/eovXYS/PFFEpg1p+Mvg///nPD2fqrM/PPPPM8BKpTFaPP/547n81DXo5Z5qd7uWiMpnIAYAzZ84cMTbz9tAlTYBip1ySWjYmbU0KRdvRMHkUtZVy/0bACqoP/PLHzA/+7hvRH+LnTIUeW5lnHn744Uhk5P1kDO/evTtxGcwVC7aepDFf511+SRcvS9tr166NrptJ+smKiNwT+LWvfS26fibJRrlw+YEHHhiem7O4xLesFPEvi2NeDLrydw3jpneCSjru7bffHvWRJCEi/16kg+alq6vUUbegil/o6Q4QuwHyO9/5jrnzzjtTB3TWSbxVLueMXzwqKWwr+OIDOZ6FLCuo4jGRFLu7AVTay4urlslFw+ShhUWX7LCCytqcdGhnX2IrmeWDBw+O+I8b4SLjcs6cOeaOO+7I/Q85EVXyoZF7qXCS6KnyH8hF52OZB7/4xS8O22L9WLlyZZRVsvNVXFDZd1LaIabyH4Hf/OY3zR/8wR9EdSedeJ7l3/z580d8Hdil8VLGVg3jpneCSgJkMztpGYyql2m6adj4urh7YaXYkrT+X3QAF8lQ2Qs93UyTDD65FFSuI5Cf/E0GavyiUve/mtKuXah6OWf84lFr58033xz9V2kRG4ou+blLBO4FpDaTaP8Ls8jycZmB3kRZDZNHE36FXqcrqNJOQCe2ofeCkf7ZeSnvYyk3GcBXfaP7iIZx00tBZV/iSSKhjk2Mdlkx64bvLBvqFFRZWRfrqxVV8l92ImLcn5t9ShrEVS/njF88Kqnx+M/NRCWdJ1NUUFkBmpZts/sYupCl0jB59Ou1V4+3VlBlXSdDbOth3ZVa8uYl64crqIp8IdkV/+uyU8O46bWgkkC6G3uLfmabdZlm0TpcoTLIybxupi1rD1XWLeSuUEkboFmfJ7u+Dno5Z9b5L3ag5QmmvL/berIyelJG9kG8/vrr0ebPdevW1TXOG6lHw+TRiGOBVyqCKu9uPmIbeCeIuef+B/iBAwcSD6B2M/Vd+A8+HxHUMG4QVENDw7Ev+mKWB9KEQJk60jpdnRmqrK8Zi16aaYVIPCVdx+WcRXzNY5r3d8s5ng0rskfDx8RQpE0Nk0cROykzksCWXV82jyy+LxMLse1Xr5FtILJnzJ6VKCsbn/jEJ4YhyMXR9teHzeWDRl/DuOm1oIov+RU5T8QGO+1sj7zlqSKdpYjIKJqhKiqosvYNpWV26rics4iveYIp7++WuWTbPv3pT4845FUmL5nMZs+ebe65557Ch+oViWOTZTRMHk361+e6iW3/om/3tb7wwgvR5cruhzn2+rQu/wdgGxHVMG56KajSNqWXOQCtiKAa9JygIiJDm6AqOmDiwq2Ir3mCKe/vrm124nK/DLJ/F3H1uc99zqxataqoO97KaZg8vDkfeMPENvAA414jBDSMm94JKndPUPygszLZpSKCKu9CzrReVURkaBBUdVzOWcTXPMGU9/c0zpJql/8alPNh3PO50o7TaGQWGLBSDZPHgKbzWA4BYksXgUB5AhrGTe8ElftlW/yrtTIv5tD2UA2y5FfH5Zw+BVU8cyW2pJ3zUn54N/uEhsmjWQ/7Wzux7W/s8XxwAhrGTa8ElfvZadLeoqJf6EnI0y7TLFpHlhgpIjLc6w6KnJSe1E2LCsi0PVR1XM5ZxNc8O4tclGozimnnaQkft38Mulw7+HRQ7kkNk0c5iyldlACxLUqKchD4NwIaxk1vBFXRy5HbOofKbefixYsjxoWbRUs6zkDElFwbY08H9iWoxOiql3PWIajEDiv60i5KdcVS2lJsHUuYbU1wGiaPtnztWzvEtm8Rx986CGgYN8EIKnmRTp06dURcLl++bF555ZXozij7SaoUyDqRto7LNPNOSpe75Oyp3EliyH3525PDP/jBD0a+yVUNch+U/OyXID4FVdXLOesSVHkXpbpnhwlT2ZQ+bdq04f4iWTB79Y6IVdlTpfmnYfLQzKfLthHbLkcP230R0DBughFURYKY9CJNeq7KPXy2vqp1uGcmxW20fkyfPj36k09BJe0X8TXt/JS6BFWRi1KT7vITIeZ+pixLgidOnFB/fIKGyaPImKNMeQLEtjwznoCAhnETvKCyZ3jcd999iSfQpnXDKpdp2jqr1GGffeaZZ4aza+LLvffeax588MHohZ+2t0nar0uoSF1Z7RTxNetyzjrtLHJRqmTUJEN45MiR4SVT8UEE3913392Zs6g0TB5M4c0QILbNcKXWsAloGDedFlRhdw+8g0A6AQ2TB/FphgCxbYYrtYZNQMO4QVCF3cfwLlACGiaPQNF6d4vYeg8BBnSQgIZxg6DqYMfBZAhomDyIQjMEiG0zXKk1bAIaxg2CKuw+hneBEtAweQSK1rtbxNZ7CDCggwQ0jBsEVQc7DiZDQMPkQRSaIUBsm+FKrWET0DBuEFRh9zG8C5SAhskjULTe3SK23kOAAR0koGHcIKg62HEwGQIaJg+i0AwBYtsMV2oNm4CGcYOgCruP4V2gBDRMHoGi9e4WsfUeAgzoIAEN4wZB1cGOg8kQ0DB5EIVmCBDbZrhSa9gENIwbBFXYfQzvAiWgYfIIFK13t/oSW7m14OjRo+aFF14Ycf3T2LFjzZw5c4zcsHDrrbeqvwbKe4fBgIiAhnGDoKIzQqCDBDRMHh3E1gmT+xDbjRs3mtWrV+fGQ8TV1q1bzcKFC3PL+iwgV4W98cYbkQlTpkxRIwK12tVErDSMGwRVE5GlTgg0TEDD5NGwi72tPvTYLl++3Gzbti2KrwimZcuWmU996lPD8b58+bJ58cUXh8vIH9asWWPWrVuntk8cP37czJo1K7Lv2LFjpe6NbdIprXY14bOGcYOgaiKy1AmBhglomDwadrG31Ycc27Vr15r169dHsZXL3g8dOpSazZElwQULFgxfYq5JqMQ7p1bhotWuJga3hnGDoGoistQJgYYJaJg8Gnaxt9WHGtszZ86Y6dOnFxJTNvgiqiZOnBj9z9tuuy0SYBp/WoWLVruaiKGGcYOgaiKy1AmBhglomDwadrG31YcaW3epr0y2yX1uaGgosV/IXqGdO3ea/fv3D2e07Ob2FStWZC7BzZ071xw+fHhYsImI27Rpkzly5Ig5f/78sJh77LHHRtWTtxcsTQQmtSHCUTbjr1y50kyYMGHYTykr2bxLly6ZDRs2mFWrVo1i4Aqnl156yXzjG9/I3KOmWZwOOvA1jBsE1aDR4zkIeCSgYfLw6H7QTYca22uvvTYSBSIczp07VziGIhZeffXVqPw999wzQmzIv0nma/bs2VHdaT/ZpyWb25N+rqBavHixEQGXVldcCA4iqPbu3WsWLVqUaqsIwQMHDowQbzt27DBLly6NnhGR5wou+bdJkyZF/y5LpFL/IHYVDojSghrGDYJKaefALAhkEdAweRChZgiEGFs3g1LnBnM3eyNZnM2bNw8LEfnb888/P5ypSWvXCioRMiKkpJ7HH3/c3HzzzdH+rpdfftk88MADmWKw6NKau+wp4kf2k1lxJPaKjfv27Ys26586dWqEcLrpppuif4tnl6x4SnqmqF3N9OR2a9UwbhBU7cac1iBQCwENk0ctjlDJKAIhxlZEye233x75mrZsNUhXsMuBIibOnj2buMHdzdacPn3aTJs2bURTVlDJP6Zlstw6kjJERYWLHP8ggklE28mTJxNdttmmuC2uGJNlvXnz5hlXUG7fvt0sWbJkRJ1F7RqEvbZnNIwbBJW2XoE9EChAQMPkUcBMigxAIMTYuoKkzP6pLHyyb2r8+PFRkaysl5SbPHlylGFKKmcFVZbIyRMmeX8XG117rSBK8s8u74lIvHjx4ogilqMsm544ccI8/PDDkUBL2xNVxK4BuqjKRzSMGwSVyq6BURDIJqBh8iBGzRAIMbZNCKoyYiFLNMU3pSdFNa+tvL9LnW6ZCxcupB4X4ZbL2y+VtjxofShiVzO9uP1aNYwbBFX7cadFCFQmoGHyqOwEFSQSCDG27pJf0tLUIF0hb6O2W6cr6OJfCrYlqFwbJKOU9pNMluyVkl9SNs8VSVImawkVQTVIzxr8GQTV4Ox4EgLeCIT40vUGU1nDIca2iU3pWSIpHlJtgqpol0sSVO4SptSTtXyIoCpKup5yCKp6OFILBFolEOJLt1WAihsLNbaDHpsgxwDs2rUriphkY+ym8ryN4toyVG5GLe08rSLd0m5st18l2v1U8kVi/IegKkK0vjIIqvpYUhMEWiMQ6ku3NYCKGwo1tnUc7OnuPSojFrTtoUr62rBIl3SXTmV/lRwEKv83bVN+GUZF2tdcRsO4QVBp7iHYBoEUAhomD4LTDIFQY+u+3PPu8bNk3atn7KGV9m9Fv/KT8jY7lnQsQh17qNwjDdK+YnTtzdpHJnWtXr16VEbOXeqz+6byBFMRu5rpxe3XqmHcIKjajzstQqAyAQ2TR2UnqCCRQMixrfty5DrPocq6jiVPuEggJW7yyxJL1t6sZbq0/V5pz9olwLQT6IvYFcJQ1DBuEFQh9CR86B0BDZNH76C35HDosXWX/mQfkGSNPvnJT5oPfvCDEeHLly+bF198MbpCxV4Bs2fPHiPCIf6r86T0qoLKHsiZlX3Lsld8c/dZuct4WYIuKXPlcipiV0tdu9FmNIwbBFWjIaZyCDRDQMPk0Yxn1NqH2ObdNWd7gQguuYMvSUzZMnXe5Xfo0KHEDlgkQ+WKIVtJkkgrYq88t3v37uisKhFMcg2Oe1df3Ei37fj+rKJ2dX3kaRg3CKqu9yLs7yUBDZNHL8G34HRfYivZmqNHj5oXXnjBvPbaa8PZKBFRn/jEJ8zdd98dXYac9PVaPAwiOnbu3Gn2798/fIaT1CObtlesWDHiouH4s3XsobJ1inh59tlnh21Iy3pl2Tt//vwRAtIuk2ZdryPtZ228L2pXC927sSY0jBsEVWPhpWIINEdAw+TRnHf9rpnY9jv+eD8YAQ3jBkE1WOx4CgJeCWiYPLwCCLhxYhtwcHGtMQIaxg2CqrHwUjEEmiOgYfJozrt+10xs+x1/vB+MgIZxg6AaLHatP/WHW3ZUbvP3H1lSuQ4q0EFAw+Shg0R4VhDb8GKKR80T0DBuEFTNx7mWFt47eUblen5y9t0LN/l1n4CGyaP7FHV6QGx1xgWrdBPQMG5yBZVuhP2x7j2Tbrzi7JC5+oaPlHb6h9/62+iZn557vfSzPKCXQJX7wPR6hWUaXgxEAQJdI6Bh3GQKqq4BDdlem6EaO/Ou0m5eOv6V6BkyVKXR8QAEWieg4cXQutM0CIGKBDSMGwRVxSC29TiCqi3StAMBvwQ0vBj8EqB1CJQnoGHcIKjKx83LEwgqL9hpFAKtE9DwYmjdaRqEQEUCGsYNgqpiENt6HEHVFmnagYBfAhpeDH4J0DoEyhPQMG4QVOXj5uUJBJUX7DQKgdYJaHgxtO40DUKgIgEN4wZBVTGIbT2OoGqLNO1AwC8BDS8GvwRoHQLlCWgYNwiq8nHz8gSCygt2GoVA6wQ0vBhad5oGIVCRgIZxg6CqGMS2HkdQtUWadiDgl4CGF4NfArQOgfIENIwbBFX5uHl5AkHlBTuNQqB1AhpeDK07TYMQqEhAw7hBUFUMYluPI6jaIk07EPBLQMOLwS8BWodAeQIaxg2CqnzcvDyBoPKCnUYh0DoBDS+G1p2mQQhUJKBh3CCoKgaxrccRVG2Rph0I+CWg4cXglwCtQ6A8AQ3jBkFVPm5enkBQecFOoxBonYCGF0PrTtMgBCoS0DBuEFQVg9jW4wiqtkjTDgT8EtDwYvBLgNYhUJ6AhnGDoCofNy9PIKi8YKdRCLROQMOLoXWnaRACFQloGDcIqopBbOtxBFVbpGkHAn4JaHgx+CVA6xAoT0DDuEFQlY+blycQVF6w0ygEWieg4cXQutM0CIGKBDSMGwRVxSC29TiCqi3StAMBvwQ0vBj8EqB1CJQnoGHcIKjKx63WJ7739kWzfff+4Tr/9w9+aP7dB64e1cYTf/ql6N/GzryrdPuXjn/lyjND5gu/81Dus0vvv9d8aNy1ueUoAAEINENAw4uhGc+oFQLNEdAwbhBUzcW3cM0iqu787c+Y1//6b3KfGVxQZVc941c+ar7yzB8jpnIjQAEINEtAw4uhWQ+pHQL1E9AwbhBU9cd1oBq/e+GiuWn+/eZ/fvcfzZj3XW3e939cb8ZcddWIusZc+V9X3/CR0vX/y7e+OeqZoXfeMT/+x7fM0I9/aG78+Lti6sPjyUyVhssDEKiZgIYXQ80uUR0EGiegYdwgqBoPc/EGRFTd9dC7maqrrhlrfmHKzebn3vf+4hUULPmzH//I/PMbJ8w737+EmCrIjGIQaIuAhhdDW77SDgTqIqBh3CCo6opmTfU0LaoQUzUFimog0BABDS+GhlyjWgg0RkDDuEFQNRbewStuSlQhpgaPCU9CoC0CGl4MbflKOxCoi4CGcYOgqiuaNddTt6hCTNUcIKqDQEMENLwYGnKNaiHQGAEN4wZB1Vh4q1dcl6hCTFWPBTVAoC0CGl4MbflKOxCoi4CGcYOgqiuaDdVTVVQhphoKDNVCoCECGl4MDblGtRBojICGcYOgaiy89VU8qKhCTNUXA2qCQFsENLwY2vKVdiBQFwEN4wZBVVc0G66nrKhCTDUcEKqHQEMENLwYGnKNaiHQGAEN4wZB1Vh466+4qKhCTNXPnhoh0BYBDS+GtnylHQjURUDDuCksqMRYfgoIXPVec9V1k8yY938g8fBPV0wN/egH5p3vnDPmnZ8oMBwTmiQwNDTUZPXU3SIBDS+GFt2lKQjUQkDDuCklqJi0a4l75UrSMlVkpiqj7WQFGiaSToJTajTxVBoYzFJNQMO4QVCp7iLpxsVF1Qcm/ar5wbn/wXUyHY1nFbM1TCRV7OfZkQSIJz0CAuUJaBg3CKrycVPzhCuqzFXvubK091Pu5lMTnfYM0TCRtOdt+C0Rz/BjjIf1E9AwbhBU9ce11RpdUXXjxz9qvvLMH5sPj7+2VRtozC8BDROJXwJhtU48w4on3rRDQMO4QVC1E+tGWxFRNX/JZ8x/3YGYahS00so1TCRK0XTSLOLZybBhtGcCGsYNgspzJ6ir+e+9fdF8aByZqbp4dqkeDRNJl3hpt5V4ao8Q9mkkoGHcIKg09gxsgkAJAhomkhLmUjSHAPGki0CgPAEN4wZBVT5uPAEBVQQ0TCSqgCg0ZsuuL5tHFt9XyDLiWQgThSAwgoCGcYOgolNCoOMENEwkHUfYuPnvnTzDfHHt7xUSVcSz8XDQQIAENIwbBFWAHQuX+kVAw0TSL+IqaPs0AAAb0klEQVTlvRVBJb8ioop4lufLExDQMG4QVPRDCHScgIaJpOMIGzffCqoioop4Nh4OGgiQgIZxg6AKsGPhUr8IaJhI+kW8vLeuoMoTVcSzPF+egICGcYOgoh9CoOMENEwkHUfYuPlWUH3glz9mfvB338hc/iOejYeDBgIkoGHcIKgC7Fi41C8CGiaSfhEv760VVGNn3mV+9O3zmaKKeJbnyxMQ0DBuEFT0Qwh0jMAfbtlhvvba14et/su//EvzG7/xGx3zol/m/tWJ1yOHRVDJL0tUaXgx9Cs6eBsCAQ3jBkEVQk/Ch14REEH1xJ9+6YrPQ1f+35he+d51Z62gyhJVGl4MXeeM/f0joGHc9E5Qbdy40axevbpUbzt27JiZOXNmqWfqKDx37lxz+PBhc9ttt5lDhw7VUWVjdUhnlt+GDRvMqlWrBmqnjjoGarhjD1lB9b4P/Qfz/g/f0DHr+23ue35x/AgASZkqDS+GfkcJ77tIQMO4QVAV6DkIqnxIdYihOurIt7T7JayguvqG/2h+/oaPdN+hnnsQF1W/+1v3m6EhyT7ygwAEihJAUBUlVWM5N0O1fft2M3Xq1Nzap0yZYsaNG5dbru4CZKjqJhpGfQiqMOLoeuGKqp9d+HvzzqXvhuckHkGgQQIIqgbhplXtCipfmaeibiOoipLqVzkEVZjxzvv6L0yv8QoC9RBAUNXDsVQtCKpSuAoXrmO5ro46Chvc4YIIqg4HL8d0RFW4scWzZgkgqJrlm1h7HYIqnjl68803zaZNm8zevXvNpUuXonYXLFhgPv/5z5tp06ZF//vtt982O3fuNM8884w5f/589G8zZswwjz/+uJk3b16irXntjB071syZM8esWLEid9O8tfHIkSPD7U+cODF6fuXKlWbChAmZ0Th+/Lh5+umnjTwvPkrbCxcuNEuWLIl8LCKG6qhjUD/iLF9++WWzZcuWaNN/lY30HrqwQVD5oN5OmwiqdjjTSngEEFQeYlq3oFq8eLFZtGhRoiciOk6dOmW+853vmDvvvHNYbMULv/TSS4miyhUBWe1IfXv27IkETtJPhF6ajVJe7Dxw4ECqKMt6Xp597rnnzO233x41nSZOmq4jz48slggqDwORJkcRQEzRKSAwOAEE1eDsBn6yTkElYkKyNW6mSTJRzz//vFm6dOlwFkpElWSDnnzySXPrrbdGG9wlQ/LAAw9Ez8vfzp07N8onKwLk75LVknY2b948LHwk4/PZz342Em3ykzLxTNOZM2fM9OnTo79L1mz9+vXDZSTbs2bNGrNv375IVEk98eeljVmzZg37ktS+tGszc0nipI46qvphWdqYCdNHH300+ijhuuuuy83QDdzhGniQDFUDUD1XyaZ0zwGg+c4TQFB5CGHZr/ySXrb25SzmL1u2zGzdunWUJ8uXLzfbtm0bFiJyjlT8S0E3a3P69Onh5UFbmduOiCEpH/+JKBJxkGaLZK1EMIkYO3nyZCLxSZMmRWIsyRdXiJw9e3aUDyIgpYwVdUmCqo466vLDcnriiSe8fLlZR5dHUNVBUU8dHJugJxZY0l0CCCoPsSt7sGeWQMgSKW47Fy5cSHx5u1mXpC8O84SIxWfFm2RfLl68OExVxM748e8eJJi2rCh/27FjR5RRiz/vijXJZK1bty4xYm65OK866qjqhxjtZvuSsoEeuuLATXKw58DovD/IwZ7eQ4ABgRJAUHkIbJ2CKusEc3eZK2kpzrpuN3Mn7YEqemxCWqbLtSFN1Ikdaba6/553xETapvS66xjED1dQdeHU+bxhwdUzeYT0/p2rZ/TGBsu6TQBB5SF+de6hKiqossRI1tdxRQVVmmhxfRVb036SAbJLdq6tRbJscWEYz1DVXccgfoQoqLgc2cPkUaFJLkeuAI9HIVCAAIKqAKS6i/RVUBXlmCao8q7CSBOGLu866hjEj9AEVZyBhomkaFz6Wu69k2dErkuGKu9rPuLZ116C31UIaBg3vb7LL28ZKy24RTJHRZe6msxQ2b1R4keemEny1RVDWcuW8mwRQTVoHVX9QFBVmaZ4tg4CVlB94Jc/Zn7wd9+Iqvzi2t8zjyy+b1T1Gl4MdfhMHRBok4CGcYOgmjmzdMy1CSpXcLiixRV1SV8R5jleVBRmCaq66xjEDwRVXqT5e9MErKCy7aSJKTuWBvkPoKZ9oH4IaCaAoPIQnS4u+aWdU2Xx2SMFsr7yk4ug5VTzpJ98bbh69eroT7IHyp7uXvQLPfcrvEG/8suqw/3bIH4gqDwMNJocQcAVVFliCkFFx4HAYAQQVINxq/RUFwWVOJx23pV79EJSGXukgoiyEydOJB7fkLXP6aabboo2rItYG/QcqjrqqOpHkaxipY7l8WENE4lH9zvRtBVUeWIKQdWJcGKkQgIa5sFeL/lJtkNOys77TZkyZYQQKfJyLrrUVWQPlT3d270fULI2R48eNSI07N16SSedS5ZJzsuyJ7q7J52L3+5yYdJZU3Kiu71Wxj2pXdoXgfbII49EZ19lnZReRx1V/SgSs7x+oPXvGiYSrWy02CWCqoiYQlBpiRh2dI2Ahnmw14KqaIeJb14v8nKuU1DJUQFyJYw9eT1utwguOa097S4/yWLNnj079S5BqU/a2L17d2IGyz31Pa1te1dg2r14ddRRxY8iMSvaH7SV0zCRaGOizZ4tu76cuAE9yU7iqS162NMFAhrGDYKqQE/RIKjk6hrJ9GzZssUcPnw4slqW8ebMmWNWrlyZexedZJR27txp9u/fP3zmlAgxeX7+/PmpYsziyWvbXl+TddFwHXUM6geCqkBHp4gKAhpeDCpAYAQEShDQMG56J6hKxIeiEOgEAQ0TSSdAdcRI4tmRQGGmKgIaxg2CSlWXwBgIlCegYSIpbzVPpBEgnvQNCJQnoGHcIKjKx40nIKCKgIaJRBWQjhtDPDseQMz3QkDDuEFQeQk9jUKgPgIaJpL6vKEm4lmtD8i9iX914lSlSv7zzTPMf775xkp18HC7BDSMGwRVuzGnNQjUTkDDRFK7Uz2ukHhWC74Iqv/rgeRDjIvW/P8+twNBVRSWknIaxg2CSklnwAwIDEpAw0QyqO08N5qAPZsONoMRGPPz15ir/v3/aX7u/T9v3vfhG0pV8uPv/b352Q9/YN759v9nhv7l+6WepbB/Ar6vbEJQ+e8DWACBSgQQVJXw8XBgBGyG6j2/ON5c8/FPlvLu+3/9ivnp/7pgyFCVwkbhfyWAoKIrQKDjBBBUHQ8g5tdKAEFVK04qK0EAQVUCFkUhoJEAgkpjVLDJFwEElS/ytIugog9AoOMEEFQdDyDm10oAQVUrTiorQQBBVQIWRSGgkQCCSmNUsMkXAQSVL/K0i6CiD0Cg4wQQVB0PIObXSgBBVStOKitBAEFVAhZFIaCRAIJKY1SwyRcBBJUv8rSLoKIPQKDjBBBUHQ8g5tdKAEFVK04qK0EAQVUCFkUhoJEAgkpjVLDJFwEElS/ytIugog9AoOMEEFQdDyDm10oAQVUrTiorQQBBVQIWRSGgkQCCSmNUsMkXAQSVL/K0i6CiD0Cg4wQQVB0PIObXSgBBVStOKitBAEFVAhZFIaCRAIJKY1SwyRcBBJUv8rRbSlCBCwIQ0EnA9y3rOqlgVR8JIKj6GHUdPhcWVDrMxQoIQAACEIBAOgEEFb3DFwEElS/ytAsBCEAAArUTQFDVjpQKCxJAUBUERTEIQAACENBPAEGlP0ahWoigCjWy+AUBCECghwQQVD0MuhKXEVRKAoEZEIAABCBQnQCCqjpDahiMAIJqMG48BQEIQAACCgkgqBQGpScmIah6EmjchAAEINAHAgiqPkRZp48IKp1xwSoIQAACEBiAAIJqAGg8UgsBBFUtGKkEAhCAAAQ0EEBQaYhCP21AUPUz7ngNAQhAIEgCCKogw9oJpxBUnQgTRkIAAhCAQBECCKoilCjTBAEEVRNUqRMCEIAABLwQQFB5wU6jVwggqOgGEIAABCAQDAEEVTCh7JwjCKrOhQyDIQABCEAgjQCCir7hiwCCyhd52oUABCAAgdoJIKhqR0qFBQkgqAqCohgEIAABCOgngKDSH6NQLURQhRpZ/IIABCAQIIEtu75s/p91T+V69p5fHG+u+fgnc8u5Bb7/16+Yn/6vC7nPfHHt75lHFt+XW44C/SKAoOpXvPEWAhCAQOcJ/Ml/+bJZuT5bVDUlqBBTne8+jTmAoGoMLRVDAAIQgEBTBFxR9YEJHzPvv25iI0396NvnzQ/+7htR3YipRhAHUymCKphQ4ggEIACBfhFoWlQhpvrVn6p6i6CqSpDnIQABCEDAG4GmRBViyltIO9swgqqzocNwCEAAAhAQAnWLKsQU/WoQAgiqQajxDAQgAAEIqCJQl6hCTKkKa6eMQVB1KlwYCwEIQAACaQSqiirEFH2rCgEEVRV6PAsBCEAAAqoIDCqqEFOqwthJYxBUnQwbRkMAAhCAQF2ZKsQUfakOAgiqOihSBwQgAAEIqCJQNFOFmFIVtk4bg6DqdPgwHgLtERgzZkx7jdESBGog8HO/9GHzc+Ovj2pKOvzTFVM/u/D35mf/9L0aWqWKtgkMDQ213WRiewgqFWHACAjoJyCCSsvEpZ8WFmohkJapIjOlJULV7NA0LyGoqsWSpyHQGwKaJq7eQMfRWgjERZW5ktDgOpla0HqvRNO8hKDy3h0wAALdIKBp4uoGMazURCDpQmXu5tMUocFs0TQvIagGiyFPQaB3BDRNXL2Dj8O1EHBFFWKqFqTeK9E0LyGovHcHDIBANwhomri6QQwrNRLYsuvLkVmPLL5Po3nYVJKApnkJQVUyeBSHQF8JaJq4+hoD/IYABEYS0DQvIajonRCAQCECmiauQgZTCAIQCJ6ApnkJQRV8d8NBCNRDQNPEVY9H1AIBCHSdgKZ5CUHV9d6E/RBoiYCmiasll2kGAhBQTkDTvISgUt5ZMA8CWghomri0MMEOCEDALwFN8xKCym9foHUIdIaApomrM9AwFAIQaJSApnkJQdVoqKkcAuEQ0DRxhUMVTyAAgSoENM1LCKoqkeRZCPSIgKaJq0fYcRUCEMggoGleQlDRVSEAgUIENE1chQymEAQgEDwBTfMSgir47oaDEKiHgKaJqx6PqAUCEOg6AU3zEoKq670J+yHQEgFNE1dLLtMMBCCgnICmeQlBpbyzYB4EtBDQNHEtXLjQ7Nu3L0Jz/vx5M2HChEKY1q5da9avXx+Vfemll8y8efMKPdfHQsePHzdPP/20OXXqVMTY/m677TZz9913m3vuuceMGzeuN2g2btxoVq9eHfl77NgxM3PmTG++y1iU34YNG8yqVau82aGhYU3zEoJKQ4/ABgh0gICmiWvv3r1m0aJFEbXt27ebJUuWFCI4adKkSBxMnDjRnDt3rtAzTRZ6++23zRtvvBE1MWXKFBUCRWy6//77zeHDhzNdHzt2rNm6dasRcRv/afSrahwRVFUJNvO8pnkJQdVMjKkVAsER0DRxCdxrr73WXLp0ycyYMcOcPHkyl/eZM2fM9OnTo3Jr1qwx69aty32m6QKSBZo1a1bUjO+sh/V1+fLlZtu2bdH/lGzU4sWLzfXXXz+M4uDBg9Hfhb38kjJ9Gv2qGksEVVWCzTyvaV5CUDUTY2qFQHAENE1cAtd98RdZ9nOX+06fPm2mTZvmPUbahMebb74ZZe+smDp06FAiIxGns2fPjkRVUrZPm191BBpBVQfF+uvQNC8hqOqPLzVCIEgCmiYuAfzyyy+b22+/PWJdZNlP23Kf2K1NeLj25O0xyxKo2vyqY0AiqOqgWH8dmuYlBFX98aVGCARJQNPEZQEXXfZzl/uSxJdkZjZt2mSOHDkyvAFbMi9z5swxK1euzN30LnuGnnrqqeh52cQtP9ljJM+vWLFi1AZm9+Wc1FlkqS0pOyTt7Ny50+zfv79QO27dc+fOjfZF2bpFkG7ZsiX6N7u5uYygkrKvvvpq1IRsUJcPA7T65XIYNNZ5girON6kdYf/YY4/lbmi3HwRIf5IsoPQl2asmewUls1pkU3oZP6WsLJ1LW2kb3cv0jTYnQE3zEoKqzcjTFgQ6TEDTxGUxulmSrGW/rHLuBvek8MjL7MCBA6kvQXf5Ky28y5YtizZw298gwmOQdtIEleyLspv6pYx9ibpLfvKCFVFX5ks+rX5ZDlViXUZQCV9Zkrb7zOL9Imu/XJaN0hefe+654cxsmvgZxM8dO3aYpUuXRqYmjSWb4V2wYIGR+rX8NM1LCCotvQI7IKCcgKaJy6LKyzzZcvZlEN/A7j4vLwo5UsEewSDiQjavy/EM8iKTzFP8eAb3v+wloyUZH3sUg/u82JGUGSu6NOa2Iz5s3rx5WODJ355//vnhT/rTNtzbDIr4Yvc+Pfroo2bq1KnmuuuuG/bNlhObxacnn3zS3HrrraWElUa/qsa6qKCyfCVOjz/+uLn55psjdpIRfOCBB1L3nQlvl1s8zvK3z372s5HYsUItSVBV8fOmm26K+nk8Q2p9TxsHPqcuTfMSgspnT6BtCHSIgKaJy8WWJpZsGfcltWfPnhGf+dvzrLK+FLT1x7NMUr99PutFYwVKlc3bdgO+tHP27NlEceO+8JM23btCSXx54oknEuuRZUUpa5cuLUd5yd5yyy3RyzZvQ39RQdWmX1VjXVRQCa+kviL/7taRlAVyRW9SnOOxSRJUVfx0xZjdQ+eK+SJ7Fdue0jTNSwiqtqNPexDoKAFNE5eLMG/Zz/0a8MKFC8MiQl5O48ePj6rK2oBtl0JEzFy8eHG4aff5rGMY3OWXoaGhEdEvIjyKtiPlJk+eHGUvkuzJEnZJXVLslv0+7qGetpyIw4ceesg8+OCDiaJMm19VYx0XQ0lLdpZvljjP4uIut2b1J7dcXFDV6afE+MSJE+bhhx+OsrRp+/p8T2ea5iUEle/eQPsQ6AgBTROXiyzvRWQ3rsf3frgvN1doxcPhlnOzCkVEQ15oi9RRpIxtJ+ulHt80nWeb/btkLWTjursR3v7N7umJnzhfxOYiZeryq2qsywiqLOGR5XMZHmmb0uvwU3x190tlLXkX7UNNltM0LyGomow0dUMgIAKaJq44Vrv3I76s5h6tEM9Cucsv8hJM+8l/9dvlLzczkbd8UyT0RV6ieZuF3XZcm+LZsEEFlVu/sDh69OiozFV8iVGbX1Vj3Yagcm3MEvhiS5qgqsNPqd+Nn/xvzVfcaJqXEFRFZj3KQAAC0SQef0lrweKKDvfl7u7RcZfr4i/Ion6kCapBuRQRHlkiKW5304IqTbzF9wxp8yvv68Ok+MeX9YruoRo0Q1UmzkUE1SB92j7jLh/Lv+WdSVa0rSbKaZqXEFRNRJg6IRAgAU0TVxxv2rKfXe5L2iTsirBBBFFbGaoy7VQVVCKE5HfNNdfkbjyXcnZpKC4iygqqvJPuq/pVNdZxAZ61h6oOQZXHI01Q1eGn+Op+bGG/CJX9VGWO0GhrCtQ0LyGo2oo67UCg4wQ0TVxJKOObrt3lvqQXoPvSH+QqmiKiIS/kReooUsa2U3UPVdpn82l+pC0jFrG5SJm6/Koa6zYEVRkeRfZQDdKnxU933Iiwk8Np5f9quf8y3hc1zUsIqrwZj79DAAIRAU0TV1JI3K/p5GUi/7Uul/gmHVcgz7tfRGV9Di6bslevXh01KXtJ7JEBRb++y3qZu5+ppx32WLQdsS8rI1dkD5XNTEhdeft4pExahkqbX1Vj3Yagyvu4wvZ515esr/wG7dP2S9Gk0/O1XODtjn9N8xKCipclBCBQiICmiSvJ4LjwEDGVdoSAfd7usbKfiCctaWQtNxU5hyprH5cVqvJ/s16AdZ7XlLUk5YrStLOULDt3eSlp07LNomjwS2yuGuum91CJjTZDmHbeWJFzqKr4mfas7edp/3FSaAJpqJCmeQlB1VCQqRYCoRHQNHGlsXUzLLZM1tJH1gnk8rwrGpKWPPJOSpd79+T0dfmlfSnlHkyadtVLnSel550nFD8p3Z6mbnm+9dZbZteuXdFRCvJLu6JGm19VY92GoHKX29yT0kVIyR6mRx55JDoLLeuk9EH9zFpydDepa/viT9O8hKAK7a2HPxBoiICmiSvNRfeFZF/2J0+ezCRS5I48ESG7d+9O3JRb5PmsbI8r2qyhSaKnajtFlvykfXl52sMc87pSFhdtfokvRRim+dSGoBIb3YNo4/wlcyV3Qtp7GNPETVk/JeZyRY7slUq7qy/tS9q8PtL03zXNSwiqpqNN/RAIhICmiSsLqd1HJGWKXpUhLxTJJrmHV8rLSzbkzp8/f8R1NUltZz2/YsWK1IuVbV3ysnr22WeHz7tKyyJVaaeooLI2Scbi4MGD5siRIyOuoZFlH+Fyxx13DN9bmBYPjX4NGuu2BJWwlP8wkHshbRbQMl+5cmV056LN/mVli8r4aW8byLraSOwqchp829OdpnkJQdV29GkPAh0loGni6ihCzIYABGomoGleQlDVHFyqg0CoBDRNXKEyxi8IQKAcAU3zEoKqXOwoDYHeEtA0cfU2CDgOAQiMIKBpXkJQ0TkhAIFCBDRNXIUMphAEIBA8AU3zEoIq+O6GgxCoh4Cmiasej6gFAhDoOgFN8xKCquu9Cfsh0BIBTRNXSy7TDAQgoJyApnkJQaW8s2AeBLQQ0DRxaWGCHRCAgF8CmuYlBJXfvkDrEOgMAU0TV2egYSgEINAoAU3zEoKq0VBTOQTCIaBp4gqHKp5AAAJVCGialxBUVSLJsxDoEQFNE1ePsOMqBCCQQUDTvISgoqtCAAKFCGiauAoZTCEIQCB4AprmJQRV8N0NByFQDwFNE1c9HlELBCDQdQKa5iUEVdd7E/ZDoCUCmiaullymGQhAQDkBTfMSgkp5Z8E8CGghoGni0sIEOyAAAb8ENM1LCCq/fYHWIdAZApomrs5Aw1AIQKBRAprmJQRVo6GmcgiEQ0DTxBUOVTyBAASqENA0LyGoqkSSZyHQIwKaJq4eYcdVCEAgg4CmeQlBRVeFAAQKEdA0cRUymEIQgEDwBDTNSwiq4LsbDkKgHgKaJq56PKIWCECg6wQ0zUsIqq73JuyHQEsENE1cLblMMxCAgHICmuYlBJXyzoJ5ENBCQNPEpYUJdkAAAn4JaJqXEFR++wKtQ6AzBDRNXJ2BhqEQgECjBDTNSwiqRkNN5RAIh4CmiSscqngCAQhUIaBpXkJQVYkkz0KgRwQ0TVw9wo6rEIBABgFN8xKCiq4KAQgUIqBp4ipkMIUgAIHgCWialxBUwXc3HIRAPQQ0TVz1eEQtEIBA1wlompcQVF3vTdgPgZYIaJq4WnKZZiAAAeUENM1LCCrlnQXzIKCFgExc/CAAAQhoIzA0NKTCJASVijBgBAQgAAEIQAACXSaAoOpy9LAdAhCAAAQgAAEVBBBUKsKAERCAAAQgAAEIdJkAgqrL0cN2CEAAAhCAAARUEEBQqQgDRkAAAhCAAAQg0GUCCKouRw/bIQABCEAAAhBQQeD/B0B9w/sVJKGyAAAAAElFTkSuQmCC)"
   ]
  },
  {
   "cell_type": "markdown",
   "metadata": {},
   "source": [
    "## Other indexes in llamaindex"
   ]
  },
  {
   "cell_type": "markdown",
   "metadata": {},
   "source": [
    "Llamaindex has a number of indexes besides `VectorStoreIndex`. Here is a list. See this [article](https://howaibuildthis.substack.com/p/llamaindex-how-to-use-index-correctly)."
   ]
  },
  {
   "attachments": {
    "4d7a85d9-c065-47d9-827f-3d2e28215833.png": {
     "image/png": "[encoded data removed]"
    }
   },
   "cell_type": "markdown",
   "metadata": {},
   "source": [
    "![image.png](attachment:4d7a85d9-c065-47d9-827f-3d2e28215833.png)"
   ]
  },
  {
   "cell_type": "markdown",
   "metadata": {
    "id": "NF9HTHmxD3yy"
   },
   "source": [
    "#############"
   ]
  },
  {
   "cell_type": "code",
   "execution_count": null,
   "metadata": {},
   "outputs": [],
   "source": []
  }
 ],
 "metadata": {
  "colab": {
   "provenance": []
  },
  "kernelspec": {
   "display_name": "Python 3 (ipykernel)",
   "language": "python",
   "name": "python3"
  },
  "language_info": {
   "codemirror_mode": {
    "name": "ipython",
    "version": 3
   },
   "file_extension": ".py",
   "mimetype": "text/x-python",
   "name": "python",
   "nbconvert_exporter": "python",
   "pygments_lexer": "ipython3",
   "version": "3.10.12"
  },
  "widgets": {
   "application/vnd.jupyter.widget-state+json": {
    "0279ac9846a4419087f093bdaff4d789": {
     "model_module": "@jupyter-widgets/controls",
     "model_module_version": "1.5.0",
     "model_name": "HTMLModel",
     "state": {
      "_dom_classes": [],
      "_model_module": "@jupyter-widgets/controls",
      "_model_module_version": "1.5.0",
      "_model_name": "HTMLModel",
      "_view_count": null,
      "_view_module": "@jupyter-widgets/controls",
      "_view_module_version": "1.5.0",
      "_view_name": "HTMLView",
      "description": "",
      "description_tooltip": null,
      "layout": "IPY_MODEL_052503a031c34679981dd208a0ac7b76",
      "placeholder": "​",
      "style": "IPY_MODEL_e78d95a9aa5e46fba6a778a97f98c500",
      "value": " 740/740 [00:00&lt;00:00, 9.55kB/s]"
     }
    },
    "039606cbc16844a4b1d3b956070ebd2d": {
     "model_module": "@jupyter-widgets/controls",
     "model_module_version": "1.5.0",
     "model_name": "FloatProgressModel",
     "state": {
      "_dom_classes": [],
      "_model_module": "@jupyter-widgets/controls",
      "_model_module_version": "1.5.0",
      "_model_name": "FloatProgressModel",
      "_view_count": null,
      "_view_module": "@jupyter-widgets/controls",
      "_view_module_version": "1.5.0",
      "_view_name": "ProgressView",
      "bar_style": "success",
      "description": "",
      "description_tooltip": null,
      "layout": "IPY_MODEL_dca1a479315c47028d89eb776ca8dcc4",
      "max": 711396,
      "min": 0,
      "orientation": "horizontal",
      "style": "IPY_MODEL_145ec0bb4c9947de8f0665a4b768b73e",
      "value": 711396
     }
    },
    "052503a031c34679981dd208a0ac7b76": {
     "model_module": "@jupyter-widgets/base",
     "model_module_version": "1.2.0",
     "model_name": "LayoutModel",
     "state": {
      "_model_module": "@jupyter-widgets/base",
      "_model_module_version": "1.2.0",
      "_model_name": "LayoutModel",
      "_view_count": null,
      "_view_module": "@jupyter-widgets/base",
      "_view_module_version": "1.2.0",
      "_view_name": "LayoutView",
      "align_content": null,
      "align_items": null,
      "align_self": null,
      "border": null,
      "bottom": null,
      "display": null,
      "flex": null,
      "flex_flow": null,
      "grid_area": null,
      "grid_auto_columns": null,
      "grid_auto_flow": null,
      "grid_auto_rows": null,
      "grid_column": null,
      "grid_gap": null,
      "grid_row": null,
      "grid_template_areas": null,
      "grid_template_columns": null,
      "grid_template_rows": null,
      "height": null,
      "justify_content": null,
      "justify_items": null,
      "left": null,
      "margin": null,
      "max_height": null,
      "max_width": null,
      "min_height": null,
      "min_width": null,
      "object_fit": null,
      "object_position": null,
      "order": null,
      "overflow": null,
      "overflow_x": null,
      "overflow_y": null,
      "padding": null,
      "right": null,
      "top": null,
      "visibility": null,
      "width": null
     }
    },
    "093aa2dc8d034fc585980905ea579e1b": {
     "model_module": "@jupyter-widgets/controls",
     "model_module_version": "1.5.0",
     "model_name": "DescriptionStyleModel",
     "state": {
      "_model_module": "@jupyter-widgets/controls",
      "_model_module_version": "1.5.0",
      "_model_name": "DescriptionStyleModel",
      "_view_count": null,
      "_view_module": "@jupyter-widgets/base",
      "_view_module_version": "1.2.0",
      "_view_name": "StyleView",
      "description_width": ""
     }
    },
    "09815e0d9ca843949ffa497cf5a2dac3": {
     "model_module": "@jupyter-widgets/base",
     "model_module_version": "1.2.0",
     "model_name": "LayoutModel",
     "state": {
      "_model_module": "@jupyter-widgets/base",
      "_model_module_version": "1.2.0",
      "_model_name": "LayoutModel",
      "_view_count": null,
      "_view_module": "@jupyter-widgets/base",
      "_view_module_version": "1.2.0",
      "_view_name": "LayoutView",
      "align_content": null,
      "align_items": null,
      "align_self": null,
      "border": null,
      "bottom": null,
      "display": null,
      "flex": null,
      "flex_flow": null,
      "grid_area": null,
      "grid_auto_columns": null,
      "grid_auto_flow": null,
      "grid_auto_rows": null,
      "grid_column": null,
      "grid_gap": null,
      "grid_row": null,
      "grid_template_areas": null,
      "grid_template_columns": null,
      "grid_template_rows": null,
      "height": null,
      "justify_content": null,
      "justify_items": null,
      "left": null,
      "margin": null,
      "max_height": null,
      "max_width": null,
      "min_height": null,
      "min_width": null,
      "object_fit": null,
      "object_position": null,
      "order": null,
      "overflow": null,
      "overflow_x": null,
      "overflow_y": null,
      "padding": null,
      "right": null,
      "top": null,
      "visibility": null,
      "width": null
     }
    },
    "0dc762621d3e4f3bbaab211f500a4509": {
     "model_module": "@jupyter-widgets/controls",
     "model_module_version": "1.5.0",
     "model_name": "DescriptionStyleModel",
     "state": {
      "_model_module": "@jupyter-widgets/controls",
      "_model_module_version": "1.5.0",
      "_model_name": "DescriptionStyleModel",
      "_view_count": null,
      "_view_module": "@jupyter-widgets/base",
      "_view_module_version": "1.2.0",
      "_view_name": "StyleView",
      "description_width": ""
     }
    },
    "138011adcda640c6955e21ae3fa0ec5c": {
     "model_module": "@jupyter-widgets/controls",
     "model_module_version": "1.5.0",
     "model_name": "DescriptionStyleModel",
     "state": {
      "_model_module": "@jupyter-widgets/controls",
      "_model_module_version": "1.5.0",
      "_model_name": "DescriptionStyleModel",
      "_view_count": null,
      "_view_module": "@jupyter-widgets/base",
      "_view_module_version": "1.2.0",
      "_view_name": "StyleView",
      "description_width": ""
     }
    },
    "145ec0bb4c9947de8f0665a4b768b73e": {
     "model_module": "@jupyter-widgets/controls",
     "model_module_version": "1.5.0",
     "model_name": "ProgressStyleModel",
     "state": {
      "_model_module": "@jupyter-widgets/controls",
      "_model_module_version": "1.5.0",
      "_model_name": "ProgressStyleModel",
      "_view_count": null,
      "_view_module": "@jupyter-widgets/base",
      "_view_module_version": "1.2.0",
      "_view_name": "StyleView",
      "bar_color": null,
      "description_width": ""
     }
    },
    "1ba8312b673c4ac8b5066460f592055b": {
     "model_module": "@jupyter-widgets/base",
     "model_module_version": "1.2.0",
     "model_name": "LayoutModel",
     "state": {
      "_model_module": "@jupyter-widgets/base",
      "_model_module_version": "1.2.0",
      "_model_name": "LayoutModel",
      "_view_count": null,
      "_view_module": "@jupyter-widgets/base",
      "_view_module_version": "1.2.0",
      "_view_name": "LayoutView",
      "align_content": null,
      "align_items": null,
      "align_self": null,
      "border": null,
      "bottom": null,
      "display": null,
      "flex": null,
      "flex_flow": null,
      "grid_area": null,
      "grid_auto_columns": null,
      "grid_auto_flow": null,
      "grid_auto_rows": null,
      "grid_column": null,
      "grid_gap": null,
      "grid_row": null,
      "grid_template_areas": null,
      "grid_template_columns": null,
      "grid_template_rows": null,
      "height": null,
      "justify_content": null,
      "justify_items": null,
      "left": null,
      "margin": null,
      "max_height": null,
      "max_width": null,
      "min_height": null,
      "min_width": null,
      "object_fit": null,
      "object_position": null,
      "order": null,
      "overflow": null,
      "overflow_x": null,
      "overflow_y": null,
      "padding": null,
      "right": null,
      "top": null,
      "visibility": null,
      "width": null
     }
    },
    "21dba5c5987c4577ae4ddeccbd49e52b": {
     "model_module": "@jupyter-widgets/controls",
     "model_module_version": "1.5.0",
     "model_name": "HTMLModel",
     "state": {
      "_dom_classes": [],
      "_model_module": "@jupyter-widgets/controls",
      "_model_module_version": "1.5.0",
      "_model_name": "HTMLModel",
      "_view_count": null,
      "_view_module": "@jupyter-widgets/controls",
      "_view_module_version": "1.5.0",
      "_view_name": "HTMLView",
      "description": "",
      "description_tooltip": null,
      "layout": "IPY_MODEL_229ea4d80cfc4d3a9a759617335dbf66",
      "placeholder": "​",
      "style": "IPY_MODEL_87eb4a9fd3704854ac4c53554bd89e01",
      "value": " 711k/711k [00:00&lt;00:00, 7.70MB/s]"
     }
    },
    "229ea4d80cfc4d3a9a759617335dbf66": {
     "model_module": "@jupyter-widgets/base",
     "model_module_version": "1.2.0",
     "model_name": "LayoutModel",
     "state": {
      "_model_module": "@jupyter-widgets/base",
      "_model_module_version": "1.2.0",
      "_model_name": "LayoutModel",
      "_view_count": null,
      "_view_module": "@jupyter-widgets/base",
      "_view_module_version": "1.2.0",
      "_view_name": "LayoutView",
      "align_content": null,
      "align_items": null,
      "align_self": null,
      "border": null,
      "bottom": null,
      "display": null,
      "flex": null,
      "flex_flow": null,
      "grid_area": null,
      "grid_auto_columns": null,
      "grid_auto_flow": null,
      "grid_auto_rows": null,
      "grid_column": null,
      "grid_gap": null,
      "grid_row": null,
      "grid_template_areas": null,
      "grid_template_columns": null,
      "grid_template_rows": null,
      "height": null,
      "justify_content": null,
      "justify_items": null,
      "left": null,
      "margin": null,
      "max_height": null,
      "max_width": null,
      "min_height": null,
      "min_width": null,
      "object_fit": null,
      "object_position": null,
      "order": null,
      "overflow": null,
      "overflow_x": null,
      "overflow_y": null,
      "padding": null,
      "right": null,
      "top": null,
      "visibility": null,
      "width": null
     }
    },
    "232c444240824c0aab0c71b1920328f1": {
     "model_module": "@jupyter-widgets/controls",
     "model_module_version": "1.5.0",
     "model_name": "ProgressStyleModel",
     "state": {
      "_model_module": "@jupyter-widgets/controls",
      "_model_module_version": "1.5.0",
      "_model_name": "ProgressStyleModel",
      "_view_count": null,
      "_view_module": "@jupyter-widgets/base",
      "_view_module_version": "1.2.0",
      "_view_name": "StyleView",
      "bar_color": null,
      "description_width": ""
     }
    },
    "23d17e5011434ee68da4e66f6b8e0368": {
     "model_module": "@jupyter-widgets/base",
     "model_module_version": "1.2.0",
     "model_name": "LayoutModel",
     "state": {
      "_model_module": "@jupyter-widgets/base",
      "_model_module_version": "1.2.0",
      "_model_name": "LayoutModel",
      "_view_count": null,
      "_view_module": "@jupyter-widgets/base",
      "_view_module_version": "1.2.0",
      "_view_name": "LayoutView",
      "align_content": null,
      "align_items": null,
      "align_self": null,
      "border": null,
      "bottom": null,
      "display": null,
      "flex": null,
      "flex_flow": null,
      "grid_area": null,
      "grid_auto_columns": null,
      "grid_auto_flow": null,
      "grid_auto_rows": null,
      "grid_column": null,
      "grid_gap": null,
      "grid_row": null,
      "grid_template_areas": null,
      "grid_template_columns": null,
      "grid_template_rows": null,
      "height": null,
      "justify_content": null,
      "justify_items": null,
      "left": null,
      "margin": null,
      "max_height": null,
      "max_width": null,
      "min_height": null,
      "min_width": null,
      "object_fit": null,
      "object_position": null,
      "order": null,
      "overflow": null,
      "overflow_x": null,
      "overflow_y": null,
      "padding": null,
      "right": null,
      "top": null,
      "visibility": null,
      "width": null
     }
    },
    "24120f1294294bfcbbcad57d84a74a81": {
     "model_module": "@jupyter-widgets/base",
     "model_module_version": "1.2.0",
     "model_name": "LayoutModel",
     "state": {
      "_model_module": "@jupyter-widgets/base",
      "_model_module_version": "1.2.0",
      "_model_name": "LayoutModel",
      "_view_count": null,
      "_view_module": "@jupyter-widgets/base",
      "_view_module_version": "1.2.0",
      "_view_name": "LayoutView",
      "align_content": null,
      "align_items": null,
      "align_self": null,
      "border": null,
      "bottom": null,
      "display": null,
      "flex": null,
      "flex_flow": null,
      "grid_area": null,
      "grid_auto_columns": null,
      "grid_auto_flow": null,
      "grid_auto_rows": null,
      "grid_column": null,
      "grid_gap": null,
      "grid_row": null,
      "grid_template_areas": null,
      "grid_template_columns": null,
      "grid_template_rows": null,
      "height": null,
      "justify_content": null,
      "justify_items": null,
      "left": null,
      "margin": null,
      "max_height": null,
      "max_width": null,
      "min_height": null,
      "min_width": null,
      "object_fit": null,
      "object_position": null,
      "order": null,
      "overflow": null,
      "overflow_x": null,
      "overflow_y": null,
      "padding": null,
      "right": null,
      "top": null,
      "visibility": null,
      "width": null
     }
    },
    "25deb63d669246cf945c1aaf11307045": {
     "model_module": "@jupyter-widgets/controls",
     "model_module_version": "1.5.0",
     "model_name": "HTMLModel",
     "state": {
      "_dom_classes": [],
      "_model_module": "@jupyter-widgets/controls",
      "_model_module_version": "1.5.0",
      "_model_name": "HTMLModel",
      "_view_count": null,
      "_view_module": "@jupyter-widgets/controls",
      "_view_module_version": "1.5.0",
      "_view_name": "HTMLView",
      "description": "",
      "description_tooltip": null,
      "layout": "IPY_MODEL_2dcdbc6a9fb94c05adb8112fd1b6e226",
      "placeholder": "​",
      "style": "IPY_MODEL_facd01eda21742c2b92006ca068cbe90",
      "value": "tokenizer.json: 100%"
     }
    },
    "2b018c0699b846da96641c2cec7c5787": {
     "model_module": "@jupyter-widgets/controls",
     "model_module_version": "1.5.0",
     "model_name": "HBoxModel",
     "state": {
      "_dom_classes": [],
      "_model_module": "@jupyter-widgets/controls",
      "_model_module_version": "1.5.0",
      "_model_name": "HBoxModel",
      "_view_count": null,
      "_view_module": "@jupyter-widgets/controls",
      "_view_module_version": "1.5.0",
      "_view_name": "HBoxView",
      "box_style": "",
      "children": [
       "IPY_MODEL_8e1e435c6dda4cc2a24128011c724033",
       "IPY_MODEL_794afed0e7c44b88a38687eab6581282",
       "IPY_MODEL_5bc08c3a9e8c4f118fe4babe1dcbe92d"
      ],
      "layout": "IPY_MODEL_c5c0a05653b8493b8d315c22055e7070"
     }
    },
    "2dcdbc6a9fb94c05adb8112fd1b6e226": {
     "model_module": "@jupyter-widgets/base",
     "model_module_version": "1.2.0",
     "model_name": "LayoutModel",
     "state": {
      "_model_module": "@jupyter-widgets/base",
      "_model_module_version": "1.2.0",
      "_model_name": "LayoutModel",
      "_view_count": null,
      "_view_module": "@jupyter-widgets/base",
      "_view_module_version": "1.2.0",
      "_view_name": "LayoutView",
      "align_content": null,
      "align_items": null,
      "align_self": null,
      "border": null,
      "bottom": null,
      "display": null,
      "flex": null,
      "flex_flow": null,
      "grid_area": null,
      "grid_auto_columns": null,
      "grid_auto_flow": null,
      "grid_auto_rows": null,
      "grid_column": null,
      "grid_gap": null,
      "grid_row": null,
      "grid_template_areas": null,
      "grid_template_columns": null,
      "grid_template_rows": null,
      "height": null,
      "justify_content": null,
      "justify_items": null,
      "left": null,
      "margin": null,
      "max_height": null,
      "max_width": null,
      "min_height": null,
      "min_width": null,
      "object_fit": null,
      "object_position": null,
      "order": null,
      "overflow": null,
      "overflow_x": null,
      "overflow_y": null,
      "padding": null,
      "right": null,
      "top": null,
      "visibility": null,
      "width": null
     }
    },
    "3574d1c7ba3544e788ebd4e3cfa8134b": {
     "model_module": "@jupyter-widgets/controls",
     "model_module_version": "1.5.0",
     "model_name": "HTMLModel",
     "state": {
      "_dom_classes": [],
      "_model_module": "@jupyter-widgets/controls",
      "_model_module_version": "1.5.0",
      "_model_name": "HTMLModel",
      "_view_count": null,
      "_view_module": "@jupyter-widgets/controls",
      "_view_module_version": "1.5.0",
      "_view_name": "HTMLView",
      "description": "",
      "description_tooltip": null,
      "layout": "IPY_MODEL_f58861d1176a43cba34047f67413795f",
      "placeholder": "​",
      "style": "IPY_MODEL_6139c81e55c6464e999f0d54313a0102",
      "value": " 695/695 [00:00&lt;00:00, 26.7kB/s]"
     }
    },
    "406ab8b6b5b2433c9c7caf09a813276c": {
     "model_module": "@jupyter-widgets/controls",
     "model_module_version": "1.5.0",
     "model_name": "ProgressStyleModel",
     "state": {
      "_model_module": "@jupyter-widgets/controls",
      "_model_module_version": "1.5.0",
      "_model_name": "ProgressStyleModel",
      "_view_count": null,
      "_view_module": "@jupyter-widgets/base",
      "_view_module_version": "1.2.0",
      "_view_name": "StyleView",
      "bar_color": null,
      "description_width": ""
     }
    },
    "47a1097c1329453e925708b14607e0da": {
     "model_module": "@jupyter-widgets/controls",
     "model_module_version": "1.5.0",
     "model_name": "HBoxModel",
     "state": {
      "_dom_classes": [],
      "_model_module": "@jupyter-widgets/controls",
      "_model_module_version": "1.5.0",
      "_model_name": "HBoxModel",
      "_view_count": null,
      "_view_module": "@jupyter-widgets/controls",
      "_view_module_version": "1.5.0",
      "_view_name": "HBoxView",
      "box_style": "",
      "children": [
       "IPY_MODEL_a290d4ddd7ef4563a7d49a39000c5204",
       "IPY_MODEL_bcd2607a1f6a4bf1ac3134be03a5be9a",
       "IPY_MODEL_5dd518a809d34d4faba3d80cc9ace13a"
      ],
      "layout": "IPY_MODEL_09815e0d9ca843949ffa497cf5a2dac3"
     }
    },
    "5bc08c3a9e8c4f118fe4babe1dcbe92d": {
     "model_module": "@jupyter-widgets/controls",
     "model_module_version": "1.5.0",
     "model_name": "HTMLModel",
     "state": {
      "_dom_classes": [],
      "_model_module": "@jupyter-widgets/controls",
      "_model_module_version": "1.5.0",
      "_model_name": "HTMLModel",
      "_view_count": null,
      "_view_module": "@jupyter-widgets/controls",
      "_view_module_version": "1.5.0",
      "_view_name": "HTMLView",
      "description": "",
      "description_tooltip": null,
      "layout": "IPY_MODEL_c10c419486ea4305804e96b984b4001c",
      "placeholder": "​",
      "style": "IPY_MODEL_093aa2dc8d034fc585980905ea579e1b",
      "value": " 218M/218M [00:02&lt;00:00, 82.8MB/s]"
     }
    },
    "5bec04a187ff4e7e9070b281ea412545": {
     "model_module": "@jupyter-widgets/controls",
     "model_module_version": "1.5.0",
     "model_name": "DescriptionStyleModel",
     "state": {
      "_model_module": "@jupyter-widgets/controls",
      "_model_module_version": "1.5.0",
      "_model_name": "DescriptionStyleModel",
      "_view_count": null,
      "_view_module": "@jupyter-widgets/base",
      "_view_module_version": "1.2.0",
      "_view_name": "StyleView",
      "description_width": ""
     }
    },
    "5cd1bdf2c06f401c8b873cc110fa0f6c": {
     "model_module": "@jupyter-widgets/controls",
     "model_module_version": "1.5.0",
     "model_name": "DescriptionStyleModel",
     "state": {
      "_model_module": "@jupyter-widgets/controls",
      "_model_module_version": "1.5.0",
      "_model_name": "DescriptionStyleModel",
      "_view_count": null,
      "_view_module": "@jupyter-widgets/base",
      "_view_module_version": "1.2.0",
      "_view_name": "StyleView",
      "description_width": ""
     }
    },
    "5dd518a809d34d4faba3d80cc9ace13a": {
     "model_module": "@jupyter-widgets/controls",
     "model_module_version": "1.5.0",
     "model_name": "HTMLModel",
     "state": {
      "_dom_classes": [],
      "_model_module": "@jupyter-widgets/controls",
      "_model_module_version": "1.5.0",
      "_model_name": "HTMLModel",
      "_view_count": null,
      "_view_module": "@jupyter-widgets/controls",
      "_view_module_version": "1.5.0",
      "_view_name": "HTMLView",
      "description": "",
      "description_tooltip": null,
      "layout": "IPY_MODEL_97d57afa0d6d4daa9f1365300c323088",
      "placeholder": "​",
      "style": "IPY_MODEL_0dc762621d3e4f3bbaab211f500a4509",
      "value": " 5/5 [00:02&lt;00:00,  1.67s/it]"
     }
    },
    "5fe55080163048269ef89e900d2e47a8": {
     "model_module": "@jupyter-widgets/controls",
     "model_module_version": "1.5.0",
     "model_name": "FloatProgressModel",
     "state": {
      "_dom_classes": [],
      "_model_module": "@jupyter-widgets/controls",
      "_model_module_version": "1.5.0",
      "_model_name": "FloatProgressModel",
      "_view_count": null,
      "_view_module": "@jupyter-widgets/controls",
      "_view_module_version": "1.5.0",
      "_view_name": "ProgressView",
      "bar_style": "success",
      "description": "",
      "description_tooltip": null,
      "layout": "IPY_MODEL_de844fbbb9c94506977cb2d5cc74d1cf",
      "max": 1242,
      "min": 0,
      "orientation": "horizontal",
      "style": "IPY_MODEL_6e35d22ba49244ce9adfb997e408449d",
      "value": 1242
     }
    },
    "6139c81e55c6464e999f0d54313a0102": {
     "model_module": "@jupyter-widgets/controls",
     "model_module_version": "1.5.0",
     "model_name": "DescriptionStyleModel",
     "state": {
      "_model_module": "@jupyter-widgets/controls",
      "_model_module_version": "1.5.0",
      "_model_name": "DescriptionStyleModel",
      "_view_count": null,
      "_view_module": "@jupyter-widgets/base",
      "_view_module_version": "1.2.0",
      "_view_name": "StyleView",
      "description_width": ""
     }
    },
    "6e35d22ba49244ce9adfb997e408449d": {
     "model_module": "@jupyter-widgets/controls",
     "model_module_version": "1.5.0",
     "model_name": "ProgressStyleModel",
     "state": {
      "_model_module": "@jupyter-widgets/controls",
      "_model_module_version": "1.5.0",
      "_model_name": "ProgressStyleModel",
      "_view_count": null,
      "_view_module": "@jupyter-widgets/base",
      "_view_module_version": "1.2.0",
      "_view_name": "StyleView",
      "bar_color": null,
      "description_width": ""
     }
    },
    "794afed0e7c44b88a38687eab6581282": {
     "model_module": "@jupyter-widgets/controls",
     "model_module_version": "1.5.0",
     "model_name": "FloatProgressModel",
     "state": {
      "_dom_classes": [],
      "_model_module": "@jupyter-widgets/controls",
      "_model_module_version": "1.5.0",
      "_model_name": "FloatProgressModel",
      "_view_count": null,
      "_view_module": "@jupyter-widgets/controls",
      "_view_module_version": "1.5.0",
      "_view_name": "ProgressView",
      "bar_style": "success",
      "description": "",
      "description_tooltip": null,
      "layout": "IPY_MODEL_819c6f07b9bf49a2b67442f6e445080b",
      "max": 217824172,
      "min": 0,
      "orientation": "horizontal",
      "style": "IPY_MODEL_ea193fd9688e481faa3ba3b061dca28d",
      "value": 217824172
     }
    },
    "8143b4d181874b8bbab81247235708e5": {
     "model_module": "@jupyter-widgets/controls",
     "model_module_version": "1.5.0",
     "model_name": "HBoxModel",
     "state": {
      "_dom_classes": [],
      "_model_module": "@jupyter-widgets/controls",
      "_model_module_version": "1.5.0",
      "_model_name": "HBoxModel",
      "_view_count": null,
      "_view_module": "@jupyter-widgets/controls",
      "_view_module_version": "1.5.0",
      "_view_name": "HBoxView",
      "box_style": "",
      "children": [
       "IPY_MODEL_9f038cd66d1e4b9bad31919a1c5f215f",
       "IPY_MODEL_f41ed249ecb442bb9d449309f30ff0fd",
       "IPY_MODEL_3574d1c7ba3544e788ebd4e3cfa8134b"
      ],
      "layout": "IPY_MODEL_ecf67cbec3c843e398b2e25ebe87f7f1"
     }
    },
    "819c6f07b9bf49a2b67442f6e445080b": {
     "model_module": "@jupyter-widgets/base",
     "model_module_version": "1.2.0",
     "model_name": "LayoutModel",
     "state": {
      "_model_module": "@jupyter-widgets/base",
      "_model_module_version": "1.2.0",
      "_model_name": "LayoutModel",
      "_view_count": null,
      "_view_module": "@jupyter-widgets/base",
      "_view_module_version": "1.2.0",
      "_view_name": "LayoutView",
      "align_content": null,
      "align_items": null,
      "align_self": null,
      "border": null,
      "bottom": null,
      "display": null,
      "flex": null,
      "flex_flow": null,
      "grid_area": null,
      "grid_auto_columns": null,
      "grid_auto_flow": null,
      "grid_auto_rows": null,
      "grid_column": null,
      "grid_gap": null,
      "grid_row": null,
      "grid_template_areas": null,
      "grid_template_columns": null,
      "grid_template_rows": null,
      "height": null,
      "justify_content": null,
      "justify_items": null,
      "left": null,
      "margin": null,
      "max_height": null,
      "max_width": null,
      "min_height": null,
      "min_width": null,
      "object_fit": null,
      "object_position": null,
      "order": null,
      "overflow": null,
      "overflow_x": null,
      "overflow_y": null,
      "padding": null,
      "right": null,
      "top": null,
      "visibility": null,
      "width": null
     }
    },
    "87eb4a9fd3704854ac4c53554bd89e01": {
     "model_module": "@jupyter-widgets/controls",
     "model_module_version": "1.5.0",
     "model_name": "DescriptionStyleModel",
     "state": {
      "_model_module": "@jupyter-widgets/controls",
      "_model_module_version": "1.5.0",
      "_model_name": "DescriptionStyleModel",
      "_view_count": null,
      "_view_module": "@jupyter-widgets/base",
      "_view_module_version": "1.2.0",
      "_view_name": "StyleView",
      "description_width": ""
     }
    },
    "8ce638bc01254ea2986254a1fbc34a91": {
     "model_module": "@jupyter-widgets/base",
     "model_module_version": "1.2.0",
     "model_name": "LayoutModel",
     "state": {
      "_model_module": "@jupyter-widgets/base",
      "_model_module_version": "1.2.0",
      "_model_name": "LayoutModel",
      "_view_count": null,
      "_view_module": "@jupyter-widgets/base",
      "_view_module_version": "1.2.0",
      "_view_name": "LayoutView",
      "align_content": null,
      "align_items": null,
      "align_self": null,
      "border": null,
      "bottom": null,
      "display": null,
      "flex": null,
      "flex_flow": null,
      "grid_area": null,
      "grid_auto_columns": null,
      "grid_auto_flow": null,
      "grid_auto_rows": null,
      "grid_column": null,
      "grid_gap": null,
      "grid_row": null,
      "grid_template_areas": null,
      "grid_template_columns": null,
      "grid_template_rows": null,
      "height": null,
      "justify_content": null,
      "justify_items": null,
      "left": null,
      "margin": null,
      "max_height": null,
      "max_width": null,
      "min_height": null,
      "min_width": null,
      "object_fit": null,
      "object_position": null,
      "order": null,
      "overflow": null,
      "overflow_x": null,
      "overflow_y": null,
      "padding": null,
      "right": null,
      "top": null,
      "visibility": null,
      "width": null
     }
    },
    "8e1e435c6dda4cc2a24128011c724033": {
     "model_module": "@jupyter-widgets/controls",
     "model_module_version": "1.5.0",
     "model_name": "HTMLModel",
     "state": {
      "_dom_classes": [],
      "_model_module": "@jupyter-widgets/controls",
      "_model_module_version": "1.5.0",
      "_model_name": "HTMLModel",
      "_view_count": null,
      "_view_module": "@jupyter-widgets/controls",
      "_view_module_version": "1.5.0",
      "_view_name": "HTMLView",
      "description": "",
      "description_tooltip": null,
      "layout": "IPY_MODEL_23d17e5011434ee68da4e66f6b8e0368",
      "placeholder": "​",
      "style": "IPY_MODEL_959e34167f494a0e9f09b140ed39a9cc",
      "value": "model_optimized.onnx: 100%"
     }
    },
    "9385196d329341b2bec9f4ef3560fd99": {
     "model_module": "@jupyter-widgets/base",
     "model_module_version": "1.2.0",
     "model_name": "LayoutModel",
     "state": {
      "_model_module": "@jupyter-widgets/base",
      "_model_module_version": "1.2.0",
      "_model_name": "LayoutModel",
      "_view_count": null,
      "_view_module": "@jupyter-widgets/base",
      "_view_module_version": "1.2.0",
      "_view_name": "LayoutView",
      "align_content": null,
      "align_items": null,
      "align_self": null,
      "border": null,
      "bottom": null,
      "display": null,
      "flex": null,
      "flex_flow": null,
      "grid_area": null,
      "grid_auto_columns": null,
      "grid_auto_flow": null,
      "grid_auto_rows": null,
      "grid_column": null,
      "grid_gap": null,
      "grid_row": null,
      "grid_template_areas": null,
      "grid_template_columns": null,
      "grid_template_rows": null,
      "height": null,
      "justify_content": null,
      "justify_items": null,
      "left": null,
      "margin": null,
      "max_height": null,
      "max_width": null,
      "min_height": null,
      "min_width": null,
      "object_fit": null,
      "object_position": null,
      "order": null,
      "overflow": null,
      "overflow_x": null,
      "overflow_y": null,
      "padding": null,
      "right": null,
      "top": null,
      "visibility": null,
      "width": null
     }
    },
    "9535b42a60ca44f5bcc724d9192e7c73": {
     "model_module": "@jupyter-widgets/controls",
     "model_module_version": "1.5.0",
     "model_name": "HBoxModel",
     "state": {
      "_dom_classes": [],
      "_model_module": "@jupyter-widgets/controls",
      "_model_module_version": "1.5.0",
      "_model_name": "HBoxModel",
      "_view_count": null,
      "_view_module": "@jupyter-widgets/controls",
      "_view_module_version": "1.5.0",
      "_view_name": "HBoxView",
      "box_style": "",
      "children": [
       "IPY_MODEL_25deb63d669246cf945c1aaf11307045",
       "IPY_MODEL_039606cbc16844a4b1d3b956070ebd2d",
       "IPY_MODEL_21dba5c5987c4577ae4ddeccbd49e52b"
      ],
      "layout": "IPY_MODEL_aa8bdb08ec0146d7867d350a4f345ea8"
     }
    },
    "959e34167f494a0e9f09b140ed39a9cc": {
     "model_module": "@jupyter-widgets/controls",
     "model_module_version": "1.5.0",
     "model_name": "DescriptionStyleModel",
     "state": {
      "_model_module": "@jupyter-widgets/controls",
      "_model_module_version": "1.5.0",
      "_model_name": "DescriptionStyleModel",
      "_view_count": null,
      "_view_module": "@jupyter-widgets/base",
      "_view_module_version": "1.2.0",
      "_view_name": "StyleView",
      "description_width": ""
     }
    },
    "97d57afa0d6d4daa9f1365300c323088": {
     "model_module": "@jupyter-widgets/base",
     "model_module_version": "1.2.0",
     "model_name": "LayoutModel",
     "state": {
      "_model_module": "@jupyter-widgets/base",
      "_model_module_version": "1.2.0",
      "_model_name": "LayoutModel",
      "_view_count": null,
      "_view_module": "@jupyter-widgets/base",
      "_view_module_version": "1.2.0",
      "_view_name": "LayoutView",
      "align_content": null,
      "align_items": null,
      "align_self": null,
      "border": null,
      "bottom": null,
      "display": null,
      "flex": null,
      "flex_flow": null,
      "grid_area": null,
      "grid_auto_columns": null,
      "grid_auto_flow": null,
      "grid_auto_rows": null,
      "grid_column": null,
      "grid_gap": null,
      "grid_row": null,
      "grid_template_areas": null,
      "grid_template_columns": null,
      "grid_template_rows": null,
      "height": null,
      "justify_content": null,
      "justify_items": null,
      "left": null,
      "margin": null,
      "max_height": null,
      "max_width": null,
      "min_height": null,
      "min_width": null,
      "object_fit": null,
      "object_position": null,
      "order": null,
      "overflow": null,
      "overflow_x": null,
      "overflow_y": null,
      "padding": null,
      "right": null,
      "top": null,
      "visibility": null,
      "width": null
     }
    },
    "99ac3fbf87484aa986b4f9cac894ea00": {
     "model_module": "@jupyter-widgets/controls",
     "model_module_version": "1.5.0",
     "model_name": "HBoxModel",
     "state": {
      "_dom_classes": [],
      "_model_module": "@jupyter-widgets/controls",
      "_model_module_version": "1.5.0",
      "_model_name": "HBoxModel",
      "_view_count": null,
      "_view_module": "@jupyter-widgets/controls",
      "_view_module_version": "1.5.0",
      "_view_name": "HBoxView",
      "box_style": "",
      "children": [
       "IPY_MODEL_c4fe0bb0965d458e993ae3a5d63a372f",
       "IPY_MODEL_e6b545ba8fa2469d9b6af81e06125d4b",
       "IPY_MODEL_0279ac9846a4419087f093bdaff4d789"
      ],
      "layout": "IPY_MODEL_f622195c92444462a1de434fd7f194d8"
     }
    },
    "9f038cd66d1e4b9bad31919a1c5f215f": {
     "model_module": "@jupyter-widgets/controls",
     "model_module_version": "1.5.0",
     "model_name": "HTMLModel",
     "state": {
      "_dom_classes": [],
      "_model_module": "@jupyter-widgets/controls",
      "_model_module_version": "1.5.0",
      "_model_name": "HTMLModel",
      "_view_count": null,
      "_view_module": "@jupyter-widgets/controls",
      "_view_module_version": "1.5.0",
      "_view_name": "HTMLView",
      "description": "",
      "description_tooltip": null,
      "layout": "IPY_MODEL_9fe9a7d6e71f4ad5a09e56e03ff0eeee",
      "placeholder": "​",
      "style": "IPY_MODEL_5bec04a187ff4e7e9070b281ea412545",
      "value": "special_tokens_map.json: 100%"
     }
    },
    "9fe9a7d6e71f4ad5a09e56e03ff0eeee": {
     "model_module": "@jupyter-widgets/base",
     "model_module_version": "1.2.0",
     "model_name": "LayoutModel",
     "state": {
      "_model_module": "@jupyter-widgets/base",
      "_model_module_version": "1.2.0",
      "_model_name": "LayoutModel",
      "_view_count": null,
      "_view_module": "@jupyter-widgets/base",
      "_view_module_version": "1.2.0",
      "_view_name": "LayoutView",
      "align_content": null,
      "align_items": null,
      "align_self": null,
      "border": null,
      "bottom": null,
      "display": null,
      "flex": null,
      "flex_flow": null,
      "grid_area": null,
      "grid_auto_columns": null,
      "grid_auto_flow": null,
      "grid_auto_rows": null,
      "grid_column": null,
      "grid_gap": null,
      "grid_row": null,
      "grid_template_areas": null,
      "grid_template_columns": null,
      "grid_template_rows": null,
      "height": null,
      "justify_content": null,
      "justify_items": null,
      "left": null,
      "margin": null,
      "max_height": null,
      "max_width": null,
      "min_height": null,
      "min_width": null,
      "object_fit": null,
      "object_position": null,
      "order": null,
      "overflow": null,
      "overflow_x": null,
      "overflow_y": null,
      "padding": null,
      "right": null,
      "top": null,
      "visibility": null,
      "width": null
     }
    },
    "a290d4ddd7ef4563a7d49a39000c5204": {
     "model_module": "@jupyter-widgets/controls",
     "model_module_version": "1.5.0",
     "model_name": "HTMLModel",
     "state": {
      "_dom_classes": [],
      "_model_module": "@jupyter-widgets/controls",
      "_model_module_version": "1.5.0",
      "_model_name": "HTMLModel",
      "_view_count": null,
      "_view_module": "@jupyter-widgets/controls",
      "_view_module_version": "1.5.0",
      "_view_name": "HTMLView",
      "description": "",
      "description_tooltip": null,
      "layout": "IPY_MODEL_8ce638bc01254ea2986254a1fbc34a91",
      "placeholder": "​",
      "style": "IPY_MODEL_afac5dd3b2834f35949502ab35b00655",
      "value": "Fetching 5 files: 100%"
     }
    },
    "a4fcb5e9a2564ab9a9b6dd4f8a2c0a0b": {
     "model_module": "@jupyter-widgets/base",
     "model_module_version": "1.2.0",
     "model_name": "LayoutModel",
     "state": {
      "_model_module": "@jupyter-widgets/base",
      "_model_module_version": "1.2.0",
      "_model_name": "LayoutModel",
      "_view_count": null,
      "_view_module": "@jupyter-widgets/base",
      "_view_module_version": "1.2.0",
      "_view_name": "LayoutView",
      "align_content": null,
      "align_items": null,
      "align_self": null,
      "border": null,
      "bottom": null,
      "display": null,
      "flex": null,
      "flex_flow": null,
      "grid_area": null,
      "grid_auto_columns": null,
      "grid_auto_flow": null,
      "grid_auto_rows": null,
      "grid_column": null,
      "grid_gap": null,
      "grid_row": null,
      "grid_template_areas": null,
      "grid_template_columns": null,
      "grid_template_rows": null,
      "height": null,
      "justify_content": null,
      "justify_items": null,
      "left": null,
      "margin": null,
      "max_height": null,
      "max_width": null,
      "min_height": null,
      "min_width": null,
      "object_fit": null,
      "object_position": null,
      "order": null,
      "overflow": null,
      "overflow_x": null,
      "overflow_y": null,
      "padding": null,
      "right": null,
      "top": null,
      "visibility": null,
      "width": null
     }
    },
    "a92be351b6744a66af2ba5f5a8716acb": {
     "model_module": "@jupyter-widgets/base",
     "model_module_version": "1.2.0",
     "model_name": "LayoutModel",
     "state": {
      "_model_module": "@jupyter-widgets/base",
      "_model_module_version": "1.2.0",
      "_model_name": "LayoutModel",
      "_view_count": null,
      "_view_module": "@jupyter-widgets/base",
      "_view_module_version": "1.2.0",
      "_view_name": "LayoutView",
      "align_content": null,
      "align_items": null,
      "align_self": null,
      "border": null,
      "bottom": null,
      "display": null,
      "flex": null,
      "flex_flow": null,
      "grid_area": null,
      "grid_auto_columns": null,
      "grid_auto_flow": null,
      "grid_auto_rows": null,
      "grid_column": null,
      "grid_gap": null,
      "grid_row": null,
      "grid_template_areas": null,
      "grid_template_columns": null,
      "grid_template_rows": null,
      "height": null,
      "justify_content": null,
      "justify_items": null,
      "left": null,
      "margin": null,
      "max_height": null,
      "max_width": null,
      "min_height": null,
      "min_width": null,
      "object_fit": null,
      "object_position": null,
      "order": null,
      "overflow": null,
      "overflow_x": null,
      "overflow_y": null,
      "padding": null,
      "right": null,
      "top": null,
      "visibility": null,
      "width": null
     }
    },
    "aa8bdb08ec0146d7867d350a4f345ea8": {
     "model_module": "@jupyter-widgets/base",
     "model_module_version": "1.2.0",
     "model_name": "LayoutModel",
     "state": {
      "_model_module": "@jupyter-widgets/base",
      "_model_module_version": "1.2.0",
      "_model_name": "LayoutModel",
      "_view_count": null,
      "_view_module": "@jupyter-widgets/base",
      "_view_module_version": "1.2.0",
      "_view_name": "LayoutView",
      "align_content": null,
      "align_items": null,
      "align_self": null,
      "border": null,
      "bottom": null,
      "display": null,
      "flex": null,
      "flex_flow": null,
      "grid_area": null,
      "grid_auto_columns": null,
      "grid_auto_flow": null,
      "grid_auto_rows": null,
      "grid_column": null,
      "grid_gap": null,
      "grid_row": null,
      "grid_template_areas": null,
      "grid_template_columns": null,
      "grid_template_rows": null,
      "height": null,
      "justify_content": null,
      "justify_items": null,
      "left": null,
      "margin": null,
      "max_height": null,
      "max_width": null,
      "min_height": null,
      "min_width": null,
      "object_fit": null,
      "object_position": null,
      "order": null,
      "overflow": null,
      "overflow_x": null,
      "overflow_y": null,
      "padding": null,
      "right": null,
      "top": null,
      "visibility": null,
      "width": null
     }
    },
    "aedb3bb0c970492995e9a8dfb47aacb9": {
     "model_module": "@jupyter-widgets/controls",
     "model_module_version": "1.5.0",
     "model_name": "HTMLModel",
     "state": {
      "_dom_classes": [],
      "_model_module": "@jupyter-widgets/controls",
      "_model_module_version": "1.5.0",
      "_model_name": "HTMLModel",
      "_view_count": null,
      "_view_module": "@jupyter-widgets/controls",
      "_view_module_version": "1.5.0",
      "_view_name": "HTMLView",
      "description": "",
      "description_tooltip": null,
      "layout": "IPY_MODEL_9385196d329341b2bec9f4ef3560fd99",
      "placeholder": "​",
      "style": "IPY_MODEL_de72851e55ec4f9a8e46a8b19d872687",
      "value": "tokenizer_config.json: 100%"
     }
    },
    "afac5dd3b2834f35949502ab35b00655": {
     "model_module": "@jupyter-widgets/controls",
     "model_module_version": "1.5.0",
     "model_name": "DescriptionStyleModel",
     "state": {
      "_model_module": "@jupyter-widgets/controls",
      "_model_module_version": "1.5.0",
      "_model_name": "DescriptionStyleModel",
      "_view_count": null,
      "_view_module": "@jupyter-widgets/base",
      "_view_module_version": "1.2.0",
      "_view_name": "StyleView",
      "description_width": ""
     }
    },
    "b0c0e36f15444a649679a0065f18f033": {
     "model_module": "@jupyter-widgets/base",
     "model_module_version": "1.2.0",
     "model_name": "LayoutModel",
     "state": {
      "_model_module": "@jupyter-widgets/base",
      "_model_module_version": "1.2.0",
      "_model_name": "LayoutModel",
      "_view_count": null,
      "_view_module": "@jupyter-widgets/base",
      "_view_module_version": "1.2.0",
      "_view_name": "LayoutView",
      "align_content": null,
      "align_items": null,
      "align_self": null,
      "border": null,
      "bottom": null,
      "display": null,
      "flex": null,
      "flex_flow": null,
      "grid_area": null,
      "grid_auto_columns": null,
      "grid_auto_flow": null,
      "grid_auto_rows": null,
      "grid_column": null,
      "grid_gap": null,
      "grid_row": null,
      "grid_template_areas": null,
      "grid_template_columns": null,
      "grid_template_rows": null,
      "height": null,
      "justify_content": null,
      "justify_items": null,
      "left": null,
      "margin": null,
      "max_height": null,
      "max_width": null,
      "min_height": null,
      "min_width": null,
      "object_fit": null,
      "object_position": null,
      "order": null,
      "overflow": null,
      "overflow_x": null,
      "overflow_y": null,
      "padding": null,
      "right": null,
      "top": null,
      "visibility": null,
      "width": null
     }
    },
    "b542b3f410fe497eb3345779d540d56c": {
     "model_module": "@jupyter-widgets/controls",
     "model_module_version": "1.5.0",
     "model_name": "HTMLModel",
     "state": {
      "_dom_classes": [],
      "_model_module": "@jupyter-widgets/controls",
      "_model_module_version": "1.5.0",
      "_model_name": "HTMLModel",
      "_view_count": null,
      "_view_module": "@jupyter-widgets/controls",
      "_view_module_version": "1.5.0",
      "_view_name": "HTMLView",
      "description": "",
      "description_tooltip": null,
      "layout": "IPY_MODEL_b61baad8ccfe4a7c86b8b2ab7466c16c",
      "placeholder": "​",
      "style": "IPY_MODEL_5cd1bdf2c06f401c8b873cc110fa0f6c",
      "value": " 1.24k/1.24k [00:00&lt;00:00, 13.5kB/s]"
     }
    },
    "b61baad8ccfe4a7c86b8b2ab7466c16c": {
     "model_module": "@jupyter-widgets/base",
     "model_module_version": "1.2.0",
     "model_name": "LayoutModel",
     "state": {
      "_model_module": "@jupyter-widgets/base",
      "_model_module_version": "1.2.0",
      "_model_name": "LayoutModel",
      "_view_count": null,
      "_view_module": "@jupyter-widgets/base",
      "_view_module_version": "1.2.0",
      "_view_name": "LayoutView",
      "align_content": null,
      "align_items": null,
      "align_self": null,
      "border": null,
      "bottom": null,
      "display": null,
      "flex": null,
      "flex_flow": null,
      "grid_area": null,
      "grid_auto_columns": null,
      "grid_auto_flow": null,
      "grid_auto_rows": null,
      "grid_column": null,
      "grid_gap": null,
      "grid_row": null,
      "grid_template_areas": null,
      "grid_template_columns": null,
      "grid_template_rows": null,
      "height": null,
      "justify_content": null,
      "justify_items": null,
      "left": null,
      "margin": null,
      "max_height": null,
      "max_width": null,
      "min_height": null,
      "min_width": null,
      "object_fit": null,
      "object_position": null,
      "order": null,
      "overflow": null,
      "overflow_x": null,
      "overflow_y": null,
      "padding": null,
      "right": null,
      "top": null,
      "visibility": null,
      "width": null
     }
    },
    "bcd2607a1f6a4bf1ac3134be03a5be9a": {
     "model_module": "@jupyter-widgets/controls",
     "model_module_version": "1.5.0",
     "model_name": "FloatProgressModel",
     "state": {
      "_dom_classes": [],
      "_model_module": "@jupyter-widgets/controls",
      "_model_module_version": "1.5.0",
      "_model_name": "FloatProgressModel",
      "_view_count": null,
      "_view_module": "@jupyter-widgets/controls",
      "_view_module_version": "1.5.0",
      "_view_name": "ProgressView",
      "bar_style": "success",
      "description": "",
      "description_tooltip": null,
      "layout": "IPY_MODEL_1ba8312b673c4ac8b5066460f592055b",
      "max": 5,
      "min": 0,
      "orientation": "horizontal",
      "style": "IPY_MODEL_232c444240824c0aab0c71b1920328f1",
      "value": 5
     }
    },
    "c10c419486ea4305804e96b984b4001c": {
     "model_module": "@jupyter-widgets/base",
     "model_module_version": "1.2.0",
     "model_name": "LayoutModel",
     "state": {
      "_model_module": "@jupyter-widgets/base",
      "_model_module_version": "1.2.0",
      "_model_name": "LayoutModel",
      "_view_count": null,
      "_view_module": "@jupyter-widgets/base",
      "_view_module_version": "1.2.0",
      "_view_name": "LayoutView",
      "align_content": null,
      "align_items": null,
      "align_self": null,
      "border": null,
      "bottom": null,
      "display": null,
      "flex": null,
      "flex_flow": null,
      "grid_area": null,
      "grid_auto_columns": null,
      "grid_auto_flow": null,
      "grid_auto_rows": null,
      "grid_column": null,
      "grid_gap": null,
      "grid_row": null,
      "grid_template_areas": null,
      "grid_template_columns": null,
      "grid_template_rows": null,
      "height": null,
      "justify_content": null,
      "justify_items": null,
      "left": null,
      "margin": null,
      "max_height": null,
      "max_width": null,
      "min_height": null,
      "min_width": null,
      "object_fit": null,
      "object_position": null,
      "order": null,
      "overflow": null,
      "overflow_x": null,
      "overflow_y": null,
      "padding": null,
      "right": null,
      "top": null,
      "visibility": null,
      "width": null
     }
    },
    "c4fe0bb0965d458e993ae3a5d63a372f": {
     "model_module": "@jupyter-widgets/controls",
     "model_module_version": "1.5.0",
     "model_name": "HTMLModel",
     "state": {
      "_dom_classes": [],
      "_model_module": "@jupyter-widgets/controls",
      "_model_module_version": "1.5.0",
      "_model_name": "HTMLModel",
      "_view_count": null,
      "_view_module": "@jupyter-widgets/controls",
      "_view_module_version": "1.5.0",
      "_view_name": "HTMLView",
      "description": "",
      "description_tooltip": null,
      "layout": "IPY_MODEL_a4fcb5e9a2564ab9a9b6dd4f8a2c0a0b",
      "placeholder": "​",
      "style": "IPY_MODEL_138011adcda640c6955e21ae3fa0ec5c",
      "value": "config.json: 100%"
     }
    },
    "c5c0a05653b8493b8d315c22055e7070": {
     "model_module": "@jupyter-widgets/base",
     "model_module_version": "1.2.0",
     "model_name": "LayoutModel",
     "state": {
      "_model_module": "@jupyter-widgets/base",
      "_model_module_version": "1.2.0",
      "_model_name": "LayoutModel",
      "_view_count": null,
      "_view_module": "@jupyter-widgets/base",
      "_view_module_version": "1.2.0",
      "_view_name": "LayoutView",
      "align_content": null,
      "align_items": null,
      "align_self": null,
      "border": null,
      "bottom": null,
      "display": null,
      "flex": null,
      "flex_flow": null,
      "grid_area": null,
      "grid_auto_columns": null,
      "grid_auto_flow": null,
      "grid_auto_rows": null,
      "grid_column": null,
      "grid_gap": null,
      "grid_row": null,
      "grid_template_areas": null,
      "grid_template_columns": null,
      "grid_template_rows": null,
      "height": null,
      "justify_content": null,
      "justify_items": null,
      "left": null,
      "margin": null,
      "max_height": null,
      "max_width": null,
      "min_height": null,
      "min_width": null,
      "object_fit": null,
      "object_position": null,
      "order": null,
      "overflow": null,
      "overflow_x": null,
      "overflow_y": null,
      "padding": null,
      "right": null,
      "top": null,
      "visibility": null,
      "width": null
     }
    },
    "d476a07c14d94f43b74234576d34555c": {
     "model_module": "@jupyter-widgets/controls",
     "model_module_version": "1.5.0",
     "model_name": "ProgressStyleModel",
     "state": {
      "_model_module": "@jupyter-widgets/controls",
      "_model_module_version": "1.5.0",
      "_model_name": "ProgressStyleModel",
      "_view_count": null,
      "_view_module": "@jupyter-widgets/base",
      "_view_module_version": "1.2.0",
      "_view_name": "StyleView",
      "bar_color": null,
      "description_width": ""
     }
    },
    "dca1a479315c47028d89eb776ca8dcc4": {
     "model_module": "@jupyter-widgets/base",
     "model_module_version": "1.2.0",
     "model_name": "LayoutModel",
     "state": {
      "_model_module": "@jupyter-widgets/base",
      "_model_module_version": "1.2.0",
      "_model_name": "LayoutModel",
      "_view_count": null,
      "_view_module": "@jupyter-widgets/base",
      "_view_module_version": "1.2.0",
      "_view_name": "LayoutView",
      "align_content": null,
      "align_items": null,
      "align_self": null,
      "border": null,
      "bottom": null,
      "display": null,
      "flex": null,
      "flex_flow": null,
      "grid_area": null,
      "grid_auto_columns": null,
      "grid_auto_flow": null,
      "grid_auto_rows": null,
      "grid_column": null,
      "grid_gap": null,
      "grid_row": null,
      "grid_template_areas": null,
      "grid_template_columns": null,
      "grid_template_rows": null,
      "height": null,
      "justify_content": null,
      "justify_items": null,
      "left": null,
      "margin": null,
      "max_height": null,
      "max_width": null,
      "min_height": null,
      "min_width": null,
      "object_fit": null,
      "object_position": null,
      "order": null,
      "overflow": null,
      "overflow_x": null,
      "overflow_y": null,
      "padding": null,
      "right": null,
      "top": null,
      "visibility": null,
      "width": null
     }
    },
    "de72851e55ec4f9a8e46a8b19d872687": {
     "model_module": "@jupyter-widgets/controls",
     "model_module_version": "1.5.0",
     "model_name": "DescriptionStyleModel",
     "state": {
      "_model_module": "@jupyter-widgets/controls",
      "_model_module_version": "1.5.0",
      "_model_name": "DescriptionStyleModel",
      "_view_count": null,
      "_view_module": "@jupyter-widgets/base",
      "_view_module_version": "1.2.0",
      "_view_name": "StyleView",
      "description_width": ""
     }
    },
    "de844fbbb9c94506977cb2d5cc74d1cf": {
     "model_module": "@jupyter-widgets/base",
     "model_module_version": "1.2.0",
     "model_name": "LayoutModel",
     "state": {
      "_model_module": "@jupyter-widgets/base",
      "_model_module_version": "1.2.0",
      "_model_name": "LayoutModel",
      "_view_count": null,
      "_view_module": "@jupyter-widgets/base",
      "_view_module_version": "1.2.0",
      "_view_name": "LayoutView",
      "align_content": null,
      "align_items": null,
      "align_self": null,
      "border": null,
      "bottom": null,
      "display": null,
      "flex": null,
      "flex_flow": null,
      "grid_area": null,
      "grid_auto_columns": null,
      "grid_auto_flow": null,
      "grid_auto_rows": null,
      "grid_column": null,
      "grid_gap": null,
      "grid_row": null,
      "grid_template_areas": null,
      "grid_template_columns": null,
      "grid_template_rows": null,
      "height": null,
      "justify_content": null,
      "justify_items": null,
      "left": null,
      "margin": null,
      "max_height": null,
      "max_width": null,
      "min_height": null,
      "min_width": null,
      "object_fit": null,
      "object_position": null,
      "order": null,
      "overflow": null,
      "overflow_x": null,
      "overflow_y": null,
      "padding": null,
      "right": null,
      "top": null,
      "visibility": null,
      "width": null
     }
    },
    "e1e478b0e17248c5a7cd514011c0f17e": {
     "model_module": "@jupyter-widgets/controls",
     "model_module_version": "1.5.0",
     "model_name": "HBoxModel",
     "state": {
      "_dom_classes": [],
      "_model_module": "@jupyter-widgets/controls",
      "_model_module_version": "1.5.0",
      "_model_name": "HBoxModel",
      "_view_count": null,
      "_view_module": "@jupyter-widgets/controls",
      "_view_module_version": "1.5.0",
      "_view_name": "HBoxView",
      "box_style": "",
      "children": [
       "IPY_MODEL_aedb3bb0c970492995e9a8dfb47aacb9",
       "IPY_MODEL_5fe55080163048269ef89e900d2e47a8",
       "IPY_MODEL_b542b3f410fe497eb3345779d540d56c"
      ],
      "layout": "IPY_MODEL_a92be351b6744a66af2ba5f5a8716acb"
     }
    },
    "e6b545ba8fa2469d9b6af81e06125d4b": {
     "model_module": "@jupyter-widgets/controls",
     "model_module_version": "1.5.0",
     "model_name": "FloatProgressModel",
     "state": {
      "_dom_classes": [],
      "_model_module": "@jupyter-widgets/controls",
      "_model_module_version": "1.5.0",
      "_model_name": "FloatProgressModel",
      "_view_count": null,
      "_view_module": "@jupyter-widgets/controls",
      "_view_module_version": "1.5.0",
      "_view_name": "ProgressView",
      "bar_style": "success",
      "description": "",
      "description_tooltip": null,
      "layout": "IPY_MODEL_24120f1294294bfcbbcad57d84a74a81",
      "max": 740,
      "min": 0,
      "orientation": "horizontal",
      "style": "IPY_MODEL_406ab8b6b5b2433c9c7caf09a813276c",
      "value": 740
     }
    },
    "e78d95a9aa5e46fba6a778a97f98c500": {
     "model_module": "@jupyter-widgets/controls",
     "model_module_version": "1.5.0",
     "model_name": "DescriptionStyleModel",
     "state": {
      "_model_module": "@jupyter-widgets/controls",
      "_model_module_version": "1.5.0",
      "_model_name": "DescriptionStyleModel",
      "_view_count": null,
      "_view_module": "@jupyter-widgets/base",
      "_view_module_version": "1.2.0",
      "_view_name": "StyleView",
      "description_width": ""
     }
    },
    "ea193fd9688e481faa3ba3b061dca28d": {
     "model_module": "@jupyter-widgets/controls",
     "model_module_version": "1.5.0",
     "model_name": "ProgressStyleModel",
     "state": {
      "_model_module": "@jupyter-widgets/controls",
      "_model_module_version": "1.5.0",
      "_model_name": "ProgressStyleModel",
      "_view_count": null,
      "_view_module": "@jupyter-widgets/base",
      "_view_module_version": "1.2.0",
      "_view_name": "StyleView",
      "bar_color": null,
      "description_width": ""
     }
    },
    "ecf67cbec3c843e398b2e25ebe87f7f1": {
     "model_module": "@jupyter-widgets/base",
     "model_module_version": "1.2.0",
     "model_name": "LayoutModel",
     "state": {
      "_model_module": "@jupyter-widgets/base",
      "_model_module_version": "1.2.0",
      "_model_name": "LayoutModel",
      "_view_count": null,
      "_view_module": "@jupyter-widgets/base",
      "_view_module_version": "1.2.0",
      "_view_name": "LayoutView",
      "align_content": null,
      "align_items": null,
      "align_self": null,
      "border": null,
      "bottom": null,
      "display": null,
      "flex": null,
      "flex_flow": null,
      "grid_area": null,
      "grid_auto_columns": null,
      "grid_auto_flow": null,
      "grid_auto_rows": null,
      "grid_column": null,
      "grid_gap": null,
      "grid_row": null,
      "grid_template_areas": null,
      "grid_template_columns": null,
      "grid_template_rows": null,
      "height": null,
      "justify_content": null,
      "justify_items": null,
      "left": null,
      "margin": null,
      "max_height": null,
      "max_width": null,
      "min_height": null,
      "min_width": null,
      "object_fit": null,
      "object_position": null,
      "order": null,
      "overflow": null,
      "overflow_x": null,
      "overflow_y": null,
      "padding": null,
      "right": null,
      "top": null,
      "visibility": null,
      "width": null
     }
    },
    "f41ed249ecb442bb9d449309f30ff0fd": {
     "model_module": "@jupyter-widgets/controls",
     "model_module_version": "1.5.0",
     "model_name": "FloatProgressModel",
     "state": {
      "_dom_classes": [],
      "_model_module": "@jupyter-widgets/controls",
      "_model_module_version": "1.5.0",
      "_model_name": "FloatProgressModel",
      "_view_count": null,
      "_view_module": "@jupyter-widgets/controls",
      "_view_module_version": "1.5.0",
      "_view_name": "ProgressView",
      "bar_style": "success",
      "description": "",
      "description_tooltip": null,
      "layout": "IPY_MODEL_b0c0e36f15444a649679a0065f18f033",
      "max": 695,
      "min": 0,
      "orientation": "horizontal",
      "style": "IPY_MODEL_d476a07c14d94f43b74234576d34555c",
      "value": 695
     }
    },
    "f58861d1176a43cba34047f67413795f": {
     "model_module": "@jupyter-widgets/base",
     "model_module_version": "1.2.0",
     "model_name": "LayoutModel",
     "state": {
      "_model_module": "@jupyter-widgets/base",
      "_model_module_version": "1.2.0",
      "_model_name": "LayoutModel",
      "_view_count": null,
      "_view_module": "@jupyter-widgets/base",
      "_view_module_version": "1.2.0",
      "_view_name": "LayoutView",
      "align_content": null,
      "align_items": null,
      "align_self": null,
      "border": null,
      "bottom": null,
      "display": null,
      "flex": null,
      "flex_flow": null,
      "grid_area": null,
      "grid_auto_columns": null,
      "grid_auto_flow": null,
      "grid_auto_rows": null,
      "grid_column": null,
      "grid_gap": null,
      "grid_row": null,
      "grid_template_areas": null,
      "grid_template_columns": null,
      "grid_template_rows": null,
      "height": null,
      "justify_content": null,
      "justify_items": null,
      "left": null,
      "margin": null,
      "max_height": null,
      "max_width": null,
      "min_height": null,
      "min_width": null,
      "object_fit": null,
      "object_position": null,
      "order": null,
      "overflow": null,
      "overflow_x": null,
      "overflow_y": null,
      "padding": null,
      "right": null,
      "top": null,
      "visibility": null,
      "width": null
     }
    },
    "f622195c92444462a1de434fd7f194d8": {
     "model_module": "@jupyter-widgets/base",
     "model_module_version": "1.2.0",
     "model_name": "LayoutModel",
     "state": {
      "_model_module": "@jupyter-widgets/base",
      "_model_module_version": "1.2.0",
      "_model_name": "LayoutModel",
      "_view_count": null,
      "_view_module": "@jupyter-widgets/base",
      "_view_module_version": "1.2.0",
      "_view_name": "LayoutView",
      "align_content": null,
      "align_items": null,
      "align_self": null,
      "border": null,
      "bottom": null,
      "display": null,
      "flex": null,
      "flex_flow": null,
      "grid_area": null,
      "grid_auto_columns": null,
      "grid_auto_flow": null,
      "grid_auto_rows": null,
      "grid_column": null,
      "grid_gap": null,
      "grid_row": null,
      "grid_template_areas": null,
      "grid_template_columns": null,
      "grid_template_rows": null,
      "height": null,
      "justify_content": null,
      "justify_items": null,
      "left": null,
      "margin": null,
      "max_height": null,
      "max_width": null,
      "min_height": null,
      "min_width": null,
      "object_fit": null,
      "object_position": null,
      "order": null,
      "overflow": null,
      "overflow_x": null,
      "overflow_y": null,
      "padding": null,
      "right": null,
      "top": null,
      "visibility": null,
      "width": null
     }
    },
    "facd01eda21742c2b92006ca068cbe90": {
     "model_module": "@jupyter-widgets/controls",
     "model_module_version": "1.5.0",
     "model_name": "DescriptionStyleModel",
     "state": {
      "_model_module": "@jupyter-widgets/controls",
      "_model_module_version": "1.5.0",
      "_model_name": "DescriptionStyleModel",
      "_view_count": null,
      "_view_module": "@jupyter-widgets/base",
      "_view_module_version": "1.2.0",
      "_view_name": "StyleView",
      "description_width": ""
     }
    }
   }
  }
 },
 "nbformat": 4,
 "nbformat_minor": 4
}
